{
  "cells": [
    {
      "cell_type": "code",
      "source": [
        "!apt-get install python3.8.10\n",
        "!ln -sf /usr/bin/python3.8 /usr/bin/python3"
      ],
      "metadata": {
        "colab": {
          "base_uri": "https://localhost:8080/"
        },
        "id": "AjCmq395DX7H",
        "outputId": "3ce1e80f-7feb-415f-a3d8-cc19cdd35513"
      },
      "execution_count": null,
      "outputs": [
        {
          "output_type": "stream",
          "name": "stdout",
          "text": [
            "Reading package lists... Done\n",
            "Building dependency tree... Done\n",
            "Reading state information... Done\n",
            "E: Unable to locate package python3.8.10\n",
            "E: Couldn't find any package by glob 'python3.8.10'\n",
            "E: Couldn't find any package by regex 'python3.8.10'\n"
          ]
        }
      ]
    },
    {
      "cell_type": "code",
      "source": [
        "!python3 --version"
      ],
      "metadata": {
        "colab": {
          "base_uri": "https://localhost:8080/"
        },
        "id": "S6GNOgonDhjQ",
        "outputId": "98c5be55-0833-433f-bd0a-e4bc0be3a0b9"
      },
      "execution_count": null,
      "outputs": [
        {
          "output_type": "stream",
          "name": "stdout",
          "text": [
            "Python 3.8.18\n"
          ]
        }
      ]
    },
    {
      "cell_type": "code",
      "execution_count": null,
      "metadata": {
        "colab": {
          "base_uri": "https://localhost:8080/",
          "height": 35
        },
        "id": "C_EZe2byA7mI",
        "outputId": "2a69cb1d-5267-45b8-d3d8-1e04fb41c8c1"
      },
      "outputs": [
        {
          "output_type": "execute_result",
          "data": {
            "text/plain": [
              "'  in research '"
            ],
            "application/vnd.google.colaboratory.intrinsic+json": {
              "type": "string"
            }
          },
          "metadata": {},
          "execution_count": 1
        }
      ],
      "source": [
        "import re\n",
        "#str = input(\"Type word: \")\n",
        "str = \"hello world in research @paula\"\n",
        "for i in [\"hello\", \"world\", \"@[w]\"]:\n",
        "  str = re.sub(i, \"\", str, flags=re.IGNORECASE)\n",
        "\n",
        "str = re.sub(r'(\\s)?@\\w+', r'\\1', str)\n",
        "str"
      ]
    },
    {
      "cell_type": "code",
      "execution_count": null,
      "metadata": {
        "colab": {
          "base_uri": "https://localhost:8080/"
        },
        "id": "FHknYRmtfsNc",
        "outputId": "30115d8a-79a7-4307-f369-38719d128db3"
      },
      "outputs": [
        {
          "output_type": "stream",
          "name": "stderr",
          "text": [
            "[nltk_data] Downloading package wordnet to /root/nltk_data...\n"
          ]
        },
        {
          "output_type": "execute_result",
          "data": {
            "text/plain": [
              "True"
            ]
          },
          "metadata": {},
          "execution_count": 2
        }
      ],
      "source": [
        "import nltk\n",
        "nltk.download('wordnet')"
      ]
    },
    {
      "cell_type": "code",
      "execution_count": null,
      "metadata": {
        "colab": {
          "base_uri": "https://localhost:8080/"
        },
        "id": "zqwrsnfTnEx3",
        "outputId": "045c8e1a-1000-453f-a013-35fadcabca15"
      },
      "outputs": [
        {
          "output_type": "stream",
          "name": "stdout",
          "text": [
            "rocks : rock\n",
            "corpora : corpus\n",
            "better : good\n"
          ]
        }
      ],
      "source": [
        "# import these modules\n",
        "from nltk.stem import WordNetLemmatizer\n",
        "\n",
        "lemmatizer = WordNetLemmatizer()\n",
        "\n",
        "print(\"rocks :\", lemmatizer.lemmatize(\"rocks\"))\n",
        "print(\"corpora :\", lemmatizer.lemmatize(\"corpora\"))\n",
        "\n",
        "# a denotes adjective in \"pos\"\n",
        "print(\"better :\", lemmatizer.lemmatize(\"better\", pos =\"a\"))"
      ]
    },
    {
      "cell_type": "code",
      "execution_count": null,
      "metadata": {
        "colab": {
          "base_uri": "https://localhost:8080/",
          "height": 35
        },
        "id": "ce_Pm5eCeKh4",
        "outputId": "a565b13a-decd-4d9b-a725-161cb28d2252"
      },
      "outputs": [
        {
          "output_type": "execute_result",
          "data": {
            "text/plain": [
              "'mango world'"
            ],
            "application/vnd.google.colaboratory.intrinsic+json": {
              "type": "string"
            }
          },
          "metadata": {},
          "execution_count": 4
        }
      ],
      "source": [
        "from nltk.stem import WordNetLemmatizer\n",
        "\n",
        "lemmatizer = WordNetLemmatizer()\n",
        "english_stopwords = [\"is\",\"are\"]\n",
        "sentence = \"mangoes are my world\"\n",
        "\n",
        "tokens = sentence.split()\n",
        "\n",
        "tokens = [token for token in tokens if token.lower() not in english_stopwords]\n",
        "\n",
        "for i in range(len(tokens)):\n",
        "  tokens[i] = lemmatizer.lemmatize(tokens[i])\n",
        "\n",
        "tokens.remove(\"my\")\n",
        "\n",
        "cleaned_sentence = \" \".join(tokens)\n",
        "cleaned_sentence"
      ]
    },
    {
      "cell_type": "code",
      "execution_count": null,
      "metadata": {
        "id": "fhM-PuJDziPI"
      },
      "outputs": [],
      "source": [
        "import gensim\n",
        "from gensim.models import word2vec\n",
        "from gensim.models.word2vec import Word2Vec\n",
        "import numpy as np\n",
        "import matplotlib.pyplot as plt\n",
        "import pandas as pd\n",
        "import spacy\n",
        "import string\n",
        "import re"
      ]
    },
    {
      "cell_type": "code",
      "execution_count": null,
      "metadata": {
        "colab": {
          "base_uri": "https://localhost:8080/",
          "height": 276
        },
        "id": "ierb7sHByyn3",
        "outputId": "00a80cfc-e0c4-4986-861f-d46a48f5cb46"
      },
      "outputs": [
        {
          "output_type": "stream",
          "name": "stderr",
          "text": [
            "<ipython-input-32-09e7f91dccd0>:4: FutureWarning: The error_bad_lines argument has been deprecated and will be removed in a future version. Use on_bad_lines in the future.\n",
            "\n",
            "\n",
            "  data = pd.read_csv(\"/content/drive/MyDrive/MSc_study/Fall_2023/4final_plan_dataset.csv\",error_bad_lines=False, engine=\"python\")\n"
          ]
        },
        {
          "output_type": "execute_result",
          "data": {
            "text/plain": [
              "   Unnamed: 0                                               Body  OT  \\\n",
              "0           0  Other than the two issues I opened (map change...   0   \n",
              "1           1                                How to run the app?   0   \n",
              "2           2  Hello, First disable SIP on your machine by fo...   0   \n",
              "3           3            Wow great work, I appreciate your work.   1   \n",
              "4           4                                         Thank you!   1   \n",
              "\n",
              "   raf_PLAN  PLAN  \n",
              "0         1     1  \n",
              "1         0     1  \n",
              "2         1     1  \n",
              "3         1     0  \n",
              "4         0     0  "
            ],
            "text/html": [
              "\n",
              "  <div id=\"df-4034fc33-02cb-442b-86fd-3c63e58b40fe\" class=\"colab-df-container\">\n",
              "    <div>\n",
              "<style scoped>\n",
              "    .dataframe tbody tr th:only-of-type {\n",
              "        vertical-align: middle;\n",
              "    }\n",
              "\n",
              "    .dataframe tbody tr th {\n",
              "        vertical-align: top;\n",
              "    }\n",
              "\n",
              "    .dataframe thead th {\n",
              "        text-align: right;\n",
              "    }\n",
              "</style>\n",
              "<table border=\"1\" class=\"dataframe\">\n",
              "  <thead>\n",
              "    <tr style=\"text-align: right;\">\n",
              "      <th></th>\n",
              "      <th>Unnamed: 0</th>\n",
              "      <th>Body</th>\n",
              "      <th>OT</th>\n",
              "      <th>raf_PLAN</th>\n",
              "      <th>PLAN</th>\n",
              "    </tr>\n",
              "  </thead>\n",
              "  <tbody>\n",
              "    <tr>\n",
              "      <th>0</th>\n",
              "      <td>0</td>\n",
              "      <td>Other than the two issues I opened (map change...</td>\n",
              "      <td>0</td>\n",
              "      <td>1</td>\n",
              "      <td>1</td>\n",
              "    </tr>\n",
              "    <tr>\n",
              "      <th>1</th>\n",
              "      <td>1</td>\n",
              "      <td>How to run the app?</td>\n",
              "      <td>0</td>\n",
              "      <td>0</td>\n",
              "      <td>1</td>\n",
              "    </tr>\n",
              "    <tr>\n",
              "      <th>2</th>\n",
              "      <td>2</td>\n",
              "      <td>Hello, First disable SIP on your machine by fo...</td>\n",
              "      <td>0</td>\n",
              "      <td>1</td>\n",
              "      <td>1</td>\n",
              "    </tr>\n",
              "    <tr>\n",
              "      <th>3</th>\n",
              "      <td>3</td>\n",
              "      <td>Wow great work, I appreciate your work.</td>\n",
              "      <td>1</td>\n",
              "      <td>1</td>\n",
              "      <td>0</td>\n",
              "    </tr>\n",
              "    <tr>\n",
              "      <th>4</th>\n",
              "      <td>4</td>\n",
              "      <td>Thank you!</td>\n",
              "      <td>1</td>\n",
              "      <td>0</td>\n",
              "      <td>0</td>\n",
              "    </tr>\n",
              "  </tbody>\n",
              "</table>\n",
              "</div>\n",
              "    <div class=\"colab-df-buttons\">\n",
              "\n",
              "  <div class=\"colab-df-container\">\n",
              "    <button class=\"colab-df-convert\" onclick=\"convertToInteractive('df-4034fc33-02cb-442b-86fd-3c63e58b40fe')\"\n",
              "            title=\"Convert this dataframe to an interactive table.\"\n",
              "            style=\"display:none;\">\n",
              "\n",
              "  <svg xmlns=\"http://www.w3.org/2000/svg\" height=\"24px\" viewBox=\"0 -960 960 960\">\n",
              "    <path d=\"M120-120v-720h720v720H120Zm60-500h600v-160H180v160Zm220 220h160v-160H400v160Zm0 220h160v-160H400v160ZM180-400h160v-160H180v160Zm440 0h160v-160H620v160ZM180-180h160v-160H180v160Zm440 0h160v-160H620v160Z\"/>\n",
              "  </svg>\n",
              "    </button>\n",
              "\n",
              "  <style>\n",
              "    .colab-df-container {\n",
              "      display:flex;\n",
              "      gap: 12px;\n",
              "    }\n",
              "\n",
              "    .colab-df-convert {\n",
              "      background-color: #E8F0FE;\n",
              "      border: none;\n",
              "      border-radius: 50%;\n",
              "      cursor: pointer;\n",
              "      display: none;\n",
              "      fill: #1967D2;\n",
              "      height: 32px;\n",
              "      padding: 0 0 0 0;\n",
              "      width: 32px;\n",
              "    }\n",
              "\n",
              "    .colab-df-convert:hover {\n",
              "      background-color: #E2EBFA;\n",
              "      box-shadow: 0px 1px 2px rgba(60, 64, 67, 0.3), 0px 1px 3px 1px rgba(60, 64, 67, 0.15);\n",
              "      fill: #174EA6;\n",
              "    }\n",
              "\n",
              "    .colab-df-buttons div {\n",
              "      margin-bottom: 4px;\n",
              "    }\n",
              "\n",
              "    [theme=dark] .colab-df-convert {\n",
              "      background-color: #3B4455;\n",
              "      fill: #D2E3FC;\n",
              "    }\n",
              "\n",
              "    [theme=dark] .colab-df-convert:hover {\n",
              "      background-color: #434B5C;\n",
              "      box-shadow: 0px 1px 3px 1px rgba(0, 0, 0, 0.15);\n",
              "      filter: drop-shadow(0px 1px 2px rgba(0, 0, 0, 0.3));\n",
              "      fill: #FFFFFF;\n",
              "    }\n",
              "  </style>\n",
              "\n",
              "    <script>\n",
              "      const buttonEl =\n",
              "        document.querySelector('#df-4034fc33-02cb-442b-86fd-3c63e58b40fe button.colab-df-convert');\n",
              "      buttonEl.style.display =\n",
              "        google.colab.kernel.accessAllowed ? 'block' : 'none';\n",
              "\n",
              "      async function convertToInteractive(key) {\n",
              "        const element = document.querySelector('#df-4034fc33-02cb-442b-86fd-3c63e58b40fe');\n",
              "        const dataTable =\n",
              "          await google.colab.kernel.invokeFunction('convertToInteractive',\n",
              "                                                    [key], {});\n",
              "        if (!dataTable) return;\n",
              "\n",
              "        const docLinkHtml = 'Like what you see? Visit the ' +\n",
              "          '<a target=\"_blank\" href=https://colab.research.google.com/notebooks/data_table.ipynb>data table notebook</a>'\n",
              "          + ' to learn more about interactive tables.';\n",
              "        element.innerHTML = '';\n",
              "        dataTable['output_type'] = 'display_data';\n",
              "        await google.colab.output.renderOutput(dataTable, element);\n",
              "        const docLink = document.createElement('div');\n",
              "        docLink.innerHTML = docLinkHtml;\n",
              "        element.appendChild(docLink);\n",
              "      }\n",
              "    </script>\n",
              "  </div>\n",
              "\n",
              "\n",
              "<div id=\"df-9f4303d0-8fb1-4a13-9dd7-5972efb33cda\">\n",
              "  <button class=\"colab-df-quickchart\" onclick=\"quickchart('df-9f4303d0-8fb1-4a13-9dd7-5972efb33cda')\"\n",
              "            title=\"Suggest charts\"\n",
              "            style=\"display:none;\">\n",
              "\n",
              "<svg xmlns=\"http://www.w3.org/2000/svg\" height=\"24px\"viewBox=\"0 0 24 24\"\n",
              "     width=\"24px\">\n",
              "    <g>\n",
              "        <path d=\"M19 3H5c-1.1 0-2 .9-2 2v14c0 1.1.9 2 2 2h14c1.1 0 2-.9 2-2V5c0-1.1-.9-2-2-2zM9 17H7v-7h2v7zm4 0h-2V7h2v10zm4 0h-2v-4h2v4z\"/>\n",
              "    </g>\n",
              "</svg>\n",
              "  </button>\n",
              "\n",
              "<style>\n",
              "  .colab-df-quickchart {\n",
              "      --bg-color: #E8F0FE;\n",
              "      --fill-color: #1967D2;\n",
              "      --hover-bg-color: #E2EBFA;\n",
              "      --hover-fill-color: #174EA6;\n",
              "      --disabled-fill-color: #AAA;\n",
              "      --disabled-bg-color: #DDD;\n",
              "  }\n",
              "\n",
              "  [theme=dark] .colab-df-quickchart {\n",
              "      --bg-color: #3B4455;\n",
              "      --fill-color: #D2E3FC;\n",
              "      --hover-bg-color: #434B5C;\n",
              "      --hover-fill-color: #FFFFFF;\n",
              "      --disabled-bg-color: #3B4455;\n",
              "      --disabled-fill-color: #666;\n",
              "  }\n",
              "\n",
              "  .colab-df-quickchart {\n",
              "    background-color: var(--bg-color);\n",
              "    border: none;\n",
              "    border-radius: 50%;\n",
              "    cursor: pointer;\n",
              "    display: none;\n",
              "    fill: var(--fill-color);\n",
              "    height: 32px;\n",
              "    padding: 0;\n",
              "    width: 32px;\n",
              "  }\n",
              "\n",
              "  .colab-df-quickchart:hover {\n",
              "    background-color: var(--hover-bg-color);\n",
              "    box-shadow: 0 1px 2px rgba(60, 64, 67, 0.3), 0 1px 3px 1px rgba(60, 64, 67, 0.15);\n",
              "    fill: var(--button-hover-fill-color);\n",
              "  }\n",
              "\n",
              "  .colab-df-quickchart-complete:disabled,\n",
              "  .colab-df-quickchart-complete:disabled:hover {\n",
              "    background-color: var(--disabled-bg-color);\n",
              "    fill: var(--disabled-fill-color);\n",
              "    box-shadow: none;\n",
              "  }\n",
              "\n",
              "  .colab-df-spinner {\n",
              "    border: 2px solid var(--fill-color);\n",
              "    border-color: transparent;\n",
              "    border-bottom-color: var(--fill-color);\n",
              "    animation:\n",
              "      spin 1s steps(1) infinite;\n",
              "  }\n",
              "\n",
              "  @keyframes spin {\n",
              "    0% {\n",
              "      border-color: transparent;\n",
              "      border-bottom-color: var(--fill-color);\n",
              "      border-left-color: var(--fill-color);\n",
              "    }\n",
              "    20% {\n",
              "      border-color: transparent;\n",
              "      border-left-color: var(--fill-color);\n",
              "      border-top-color: var(--fill-color);\n",
              "    }\n",
              "    30% {\n",
              "      border-color: transparent;\n",
              "      border-left-color: var(--fill-color);\n",
              "      border-top-color: var(--fill-color);\n",
              "      border-right-color: var(--fill-color);\n",
              "    }\n",
              "    40% {\n",
              "      border-color: transparent;\n",
              "      border-right-color: var(--fill-color);\n",
              "      border-top-color: var(--fill-color);\n",
              "    }\n",
              "    60% {\n",
              "      border-color: transparent;\n",
              "      border-right-color: var(--fill-color);\n",
              "    }\n",
              "    80% {\n",
              "      border-color: transparent;\n",
              "      border-right-color: var(--fill-color);\n",
              "      border-bottom-color: var(--fill-color);\n",
              "    }\n",
              "    90% {\n",
              "      border-color: transparent;\n",
              "      border-bottom-color: var(--fill-color);\n",
              "    }\n",
              "  }\n",
              "</style>\n",
              "\n",
              "  <script>\n",
              "    async function quickchart(key) {\n",
              "      const quickchartButtonEl =\n",
              "        document.querySelector('#' + key + ' button');\n",
              "      quickchartButtonEl.disabled = true;  // To prevent multiple clicks.\n",
              "      quickchartButtonEl.classList.add('colab-df-spinner');\n",
              "      try {\n",
              "        const charts = await google.colab.kernel.invokeFunction(\n",
              "            'suggestCharts', [key], {});\n",
              "      } catch (error) {\n",
              "        console.error('Error during call to suggestCharts:', error);\n",
              "      }\n",
              "      quickchartButtonEl.classList.remove('colab-df-spinner');\n",
              "      quickchartButtonEl.classList.add('colab-df-quickchart-complete');\n",
              "    }\n",
              "    (() => {\n",
              "      let quickchartButtonEl =\n",
              "        document.querySelector('#df-9f4303d0-8fb1-4a13-9dd7-5972efb33cda button');\n",
              "      quickchartButtonEl.style.display =\n",
              "        google.colab.kernel.accessAllowed ? 'block' : 'none';\n",
              "    })();\n",
              "  </script>\n",
              "</div>\n",
              "\n",
              "    </div>\n",
              "  </div>\n"
            ],
            "application/vnd.google.colaboratory.intrinsic+json": {
              "type": "dataframe",
              "variable_name": "data",
              "summary": "{\n  \"name\": \"data\",\n  \"rows\": 3638,\n  \"fields\": [\n    {\n      \"column\": \"Unnamed: 0\",\n      \"properties\": {\n        \"dtype\": \"number\",\n        \"std\": 1050,\n        \"min\": 0,\n        \"max\": 3637,\n        \"num_unique_values\": 3638,\n        \"samples\": [\n          415,\n          1078,\n          1839\n        ],\n        \"semantic_type\": \"\",\n        \"description\": \"\"\n      }\n    },\n    {\n      \"column\": \"Body\",\n      \"properties\": {\n        \"dtype\": \"string\",\n        \"num_unique_values\": 3637,\n        \"samples\": [\n          \"@jolelievre can we consider this fixed with the new product page on 8.1?\",\n          \"DynamicResource would not work correctly in WPF wither as the properties are not observable, so after first init they will not report any changes. With DynamicResource this is unexpected, so Avalonia doesn't support it.\",\n          \"Not sure if I understand it but is it related with #1282 ?\"\n        ],\n        \"semantic_type\": \"\",\n        \"description\": \"\"\n      }\n    },\n    {\n      \"column\": \"OT\",\n      \"properties\": {\n        \"dtype\": \"number\",\n        \"std\": 0,\n        \"min\": 0,\n        \"max\": 1,\n        \"num_unique_values\": 2,\n        \"samples\": [\n          1,\n          0\n        ],\n        \"semantic_type\": \"\",\n        \"description\": \"\"\n      }\n    },\n    {\n      \"column\": \"raf_PLAN\",\n      \"properties\": {\n        \"dtype\": \"number\",\n        \"std\": 0,\n        \"min\": 0,\n        \"max\": 1,\n        \"num_unique_values\": 2,\n        \"samples\": [\n          0,\n          1\n        ],\n        \"semantic_type\": \"\",\n        \"description\": \"\"\n      }\n    },\n    {\n      \"column\": \"PLAN\",\n      \"properties\": {\n        \"dtype\": \"number\",\n        \"std\": 0,\n        \"min\": 0,\n        \"max\": 1,\n        \"num_unique_values\": 2,\n        \"samples\": [\n          0,\n          1\n        ],\n        \"semantic_type\": \"\",\n        \"description\": \"\"\n      }\n    }\n  ]\n}"
            }
          },
          "metadata": {},
          "execution_count": 32
        }
      ],
      "source": [
        "from sklearn.feature_extraction.text import TfidfVectorizer\n",
        "\n",
        "#data = pd.read_csv(\"/content/drive/MyDrive/MSc_study/Summer_2024/man_try1_sec.csv\",error_bad_lines=False, engine=\"python\")\n",
        "data = pd.read_csv(\"/content/drive/MyDrive/MSc_study/Fall_2023/final_plan_dataset.csv\",error_bad_lines=False, engine=\"python\")\n",
        "#data = pd.read_csv(\"/content/drive/MyDrive/MSc_study/Fall_2023/2final_plan_dataset.csv\",error_bad_lines=False, engine=\"python\")\n",
        "data.head()"
      ]
    },
    {
      "cell_type": "code",
      "execution_count": null,
      "metadata": {
        "colab": {
          "base_uri": "https://localhost:8080/"
        },
        "id": "V7TANDBUI2Dz",
        "outputId": "6a128ef6-6da9-4b87-c9fc-462b39b4610a"
      },
      "outputs": [
        {
          "output_type": "stream",
          "name": "stderr",
          "text": [
            "[nltk_data] Downloading package stopwords to /root/nltk_data...\n",
            "[nltk_data]   Unzipping corpora/stopwords.zip.\n"
          ]
        },
        {
          "output_type": "execute_result",
          "data": {
            "text/plain": [
              "True"
            ]
          },
          "metadata": {},
          "execution_count": 7
        }
      ],
      "source": [
        "import nltk\n",
        "nltk.download('stopwords')\n"
      ]
    },
    {
      "cell_type": "code",
      "execution_count": null,
      "metadata": {
        "colab": {
          "base_uri": "https://localhost:8080/"
        },
        "id": "RSzomCXUXhw5",
        "outputId": "d0c05e96-2cab-41a7-bde3-6b602b7310bb"
      },
      "outputs": [
        {
          "output_type": "stream",
          "name": "stdout",
          "text": [
            "['a', \"a's\", 'able', 'about', 'above', 'according', 'accordingly', 'across', 'actually', 'after', 'afterwards', 'again', 'against', \"ain't\", 'all', 'allow', 'allows', 'almost', 'alone', 'along', 'already', 'also', 'although', 'always', 'am', 'among', 'amongst', 'an', 'and', 'another', 'any', 'anybody', 'anyhow', 'anyone', 'anything', 'anyway', 'anyways', 'anywhere', 'apart', 'appear', 'appreciate', 'appropriate', 'are', \"aren't\", 'around', 'as', 'aside', 'ask', 'asking', 'associated', 'at', 'available', 'away', 'awfully', 'b', 'be', 'became', 'because', 'become', 'becomes', 'becoming', 'been', 'before', 'beforehand', 'behind', 'being', 'believe', 'below', 'beside', 'besides', 'best', 'better', 'between', 'beyond', 'both', 'brief', 'but', 'by', 'c', \"c'mon\", \"c's\", 'came', 'can', \"can't\", 'cannot', 'cant', 'cause', 'causes', 'certain', 'certainly', 'changes', 'clearly', 'co', 'com', 'come', 'comes', 'concerning', 'consequently', 'consider', 'considering']\n"
          ]
        }
      ],
      "source": [
        "st_nir = []\n",
        "dt = pd.read_csv(\"/content/drive/MyDrive/MSc_study/Fall_2023/smart_stop_words.csv\")\n",
        "\n",
        "for i in range(dt['Column1'].size):\n",
        "  st_nir.append(dt['Column1'][i])\n",
        "print(st_nir)\n",
        "\n",
        "for i in range(dt['Column2'].size):\n",
        "  st_nir.append(dt['Column2'][i])\n",
        "\n",
        "for i in range(dt['Column3'].size):\n",
        "  st_nir.append(dt['Column3'][i])\n",
        "\n",
        "for i in range(dt['Column4'].size):\n",
        "  st_nir.append(dt['Column4'][i])\n",
        "\n",
        "for i in range(dt['Column5'].size):\n",
        "  st_nir.append(dt['Column5'][i])\n",
        "\n",
        "for i in range(dt['Column6'].size):\n",
        "  st_nir.append(dt['Column6'][i])\n"
      ]
    },
    {
      "cell_type": "code",
      "execution_count": null,
      "metadata": {
        "colab": {
          "base_uri": "https://localhost:8080/"
        },
        "id": "TqIcsLUA7iS-",
        "outputId": "8704a827-8146-4a57-c0a0-73f849a99ba6"
      },
      "outputs": [
        {
          "output_type": "execute_result",
          "data": {
            "text/plain": [
              "['a',\n",
              " \"a's\",\n",
              " 'able',\n",
              " 'about',\n",
              " 'above',\n",
              " 'according',\n",
              " 'accordingly',\n",
              " 'across',\n",
              " 'actually',\n",
              " 'after',\n",
              " 'afterwards',\n",
              " 'again',\n",
              " 'against',\n",
              " \"ain't\",\n",
              " 'all',\n",
              " 'allow',\n",
              " 'allows',\n",
              " 'almost',\n",
              " 'alone',\n",
              " 'along',\n",
              " 'already',\n",
              " 'also',\n",
              " 'although',\n",
              " 'always',\n",
              " 'am',\n",
              " 'among',\n",
              " 'amongst',\n",
              " 'an',\n",
              " 'and',\n",
              " 'another',\n",
              " 'any',\n",
              " 'anybody',\n",
              " 'anyhow',\n",
              " 'anyone',\n",
              " 'anything',\n",
              " 'anyway',\n",
              " 'anyways',\n",
              " 'anywhere',\n",
              " 'apart',\n",
              " 'appear',\n",
              " 'appreciate',\n",
              " 'appropriate',\n",
              " 'are',\n",
              " \"aren't\",\n",
              " 'around',\n",
              " 'as',\n",
              " 'aside',\n",
              " 'ask',\n",
              " 'asking',\n",
              " 'associated',\n",
              " 'at',\n",
              " 'available',\n",
              " 'away',\n",
              " 'awfully',\n",
              " 'b',\n",
              " 'be',\n",
              " 'became',\n",
              " 'because',\n",
              " 'become',\n",
              " 'becomes',\n",
              " 'becoming',\n",
              " 'been',\n",
              " 'before',\n",
              " 'beforehand',\n",
              " 'behind',\n",
              " 'being',\n",
              " 'believe',\n",
              " 'below',\n",
              " 'beside',\n",
              " 'besides',\n",
              " 'best',\n",
              " 'better',\n",
              " 'between',\n",
              " 'beyond',\n",
              " 'both',\n",
              " 'brief',\n",
              " 'but',\n",
              " 'by',\n",
              " 'c',\n",
              " \"c'mon\",\n",
              " \"c's\",\n",
              " 'came',\n",
              " 'can',\n",
              " \"can't\",\n",
              " 'cannot',\n",
              " 'cant',\n",
              " 'cause',\n",
              " 'causes',\n",
              " 'certain',\n",
              " 'certainly',\n",
              " 'changes',\n",
              " 'clearly',\n",
              " 'co',\n",
              " 'com',\n",
              " 'come',\n",
              " 'comes',\n",
              " 'concerning',\n",
              " 'consequently',\n",
              " 'consider',\n",
              " 'considering',\n",
              " 'contain',\n",
              " 'containing',\n",
              " 'contains',\n",
              " 'corresponding',\n",
              " 'could',\n",
              " \"couldn't\",\n",
              " 'course',\n",
              " 'currently',\n",
              " 'd',\n",
              " 'definitely',\n",
              " 'described',\n",
              " 'despite',\n",
              " 'did',\n",
              " \"didn't\",\n",
              " 'different',\n",
              " 'do',\n",
              " 'does',\n",
              " \"doesn't\",\n",
              " 'doing',\n",
              " \"don't\",\n",
              " 'done',\n",
              " 'down',\n",
              " 'downwards',\n",
              " 'during',\n",
              " 'e',\n",
              " 'each',\n",
              " 'edu',\n",
              " 'eg',\n",
              " 'eight',\n",
              " 'either',\n",
              " 'else',\n",
              " 'elsewhere',\n",
              " 'enough',\n",
              " 'entirely',\n",
              " 'especially',\n",
              " 'et',\n",
              " 'etc',\n",
              " 'even',\n",
              " 'ever',\n",
              " 'every',\n",
              " 'everybody',\n",
              " 'everyone',\n",
              " 'everything',\n",
              " 'everywhere',\n",
              " 'ex',\n",
              " 'exactly',\n",
              " 'example',\n",
              " 'except',\n",
              " 'f',\n",
              " 'far',\n",
              " 'few',\n",
              " 'fifth',\n",
              " 'first',\n",
              " 'five',\n",
              " 'followed',\n",
              " 'following',\n",
              " 'follows',\n",
              " 'for',\n",
              " 'former',\n",
              " 'formerly',\n",
              " 'forth',\n",
              " 'four',\n",
              " 'from',\n",
              " 'further',\n",
              " 'furthermore',\n",
              " 'g',\n",
              " 'get',\n",
              " 'gets',\n",
              " 'getting',\n",
              " 'given',\n",
              " 'gives',\n",
              " 'go',\n",
              " 'goes',\n",
              " 'going',\n",
              " 'gone',\n",
              " 'got',\n",
              " 'gotten',\n",
              " 'greetings',\n",
              " 'h',\n",
              " 'had',\n",
              " \"hadn't\",\n",
              " 'happens',\n",
              " 'hardly',\n",
              " 'has',\n",
              " \"hasn't\",\n",
              " 'have',\n",
              " \"haven't\",\n",
              " 'having',\n",
              " 'he',\n",
              " \"he's\",\n",
              " 'hello',\n",
              " 'help',\n",
              " 'hence',\n",
              " 'her',\n",
              " 'here',\n",
              " \"here's\",\n",
              " 'hereafter',\n",
              " 'hereby',\n",
              " 'herein',\n",
              " 'hereupon',\n",
              " 'hers',\n",
              " 'herself',\n",
              " 'hi',\n",
              " 'him',\n",
              " 'himself',\n",
              " 'his',\n",
              " 'hither',\n",
              " 'hopefully',\n",
              " 'how',\n",
              " 'howbeit',\n",
              " 'however',\n",
              " 'i',\n",
              " \"i'd\",\n",
              " \"i'll\",\n",
              " \"i'm\",\n",
              " \"i've\",\n",
              " 'ie',\n",
              " 'if',\n",
              " 'ignored',\n",
              " 'immediate',\n",
              " 'in',\n",
              " 'inasmuch',\n",
              " 'inc',\n",
              " 'indeed',\n",
              " 'indicate',\n",
              " 'indicated',\n",
              " 'indicates',\n",
              " 'inner',\n",
              " 'insofar',\n",
              " 'instead',\n",
              " 'into',\n",
              " 'inward',\n",
              " 'is',\n",
              " \"isn't\",\n",
              " 'it',\n",
              " \"it'd\",\n",
              " \"it'll\",\n",
              " \"it's\",\n",
              " 'its',\n",
              " 'itself',\n",
              " 'j',\n",
              " 'just',\n",
              " 'k',\n",
              " 'keep',\n",
              " 'keeps',\n",
              " 'kept',\n",
              " 'know',\n",
              " 'knows',\n",
              " 'known',\n",
              " 'l',\n",
              " 'last',\n",
              " 'lately',\n",
              " 'later',\n",
              " 'latter',\n",
              " 'latterly',\n",
              " 'least',\n",
              " 'less',\n",
              " 'lest',\n",
              " 'let',\n",
              " \"let's\",\n",
              " 'like',\n",
              " 'liked',\n",
              " 'likely',\n",
              " 'little',\n",
              " 'look',\n",
              " 'looking',\n",
              " 'looks',\n",
              " 'ltd',\n",
              " 'm',\n",
              " 'mainly',\n",
              " 'many',\n",
              " 'may',\n",
              " 'maybe',\n",
              " 'me',\n",
              " 'mean',\n",
              " 'meanwhile',\n",
              " 'merely',\n",
              " 'might',\n",
              " 'more',\n",
              " 'moreover',\n",
              " 'most',\n",
              " 'mostly',\n",
              " 'much',\n",
              " 'must',\n",
              " 'my',\n",
              " 'myself',\n",
              " 'n',\n",
              " 'name',\n",
              " 'namely',\n",
              " 'nd',\n",
              " 'near',\n",
              " 'nearly',\n",
              " 'necessary',\n",
              " 'need',\n",
              " 'needs',\n",
              " 'neither',\n",
              " 'never',\n",
              " 'nevertheless',\n",
              " 'new',\n",
              " 'next',\n",
              " 'nine',\n",
              " 'no',\n",
              " 'nobody',\n",
              " 'non',\n",
              " 'none',\n",
              " 'noone',\n",
              " 'nor',\n",
              " 'normally',\n",
              " 'not',\n",
              " 'nothing',\n",
              " 'novel',\n",
              " 'now',\n",
              " 'nowhere',\n",
              " 'o',\n",
              " 'obviously',\n",
              " 'of',\n",
              " 'off',\n",
              " 'often',\n",
              " 'oh',\n",
              " 'ok',\n",
              " 'okay',\n",
              " 'old',\n",
              " 'on',\n",
              " 'once',\n",
              " 'one',\n",
              " 'ones',\n",
              " 'only',\n",
              " 'onto',\n",
              " 'or',\n",
              " 'other',\n",
              " 'others',\n",
              " 'otherwise',\n",
              " 'ought',\n",
              " 'our',\n",
              " 'ours',\n",
              " 'ourselves',\n",
              " 'out',\n",
              " 'outside',\n",
              " 'over',\n",
              " 'overall',\n",
              " 'own',\n",
              " 'p',\n",
              " 'particular',\n",
              " 'particularly',\n",
              " 'per',\n",
              " 'perhaps',\n",
              " 'placed',\n",
              " 'please',\n",
              " 'plus',\n",
              " 'possible',\n",
              " 'presumably',\n",
              " 'probably',\n",
              " 'provides',\n",
              " 'q',\n",
              " 'que',\n",
              " 'quite',\n",
              " 'qv',\n",
              " 'r',\n",
              " 'rather',\n",
              " 'rd',\n",
              " 're',\n",
              " 'really',\n",
              " 'reasonably',\n",
              " 'regarding',\n",
              " 'regardless',\n",
              " 'regards',\n",
              " 'relatively',\n",
              " 'respectively',\n",
              " 'right',\n",
              " 's',\n",
              " 'said',\n",
              " 'same',\n",
              " 'saw',\n",
              " 'say',\n",
              " 'saying',\n",
              " 'says',\n",
              " 'second',\n",
              " 'secondly',\n",
              " 'see',\n",
              " 'seeing',\n",
              " 'seem',\n",
              " 'seemed',\n",
              " 'seeming',\n",
              " 'seems',\n",
              " 'seen',\n",
              " 'self',\n",
              " 'selves',\n",
              " 'sensible',\n",
              " 'sent',\n",
              " 'serious',\n",
              " 'seriously',\n",
              " 'seven',\n",
              " 'several',\n",
              " 'shall',\n",
              " 'she',\n",
              " 'should',\n",
              " \"shouldn't\",\n",
              " 'since',\n",
              " 'six',\n",
              " 'so',\n",
              " 'some',\n",
              " 'somebody',\n",
              " 'somehow',\n",
              " 'someone',\n",
              " 'something',\n",
              " 'sometime',\n",
              " 'sometimes',\n",
              " 'somewhat',\n",
              " 'somewhere',\n",
              " 'soon',\n",
              " 'sorry',\n",
              " 'specified',\n",
              " 'specify',\n",
              " 'specifying',\n",
              " 'still',\n",
              " 'sub',\n",
              " 'such',\n",
              " 'sup',\n",
              " 'sure',\n",
              " 't',\n",
              " \"t's\",\n",
              " 'take',\n",
              " 'taken',\n",
              " 'tell',\n",
              " 'tends',\n",
              " 'th',\n",
              " 'than',\n",
              " 'thank',\n",
              " 'thanks',\n",
              " 'thanx',\n",
              " 'that',\n",
              " \"that's\",\n",
              " 'thats',\n",
              " 'the',\n",
              " 'their',\n",
              " 'theirs',\n",
              " 'them',\n",
              " 'themselves',\n",
              " 'then',\n",
              " 'thence',\n",
              " 'there',\n",
              " \"there's\",\n",
              " 'thereafter',\n",
              " 'thereby',\n",
              " 'therefore',\n",
              " 'therein',\n",
              " 'theres',\n",
              " 'thereupon',\n",
              " 'these',\n",
              " 'they',\n",
              " \"they'd\",\n",
              " \"they'll\",\n",
              " \"they're\",\n",
              " \"they've\",\n",
              " 'think',\n",
              " 'third',\n",
              " 'this',\n",
              " 'thorough',\n",
              " 'thoroughly',\n",
              " 'those',\n",
              " 'though',\n",
              " 'three',\n",
              " 'through',\n",
              " 'throughout',\n",
              " 'thru',\n",
              " 'thus',\n",
              " 'to',\n",
              " 'together',\n",
              " 'too',\n",
              " 'took',\n",
              " 'toward',\n",
              " 'towards',\n",
              " 'tried',\n",
              " 'tries',\n",
              " 'truly',\n",
              " 'try',\n",
              " 'trying',\n",
              " 'twice',\n",
              " 'two',\n",
              " 'u',\n",
              " 'un',\n",
              " 'under',\n",
              " 'unfortunately',\n",
              " 'unless',\n",
              " 'unlikely',\n",
              " 'until',\n",
              " 'unto',\n",
              " 'up',\n",
              " 'upon',\n",
              " 'us',\n",
              " 'use',\n",
              " 'used',\n",
              " 'useful',\n",
              " 'uses',\n",
              " 'using',\n",
              " 'usually',\n",
              " 'uucp',\n",
              " 'v',\n",
              " 'value',\n",
              " 'various',\n",
              " 'very',\n",
              " 'via',\n",
              " 'viz',\n",
              " 'vs',\n",
              " 'w',\n",
              " 'want',\n",
              " 'wants',\n",
              " 'was',\n",
              " \"wasn't\",\n",
              " 'way',\n",
              " 'we',\n",
              " \"we'd\",\n",
              " \"we'll\",\n",
              " \"we're\",\n",
              " \"we've\",\n",
              " 'welcome',\n",
              " 'well',\n",
              " 'went',\n",
              " 'were',\n",
              " \"weren't\",\n",
              " 'what',\n",
              " \"what's\",\n",
              " 'whatever',\n",
              " 'when',\n",
              " 'whence',\n",
              " 'whenever',\n",
              " 'where',\n",
              " \"where's\",\n",
              " 'whereafter',\n",
              " 'whereas',\n",
              " 'whereby',\n",
              " 'wherein',\n",
              " 'whereupon',\n",
              " 'wherever',\n",
              " 'whether',\n",
              " 'which',\n",
              " 'while',\n",
              " 'whither',\n",
              " 'who',\n",
              " \"who's\",\n",
              " 'whoever',\n",
              " 'whole',\n",
              " 'whom',\n",
              " 'whose',\n",
              " 'why',\n",
              " 'will',\n",
              " 'willing',\n",
              " 'wish',\n",
              " 'with',\n",
              " 'within',\n",
              " 'without',\n",
              " \"won't\",\n",
              " 'wonder',\n",
              " 'would',\n",
              " 'would',\n",
              " \"wouldn't\",\n",
              " 'x',\n",
              " 'y',\n",
              " 'yes',\n",
              " 'yet',\n",
              " 'you',\n",
              " \"you'd\",\n",
              " \"you'll\",\n",
              " \"you're\",\n",
              " \"you've\",\n",
              " 'your',\n",
              " 'yours',\n",
              " 'yourself',\n",
              " 'yourselves',\n",
              " 'z',\n",
              " 'zero',\n",
              " nan,\n",
              " nan,\n",
              " nan,\n",
              " nan,\n",
              " nan,\n",
              " nan,\n",
              " nan,\n",
              " nan,\n",
              " nan,\n",
              " nan,\n",
              " nan,\n",
              " nan,\n",
              " nan,\n",
              " nan,\n",
              " nan,\n",
              " nan,\n",
              " nan,\n",
              " nan,\n",
              " nan,\n",
              " nan,\n",
              " nan,\n",
              " nan,\n",
              " nan,\n",
              " nan,\n",
              " nan,\n",
              " nan,\n",
              " nan,\n",
              " nan,\n",
              " nan,\n",
              " 'to',\n",
              " 'in',\n",
              " 'how',\n",
              " 'the',\n",
              " 'of',\n",
              " 'javascript',\n",
              " 'with',\n",
              " 'is',\n",
              " 'and',\n",
              " 'keras',\n",
              " 'css',\n",
              " 'for',\n",
              " 'using',\n",
              " 'tensorflow',\n",
              " 'an',\n",
              " 'what',\n",
              " 'do',\n",
              " 'python',\n",
              " 'can',\n",
              " 'duplicate',\n",
              " 'on',\n",
              " 'from',\n",
              " 'model',\n",
              " 'not',\n",
              " 'get',\n",
              " 'jquery',\n",
              " 'object',\n",
              " 'function',\n",
              " 'use',\n",
              " 'element',\n",
              " 'does',\n",
              " 'string',\n",
              " 'image',\n",
              " 'input',\n",
              " 'array',\n",
              " 'between',\n",
              " 'when',\n",
              " 'why',\n",
              " 'div',\n",
              " 'pytorch',\n",
              " 'text',\n",
              " 'layer',\n",
              " 'html',\n",
              " 'or',\n",
              " 'data',\n",
              " 'js',\n",
              " 'file',\n",
              " 'if',\n",
              " 'loss',\n",
              " 'multiple',\n",
              " 'difference',\n",
              " 'training',\n",
              " 'error',\n",
              " 'class',\n",
              " 'learning',\n",
              " 'vs',\n",
              " 'network',\n",
              " 'it',\n",
              " 'list',\n",
              " 'bootstrap',\n",
              " 'as',\n",
              " 'way',\n",
              " 'check',\n",
              " 'set',\n",
              " 'value',\n",
              " 'caffe',\n",
              " 'deep',\n",
              " 'remove',\n",
              " 'add',\n",
              " 'make',\n",
              " 'size',\n",
              " 'closed',\n",
              " 'gt',\n",
              " 'lt',\n",
              " 'neural',\n",
              " 'lstm',\n",
              " 'by',\n",
              " 'width',\n",
              " 'change',\n",
              " 'cnn',\n",
              " 'all',\n",
              " 'one',\n",
              " 'number',\n",
              " 'variable',\n",
              " 'output',\n",
              " 'after',\n",
              " 'convert',\n",
              " 'are',\n",
              " 'only',\n",
              " 'elements',\n",
              " 'custom',\n",
              " 'two',\n",
              " 'react',\n",
              " 'into',\n",
              " 'page',\n",
              " 'height',\n",
              " 'there',\n",
              " 'create',\n",
              " 'without',\n",
              " 'type',\n",
              " 'no',\n",
              " 'values',\n",
              " 'background',\n",
              " 'attribute',\n",
              " 'tf',\n",
              " 'tensor',\n",
              " 'be',\n",
              " 'node',\n",
              " 'images',\n",
              " 'layers',\n",
              " 'table',\n",
              " 'you',\n",
              " 'date',\n",
              " 'line',\n",
              " 'has',\n",
              " 'json',\n",
              " 'same',\n",
              " 'inside',\n",
              " 'center',\n",
              " 'accuracy',\n",
              " 'classification',\n",
              " 'time',\n",
              " 'pandas',\n",
              " 'style',\n",
              " 'that',\n",
              " 'my',\n",
              " 'load',\n",
              " 'select',\n",
              " 'color',\n",
              " 'find',\n",
              " 'batch',\n",
              " 'event',\n",
              " 'name',\n",
              " 'code',\n",
              " 'module',\n",
              " 'property',\n",
              " 'browser',\n",
              " 'button',\n",
              " 'mean',\n",
              " 'work',\n",
              " 'multi',\n",
              " 'position',\n",
              " 'have',\n",
              " 'train',\n",
              " 'chrome',\n",
              " 'content',\n",
              " 'method',\n",
              " 'shape',\n",
              " 'this',\n",
              " 'but',\n",
              " 'different',\n",
              " 'dataset',\n",
              " 'parent',\n",
              " 'disable',\n",
              " 'url',\n",
              " 'at',\n",
              " 'google',\n",
              " 'child',\n",
              " 'align',\n",
              " 'variables',\n",
              " 'weights',\n",
              " 'first',\n",
              " 'specific',\n",
              " 'display',\n",
              " 'should',\n",
              " 'parameters',\n",
              " 'best',\n",
              " 'detect',\n",
              " 'form',\n",
              " 'call',\n",
              " 'column',\n",
              " 'objects',\n",
              " 'validation',\n",
              " 'files',\n",
              " 'classes',\n",
              " 'than',\n",
              " 'numpy',\n",
              " 'access',\n",
              " 'getting',\n",
              " 'working',\n",
              " 'api',\n",
              " 'selector',\n",
              " 'angularjs',\n",
              " 'possible',\n",
              " 'last',\n",
              " 'window',\n",
              " 'test',\n",
              " 'font',\n",
              " 'while',\n",
              " 'new',\n",
              " 'gpu',\n",
              " 'detection',\n",
              " 'prevent',\n",
              " 'before',\n",
              " 'scroll',\n",
              " 'apply',\n",
              " 'each',\n",
              " 'format',\n",
              " 'another',\n",
              " 'return']"
            ]
          },
          "metadata": {},
          "execution_count": 9
        }
      ],
      "source": [
        "#SE STOP WORDS\n",
        "#st_nir = []\n",
        "dt = pd.read_csv(\"/content/drive/MyDrive/MSc_study/Fall_2023/se_stop_words.csv\")\n",
        "\n",
        "for i in range(dt['stopwords'].size):\n",
        "  st_nir.append(dt['stopwords'][i])\n",
        "st_nir"
      ]
    },
    {
      "cell_type": "code",
      "execution_count": null,
      "metadata": {
        "colab": {
          "base_uri": "https://localhost:8080/"
        },
        "id": "pAR7qpDAF7HG",
        "outputId": "0b236d55-238c-4bca-c647-df34f0000a77"
      },
      "outputs": [
        {
          "output_type": "stream",
          "name": "stdout",
          "text": [
            "Wow great work, I appreciate your work.\n",
            " Wow great work, work.\n"
          ]
        }
      ],
      "source": [
        "from nltk.stem import WordNetLemmatizer\n",
        "\n",
        "corpus = data['Body'].to_list()\n",
        "lemmatizer = WordNetLemmatizer()\n",
        "sentence = \"\"\n",
        "#len(corpus)\n",
        "print(corpus[3])\n",
        "\n",
        "'''\n",
        "#TRY\n",
        "sentence = corpus[3]\n",
        "tokens = sentence.split()\n",
        "print(\"STEP 1: \",tokens)\n",
        "  #tokens = [re.sub([0-9], '', i) for i in tokens]\n",
        "tokens = [token for token in tokens if token.lower() not in (st_nir or [0-9])]\n",
        "cleaned_sentence = \"\"\n",
        "for j in range(len(tokens)):\n",
        "  tokens[j] = lemmatizer.lemmatize(tokens[j])\n",
        "  print(\"STEP 2: \",tokens[j])\n",
        "  cleaned_sentence = cleaned_sentence + \" \" + tokens[j]\n",
        "  print(\"STEP 3: \", cleaned_sentence)\n",
        "  corpus[3] = cleaned_sentence\n",
        "'''\n",
        "for i in range(len(corpus)):\n",
        "  sentence = corpus[i]\n",
        "  tokens = sentence.split()\n",
        "  #tokens = [re.sub([0-9], '', i) for i in tokens]\n",
        "  tokens = [token for token in tokens if token.lower() not in (st_nir or [0-9])]\n",
        "  cleaned_sentence = \"\"\n",
        "  for j in range(len(tokens)):\n",
        "    tokens[j] = lemmatizer.lemmatize(tokens[j])\n",
        "    result = re.sub(r'[()\\[\\]]', '', tokens[j])\n",
        "    cleaned_sentence = cleaned_sentence + \" \" + result\n",
        "    corpus[i] = cleaned_sentence\n",
        "print(corpus[3])\n",
        "\n"
      ]
    },
    {
      "cell_type": "code",
      "execution_count": null,
      "metadata": {
        "id": "qmRrLxhauMZR"
      },
      "outputs": [],
      "source": []
    },
    {
      "cell_type": "code",
      "execution_count": null,
      "metadata": {
        "id": "UX7MCp4j0nh-"
      },
      "outputs": [],
      "source": [
        "#let's create the vectorizer and fit the corpus and transform them accordingly\n",
        "v = TfidfVectorizer()\n",
        "v.fit(corpus)\n",
        "transform_output = v.transform(corpus)"
      ]
    },
    {
      "cell_type": "code",
      "execution_count": null,
      "metadata": {
        "colab": {
          "base_uri": "https://localhost:8080/"
        },
        "id": "ZKXaMR4W0uct",
        "outputId": "ab6d139f-f561-4495-b988-6eb06b573582"
      },
      "outputs": [
        {
          "output_type": "execute_result",
          "data": {
            "text/plain": [
              "<3638x15966 sparse matrix of type '<class 'numpy.float64'>'\n",
              "\twith 98335 stored elements in Compressed Sparse Row format>"
            ]
          },
          "metadata": {},
          "execution_count": 13
        }
      ],
      "source": [
        "transform_output"
      ]
    },
    {
      "cell_type": "code",
      "execution_count": null,
      "metadata": {
        "colab": {
          "base_uri": "https://localhost:8080/"
        },
        "id": "whInbRCd0xAX",
        "outputId": "ad442be1-43ed-4239-f34e-0a121166185c"
      },
      "outputs": [
        {
          "output_type": "stream",
          "name": "stdout",
          "text": [
            "{'issue': 7560, 'opened': 9914, 'map': 8615, 'reseting': 11875, 'preference': 10853, 'default': 3896, 'integer': 7335, 'fields': 5478, 'great': 6320, 'mod': 9073, 'good': 6239, 'run': 12210, 'app': 1365, 'hello': 6609, 'sip': 12912, 'machine': 8507, 'tutorial': 14547, 'download': 4469, 'application': 1397, 'link': 8243, 'https': 6823, 'github': 6157, 'com': 3012, 'julian': 7770, 'poidevin': 10693, 'mbpmid2010_gpufix': 8744, 'releases': 11706, 'v0': 14982, 'mbpmid2010': 8743, 'gpu': 6268, 'fix': 5579, 'zip': 15885, 'extract': 5276, 'clock': 2867, 'icon': 6898, 'click': 2849, 'patch': 10319, 'mbp': 8742, 'prompted': 11062, 'warning': 15322, 'message': 8852, 'press': 10905, 'yes': 15803, 'password': 10311, 'request': 11842, 'user': 14932, 'session': 12638, 'wait': 15292, 'process': 10994, 'finished': 5547, 'reboot': 11495, 'computer': 3165, 'done': 4445, 'wow': 15658, 'work': 15613, 'you': 15825, 'job': 7693, 'config': 3225, 'base': 1869, 'sp4': 13155, 'running': 12216, 'obvious': 9736, 'exception': 5108, 'wifi': 15515, 'bluetooth': 2124, 'changed': 2666, 'couple': 3495, 'thing': 14101, 'platform': 10619, 'id': 6903, '02002659': 16, '00001659': 3, 'part': 10277, 'yours': 15832, 'fyi': 5926, 'encounter': 4816, 'this': 14112, 'in': 7064, 'case': 2552, 'withthis': 15581, 'device': 4118, 'reason': 11488, 'youtube': 15838, 'igpu': 6953, 'regardless': 11644, 'use': 14913, 'freeze': 5823, 'point': 10694, 'perform': 10413, 'forced': 5716, 'shutdown': 12819, 'found': 5775, 'turn': 14544, 'hardware': 6509, 'accelartion': 808, 'since': 12898, 'boot': 2172, 'arg': 1466, 'disablegfxfirmware': 4244, 'safari': 12263, 'lost': 8418, 'enabled': 4796, 'recent': 11513, 'version': 15117, 'chrome': 2770, 'edge': 4647, 'brave': 2241, 'browser': 2298, 'option': 9989, 'solution': 13077, 'wanted': 15314, 'share': 12714, 'awesome': 1765, 'appreciated': 1406, 'feature': 5413, 'come': 3023, 'article': 1521, 'read': 11450, 'enjoy': 4864, 'people': 10392, 'catching': 2568, 'typos': 14602, 'bugs': 2337, 'suggesting': 13637, 'improvement': 7056, 'feedback': 5423, 'team': 13932, 'meeting': 8789, 'assign': 1577, 'generous': 6022, 'give': 6164, 'celebrate': 2614, 'learner': 8098, 'offering': 9792, 'suggestions': 13639, 'concrete': 3194, 'assignment': 1581, 'of': 9780, 'structure': 13523, 'respond': 11912, 'rapidly': 11395, 'well': 15434, 'culture': 3638, 'psychological': 11150, 'safety': 12270, 'continual': 3362, 'growth': 6362, 'make': 8556, 'finding': 5535, 'mistake': 9015, 'gift': 6140, 'threat': 14136, 'hidden': 6657, 'effort': 4681, 'soliciting': 13070, 'giving': 6169, 'responding': 11913, 'highlight': 6669, 'usetranslations': 14946, 'namespace': 9355, 'typescript': 14590, 'autocompletes': 1705, 'gettranslator': 6109, 'locale': 8333, 'don': 4437, 'current': 3649, 'limitation': 8225, 'thanks': 14053, 'amazing': 1204, 'design': 4050, 'code': 2930, 'it': 7568, 'everyone': 5074, 'hope': 6755, 'career': 2522, 'service': 12634, 'lewagon': 8160, 'student': 13537, 'dev': 4094, 'pack': 10174, 'benefit': 1992, 'students': 13538, 've': 15078, 'touch': 14341, 'past': 10313, 'weeks': 15421, 'support': 13689, 'months': 9159, 'facing': 5318, 'difficulty': 4192, 'accessing': 830, 'referral': 11611, 'log': 8351, 'oops': 9892, 'redeemed': 11572, 'contact': 3337, 'administrator': 977, 'valid': 15023, 'information': 7183, 'move': 9196, 'forward': 5769, 'fareen': 5372, 'suggestion': 13638, 'optional': 9992, 'response': 11915, 'building': 2345, 'unity': 14755, 'webgl': 15382, 'project': 11044, 'includes': 7093, 'midi': 8921, 'stuff': 13543, 'drywetmidi': 4535, 'editor': 4659, 'build': 2339, 'web': 15369, 'error': 4974, 'release': 11702, 'framework': 5804, 'js': 7747, 'gz': 6419, '10': 44, 'dllnotfoundexception': 4377, 'unable': 14649, 'dll': 4376, 'melanchall_drywetmidi_native32': 8797, 'dynamic': 4591, 'libraries': 8182, 'library': 8184, 'load': 8321, 'occurs': 9754, 'immediately': 6999, 'calling': 2456, 'inputdevice': 7257, 'getbyname': 6080, 'creating': 3551, 'brand': 2238, 'new': 9462, 'replicate': 11801, 'persists': 10443, 'fresh': 5830, 'latest': 8045, 'v7': 14997, 'asset': 1575, 'store': 13451, 'greatly': 6325, 'hi': 6652, 'afraid': 1041, 'devices': 4120, 'fact': 5319, 'integration': 7340, 'disappointing': 4259, 'hear': 6583, 'plan': 10601, 'plans': 10613, 'provide': 11119, 'date': 3781, 'yet': 15806, 'pretty': 10920, 'solid': 13071, 'ephemeral': 4944, 'containerized': 3345, 'samba': 12286, 'server': 12629, 'evolution': 5084, 'dperson': 4483, 'idea': 6908, 'defining': 3916, 'configuration': 3232, 'separate': 12596, 'static': 13386, 'yaml': 15791, 'parsed': 10271, 'entrypoint': 4919, 'script': 12432, 'exposed': 5237, 'easy': 4621, 'global': 6188, 'section': 12493, 'options': 9994, 'override': 10134, 'defaults': 3899, 'jmpolom': 7689, 'hardcoded': 6504, 'channel': 2673, 'ramtin': 11376, 'live': 8291, 'processor': 10999, '2023': 270, 'broadcast': 2280, 'public': 11156, 'update': 14857, 'instagram': 7293, 'solve': 13082, 'buy': 2392, 'private': 10969, 'email': 4744, 'question': 11310, 'buying': 2395, 'lot': 8419, 'high': 6666, 'level': 8150, 'resource': 11899, 'implement': 7021, 'bind': 2049, 'automatically': 1720, 'grant': 6295, 'permission': 10429, 'resources': 11902, 'fine': 5538, 'however': 6798, 'smart': 12999, 'existing': 5157, 'policy': 10705, 'police': 10703, 'overflow': 10112, 'role': 12113, '20': 242, 'attached': 1631, 'construct': 3314, 'cdk': 2606, 'adding': 939, 'produce': 11005, 'additional': 941, 'want': 15313, 'not': 9588, 'place': 10593, 'track': 14362, 'example': 5097, 'glue': 6203, 'etl': 5039, 'extrapythonfiles': 5285, 'extrajars': 5281, 'property': 11079, 'member': 8804, 'executable': 5131, 'accept': 816, 'class': 2815, 's3': 12247, 'object': 9702, 'common': 3068, 'environment': 4929, 'then': 14075, 'policies': 10704, 'understand': 14699, 'motivation': 9179, 'developer': 4105, 'remember': 11739, 'individual': 7150, 'tolerant': 14286, 'real': 11466, 'life': 8199, 'bucket': 2317, 'anyway': 1335, 'prefix': 10859, 'wildcard': 15522, 'resolve': 11892, 'nicely': 9500, 'include': 7090, 'though': 14123, 'abstract': 796, 'off': 9783, 'here': 6627, 'open': 9901, 'discus': 4290, 'elegant': 4718, 'forgive': 5734, 'me': 8758, 'implemented': 7024, 'write': 15679, 'encouraging': 4823, 'note': 9593, 'check': 2708, 'wife': 15514, 'flight': 5628, 'group': 6352, 'sponsor': 13248, 'stay': 13398, 'ahead': 1073, 'southwest': 13151, 'break': 2246, 'best': 2002, 'docker': 4393, 'container': 3342, 'alpine': 1171, 'linux': 8258, 'kind': 7888, 'word': 15608, 'generosity': 6021, 'improving': 7059, 'software': 13055, 'unfortunate': 14727, 'inclined': 7089, 'airline': 1089, 'port': 10736, '2121': 292, 'plain': 10598, 'ftp': 5867, 'everytime': 5076, 'client': 2853, 'connects': 3278, 'sftp': 12683, '2022': 268, 'wrong': 15694, 'greets': 6332, 'adrian': 994, 'query': 11299, 'livewire': 8299, 'v3': 14990, 'beta': 2004, 'php': 10503, 'using': 14949, 'repository': 11819, 'steps': 13414, 'reproduce': 11833, 'component': 3135, 'content': 3351, 'confirm': 3240, 'incomplete': 7101, 'submission': 13575, 'addressed': 950, 'provided': 11120, 'step': 13408, 'by': 2400, 'instruction': 7319, 'bug': 2332, 'sample': 12292, 'images': 6979, 'report': 11809, 'removed': 11753, 'met': 8858, 'criterion': 3567, 'above': 786, 'n1ebieski': 9337, 'reporting': 11813, 'chance': 2664, 'submit': 13576, 'pr': 10809, 'suggested': 13635, 'history': 6694, 'matches': 8687, 'disappear': 4255, 'page': 10188, 'general': 6005, 'next': 9478, 'advice': 1012, 'fulfill': 5875, 'wishes': 15566, 'hate': 6546, 'started': 13370, 'love': 8424, 'cached': 2419, 'worked': 15619, 'on': 9845, 'table': 13829, 'field': 5475, 'added': 937, 'working': 15628, 'mean': 8759, 'cache': 2417, 'outdated': 10077, 'regularly': 11667, 'close': 2875, 'restart': 11925, 'xrm': 15765, 'toolbox': 14305, 'closing': 2880, 're': 11437, 'opening': 9921, 'fetchxml': 5452, 'builder': 2343, 'clear': 2838, 'ir': 7515, 'per': 10395, 'basis': 1883, 'extremely': 5287, 'happy': 6500, 'entire': 4901, 'connection': 3274, 'totally': 14339, 'agree': 1065, 'related': 11687, '897': 682, 'tuned': 14532, 'cloudflare': 2884, 'pages': 10190, 'expensive': 5185, 'workers': 15622, 'put': 11204, 'function': 5884, 'style': 13553, 'json': 7753, 'glyths': 6205, 'fonts': 5698, 'tweak': 14555, 'worker': 15620, '_worker': 741, 'adviced': 1013, 'refactor': 11602, 'exeptions': 5145, 'anymore': 1329, 'blocked': 2105, 'created': 3548, 'forlder': 5742, 'desktop': 4061, 'copy': 3446, 'index': 7134, 'file': 5488, 'deployed': 4008, 'folder': 5683, 'projet': 11049, 'settings': 12669, 'functions': 5895, 'r2': 11343, 'binding': 2050, 'my_bucket': 9313, 'custom': 3662, 'domains': 4433, 'domain': 4432, 'luck': 8458, '1101': 75, 'threw': 14143, 'logs': 8376, 'detail': 4074, 'requests': 11846, 'billed': 2039, 'that': 14055, 'sense': 12582, 'tile': 14189, 'served': 12628, 'usual': 14955, 'frontend': 5849, 'etc': 5031, 'serving': 12636, 'correct': 3463, 'mind': 8949, 'there': 14084, 'projects': 11048, 'trouble': 14482, 'putting': 11206, 'hour': 6784, 'lack': 7984, 'funding': 5901, 'bit': 2068, 'patreon': 10331, 'makers': 8562, 'vip': 15175, 'something': 13104, 'exploring': 5225, 'ghostfolio': 6131, 'installed': 7298, 'self': 12553, 'hosted': 6771, 'playing': 10637, 'days': 3802, 'for': 5714, 'contributed': 3378, 'ideas': 6911, 'improve': 7054, 'them': 14067, 'contributing': 3380, 'back': 1794, 'post': 10767, 'ups7': 14881, 'glad': 6176, 'enjoying': 4867, 'meet': 8788, 'needs': 9415, 'join': 7705, 'slack': 12952, 'community': 3078, 'decide': 3849, 'proceed': 10991, 'detailed': 4075, 'tickets': 14176, 'collaborating': 2979, 'enhance': 4858, 'thomas': 14119, 'recently': 11515, 'eufy': 5042, 't8502': 13825, 'lock': 8344, 'home': 6736, 'assistant': 1586, 'debug': 3837, 'alarm': 1107, 'entry': 4918, 'screenshot': 12421, 'untitled': 14837, 'armory': 1492, 'crate': 3534, 'nonsense': 9570, 'stop': 13443, 'supporting': 13693, 'macos': 8511, '14': 125, 'mojave': 9120, '13': 109, 'sierra': 12834, 'chromium': 2771, 'legacy': 8115, 'start': 13367, 'supporter': 13691, 'works': 15632, 'asked': 1547, 'supported': 13690, 'now': 9618, 'says': 12340, 'officially': 9799, 'month': 9157, 'wallabag': 15303, 'core': 3453, 'he': 6563, 'hard': 6502, 'pleased': 10647, 'yguedidi': 15810, 'yassine': 15793, 'review': 12009, 'merge': 8838, 'pull': 11168, 'contributors': 3385, 'congrats': 3256, 'nicosomb': 9507, 'pleasure': 10649, 'continue': 3364, 'can': 2473, 'product': 11010, 'careful': 2523, 'ban': 1841, 'typo': 14599, 'fixed': 5581, 'requested': 11843, 'congratz': 3260, 'answer': 1305, 'downloading': 4473, 'testing': 14013, 'expect': 5174, 'result': 11942, 'unsteady': 14822, 'interested': 7383, 'average': 1745, 'standard': 13346, 'deviation': 4117, 'time': 14197, 'coding': 2953, 'desired': 4058, 'advance': 999, 'bt': 2311, 'raised': 11368, 'march': 8627, 'today': 14265, 'plugins': 10671, 'neovim': 9429, 'mac': 8504, 'os': 10045, 'cheers': 2726, 'hm': 6710, 'daily': 3721, 'year': 15798, 'suspect': 13724, 'zshenv': 15911, 'problem': 10982, 'defined': 3911, 'interactive': 7373, 'replace': 11791, 'turned': 14545, 'red': 11568, 'herring': 6636, 'offending': 9787, 'setting': 12668, 'xdg_runtime_dir': 15735, 'directory': 4233, 'export': 5229, 'tmp': 14254, 'mkdir': 9042, 'end': 4827, 'guy': 6414, 'actively': 898, 'maintaining': 8547, 'plugin': 10670, 'needed': 9410, 'spare': 13168, 'neogit': 9426, 'anger': 1265, 'hey': 6645, 'jetelain': 7667, 'long': 8385, 'sphere': 13223, 'collide': 2995, 'called': 2454, 'bisutils': 2067, 'aimed': 1081, 'perfect': 10408, 'bis': 2066, 'formats': 5748, 'forking': 5740, 'format': 5747, 'niche': 9503, 'functionality': 5888, 'discord': 4275, 'flipperplz': 5633, 'making': 8564, 'opensource': 9935, 'empowering': 4782, 'young': 15827, 'aswell': 1608, 'modding': 9080, 'centered': 2627, 'bohemia': 2147, 'games': 5948, 'rework': 12025, 'meanwhile': 8765, 'migrate': 8925, 'gamerealisticmap': 5946, 'features': 5415, 'wrp': 15698, 'to': 14259, 'edit': 4652, 'again': 1048, 'generate': 6009, 'files': 5503, 'pbo': 10355, 'unpack': 14790, 'reference': 11606, 'pboproject': 10356, 'paa': 10172, 'conversion': 3403, 'wpf': 15667, 'imagesharp': 6980, 'depending': 4001, 'context': 3354, 'writing': 15689, 'figured': 5484, 'compute': 3164, 'color': 2999, 'image2paa': 6976, 'bin': 2043, 'rvmat': 12232, 'cfgconvert': 2650, 'binarize': 2045, 'builtin': 2352, 'tool': 14301, 'messages': 8853, 'p3d': 10168, 'odol': 9773, 'modelinfo': 9090, 'boundingcenter': 2209, 'required': 11849, 'lods': 8349, 'properties': 11078, 'such': 13619, 'slopelandcontact': 12982, 'faces': 5314, 'size': 12925, 'trunk': 14498, 'position': 10752, 'materials': 8695, 'textures': 14030, 'future': 5915, 'mlod': 9053, 'templating': 13965, 'purpose': 11192, 'procedural': 10988, 'buildings': 2346, 'ongoing': 9870, 'pursuit': 11197, 'stability': 13312, 'robustness': 12100, 'concentrated': 3177, 'internal': 7402, 'parsing': 10275, 'mechanisms': 8779, 'minimal': 8965, 'reliance': 11712, 'external': 5269, 'incorporated': 7108, 'microsoft': 8912, 'loggerabstractions': 8358, 'package': 10175, 'ilogger': 6970, 'key': 7847, 'achievements': 864, 'models': 9093, 'p3ds': 10169, 'focus': 5676, 'reading': 11457, 'unified': 14736, 'implementation': 7022, 'progress': 11040, 'separation': 12600, 'binarized': 2046, 'counterpart': 3489, 'remains': 11729, 'fully': 5881, 'realized': 11476, 'development': 4109, 'debinarize': 3835, 'operation': 9951, 'undertaken': 14705, 'rapify': 11396, 'alongside': 1164, 'house': 6786, 'parser': 10272, 'built': 2351, 'langassembler': 8009, 'moved': 9198, 'additionally': 942, 'preprocessor': 10880, 'crafted': 3525, 'manage': 8577, 'macro': 8513, 'pertaining': 10458, 'paas': 10173, 'achieved': 862, 'comprehensive': 3151, 'accurate': 854, 'flattened': 5609, 'streamline': 13483, 'necessitate': 9407, 'layout': 8067, 'possibility': 10764, 'discussion': 4294, 'collaboration': 2980, 'matters': 8712, 'updated': 14860, 'regards': 11645, 'ryann': 12238, 'all': 1139, 'obtain': 9731, 'definition': 3919, 'schema': 12379, 'looping': 8403, 'dereferencedcontent': 4023, 'info': 7180, 'missing': 9012, 'direct': 4219, 'obtaining': 9734, 'referring': 11613, 'stored': 13453, 'components': 3138, 'prior': 10962, 'dereferencing': 4025, 'exactly': 5094, 'dereferencedin': 4024, 'thinking': 14106, 'originally': 10037, 'referenced': 11607, 'vendor': 15096, 'extension': 5263, 'dereferenced': 4022, 'needing': 9411, 'introduce': 7442, 'type': 14582, 'longstanding': 8390, 'todo': 14267, 'sooner': 13123, 'radar': 11352, 'brought': 2293, 'way': 15355, 'know': 7921, 'joining': 7708, 'other': 10061, 'polakowo': 10702, 'coming': 3038, 'zipline': 15887, 'huge': 6832, 'efficiency': 4677, 'simplicity': 12878, 'noticing': 9604, 'backtest': 1813, 'event': 5061, 'return': 11979, 'ts': 14511, 'expected': 5177, 'buffer': 2327, 'indicator': 7145, 'ie': 6936, 'day': 3801, 'ma': 8502, 'so': 13038, 'stats': 13395, 'impression': 7051, 'range': 11387, 'calculate': 2432, 'metrics': 8884, 'guidance': 6393, 'adjust': 964, 'narrow': 9366, 'analysis': 1241, 'apply_to_timedelta': 1402, 'need': 9409, 'excited': 5118, 'otio': 10064, 'saved': 12328, 'involved': 7484, 'draw': 4500, 'clip': 2861, 'wondering': 15602, 'overlay': 10123, 'graph': 6299, 'frame': 5799, 'visualize': 15198, 'essence': 5017, 'similar': 12868, 'displaying': 4308, 'wave': 15352, 'audio': 1657, 'overlaid': 10119, 'apologies': 1358, 'documented': 4413, 'didn': 4163, 'far': 5370, 'hint': 6688, 'christoph': 2766, 'smp': 13018, 'helpful': 6616, 'currently': 3651, 'phoss': 10495, 'handle': 6480, 'migration': 8928, 'flyway': 5668, 'startup': 13375, 'execute': 5132, 'separately': 12598, 'flywaymigrator': 5669, 'independently': 7133, 'deploy': 4006, 'possible': 10765, 'false': 5349, 'side': 12828, 'tako8ki': 13868, 'just': 7785, 'trigger': 14468, 'about': 785, 'main': 8533, 'based': 1874, 'db': 3803, 'accessible': 829, 'outside': 10099, 'proposal': 11085, 'enable': 4794, 'cli': 2848, 'instance': 7303, 'ruby': 12198, 'rails': 11364, 'rail': 11363, 'action': 883, 'executed': 5135, 'externally': 5271, 'command': 3043, 'line': 8235, 'suitable': 13643, 'approach': 1412, 'renew': 11768, 'vr': 15258, 'gaming': 5950, 'prefer': 10849, 'classic': 2819, 'shooter': 12771, 'game': 5941, 'titles': 14240, 'play': 10626, 'fc': 5404, 'gameplay': 5945, 'unbelievably': 14659, 'professional': 11018, 'prey': 10933, 'unreal': 14801, 'mods': 9111, 'impressive': 7053, 'thankful': 14050, 'headset': 6575, 'active': 894, 'decoding': 3870, 'spp': 13260, 'packet': 10183, 'protocol': 11106, 'encoding': 4811, 'generating': 6013, 'headers': 6568, 'much': 9248, 'emnewman': 4768, 'words': 15612, 'branch': 2234, 'packet_encoding': 10184, 'discussed': 4292, '50': 516, 'ready': 11464, 'tested': 14010, 'busy': 2384, 'things': 14103, 'ehsteve': 4689, 'ping': 10544, 'authored': 1688, 'alot': 1165, 'kid': 7880, 'him': 6679, 'mess': 8851, 'breaking': 2250, 'everything': 5075, 'let': 8143, 'anime': 1281, 'cartoon': 2544, 'character': 2678, 'universe': 14758, 'whats': 15460, 'important': 7037, 'marvel': 8665, 'dc': 3807, 'characters': 2681, 'man': 8575, 'ahk': 1075, 'kanata': 7807, 'complex': 3124, 'capslock': 2507, 'tap': 13887, 'emit': 4764, 'escape': 4991, 'hold': 6723, 'modifier': 9107, 'combos': 3022, 'mapped': 8617, 'tapped': 13889, 'shift': 12743, 'toggle': 14274, 'original': 10036, 'behaviours': 1968, 'behaviour': 1966, 'examples': 5098, 'caps': 2506, 'fork': 5737, 'adapting': 924, 'documentation': 4410, 'order': 10010, 'matter': 8711, 'chord': 2758, 'topic': 14318, 'area': 1461, 'body': 2144, 'send': 12571, 'positive': 10758, 'large': 8026, 'runner': 12214, 'follow': 5690, 'successfully': 13615, '8core': 683, 'eventually': 5068, 'breakdown': 2248, 'usage': 14910, 'experiment': 5191, 'larger': 8028, 'speed': 13208, 'builds': 2350, 'visibility': 15185, 'depends': 4003, 'postgres': 10774, 'monitor': 9140, 'cpu': 3520, 'memory': 8817, 'consumed': 3329, 'take': 13863, 'actions': 889, 'fail': 5330, 'runners': 12215, 'one': 9865, 'directly': 4225, 'host': 6770, 'debian': 3834, 'oci': 9756, 'runtime': 12222, 'exec': 5130, 'failed': 5332, 'setup': 12672, 'stat': 13378, 'null': 9655, 'unknown': 14762, 'bring': 2274, 'ssr': 13304, 'true': 14490, 'onmount': 9878, 'fire': 5554, 'console': 3302, 'picture': 10529, 'flipping': 5634, 'tho': 14117, 'shown': 12810, 'easily': 4619, 'launch': 8052, 'questions': 11313, 'enabling': 4802, 'logic': 8362, 'ui': 14631, 'csr': 3612, 'tag': 13849, 'made': 8517, 'difference': 4178, 'feel': 5427, 'also': 1175, 'ignore': 6947, 'addlistener': 945, 'bundled': 2364, 'ios': 7493, 'capacitor': 2499, 'only': 9876, 'appstatechange': 1431, 'amsukalski': 1235, 'explained': 5206, 'following': 5693, 'sveltekit': 13737, 'accessibility': 828, 'reasons': 11491, 'simplest': 12877, 'autofocus': 1709, 'input': 7254, 'moving': 9203, 'focusing': 5678, 'navigate': 9387, 'hook': 6751, 'care': 2521, 'didnot': 4164, 'exist': 5153, 'sapper': 12312, 'workaround': 15615, 'timeout': 14208, 'yikes': 15815, 'tricky': 14465, 'splash': 13236, 'compile': 3102, 'source': 13143, 'due': 4556, 'dependency': 3998, 'deps': 4019, 'versions': 15120, 'published': 11163, 'compatible': 3095, 'm1': 8488, 'computers': 3167, 'address': 949, 'nodejs': 9550, 'expert': 5198, 'more': 9163, 'together': 14272, 'pdf': 10366, 'getn': 6098, 'setn': 12657, 'setr': 12661, 'commands': 3047, 'sweet': 13754, 'readme': 11458, 'spend': 13217, 'myself': 9328, 'aside': 1545, 'tf5': 14032, 'stalwart': 13337, 'smtp': 13020, 'rewriting': 12029, 'foot': 5706, 'wet': 15447, 'simply': 12887, 'rewrite': 12028, 'from': 5844, 'org': 10017, 'sender': 12573, 'receiver': 11510, 'do': 4388, 'rewritten': 12030, 'name': 9349, 'mail': 8530, 'rcpt': 11430, 'too': 14300, 'but': 2385, 'suite': 13644, 'compiled': 3103, 'binary': 2047, 'envelope': 4928, 'keys': 7865, 'released': 11704, 'tomorrow': 14291, 'supposed': 13697, 'quick': 11316, 'locally': 8339, 'confirmed': 3241, 'donated': 4439, 'fixing': 5584, 'upgrade': 14869, 'control': 3386, 'single': 12904, 'menu': 8829, 'item': 7571, 'menus': 8834, 'passing': 10304, 'simple': 12873, 'prop': 11073, 'prevent': 10924, 'menuitem': 8832, 'handleclick': 6481, 'method': 8875, 'handlekeydown': 6484, 'menuitems': 8833, 'intended': 7352, 'usecase': 14918, 'rarely': 11398, 'quoted': 11337, 'items': 7576, 'popover': 10725, 'dialog': 4149, 'proper': 11076, 'replacement': 11793, 'submenus': 13574, 'aria': 1474, 'attributes': 1651, 'keyboard': 7855, 'aware': 1762, 'listener': 8272, 'users': 14939, 'enter': 4891, 'achieve': 861, 'sum': 13649, 'unobtrusive': 14787, 'say': 12337, 'try': 14505, 'go': 6216, 'engine': 4851, 'moment': 9126, 'briefly': 2269, 'npm': 9622, 'nav': 9383, 'meshes': 8849, 'including': 7094, 'yuka': 15854, 'incredibly': 7119, 'performant': 10415, 'realize': 11475, 'wasm': 15331, 'show': 12801, 'tui': 14528, 'textual': 14027, 'view': 15160, 'png': 10677, 'render': 11762, 'term': 13987, 'imagegreat': 6978, 'feasible': 5409, 'compliment': 3132, 'definitely': 3918, 'difficult': 4190, 'graphics': 6303, 'resolution': 11890, 'styles': 13556, 'is': 7531, 'unlike': 14767, 'roadmap': 12087, 'pleasant': 10644, 'inevitable': 7162, 'news': 9475, 'happen': 6493, 'par': 10231, 'redesign': 11576, '97': 701, 'milestone': 8939, 'loose': 8406, 'summary': 13652, 'eta': 5030, 'unfortunately': 14729, 'rest': 11924, 'assured': 1601, 'conceived': 3175, 'actualized': 906, 'asap': 1538, 'anonymoux47': 1298, 'patient': 10330, 'explanation': 5209, 'search': 12474, 'asking': 1548, 'imagine': 6982, 'emulators': 4792, 'nativelyrather': 9378, 'pixels': 10582, 'rich': 12045, 'lucky': 8460, 'world': 15638, 'wey': 15448, 'understanding': 14702, 'planned': 10610, 'doc': 4391, 'broad': 2279, 'least': 8101, 'stable': 13316, 'frequently': 5829, 'inherently': 7199, 'soon': 13122, 'dear': 3828, 'casadi': 2546, 'sqpmethod': 13279, 'solver': 13084, 'parameterized': 10249, 'intersection': 7424, 'convex': 3412, 'sets': 12663, 'perfectly': 10412, 'insert': 7265, 'respected': 11905, 'even': 5058, 'stupid': 13550, 'choice': 2747, 'passed': 10302, 'correctly': 3466, 'maximum': 8734, 'iterations': 7586, 'iteration': 7585, 'established': 5021, 'activate': 890, 'attention': 1644, 'managed': 8579, 'segment': 12526, 'video': 15153, 'with': 15571, 'think': 14104, 'cut': 3685, 'program': 11030, 'consequent': 3287, 'quality': 11277, 'recompression': 11543, 'cutting': 3687, 'c0untfloyd': 2409, 'stated': 13382, 'somewhere': 13110, 'right': 12057, 'losslesscut': 8417, 'rope': 12134, 'rip': 12066, 'research': 11864, 'restore': 11930, 'fit': 5574, 'clutter': 2901, 'sadly': 12262, 'card': 2518, 'photo': 10496, 'ex': 5089, 'bigger': 2034, 'attack': 1635, 'ability': 778, 'description': 4037, 'website': 15400, 'vstars': 15264, 'behold': 1971, 'aschefield101': 1541, 'vstar': 15263, 'template': 13963, 'rainbow': 11366, 'rare': 11397, 'bad': 1822, 'ones': 9867, 'deviantart': 4116, 'gallery': 5939, 'sword': 13772, 'shield': 12740, 'tab': 13827, 'sv': 13733, 'golden': 6234, 'stage': 13324, 'full': 5877, 'art': 1518, 'trainer': 14380, 'special': 13191, 'energy': 4843, 'legend': 8118, 'templates': 13964, 'symbol': 13776, 'increase': 7113, 'decrease': 3879, 'struggling': 13532, 'pefect': 10383, 'trying': 14509, 'formatting': 5753, 'queue': 11314, 'push': 11199, 'reuses': 11990, 'refs': 11638, 'reused': 11989, 'checks': 2724, 'assume': 1595, 'scope': 12402, 'reuse': 11988, 'shared': 12715, 'thicknesses': 14097, 'apps': 1428, 'noticed': 9603, 'avalonia': 1739, 'top': 14316, 'bottom': 2200, 'left': 8112, 'inaccessible': 7066, 'axaml': 1772, 'margin': 8631, 'expose': 5236, 'flexibility': 5621, 'matching': 8688, 'behavior': 1964, 'dynamicresource': 4594, 'wither': 15574, 'observable': 9717, 'init': 7205, 'changes': 2670, 'unexpected': 14719, 'which': 15478, 'changing': 2672, 'uniform': 14738, 'hardcoding': 6505, 'edited': 4655, 'staticresource': 13388, 'confusion': 3255, 'keeping': 7831, 'get': 6061, 'allowing': 1154, 'accidental': 833, 'target': 13892, 'resourcedictionary': 11900, 'lazy': 8070, 'programmer': 11035, 'borderline': 2183, 'irrelevant': 7523, 'mistakes': 9018, 'setter': 12667, 'beneficial': 1991, 'theme': 14068, 'extensively': 5266, 'porting': 10746, 'impossible': 7047, 'require': 11848, 'padding': 10187, 'thickness': 14096, 'alright': 1173, 'wrote': 15696, 'markupextension': 8652, 'thicknessprovider': 14098, 'missed': 9011, 'uwp': 14979, 'no': 9532, 'xaml': 15727, 'markup': 8651, 'timunie': 14222, 'converted': 3407, 'marked': 8640, 'workable': 15614, 'alternatively': 1186, 'mentioned': 8824, 'declare': 3860, 'limited': 8227, 'integrated': 7337, 'adoradry': 990, 'v2000': 14987, 'adorawash': 991, 'properly': 11077, 'afterwards': 1047, 'model': 9083, 'list': 8268, 'adoradish': 989, 'v4000': 14993, 'fails': 5335, 'double': 4459, 'v6000': 14996, 'logging': 8359, 'posting': 10777, 'appliance': 1394, 'integrate': 7336, 'log_v4000': 8353, 'txt': 14574, 'checked': 2714, 'webpage': 15395, 'filled': 5512, 'normally': 9583, 'record': 11548, 'daphil012': 3737, 'received': 11509, 'category': 2573, 'straight': 13467, 'empty': 4785, 'comparison': 3091, 'recording': 11551, 'datum': 3791, 'zeiteinstellungen': 15869, 'ah': 1071, '6000': 587, 'available': 1736, 'siku2': 12855, 'succesful': 13611, 'promising': 11055, '18': 186, 'state': 13380, 'updates': 14865, 'sync': 13784, 'concurrent': 3198, 'mode': 9081, 'requires': 11852, 'lib': 8171, 'author': 1687, 'tbh': 13920, 'v18': 14985, 'guarantees': 6383, 'recommendation': 11535, 'better': 2006, 'find': 5530, 'reproducible': 11836, 'codesandbox': 2948, 'help': 6613, 'significance': 12844, 'reverence': 12002, 'considered': 3294, 'inappropriate': 7074, 'offensive': 9789, 'intention': 7362, 'offense': 9788, 'kindly': 7891, 'offend': 9785, 'adoption': 987, 'title': 14237, 'amd': 1215, 'gpus': 6273, 'blast': 2086, 'midea': 8920, 'ac': 802, 'remote': 11748, 'irsender': 7529, 'sendsamsung480xb24d': 12579, '0xafc': 42, 'numberofrepeats': 9662, 'samsung': 12300, 'sendsamsung48': 12578, 'excalidraw': 5100, 'canvas': 2492, 'jump': 7773, 'shape': 12708, 'somedomain': 13096, 'root': 12131, 'path': 10325, 'anothernode': 1300, 'clicking': 2851, 'window': 15539, '2960': 363, 'biggest': 2035, 'driven': 4512, 'java': 7634, 'conference': 3218, 'programming': 11036, 'language': 8015, 'traditional': 14373, 'modern': 9097, 'cloud': 2883, 'native': 9376, 'quarkus': 11287, 'fairly': 5340, 'stack': 13317, 'typical': 14596, 'slow': 12984, 'hinder': 6682, 'and': 1250, 'or': 9996, 'serverless': 12632, 'workloads': 15630, 'optimizing': 9988, 'big': 2033, 'experience': 5186, 'databases': 3757, 'kafka': 7801, 'clusters': 2899, 'kubernetes': 7954, 'technologies': 13940, 'mention': 8823, 'manually': 8606, 'recompile': 11539, 'redeploy': 11575, 'audience': 1656, 'inspiration': 7288, 'fun': 5882, 'prerequisites': 10884, 'signup': 12853, 'beginning': 1956, 'lab': 7973, 'requirement': 11850, 'decent': 3847, 'laptop': 8021, 'online': 9875, 'javazone': 7644, 'staff': 13323, 'person': 10444, 'organized': 10028, 'jug': 7767, 'leader': 8083, 'volunteers': 15245, 'kelvin': 7833, 'trajectory': 14384, 'seurat': 12674, 'preprocessed': 10879, 'instructions': 7321, 'dxl3742': 4589, 'interest': 7382, 'yea': 15796, 'swap': 13744, 'have': 6548, 'said': 12274, 'neighborhood': 9421, 'obsm': 9727, 'normal': 9579, 'skip': 12942, 'remaining': 11728, 'sleep': 12959, 'lan': 8001, 'documents': 4416, 'sizes': 12927, 'dimension': 4208, 'ordinary': 10016, 'dimensions': 4211, 'are': 1460, 'german': 6057, 'a4': 753, 'letter': 8146, 'documenso': 4407, 'providing': 11123, 'nonstandard': 9571, 'takes': 13866, 'extra': 5273, 'kurviger': 7959, 'de': 3813, 'routes': 12158, 'exported': 5230, 'imported': 7040, 'finishing': 5549, 'cruiser': 3596, 'plannings': 10612, 'alternative': 1185, 'route': 12154, 'brouter': 2294, 'exporting': 5234, 'preparing': 10875, 'pc': 10357, 'importing': 7043, 'advantage': 1003, 'gpx': 6274, 'navigation': 9391, 'offer': 9790, 'convert': 3405, 'set': 12642, '250': 328, 'comment': 3050, 'ramondevic': 11375, 'nice': 9498, 'driving': 4516, 'profile': 11022, '272': 346, 'offline': 9800, 'easier': 4616, 'cc': 2596, 'afischerdev': 1039, 'test': 14004, 'talk': 13871, 'recalculated': 11502, 'street': 13489, 'limit': 8224, 'kurviget': 7960, 'graphopper': 6305, 'short': 12778, 'import': 7035, 'routing': 12160, 'depend': 3994, 'router': 12156, 'limits': 8230, '135': 119, 'trip': 14475, 'android': 1260, 'longer': 8386, 'fill': 5509, 'shaping': 12712, 'points': 10698, 'editing': 4656, 'change': 2665, 'adopted': 983, 'both': 2194, 'planning': 10611, 'approaches': 1415, 'car': 2515, 'nogo': 9555, 'diesel': 4169, 'munich': 9281, 'offroad': 9801, 'tracks': 14366, 'act': 881, 'tet': 14015, 'mountainbike': 9186, 'navigatable': 9386, 'quite': 11329, 'motorcycle': 9183, 'tour': 14349, 'participant': 10282, 'fast': 5378, 'ingenious': 7190, 'drive': 4511, 'recalculation': 11503, 'extend': 5254, 'algorithm': 1127, 'garmin': 5960, 'tomtom': 14294, 'identical': 6915, 'mostly': 9172, 'waypoints': 15358, 'workflow': 15624, 'btw': 2315, 'bicycle': 2030, 'hiking': 6678, 'komoot': 7933, 'first': 5568, 'positiv': 10757, 'spotube': 13259, 'auto': 1698, 'modification': 9104, 'manifest': 8591, 'beginer': 1953, 'basic': 1879, 'medium': 8786, 'playback': 10628, 'media': 8782, 'rendering': 11765, 'spotify': 13258, 'capability': 2497, 'carplay': 2531, '3rd': 453, 'party': 10297, 'flutter': 5662, 'react': 11443, 'completely': 3116, 'xml': 15753, 'pause': 10338, 'prev': 10921, 'music': 9286, 'mobile': 9062, 'thread': 14130, '623': 597, 'krtirtho': 7948, 'continuation': 3363, 'foo_discogs': 5702, 'maintenance': 8549, 'charm': 2689, 'fb2k': 5402, 'x64': 15724, 'wider': 15507, 'worth': 15650, 'actual': 905, 'guess': 6388, 'discussions': 4295, 'bear': 1919, 'discogger': 4270, 'before': 1944, 'thought': 14124, 'himalayan': 6680, 'blunder': 2125, 'quiet': 11323, 'forum': 5767, 'inclusion': 7095, 'submitted': 13578, '105': 59, 'personally': 10449, 'effect': 4672, 'srid': 13292, 'macbook': 8505, 'pro': 10974, 'coolio': 3425, 'vacations': 15011, 'rio': 12065, 'terminal': 13988, 'embed': 4747, 'wikipedia': 15519, 'prompt': 11060, 'sport': 13256, 'scores': 12406, 'weather': 15368, 'gap': 5954, 'local': 8331, 'llms': 8312, 'recognized': 11529, 'thoughts': 14126, 'official': 9798, 'addon': 947, 'secure': 12498, 'llm': 8311, 'knowledge': 7923, 'bing': 2053, 'dependent': 4000, 'ai': 1077, 'compony': 3139, 'rock': 12101, 'privacy': 10968, 'security': 12502, 'restricted': 11937, 'searching': 12477, 'relevant': 11708, 'occurrence': 9752, 'database': 3756, 'otherwise': 10063, 'compromising': 3158, 'promptly': 11065, 'inquiry': 7260, 'money': 9136, 'ton': 14295, 'scraping': 12412, 'web_search': 15372, 'recognition': 11526, 'develop': 4102, 'welcomed': 15429, 'scraped': 12410, 'overwhelm': 10146, 'spit': 13234, 'along': 1163, 'thecyberviking': 14060, 'initial': 7207, 'hide_unknown_files': 6659, 'accessed': 825, 'zurek': 15920, 'piotr': 10556, 'please': 10646, 'leaderboard': 8084, 'homepage': 6741, 'weird': 15426, '3k': 450, 'elo': 4733, 'previous': 10931, 'twitch': 14568, 'study': 13541, 'friend': 5839, 'lesson': 8141, 'international': 7406, 'competitive': 3100, 'chess': 2731, 'reflects': 11630, 'persona': 10445, 'veloce': 15093, 'scrolling': 12443, 'course': 3498, 'down': 4465, 'np': 9621, 'sb': 12341, '25': 327, 'a32': 750, 'sm': 12993, 'a325f': 751, 'ds': 4536, 'downloads': 4474, 'terribly': 13999, 'yt': 15849, 'soundcloud': 13136, 'whatever': 15457, 'wipe': 15557, 'kbps': 7823, 'spring': 13263, '11': 73, '993': 705, 'npsb': 9623, 'th': 14046, 'protection': 11101, 'embedded': 4749, 'highly': 6674, 'sorry': 13128, 'orca': 10003, 'slicer': 12963, 'seam': 12469, 'kisslicer': 7899, 'perimeters': 10421, 'visible': 15186, 'cylindrical': 3705, 'distance': 4320, 'simplify3d': 12884, 'printing': 10958, 'foam': 5673, 'filament': 5487, 'pla': 10592, 'lw': 8476, 'print': 10950, 'vase': 15062, 'aircraft': 1086, 'richard': 12046, 'small': 12994, 'ppp': 10806, 'kinematic': 7893, 'cookbook': 3417, 'correspond': 3467, '2020': 265, 'obligated': 9711, 'repro3': 11830, 'center': 2626, 'tug': 14527, 'igs': 6954, 'cddis': 2603, 'groops': 6346, 'repro': 11829, 'products': 11015, 'gfz': 6119, 'recognize': 11528, 'bias': 2023, 'orbex': 10000, 'centre': 2633, 'yeah': 15797, 'prepare': 10873, 'respective': 11909, 'scenario': 12366, '01groopsconvert': 14, 'see': 12506, 'preparation': 10872, 'jpl': 7739, 'esa': 4985, 'groopsdata': 6347, 'orbit': 10001, 'rapid': 11394, 'final': 5523, 'usable': 14909, 'lead': 8082, 'cod': 2928, '100': 45, 'be': 1915, 'patrick': 10332, 'observation': 9720, 'station': 13390, 'checking': 2716, 'performed': 10417, 'calculation': 2436, 'precise': 10834, 'gnssprocessing': 6214, 'helped': 6614, 'themis': 14072, 'masks': 8672, 'guid': 6392, 'dont': 4448, 'switch': 13763, 'mask': 8668, 'divide': 4360, 'horizontal': 6764, 'vertical': 15124, 'region': 11649, 'split': 13239, 'ratio': 11415, 'sd': 12454, 'vladmandic': 15214, 'completly': 3123, 'ignoring': 6952, 'guide': 6394, 'create': 3541, 'ignores': 6951, 'oh': 9813, 'older': 9827, 'matrix': 8708, 'instead': 7313, 'tick': 14168, 'clause': 2828, 'forgot': 5735, 'showing': 12808, 'up': 14852, 'sound': 13135, 'operational': 9952, 'vlad': 15213, 'ok': 9819, 'kinda': 7889, 'interesting': 7384, 'same': 12288, 'success': 13613, 'comfy': 3031, 'didnt': 4165, 'comfty': 3030, 'traction': 14367, 'bar': 1856, 'xl': 15750, 'regional': 11650, 'out': 10071, 'minimalistic': 8967, 'atomic': 1624, 'customisable': 3670, 'optimised': 9979, 'elegantly': 4719, 'designed': 4052, 'tell': 13957, 'relative': 11696, 'comfort': 3026, 'gradio': 6282, 'heavy': 6595, 'lifting': 8207, 'passively': 10307, 'reworking': 12027, 'callback': 2452, 'assuming': 1598, 'possibly': 10766, 'plug': 10665, 'flow': 5649, 'lotta': 8421, 'significant': 12845, 'loras': 8410, 'invoked': 7480, 'encountered': 4817, 'k8s': 7799, 'upgrading': 14872, 'claudie': 2827, 'cluster': 2896, 'smulikhakipod': 13023, 'still': 13429, 'recommend': 11534, 'increment': 7120, 'inputmanifest': 7258, 'replacing': 11796, 'node': 9540, 'nodes': 9554, 'sort': 13129, 'gentle': 6030, 'rollout': 12121, 'unavailability': 14655, 'theoretically': 14080, 'shut': 12818, 'pool': 10718, 'ðÿ': 15933, 'acceptable': 817, 'manner': 8599, 'intermediate': 7399, 'ensure': 4886, 'ha': 6439, 'nodepool': 9553, 'upgraded': 14870, 'image': 6973, 'delete': 3940, 'updating': 14868, 'generally': 6008, 'infrastructure': 7187, 'clever': 2846, 'figure': 5483, 'caption': 2510, 'regularization': 11666, 'inexperienced': 7164, 'ask': 1546, 'summarized': 13651, 'linked': 8245, 'train': 14378, 'depth': 4020, 'explanations': 5210, 'topics': 14321, 'when': 15468, 'hseapi': 6808, 'concept': 3179, 'showed': 12806, 'secret': 12490, 'delivering': 3961, 'technical': 13936, 'presentation': 10889, 'feeling': 5428, 'enables': 4798, 'confidence': 3222, 'communicate': 3071, 'effectively': 4674, 'perceived': 10398, 'tip': 14231, 'trick': 14460, 'learned': 8097, 'flaws': 5615, 'speakers': 13184, 'tips': 14233, 'winston': 15555, 'early': 4611, 'joke': 7711, 'laptops': 8022, 'either': 4699, 'actually': 907, 'my': 9312, 'martin': 8660, 'boring': 2187, 'fiddling': 5471, 'practice': 10811, 'reminds': 11746, 'told': 14284, 'techniques': 13939, 'presenter': 10895, 'played': 10631, 'trumpet': 14494, 'poorly': 10722, 'speech': 13207, 'how': 6795, 'simon': 12872, 'peyton': 10469, 'jones': 7717, 'finally': 5526, 'footnote': 5710, 'martisak': 8663, 'speaker': 13182, 'introduces': 7444, 'deliver': 3958, 'promise': 11053, 'away': 1764, 'magical': 8522, 'antidote': 1315, 'cure': 3644, 'laziness': 8069, 'phd': 10485, 'defense': 3902, 'practiced': 10812, 'regard': 11642, 'as': 1536, 'suggest': 13634, 'goal': 6217, 'publishing': 11165, 'later': 8043, 'incentive': 7080, 'seemly': 12517, 'useless': 14928, 'symon': 13780, 'excellent': 5105, 'brings': 2276, 'discovered': 4284, 'paper': 10228, 'researcher': 11865, 'incredible': 7118, 'snoop': 13036, 'years': 15800, 'grid': 6337, 'highlighted': 6670, 'capture': 2512, 'ctl': 3618, 'suits': 13646, 'drop': 4520, 'favorite': 5394, 'diff': 4173, 'kdiff': 7825, 'winmerge': 15552, 'beyond': 2011, 'compare': 3087, 'yellow': 15801, 'highlighting': 6672, 'reach': 11440, 'tree': 14444, 'after': 1043, 'paid': 10195, 'purchase': 11181, 'randomly': 11382, 'flicking': 5627, 'commonly': 3069, 'used': 14919, 'unparalleled': 14792, 'handled': 6483, 'consistently': 3300, 'cursor': 3654, 'screen': 12417, 'charmstone': 2691, 'flick': 5625, 'gesture': 6060, 'slide': 12965, 'opposite': 9963, 'movement': 9199, 'moves': 9200, 'personal': 10446, 'habit': 6440, 'activating': 892, 'farther': 5376, 'perception': 10403, 'intuitive': 7450, 'itself': 7594, 'undesirable': 14709, 'upcoming': 14854, 'silly': 12863, 'limping': 8231, 'broadcom': 2282, 'dell': 3963, 'dw1830': 4583, 'bcm43602': 1912, 'absolutely': 794, 'terrible': 13998, '5ghz': 574, 'performance': 10414, 'stock': 13440, 'intel': 7343, '8265': 670, 'lose': 8412, 'airdrop': 1087, 'continuity': 3368, 'clipboard': 2862, 'odd': 9770, 'what': 15456, 'ventura': 15098, 'sonoma': 13118, 'grab': 6277, 'quicker': 11317, 'exact': 5093, '450mbit': 491, 'half': 6459, 'iperf': 7501, 'ookla': 9889, 'gigabit': 6142, 'fttp': 5868, 'bottleneck': 2197, 'stuck': 13536, 'hack': 6441, 'spec': 13186, 'mistaken': 9016, 'ble': 2089, 'bobmarley2021': 2140, 'valnoxy': 15033, '25mbit': 338, 'streaming': 13482, 'transfer': 14394, 'faulty': 5390, 'shocking': 12766, 'judgement': 7766, 'failure': 5336, 'antenna': 1310, 'warp': 15324, 'shell': 12732, 'addition': 940, 'blink': 2098, 'own': 10154, 'unrivaled': 14810, 'introduced': 7443, 'injectable': 7232, 'templatized': 13966, 'instasntance': 7312, 'pulumi': 11176, 'populates': 10731, 'assessable': 1573, 'mouse': 9191, 'baked': 1830, 'bellow': 1979, 'power': 10789, 'sidebar': 12829, 'clean': 2829, 'look': 8392, 'swipe': 13759, 'finger': 5543, 'nothing': 9599, 'intelligently': 7347, 'completing': 3120, 'complete': 3113, 'pulling': 11171, 'arrow': 1515, '80': 661, 'neat': 9402, 'cool': 3423, 'nvim': 9687, 'fan': 5359, 'callable': 2451, 'vim': 15169, 'snips': 13035, 'task': 13901, 'zsh': 15910, 'fish': 5572, 'repeat': 11781, 'sequence': 12611, 'runestone': 12211, 'scratch': 12414, 'pasting': 10317, 'snip': 13031, 'woah': 15594, 'announcement': 1289, 'frankly': 5808, 'typically': 14597, 'universal': 14756, 'mine': 8956, 'box': 2214, 'powerful': 10792, 'pad': 10186, 'sufficient': 13629, 'night': 9509, 'sql': 13272, 'manipulate': 8593, 'contents': 3352, 'ipad': 7498, 'solely': 13069, 'leave': 8102, 'pasted': 10316, 'ssh': 13298, 'sheet': 12729, 'knew': 7918, 'vscode': 15262, 'lately': 8039, 'ago': 1064, 'pre': 10821, 'connecting': 3273, 'tunnels': 14535, 'yury': 15857, 'mechanic': 8774, 'natural': 9379, 'continuing': 3367, 'tmux': 14256, 'deployment': 4010, 'extending': 5258, 'autocompletion': 1706, 'priority': 10966, 'compete': 3099, 'indexes': 7138, 'git': 6153, 'rust': 12228, 'serve': 12627, 'customize': 3678, 'although': 1189, 'paste': 10314, 'piece': 10533, 'codebase': 2933, 'se': 12467, 'often': 9804, 'snippets': 13034, '1755': 180, 'fixes': 5583, 'account': 844, 'facade': 5309, 'seamless': 12470, 'substantial': 13599, 'amount': 1227, 'designing': 4054, 'potential': 10784, 'specifically': 13196, 'bridging': 2268, 'heartbeat': 6587, 'lol': 8382, 'macs': 8515, 'flip': 5630, 'evaluate': 5052, 'stages': 13327, 'welcome': 15428, 'conversation': 3400, '1627': 153, 'login': 8366, 'system': 13809, 'without': 15579, 'preprocess': 10878, 'username': 14937, 'truncate': 14495, 'unchanged': 14670, 'realised': 11471, 'applying': 1404, 'regex': 11647, 'further': 5908, 'configure': 3235, 'ldap': 8080, 'filter': 5516, 'match': 8682, 'attribute': 1648, 'pagy': 10193, 'fantastic': 5364, 'gem': 5999, 'the': 14059, 'generated': 6010, 'docs': 4404, 'wonderful': 15600, 'anything': 1332, 'blog': 2112, 'methodology': 8878, 'retype': 11984, 'admin': 971, 'site': 12916, 'ddnexus': 3812, 'blob': 2102, 'master': 8678, 'workflows': 15626, 'yml': 15820, 'guides': 6398, 'repo': 11808, 'subject': 13567, 'total': 14337, 'count': 3485, 'benefits': 1994, 'effusive': 4683, 'praise': 10818, 'geoffreymcgill': 6038, 'others': 10062, 'free': 5813, 'assist': 1584, 'pic': 10517, 'diffusion': 4197, 'illustrate': 6968, 'novella': 9615, 'latent': 8041, 'incompatible': 7100, 'prompter': 11063, 'interacting': 7370, 'rp': 12166, 'zone': 15900, 'helmfile': 6612, 'terraform': 13995, 'propose': 11087, 'has': 6527, 'add': 930, 'destroy': 4068, 'status': 13396, 'like': 8216, 'chart': 2692, 'configmap': 3226, 'pod': 10685, 'modified': 9106, 'affected': 1031, 'charts': 2696, 'apply': 1401, 'thevops': 14092, 'traveling': 14436, 'motorbike': 9182, 'catalonia': 2564, 'turkey': 14543, 'iran': 7516, 'iraq': 7517, 'combination': 3014, 'mapsforge': 8621, 'openstreetmaps': 9937, 'prepared': 10874, 'cover': 3501, 'road': 12085, 'informed': 7184, 'magnificent': 8527, 'internet': 7407, 'ruggedized': 12200, 'phone': 10492, 'carrying': 2534, 'improvise': 7060, 'gps': 6260, 'ticket': 14174, 'devemux86': 4115, 'solved': 13083, 'tools': 14310, 'constantly': 3310, 'traveled': 14435, 'extraordinary': 5284, 'journey': 7732, '175': 178, 'reply': 11806, 'nearby': 9399, 'poi': 10692, '209': 280, 'graphhoper': 6300, 'tweaked': 14556, 'wayoints': 15357, 'shapepoints': 12710, 'liking': 8220, 'arrived': 1512, 'configurable': 3231, 'tuning': 14533, 'complicated': 3130, 'another': 1299, 'patience': 10329, 'avoidances': 1753, '15': 134, 'multi': 9255, 'categorical': 2570, 'classes': 2817, 'regression': 11662, 'continuous': 3369, 'xgboostlss': 15743, 'onnx': 9879, 'conversions': 3404, 'ogencoglu': 9808, 'conceptually': 3182, 'doable': 4389, 'nll': 9524, 'tried': 14466, 'reth': 11958, 'guys': 6415, 'impact': 7010, 'telegram': 13953, 'already': 1172, 'unit': 14752, 'tests': 14014, 'sepolia': 12606, 'contribution': 3382, '4255': 476, 'ethereum': 5036, 'fearing': 5407, 'investigating': 7470, 'existent': 5156, '400mil': 460, 'post_migrate': 10768, 'signal': 12838, 'sender_model': 12574, 'update_tree': 14858, '20gb': 283, 'ram': 11372, 'ymguerra': 15819, 'fabiocaccamo': 5307, 'django': 4367, 'treenode': 14446, 'bulk': 2355, 'operations': 9953, 'hopefully': 6758, 'deploying': 4009, 'express': 5241, 'hit': 6697, '404': 465, 'vercel': 15106, 'configurations': 3233, 'tydolla00': 14577, 'topix': 14323, 'clone': 2871, 'learn': 8096, 'monorepo': 9149, 'useful': 14922, 'rate': 11408, 'ratelimit': 11410, 'throttled': 14148, 'sends': 12577, 'unaware': 14658, 'events': 5065, 'retain': 11953, 'onthrottle': 9884, 'handler': 6485, 'ip': 7497, 'recommended': 11537, 'vless': 15215, 'tcp': 13922, 'rprx': 12175, 'vision': 15187, 'reality': 11474, 'operator': 9954, 'mci': 8751, 'blocking': 2108, 'ips': 7508, '24': 317, 'hours': 6785, 'provider': 11121, '70': 631, 'detected': 4078, 'gfw': 6117, 'mokhaberat': 9121, 'isps': 7556, 'v2ray': 14989, 'xray': 15764, 'protocols': 11108, 'twitter': 14569, 'aminanvary': 1220, '1691575510436909122': 164, 'dataflow': 3761, 'refresh': 11634, 'schedule': 12373, 'tedious': 13945, 'tasks': 13905, 'appears': 1377, 'powerbi': 10790, 'io': 7488, 'html': 6814, 'pbicli': 10353, 'string': 13502, 'entail': 4890, 'eludes': 4740, 'pbi': 10352, 'api': 1349, 'defeat': 3901, 'mfa': 8888, 'bos': 2189, 'scary': 12362, 'en': 4793, 'us': 14904, 'bi': 2021, 'dataflows': 3762, 'naught': 9382, 'lengthy': 8131, 'connect': 3266, 'principal': 10946, 'overcome': 10110, 'workspace': 15634, 'demos': 3979, 'errors': 4978, 'getting': 6108, 'powershell': 10796, 'friday': 5837, 'chatgpt': 2704, 'remembers': 11742, 'some': 13089, 'unfamiliar': 14723, 'creative': 3553, 'iirc': 6957, 'experiencing': 5190, 'incorrectly': 7112, 'guessing': 6390, 'syntax': 13800, 'devs': 4127, 'worry': 15645, 'ipc': 7500, 'centric': 2635, 'easiest': 4617, 'wled': 15593, 'maestro': 8518, 'late': 8038, 'boards': 2138, 'holidays': 6729, 'covid': 3505, 'restriction': 11938, 'office': 9796, 'week': 15417, 'germany': 6058, 'aliexpress': 1132, 'henry': 6624, 'yesterday': 15805, 'shop': 12773, 'board': 2136, 'fanstastic': 5363, 'notepad': 9597, 'shit': 12758, 'compared': 3088, 'am': 1200, 'explanatory': 5211, 'hotkey': 6781, 'themes': 14070, 'bunch': 2362, 'colour': 3007, 'variables': 15049, 'theming': 14071, 'conventions': 3397, 'wanna': 15312, 'balance': 1831, 'pure': 11185, 'shortcut': 12783, 'cofig': 2960, 'essential': 5018, 'friendly': 5840, 'feindishly': 5432, 'super': 13665, 'light': 8209, 'kudos': 7958, 'predefined': 10839, 'low': 8429, 'gui': 6391, 'isolated': 7550, 'simulate': 12888, 'notifies': 9608, 'pas': 10298, 'make_progress': 8557, 'freezes': 5824, 'ideally': 6910, 'smoothly': 13017, 'asynchronicity': 1611, 'appreciative': 1409, 'surprised': 13711, 'composeresult': 3142, 'containers': 3346, 'middle': 8918, 'timer': 14209, 'widgets': 15511, 'footer': 5707, 'progressbar': 11041, 'dataprocessor': 3770, 'over': 10103, 'widget': 15510, 'process_data': 10995, 'performs': 10419, 'stand': 13344, 'pressing': 10907, 'slam': 12953, 'instant': 7306, 'async': 1609, 'action_start': 884, 'strategy': 13477, 'minute': 8984, 'crashed': 3531, 'frozen': 5855, 'concurrently': 3199, 'exit': 5159, 'invoke': 7479, 'call_from_threadself': 2450, 'nevermind': 9460, 'assistance': 1585, 'describe': 4032, 'appearance': 1373, 'button': 2388, 'background': 1801, 'avast': 1741, 'borderless': 2182, 'scale': 12350, 'prevents': 10926, 'resizing': 11888, 'enhancement': 4860, 'godot': 6224, 'deleting': 3950, 'modify': 9108, 'maintain': 8541, 'resize': 11886, 'pseudo': 11145, 'mock': 9067, 'ups': 14880, 'diagram': 4144, 'developing': 4108, 'programs': 11039, 'interface': 7387, 'border': 2181, 'less': 8139, 'decorations': 3874, '4846': 501, 'drag': 4489, 'gdscript': 5993, 'maximize': 8733, 'minimize': 8971, 'windows': 15541, 'taskbar': 13903, 'reappear': 11484, 'dashboard': 3747, 'ubuntu': 14619, 'utility': 14963, 'pricing': 10938, 'enphase': 4876, 'microinverters': 8907, 'telegraf': 13952, 'purged': 11190, 'manual': 8605, 'cron': 3573, 'overnight': 10131, 'data': 3752, 'autogen': 1710, 'morning': 9167, 'commented': 3051, 'continued': 3365, 'im': 6972, 'direction': 4222, 'duplicate': 4569, 'capturing': 2514, 'strip': 13507, 'powerwall': 10799, 'retention': 11957, 'period': 10422, 'raw': 11420, 'funny': 5905, 'duplicates': 4571, 'stopped': 13445, 'always': 1199, 'intervention': 7428, 'stepped': 13412, 'pw': 11210, 'scheme': 12383, 'microinverter': 8906, 'sandbox': 12302, 'panic': 10221, 'smile': 13006, 'influxdb': 7179, 'unique': 14749, 'pick': 10519, 'jason': 7633, 'exists': 5158, 'deleted': 3945, 'overwritten': 10152, 'eye': 5296, 'install': 7294, 'head': 6565, 'sh': 12690, 'modifying': 9109, 'compose': 3140, 'assumed': 1596, 'scott': 12407, 'revert': 12005, 'runs': 12219, 'reinstall': 11675, 'erase': 4963, 'tasl': 13907, 'underlay': 14691, 'researching': 11866, 'algebraic': 1125, 'graphs': 6309, 'curious': 3647, 'schemas': 12380, 'doesn': 4422, 'webapp': 15373, 'packages': 10180, 'activity': 901, 'curiosity': 3646, 'hearing': 6585, 'interop': 7408, 'jun': 7776, 'installation': 7296, 'procedure': 10989, 'nvidia': 9686, 'dedicated': 3883, 'prevails': 10922, 'isn': 7544, 'automatic': 1719, 'wondered': 15599, 'explain': 5205, 'beginner': 1954, 'opinion': 9956, 'methid': 8874, 'conflicting': 3245, 'sources': 13147, 'uninstall': 14742, 'flat': 5602, 'webui': 15407, 'literally': 8285, 'will': 15525, 'crash': 3530, 'meant': 8763, '3d': 444, 'manager': 8582, 'hwinfo': 6863, 'reddit': 11571, 'harmonious': 6515, 'displays': 4310, 'impressed': 7050, 'mindmapping': 8953, 'softwares': 13056, 'aspect': 1553, '2000s': 245, 'accumulating': 851, 'systematically': 13811, 'pencil': 10389, 'contrast': 3374, 'simplify': 12883, 'minder': 8951, 'effectiveness': 4675, 'organic': 10019, 'forget': 5732, 'starting': 13372, 'at': 1615, 'gave': 5979, 'cold': 2974, 'sweats': 13753, 'having': 6553, '100mm': 50, 'extrude': 5289, 'runout': 12217, 'sensor': 12584, 'pausing': 10340, 'unloading': 14771, 'wanting': 15315, 'purge': 11189, 'till': 14194, 'loud': 8422, 'beep': 1939, 'ended': 4832, 'bed': 1934, 'locked': 8345, 'stepper': 13413, 'messing': 8856, 'firmware': 5566, 'changelog': 2667, 'ender3': 4834, 'v2': 14986, 'loop': 8402, 'number': 9659, 'loaded': 8323, 'saving': 12330, 'save': 12325, 'reverted': 12006, 'levelling': 8153, 'miss': 9010, 'corner': 3457, 'levelled': 8152, 'mesh': 8847, 'redid': 11578, 'issues': 7564, 'sarky': 12314, 'lagnat': 7993, 'uncalled': 14665, 'air': 1084, 'bet': 2003, 'scared': 12361, 'label': 7974, 'rebooting': 11496, 'booted': 2175, 'fileit': 5493, 'waiting': 15294, 'looked': 8395, 'clue': 2895, 'settable': 12666, 'toning': 14298, 'printer': 10955, 'gcode': 5986, 'comparing': 3089, 'm502': 8496, 'firmwares': 5567, 'offence': 9784, 'worse': 15647, 'ender': 4833, 'modded': 9078, 'redrex': 11589, 'extruder': 5291, 'micro': 8902, 'swiss': 13761, 'hot': 6776, 'duel': 4557, 'axis': 1774, 'cr': 3522, 'calibration': 2447, 'mpc': 9207, 'may': 8737, 'answers': 1308, 'froze': 5854, 'mriscoc': 9228, 'marlin': 8655, 'confused': 3252, 'microstep': 8914, 'filename': 5495, 'm503': 8497, '93': 694, 'newer': 9468, 'accurately': 855, 'extruding': 5294, '66mm': 615, '90': 688, '427': 479, 'sudden': 13623, 'excellently': 5106, 'dual': 4550, 'gear': 5994, '141': 127, '138': 121, 'extruded': 5290, 'causing': 2588, 'caused': 2587, 'extrudes': 5293, 'expecting': 5179, 'closer': 2878, 'slower': 12986, 'august': 1669, '138mm': 122, 'massive': 8676, 'extruders': 5292, 'saying': 12339, 'autostop': 1728, 'filiment': 5507, 'detector': 4081, 'positives': 10759, 'unchecking': 14673, 'leveling': 8151, 'fantastically': 5365, 'tramming': 14386, 'does': 4421, 'probe': 10980, 's1': 12241, 'f4': 5305, 'examining': 5096, 'vitenet': 15207, 'mvc': 9304, 'hmr': 6714, 'reload': 11718, 'counter': 3488, 'reset': 11874, 'retaining': 11954, 'sharing': 12717, 'experienced': 5187, 'thx': 14165, 'fapolicyd': 5366, 'cockpit': 2927, 'servers': 12633, 'wouldnt': 15656, 'ryancoeit': 12237, 'elaborate': 4702, 'identify': 6921, 'typed': 14586, 'suppose': 13696, 'avoid': 1751, 'systemd': 13813, 'backwards': 1821, 'culprit': 3635, 'rule': 12202, 'speak': 13181, 'quickly': 11319, 'profiler': 11024, 'analyzer': 1244, 'describes': 4034, 'alternatives': 1187, 'concerns': 3186, 'publish': 11162, 'crates': 3536, 'alignment': 1134, 'story': 13460, 'wiped': 15558, 'volume': 15239, 'backed': 1797, 'borg': 2185, 'backup': 1817, 'critical': 3568, 'immich': 7005, 'logged': 8356, 'pics': 10528, '90gb': 691, 'stupidly': 13551, 'ran': 11377, 'upload': 14873, 'upload_directory': 14874, 'mega': 8793, '130gb': 111, 'duplicated': 4570, 'webp': 15392, '88gb': 679, 'giant': 6135, '132gb': 116, 'du': 4549, 'stil': 13428, 'removal': 11751, 'gen': 6003, 'thumbnail': 14157, '20k': 284, 'greatness': 6326, 'reimporting': 11672, 'did': 4162, 'filesystem': 5505, 'upload_location': 14875, 'reupload': 11985, 'dedicate': 3882, 'restored': 11931, 'mount': 9184, 'microservices': 8911, 'flag': 5589, 'pgdata': 10474, 'reimport': 11671, 'jpg': 7737, 'thumbnals': 14159, 'seperate': 12604, 'portion': 10747, 'dead': 3817, 'thumnbails': 14160, 'ugh': 14627, 'face': 5310, 'viewer': 15162, 'stamps': 13341, 'legit': 8121, 'happened': 6494, 'sounds': 13139, 'reuploaded': 11986, 'messy': 8857, 'adventure': 1006, 'volumes': 15240, 'cleared': 2840, 'immich_server': 7006, '8k': 685, 'assets': 1576, 'makes': 8563, 'treating': 14442, 'il': 6961, 'mounted': 9188, 'bo0tzz': 2135, 'jrasm91': 7744, 'sticking': 13424, 'countless': 3491, 'yay': 15795, 'strucutre': 13528, 'recap': 11505, 'else': 4736, 'losing': 8414, 'dockers': 4401, 'spun': 13269, 'bibtex': 2028, 'zotero': 15906, 'continuously': 3370, 'synchronised': 13787, 'texify': 14018, 'reflected': 11624, 'completion': 3121, 'slowing': 12987, 'considerably': 3291, 'notice': 9601, 'parencite': 10258, 'seconds': 12489, 'bibfile': 2025, 'increasing': 7116, 'indexed': 7135, 'lines': 8241, 'restores': 11932, 'smaller': 12995, 'scene': 12368, 'investigate': 7468, 'grateful': 6312, 'resolved': 11893, 'somehow': 13097, 'webstorm': 15406, '33': 405, 'plausible': 10625, 'talking': 13873, 'approximately': 1426, 'excessive': 5114, 'written': 15690, '5k': 575, 'entries': 4916, 'exports': 5235, 'stacked': 13319, 'highest': 6668, 'value': 15037, 'february': 5417, 'alice': 1130, 'sit': 12915, 'bob': 2139, 'dataset': 3771, 'koen': 7929, 'recommendations': 11536, 'carlo': 2528, 'vector': 15080, 'svg': 13739, 'cm': 2904, 'sized': 12926, 'artwork': 1533, 'canvas_flamecolors': 2493, 'black': 2077, 'white': 15488, 'savecanvasartwork': 12327, 'myartwork': 9319, 'printed': 10954, 'height': 6603, 'strech': 13488, 'nicest': 9502, 'tailwind': 13860, 'intellisen': 7348, 'preview': 10927, 'vue3': 15271, 'intellisense': 7350, 'prettier': 10917, 'tailwindcss': 13861, 'decclaration': 3845, 'consideration': 3292, 'feater': 5410, 'goals': 6222, 'restrained': 11935, 'deference': 3905, 'chosen': 2761, 'globalized': 6192, 'header': 6567, 'non': 9562, 'nextjs': 9480, 'allowed': 1153, 'transition': 14411, 'bound': 2205, 'auth': 1676, 'constraint': 3313, 'parallel': 10238, 'deeply': 3891, 'nested': 9436, 'foldername': 5684, 'defer': 3904, 'inheritance': 7201, 'haven': 6549, 'programmatically': 11033, 'should': 12792, 'fo': 5672, 'dicom': 4158, 'semantics': 12565, 'idicomclient': 6928, 'returns': 11983, 'sent': 12587, 'alon': 1161, 'dicomclient': 4159, 'sendasync': 12572, 'vault': 15065, 'dropbox': 4522, 'taking': 13867, 'access': 823, 'eduardo': 4665, 'iobroker': 7489, 'mqtt': 9221, 'broker': 2289, 'adapter': 922, 'chose': 2760, 'if': 6939, 'watermeter': 15347, 'ini': 7203, 'many': 8614, 'friedpa': 5838, 'immidiately': 7007, 'cent': 2625, 'branches': 2236, 'chronological': 2773, 'accordance': 840, 'descriptive': 4039, 'closed': 2876, 'accommodate': 835, 'referencing': 11609, 'checkout': 2719, 'fulfilled': 5876, 'merged': 8841, 'ways': 15359, 'vary': 15061, 'draft': 4487, 'importantly': 7038, 'avoids': 1755, 'unsuspecting': 14829, 'collaborator': 2984, 'intentions': 7366, 'temporarily': 13967, 'bugfix': 2333, 'pushed': 11202, 'reviewed': 12011, 'judge': 7765, 'trial': 14459, 'industry': 7157, 'functional': 5886, 'pile': 10538, 'scribble': 12429, 'arranged': 1501, 'aka': 1093, 'humans': 6846, '2am': 365, 'knowing': 7922, 'remark': 11733, 'tl': 14244, 'dr': 4485, 'commits': 3063, 'commit': 3060, 'broken': 2288, 'awaiting': 1760, 'gladly': 6177, 'described': 4033, 'approved': 1420, 'undergo': 14690, 'ensures': 4888, 'descriptions': 4038, 'mindful': 8952, 'conflicts': 3246, 'conflict': 3244, 'discuss': 4291, 'committed': 3064, 'newly': 9474, 'graalvm': 6276, 'rules': 12205, 'bazel': 1904, 'nearing': 9401, 'andy': 1263, 'space': 13157, 'rules_graal': 12206, 'leverage': 8157, 'toolchains': 14307, 'toolchain': 14306, 'hermetic': 6631, 'compiling': 3108, 'compiler': 3104, 'had': 6451, 'invoking': 7482, 'guarantee': 6381, 'bcr': 1913, 'distribution': 4339, 'gvm': 6417, 'modulo': 9118, 'rules_graalvm': 12207, 'dance': 3729, 'hermeticity': 6632, 'explains': 5208, 'mapping': 8618, 'generator': 6017, 'bindist': 2052, 'datastructure': 3778, 'maintainer': 8545, 'friction': 5836, 'instantly': 7311, 'opposition': 9964, 'felt': 5436, 'rude': 12199, 'issued': 7562, 'emptive': 4784, 'invite': 7475, 'tagged': 13851, 'ship': 12753, 'prs': 11135, 'finetuning': 5542, 'cnn': 2921, 'classifier': 2822, 'backbone': 1795, 'architecture': 1449, 'variety': 15058, 'applications': 1398, 'finetuned': 5540, 'vits': 15209, 'vanilla': 15042, '16x16': 170, '16': 151, 'arch': 1444, 'cnns': 2922, 'converge': 3398, '1024x1024': 55, '256x256': 333, 'initially': 7220, 'trained': 14379, 'attempting': 1639, 'observed': 9723, 'gcvit': 5988, 'tiny': 14228, 'naive': 9347, 'lowering': 8434, 'wise': 15563, 'discrepancy': 4287, 'vit': 15205, 'noted': 9596, 'append': 1378, 'globalaveragepooling2d': 6191, 'dense': 3988, 'softmax': 13054, 'inceptionv3': 7084, 'flatten': 5608, 'pooling': 10719, 'convergence': 3399, 'lucidrains': 8457, 'pytorch': 11247, '45': 489, 'huggingface': 6841, 'co': 2923, 'transformer': 14405, 'higher': 6667, '22623': 307, 'tokens': 14283, 'resize_query': 11887, 'argument': 1472, 'argued': 1471, 'touvron': 14351, 'al': 1104, 'challenging': 2661, 'oom': 9890, 'gradient': 6281, 'accumulation': 852, '1e': 225, 'adam': 916, 'optimizer': 9986, 'cross': 3579, 'entropy': 4917, 'focal': 5674, 'loss': 8415, 'cruicial': 3595, 'fundamentally': 5898, 'acting': 882, 'pass': 10300, 'filters': 5519, 'applies': 1400, 'concern': 3183, 'spent': 13220, 'glanced': 6180, 'osc': 10046, 'specs': 13203, 'ifcaxisplacement': 6940, 'viewports': 15166, 'sheets': 12730, 'paperspace': 10230, 'autodesk': 1708, 'dwfx': 4584, 'forge': 5731, 'f2d': 5303, 'viewport': 15165, 'square': 13281, 'cropped': 3577, 'dxf': 4588, 'prining': 10949, '22': 297, 'inspecting': 7284, 'dom': 4431, 'rendered': 11764, 'drawing': 4502, 'determine': 4086, 'drawn': 4505, 'wholeï¼ÿ': 15499, '73': 639, 'reusable': 11987, 'occured': 9750, 'hatches': 6544, 'tiled': 14190, 'textured': 14029, 'clipping': 2863, 'hatch': 6543, 'reader': 11454, 'relates': 11689, 'streams': 13485, 'whatwg': 15465, 'skill': 12937, 'prioritize': 10964, 'compleatly': 3112, 'unrelated': 14805, 'nudge': 9648, 'fullest': 5878, 'ocs': 9761, 'extrusion': 5295, 'sign': 12837, 'mirroring': 8991, 'transform': 14400, 'negative': 9416, 'entity': 4905, 'applied': 1399, 'quirk': 11326, 'mitigate': 9029, 'generalized': 6006, 'accumulated': 850, 'camera': 2468, 'gl': 6175, 'geojson': 6041, 'stl': 13433, 'metadata': 8863, 'entities': 4904, 'batch': 1886, 'dependant': 3996, 'cad': 2425, 'rasterizing': 11407, 'texture': 14028, 'zooming': 15903, 'hatching': 6545, 'pattern': 10334, 'arbitrary': 1441, 'pat': 10318, 'selecting': 12544, 'rasterization': 11406, 'tiling': 14193, 'trivial': 14478, 'experimenting': 5196, 'implementing': 7026, 'generic': 6018, 'declarative': 3859, 'grammar': 6294, 'poor': 10721, 'experimentally': 5193, 'optimize': 9983, 'deal': 3824, 'tokenizer': 14281, 'unclear': 14674, 'specification': 13197, 'customizations': 3677, 'jaredhendrickson13': 7630, 'handling': 6487, 'struggle': 13529, 'protect': 11099, 'dealing': 3826, 'certificate': 2642, 'issuer': 7563, 'stink': 13430, 'approch': 1416, 'adress': 992, 'uri': 14899, 'safe': 12264, 'uris': 14900, 'andrin': 1259, 'opposed': 9962, 'sensitive': 12583, 'favor': 5393, 'mechanism': 8778, 'potentially': 10785, 'scrubbed': 12447, 'scrubbing': 12448, 'returned': 11981, 'admins': 978, 'apiendpoints': 1351, 'unfiltered': 14724, 'scrub': 12446, 'previously': 10932, 'minor': 8978, 'v1': 14983, 'prv': 11138, 'pfsense': 10471, 'below': 1983, 'disabled': 4243, 'backward': 1820, 'refid': 11615, 'descr': 4031, 'crt': 3592, 'mandatory': 8587, 'usefull': 14923, 'certtype': 2646, 'signing': 12848, 'signed': 12843, 'ca': 2411, 'keyavailable': 7850, 'dn': 4384, 'validfrom': 15030, '2012': 257, '04': 21, '23t18': 316, '43': 483, '511z': 525, 'validto': 15032, 'inuse': 7452, 'enum': 4922, 'webconfigurator': 15379, 'openvpn': 9943, 'ipsec': 7509, 'tunnel': 14534, 'isservercert': 7558, 'iscacert': 7537, 'totallifetime': 14338, 'lifetime': 8203, 'lifetimeremaining': 8204, 'expiration': 5202, 'keytypee': 7870, 'rsa': 12180, 'keylen': 7863, '2048': 274, 'ecname': 4637, 'prime256v1': 10942, 'keytype': 7869, 'ecdsa': 4632, 'sigtype': 12854, 'sha256': 12692, 'altnames': 1192, 'dns': 4386, 'altname': 1191, 'http': 6819, 'alt': 1177, 't1': 13822, 'exa': 5090, 'keyusage': 7871, 'digital': 4204, 'signature': 12841, 'encipherment': 4804, 'extendedkeyusage': 5256, 'extended': 5255, 'tls': 14247, 'authentication': 1682, 'serial': 12617, 'subjectkeyid': 13570, 'authoritykeyid': 1690, 'authority': 1689, 'hash': 6529, 'parameters': 10250, '64bfb2e64a33d': 607, 'exportformat': 5233, 'pem': 10386, 'pkcs12': 10586, 'exportencryption': 5231, 'openssl': 9936, 'encrypted': 4825, 'encryption': 4826, 'stackoverflow': 13321, '27497723': 347, 'an': 1237, 'base64': 1871, 'encoded': 4807, 'cert': 2640, 'willow': 15528, 'synesthesiam': 13798, 'voice': 15229, 'inference': 7168, 'similarity': 12869, 'combine': 3018, 'dsp': 4546, 'concepts': 3180, 'microphone': 8908, 'array': 1503, 'mic': 8895, 'speakerphone': 13183, 'wake': 15295, 'sensory': 12586, 'picovoice': 10527, 'licensing': 8194, 'esp': 4998, 'alexa': 1119, 'deployable': 4007, 'fortunately': 5765, 'coincidentally': 2970, 'esp32': 5000, 'toverainc': 14352, '237': 313, 'wakewords': 15297, 'entertain': 4897, 'espressif': 5012, 'hobbyist': 6718, 'production': 11012, 'vad': 15013, 'wakeword': 15296, 'loosely': 8407, 'phrase': 10507, 'embedding': 4750, 'intent': 7358, 'flexibly': 5623, 'diarization': 4156, 'detecting': 4079, 'hugging': 6840, 'efficient': 4678, 'stream': 13479, 'cost': 3475, 'unintentionally': 14746, 'simplifies': 12882, 'adf': 958, 'afe': 1028, 'threadpool': 14134, 'types': 14588, 'coyote': 3510, 'schedulingpoint': 12378, 'interleave': 7393, 'scheduled': 12374, 'assumption': 1599, 'kripergvg': 7946, 'threads': 14135, 'instrumentation': 7324, 'executing': 5139, 'paused': 10339, 'goe': 6226, 'instrument': 7322, 'controlled': 3387, 'interleavings': 7396, 'explored': 5222, 'risk': 12071, 'instrumenting': 7326, 'cystom': 3708, 'instrumented': 7325, 'experimental': 5192, 'extensibility': 5261, 'subset': 13594, 'wrapper': 15675, 'apis': 1353, 'robust': 12099, 'publicly': 11161, 'neither': 9423, 'battle': 1897, 'threading': 14132, 'ymmv': 15822, 'we': 15363, 'scenarios': 12367, 'regarding': 11643, 'explore': 5221, 'pdeligia': 10365, 'interleaving': 7395, 'sections': 12496, 'because': 1931, 'clarifying': 2812, 'pools': 10720, 'creates': 3549, 'regular': 11665, 'understands': 14703, 'synchronization': 13788, 'synchronizes': 13791, 'interfere': 7390, 'deeper': 3888, 'situational': 12921, 'primarily': 10940, 'former': 5756, 'reduce': 11590, 'complexity': 3125, 'awaitable': 1759, 'imagined': 6983, 'concurrency': 3197, 'net': 9437, 'diverge': 4357, 'coverage': 3502, 'controlling': 3390, 'really': 11479, 'imo': 7009, 'renaming': 11760, 'goes': 6227, 'sure': 13701, 'cheap': 2705, '1080p': 62, 'raspberry': 11400, 'pi': 10512, 'beautifully': 1927, 'rtsp': 12192, 'banana': 1844, 'bpi': 2221, 'm2': 8489, 'cheaper': 2706, 'recycled': 11567, 'driver': 4513, 'h264': 6424, 'quarter': 11288, 'soc': 13041, 'qhd': 11257, 'uhd': 14630, 'sbc': 12342, 'combo': 3021, 'mediamtx': 8784, 'ptz': 11155, 'xiaomi': 15748, 'reolink': 11772, 'stopper': 13446, 'raspicam': 11404, 'imx219': 7063, 'ethernet': 5037, '4k': 511, 'hevc': 6641, 'orange': 9998, 'price': 10934, 'factor': 5320, 'kernel': 7840, 'vpu': 15257, 'autoclear_cookies': 1702, 'onaccept': 9851, 'onchange': 9856, 'unnecessary': 14785, 'erasecookies': 4964, 'cookie_table_headers': 3420, 'displayed': 4306, 'cmiiw': 2913, 'autoclear': 1700, 'renamed': 11759, 'autoclearcookies': 1703, 'demo': 3971, 'cookie': 3419, 'faq': 5367, 'choose': 2752, 'column': 3010, 'naming': 9359, 'autoclear_cookie': 1701, 'unter': 14832, 'strictly': 13497, 'cooky': 3422, 'document': 4408, 'refreshing': 11637, 'block': 2104, 'hmm': 6711, 'cookies': 3421, 'misunderstood': 9023, 'kitalance': 7901, 'consent': 3284, 'given': 6165, 'rely': 11723, 'disable': 4242, 'scripts': 12439, 'iframe': 6943, 'onconsent': 9861, 'dark': 3740, 'genuinely': 6034, 'peacefully': 10371, 'blinding': 2096, 'screens': 12420, 'announced': 1288, 'sponsorship': 13252, 'slightly': 12972, 'ambitious': 1214, 'hoped': 6756, 'bridge': 2266, 'temporary': 13968, 'alpha': 1167, 'weekend': 15419, 'partly': 10292, 'behalf': 1958, 'coworkers': 3507, 'qol': 11266, 'rush': 12226, 'tefkah': 13949, 'mechphoenix': 8781, 'awhile': 1767, 'extensions': 5264, 'combined': 3019, 'favourites': 5400, 'boilerplate': 2149, 'perhaps': 10420, 'company': 3083, 'primary': 10941, 'lifecycle': 8201, 'deprecated': 4014, 'deprecate': 4013, 'systems': 13816, 'memorise': 8815, '2019': 264, 'assembly': 1568, 'suffix': 13630, 'thissoftware_2024': 14114, 'containted': 3349, 'archivable': 1452, '2024': 272, 'huh': 6843, 'branched': 2235, 'wheras': 15471, 'sailed': 12276, 'fussing': 5914, 'repositories': 11818, 'ownership': 10158, 'situation': 12920, 'registered': 11653, 'your': 15828, 'panel': 10218, 'accounts': 846, 'credential': 3557, 'notified': 9607, 'authorize': 1692, 'remain': 11726, 'authorization': 1691, 'cooperate': 3426, 'text': 14019, 'aspirant': 1555, 'english': 4857, 'tutorials': 14548, 'implies': 7032, 'degree': 3928, 'doubt': 4462, 'entertaining': 4898, 'dedication': 3884, 'translation': 14422, 'decision': 3854, 'american': 1219, 'british': 2277, 'australian': 1674, 'âÿâ': 15925, 'won': 15597, 'mixing': 9038, 'expression': 5244, 'idiom': 6929, 'skin': 12941, 'reposition': 11816, 'misaligned': 8994, 'display': 4304, 'observe': 9722, 'anchor': 1248, 'pice': 10518, 'correctliy': 3465, 'sizing': 12928, 'absolute': 792, 'positioning': 10756, 'overall': 10105, 'improved': 7055, 'shout': 12797, 'michal': 8898, 'dawid': 3800, 'themselves': 14074, 'purple': 11191, 'starry': 13366, 'shooting': 12772, 'star': 13358, 'octocat': 9764, 'beret': 1996, 'holding': 6725, 'books': 2164, 'yourself': 15833, 'daterangepicker': 3785, 'picker': 10521, 'clicked': 2850, 'mui': 9253, 'behaves': 1961, 'removing': 11756, 'dateinputs': 3783, 'isopen': 7554, 'resorted': 11898, 'onfocus': 9869, 'unsure': 14827, 'pointer': 10696, 'formatted': 5750, 'calendar': 2443, 'hungry': 6855, 'marco': 8629, 'fmgv9p': 5670, 'src': 13290, 'refer': 11605, '4723': 496, '4914': 505, 'sonarr': 13113, 'series': 12623, 'pilot': 10540, 'episode': 4946, 'overseerr': 10140, 'partially': 10279, 'those': 14121, 'monitoring': 9143, 'switched': 13766, 'episodes': 4947, 'plex': 10653, 'twice': 14563, 'watched': 15338, 'downside': 4477, 'anywhere': 1337, 'hinode': 6687, 'coloring': 3003, 'intentional': 7363, 'blue': 2119, 'readable': 11452, 'awful': 1766, 'indeed': 7130, 'shading': 12698, '373700': 432, 'chroma': 2769, 'ln': 8319, 'adjustment': 968, 'wcag': 15361, 'hl': 6704, 'horizontally': 6767, 'panels': 10219, 'never': 9459, 'ending': 4837, 'releasing': 11707, 'longest': 8387, 'expanding': 5171, 'credits': 3561, 'onion': 9872, 'iso': 7547, 'distributed': 4336, 'location': 8342, 'prem': 10865, 'exceeds': 5102, 'minimum': 8974, 'traffic': 14375, 'collection': 2991, 'span': 13164, 'speeds': 13210, '1gbps': 227, '10gbps': 65, 'salt': 12283, 'appearing': 1376, 'decided': 3850, 'blow': 2116, '12': 85, 'finish': 5546, 'soup': 13142, 'hf1': 6649, 'joined': 7706, 'physical': 10510, '260': 340, 'alert': 1115, 'experiences': 5188, 'alerts': 1117, 'guidelines': 6397, 'statement': 13383, 'pip': 10557, 'mpy': 9217, '17': 171, 'elected': 4709, 'park': 10266, 'age': 1052, 'squashing': 13282, 'py': 11215, 'esp32s': 5002, 'ver': 15102, 'worried': 15643, 'clobber': 2865, 'mpy_cross': 9218, 'cmd': 2909, 'force': 5715, 'virtualenv': 15178, 'wide': 15504, 'dependencies': 3997, 'solving': 13087, 'teh': 13950, 'pypi': 11235, 'bytecode': 2405, '11723': 80, 'pybricks': 11221, 'alternate': 1184, 'v5': 14994, 'v6': 14995, 'compatibility': 3094, 'micropython': 8909, 'mpyfiles': 9219, 'versioning': 15119, 'extras': 5286, 'jim': 7677, 'availability': 1735, 'hundred': 6852, 'changer': 2669, 'complies': 3131, 'ng0203': 9490, 'inject': 7231, 'injection': 7235, 'constructor': 3320, 'factory': 5323, 'initializer': 7217, 'environmentinjector': 4931, 'runincontext': 12212, 'consuming': 3334, 'joinstores': 7709, 'accordingly': 842, 'selector': 12549, 'bananastore': 1847, 'adapt': 918, 'bananas': 1846, 'initialbananas': 7209, 'bananaadapter': 1845, 'applestore': 1393, 'apples': 1392, 'initialapples': 7208, 'appleadapter': 1390, 'smoothiestore': 13016, '2nd': 374, 'parameter': 10247, 'entitystate': 4912, 'shady': 12700, 'combining': 3020, 'spread': 13262, 'apple': 1389, 'goldenapple': 6235, 'carat': 2516, 'typing': 14598, 'rethink': 11960, 'simpler': 12876, 'union': 14747, 'stackblitz': 13318, 'anyways': 1336, 'rebuilding': 11498, 'instantiation': 7310, 'excessively': 5115, 'infinite': 7171, 'abstracted': 797, 'fruit': 5856, 'extends': 5259, 'interfaces': 7388, 'acutal': 909, 'selectors': 12550, 'overlap': 10120, 'processed': 10996, 'peeled': 10380, 'unpeeled': 14793, 'uncommon': 14677, 'copied': 3441, 'stateadapt': 13381, 'stores': 13455, 'node_modules': 9545, 'storebuilder': 13452, 'permanent': 10426, 'g2pconnect': 5931, 'aws': 1770, 'opencrvs': 9908, 'begin': 1951, 'accessh': 827, 'id4africa': 6904, 'hackathon': 6442, 'exchange': 5116, 'demonstrate': 3975, 'organisation': 10021, 'euanmillar': 5041, 'kick': 7878, 'esb': 4986, 'mq': 9220, 'dasunhegoda': 3751, 'lowly': 8436, 'quad': 11272, 'celeron': 2616, 'decade': 3842, 'old': 9826, 'venv': 15101, 'consume': 3325, 'tia': 14166, 'andreas': 1252, 'paperless': 10229, 'backend': 1798, 'redis': 11583, 'network': 9449, 'smb': 13004, 'webserver': 15398, 'celery': 2617, 'loglevel': 8371, 'longitude': 8389, 'latitude': 8049, 'centroãƒâ': 2636, 'gis': 6150, 'redash': 11570, 'marker': 8642, 'visualization': 15197, 'networking': 9451, 'dummy': 4562, 'ocean': 9755, 'hosting': 6773, 'droplet': 4526, 'trilium': 14473, 'necessarily': 9405, 'sean': 12473, 'reverse': 12003, 'proxy': 11130, 'nginx': 9491, 'sir': 12913, 'conducting': 3216, 'parametric': 10251, 'pyfluent': 11226, 'simulation': 12891, 'velocity': 15094, 'assigned': 1579, 'rotational': 12143, 'crucial': 3593, 'simulations': 12893, 'interestingly': 7385, 'graphical': 6302, 'fluent': 5654, 'scripting': 12436, 'efforts': 4682, 'automating': 1721, 'thus': 14164, 'reaching': 11442, 'capabilities': 2496, 'clearer': 2841, 'visually': 15202, 'represents': 11828, 'describing': 4035, 'confident': 3223, 'expertise': 5200, 'challenge': 2659, 'advancing': 1002, 'paul': 10337, 'stephen': 13410, '1766': 182, 'construction': 3317, 'thanking': 14052, 'everybody': 5073, 'playstore': 10642, 'publication': 11157, 'insult': 7328, 'threats': 14139, 'scam': 12355, 'tentatives': 13986, 'pay': 10342, 'freely': 5817, 'elsewhere': 4737, 'tone': 14296, 'customers': 3668, 'slave': 12955, 'comply': 3134, 'demands': 3969, 'copycat': 3447, 'risen': 12069, 'pollute': 10711, 'sourcing': 13149, 'autoclicker': 1704, 'transparency': 14427, 'triggered': 14469, 'spiral': 13231, 'wayyy': 15360, 'installs': 7302, 'developper': 4113, 'developped': 4112, 'focused': 5677, 'proven': 11117, 'major': 8552, 'problems': 10985, 'maintained': 8544, 'insults': 7330, 'unpublished': 14799, 'sad': 12260, 'droid': 4518, 'reconsider': 11546, 'frontline': 5850, 'damm': 3725, 'insulting': 7329, 'responsible': 11919, 'cat': 2560, 'evil': 5081, 'fault': 5389, 'gonna': 6237, 'courses': 3499, 'condition': 3206, 'ill': 6964, 'aslong': 1550, 'shame': 12705, 'glance': 6179, 'strange': 13472, 'threaten': 14137, 'idiots': 6933, 'clients': 2857, 'deserve': 4047, 'suffocating': 13631, 'garbage': 5956, 'leaving': 8104, 'health': 6578, 'peace': 10370, 'commenting': 3052, 'tormented': 14330, 'dolphin': 4430, 'gamecube': 5942, 'emulator': 4790, 'suicide': 13641, 'receiving': 11512, 'www': 15703, 'destructoid': 4071, 'transgender': 14409, '23': 309, 'amaze': 1202, 'crap': 3528, 'crappy': 3529, 'profit': 11027, 'torment': 14329, 'abound': 784, 'fly': 5666, 'french': 5826, 'searched': 12476, 'setanimspeedcoef': 12646, 'faster': 5383, 'ace': 856, 'advanced': 1000, 'stamen': 13338, 'cause': 2586, 'stamina': 13339, 'suddenly': 13624, 'ace_advanced_fatigue_setanimexclusions': 857, 'pushback': 11201, 'mymod': 9325, 'adv': 998, 'fatigue': 5388, 'medical': 8785, 'treatment': 14443, 'anim': 1272, 'completes': 3119, 'earlier': 4610, 'sec': 12483, 'chat': 2701, 'newbie': 9465, 'existed': 5154, '21': 288, 'compilation': 3101, 'ganigeorgiev': 5952, 'experimentation': 5194, 'pb': 10350, 'slog': 12979, 'benchmark': 1987, 'bump': 2359, 'min': 8946, 'todos': 14268, 'notes': 9598, 'wrapped': 15674, 'drastic': 4498, 'pocketbase': 10683, 'claimed': 2806, 'gain': 5935, 'guided': 6395, 'optimization': 9981, 'reactjs': 11447, 'redirection': 11581, 'stormyz': 13459, 'xyz': 15778, 'insecure': 7263, 'caa': 2412, 'letsencrypt': 8145, 'doesnâ': 4424, '48': 498, 'ovh': 10153, 'kiube': 7906, 'looks': 8397, 'accepted': 819, 'newwriterwindow': 9477, 'websocket': 15403, 'rfc7692': 12034, 'compression': 3155, 'lxzan': 8480, 'ugly': 14628, 'client_max_window_bits': 2855, 'server_max_window_bits': 12630, 'permessage': 10428, 'deflate': 3922, 'bak': 1829, '7770': 649, 'closure': 2881, 'meshcentral': 8848, '12th': 108, 'agent': 1055, 'connected': 3269, 'remotely': 11750, 'uninstalled': 14743, 'connections': 3275, 'visual': 15195, 'studio': 13540, 'enterprise': 4894, 'halted': 6467, 'virtual': 15177, 'selected': 12541, 'subscription': 13591, 'azure': 1782, 'vm': 15217, 'annoying': 1293, 'shuffle': 12817, 'opted': 9974, 'recurring': 11564, 'indefinitely': 7131, 'mermaid': 8844, 'javasript': 7643, 'gpt': 6261, 'apparently': 1368, 'directive': 4224, 'initialize': 7214, 'seek': 12511, 'glyph': 6204, 'teach': 13928, 'bitmap': 2070, '82': 669, 'newlines': 9473, 'br': 2222, 'tags': 13855, 'surround': 13715, 'mce': 8750, 'newline': 9472, 'isnt': 7545, 'ideal': 6909, 'forced_root_block': 5717, 'warned': 15321, 'selectively': 12548, 'excluding': 5123, 'paragraph': 10236, 'different': 4179, 'divs': 4363, 'softbreaks': 13050, 'tinymce': 14230, 'separated': 12597, 'soft': 13049, 'heading': 6570, 'switching': 13768, 'gotcha': 6249, 'helping': 6618, 'clarify': 2811, 'forcing': 5719, 'freature': 5812, 'engineer': 4852, 'collaborate': 2977, 'angle': 1266, 'membership': 8806, 'employee': 4779, 'suchlikes': 13620, 'provision': 11125, 'deprovision': 4018, 'scim': 12398, 'centralised': 2632, 'sso': 13303, 'saml': 12291, 'oidc': 9818, 'enabler': 4797, 'business': 2380, 'ref': 11601, 'okta': 9824, 'market': 8645, 'leading': 8086, 'identity': 6924, 'management': 8581, 'll': 8303, 'qinput': 11259, 'qeditor': 11253, 'form': 5743, 'thrown': 14154, 'notification': 9605, 'cleaner': 2831, 'foss': 5771, 'colornote': 3005, 'quillpad': 11324, 'closest': 2879, 'beautiful': 1926, 'immensely': 7001, 'checklist': 2717, '200': 243, 'shopping': 12775, 'unchecked': 14672, 'purchases': 11183, 'eggs': 4687, 'uncheck': 14671, 'simultaneously': 12896, 'alphabetical': 1169, 'family': 5358, 'nunit3': 9669, 'netcore': 9442, 'assemblies': 1564, '96': 697, 'csproj': 3611, 'net6': 9438, 'sdk': 12459, 'nunit': 9668, 'nunit3testadapter': 9670, 'dotnet': 4458, 'noheader': 9556, 'filtering': 5518, 'neutral': 9458, 'publickeytoken': 11160, 'b03f5f7f11d50a3a': 1784, 'execution': 5140, 'reflection': 11625, 'loader': 8324, '0x80131058': 41, 'exe': 5129, 'eliminate': 4727, 'particular': 10288, 'references': 11608, 'included': 7091, 'failing': 5333, 'these': 14088, 'forms': 5758, 'asp': 1552, 'mono': 9144, 'monday': 9132, 'charlie': 2688, 'consolerunner': 3304, 'vs': 15260, 'pretraining': 10916, 'hyperparameters': 6873, 'pretrained': 10915, 'augmentation': 1666, 'weights': 15425, 'timm': 14220, 'adaptation': 920, 'browse': 2297, 'rwightman': 12234, 'gists': 6152, 'opencomvis': 9907, 'torben': 14326, 'recipe': 11519, 'hparams': 6801, 'results': 11945, 'resnet': 11889, 'strikes': 13501, 'arxiv': 1535, 'abs': 789, '2110': 290, '00476': 6, 'translate': 14418, 'args': 1469, 'pretrain': 10914, 'finetune': 5539, 'varies': 15057, 'situations': 12922, 'maker': 8560, 'opendtu': 9913, 'battery': 1894, 'regulations': 11668, 'hoymiles': 6799, '600w': 590, 'liability': 8168, 'welders': 15433, 'voltage': 15238, 'weld': 15431, '50a': 522, 'upwards': 14893, 'electronics': 4717, 'she': 12724, 'doing': 4428, 'central': 2631, 'consumption': 3335, 'shelly': 12733, 'independent': 7132, 'hichi': 6656, 'kindr007': 7892, 'victron': 15149, 'mppt': 9213, 'esp01': 4999, 'tasmota': 13908, 'powermeter': 10795, 'spcqike': 13179, '3em': 448, 'ferraris': 5442, 'meter': 8871, 'measure': 8767, 'differ': 4176, 'supplier': 13686, 'measures': 8771, 'parse': 10269, 'statussns': 13397, 'suggests': 13640, '344': 415, 'ordered': 10012, 'attempt': 1637, 'schlimmchen': 12385, 'forest': 5728, 'trees': 14447, 'volkszã': 15237, 'hler': 6706, 'inverter': 7464, 'possibe': 10761, 'limiter': 8228, 'upper': 14879, 'lower': 8431, 'posts': 10781, 'understood': 14704, 'afaik': 1026, 'hallo': 6464, 'dirk': 4237, 'schulz': 12391, 'victrons': 15150, 'solar': 13059, 'passthrough': 10310, 'charge': 2682, 'pylontech': 11232, 'charging': 2685, 'capacity': 2500, 'manos1966': 8600, 'bms': 2130, 'arround': 1514, '92': 693, 'sun': 13656, 'shining': 12751, 'charged': 2683, '37a': 433, 'sunny': 13660, '1pm': 236, '5a': 570, '98': 702, 'led': 8105, 'gathered': 5972, 'standby': 13351, 'fall': 5346, '5w': 582, 'output': 10088, 'feeding': 5425, 'delivery': 3962, 'figures': 5485, 'balcony': 1835, 'plant': 10614, 'receive': 11508, 'dramatically': 4497, 'fare': 5371, 'generates': 6012, 'hence': 6623, 'feeded': 5424, 'feed': 5422, 'consider': 3289, '18650': 190, 'liion': 8215, 'bench': 1986, 'supply': 13688, '1v': 240, '1a': 222, 'cv': 3688, 'capable': 2498, 'charger': 2684, 'constant': 3309, 'storing': 13457, 'beforehand': 1946, 'discharging': 4267, 'diagramms': 4145, '367': 426, 'household': 6787, 'excess': 5113, 'discharge': 4266, 'reached': 11441, 'interests': 7386, 'adum1201': 997, 'participate': 10284, 'lukasvfl99': 8465, 'url': 14901, 'cmnd': 2914, '208': 279, 'hitchi': 6699, 'replies': 11805, 'adjusted': 966, 'interessant': 7380, 'kann': 7809, 'wohl': 15595, 'die': 4167, 'us5000': 14906, 'nur': 9671, 'hochkant': 6721, 'mit': 9025, 'front': 5848, 'nach': 9341, 'oben': 9696, 'und': 14683, 'us3000': 14905, 'auf': 1663, 'eine': 4695, 'seite': 12534, 'eigentlich': 4693, 'ist': 7566, 'da': 3711, 'bei': 1972, 'mir': 8988, 'auch': 1653, 'notlã': 9611, 'sung': 13658, 'der': 4021, 'wand': 15309, 'war': 15317, 'schon': 12387, 'ein': 4694, 'gepuckel': 6055, 'hoch': 6720, 'zu': 15912, 'bekommen': 1974, 'ablage': 779, 'schwerlastwinkeln': 12392, 'damit': 3724, 'batterie': 1892, 'bleibt': 2092, '589': 564, 'mtl': 9246, 'gltfpack': 6202, 'obj': 9699, 'assimp': 1582, 'uv': 14976, 'mc': 8746, 'two': 14570, 'material': 8694, 'none': 9565, 'swapped': 13747, 'echo': 4634, 'manpages': 8601, 'impish': 7018, 'man1': 8576, 'st': 13310, '19': 201, 'bat': 1885, 'res': 11858, 'glb': 6182, 'tu': 14526, 'sa': 12252, 'si': 12822, 'kn': 7916, 'km': 7914, 'ke': 7827, 'mm': 9054, 'noq': 9575, 'assimp_viewer': 1583, 'obj2obj': 9700, 'filed': 5491, 'uvs': 14978, 'viewed': 15161, 'incorrect': 7111, 'viewing': 15163, 'flexible': 5622, 'modeller': 9092, 'fast_obj': 5379, 'thisistherk': 14113, '37': 430, 'basically': 1880, 'usemtl': 14931, 'shortly': 12788, 'operating': 9950, 'osx': 10058, 'reproduction': 11838, 'qt1wdyijtd': 11270, 'cols': 3009, 'responsive': 11920, 'variants': 15052, 'targeting': 13895, 'breakpoint': 2252, 'lg': 8165, '200px_minmax900px': 254, '_1fr_100px': 710, 'playground': 10635, 'css': 3614, 'adamwathan': 917, 'wongjn': 15604, 'apology': 1362, 'attaching': 1632, 'classnames': 2825, 'wasting': 15336, 'selbi182': 12536, 'jar': 7629, 'present': 10888, 'replaced': 11792, 'entirely': 4902, 'safely': 12266, 'rename': 11758, 'inconsistency': 7103, 'occur': 9749, 'therefore': 14085, 'greeted': 6330, 'inconsistencies': 7102, 'replay': 11797, 'storage': 13449, 'crossed': 3580, 'jsfiddle': 7750, 'markdown': 8639, 'overrules': 10137, 'berkdemir': 1997, 'outcome': 10076, 'fiddle': 5470, 'storybook': 13461, 'pico': 10526, 'greetings': 6331, 'erik': 4966, 'committee': 3066, 'sabbatical': 12255, 'participated': 10285, 'agents': 1056, 'ing': 7189, 'convene': 3392, 'canceled': 2478, 'arctosdb': 1457, 'lindsey': 8234, 'tables': 13836, 'precanned': 10827, 'ported': 10743, 'scatter': 12363, 'plot': 10658, 'cvss': 3692, 'score': 12405, 'findings': 5536, 'chartjs': 2695, 'revamp': 11994, 'sysreptor': 13808, 'objects': 9710, 'iterates': 7583, 'tr': 14358, 'snippet': 13033, 'iterate': 7582, 'tommoor': 14290, 'tabs': 13839, 'duper': 4568, 'handy': 6490, 'deep': 3886, 'dive': 4356, 'tablecell': 13831, 'tabbed': 13828, 'wikis': 15520, '3000': 380, 'lossless': 8416, 'representation': 11824, 'affiliate': 1034, 'vintage': 15172, 'listing': 8277, 'keywords': 7873, 'modela': 9085, 'modelb': 9086, 'completelydifferentbrand': 3117, 'irrelevantmodel': 7524, 'plenty': 10651, 'quotes': 11338, 'signs': 12852, 'photoprism': 10498, '3b': 443, 'photos': 10499, 'sidecar': 12830, 'thumbnails': 14158, 'labels': 7979, 'recognizes': 11530, 'thousand': 14128, 'catalog': 2561, '30': 378, 'optimal': 9976, 'folders': 5685, 'screenshots': 12422, 'thousands': 14129, 'equipment': 4960, '4tb': 514, 'hdd': 6559, '8gb': 684, 'minipc': 8977, 'juampe': 7764, 'configured': 3236, 'significantly': 12846, 'usability': 14908, 'supervision': 13682, 'spending': 13218, 'identified': 6918, 'reorganizing': 11778, 'imports': 7044, 'outline': 10082, 'proposed': 11088, 'repositioning': 11817, 'logically': 8365, 'positioned': 10755, 'refactoring': 11604, 'reflect': 11623, 'grouped': 6353, 'redundancy': 11598, 'readability': 11451, 'module': 9115, 'duplication': 4572, 'truth': 14502, 'abi': 776, 'strong': 13515, 'growing': 6359, 'initiative': 7224, 'poetry': 10691, 'automation': 1722, 'cleaning': 2832, 'collect': 2989, 'shiny': 12752, 'onuralpszr': 9885, 'spoke': 13245, 'hardikdava': 6508, 'agreed': 1066, 'define': 3910, 'tractor': 14368, 'sevcon': 12675, 'weekly': 15420, 'objectives': 9709, 'cleaned': 2830, 'sonsorship': 13120, 'tidying': 14177, 'wiring': 15562, 'unused': 14843, 'harnessing': 6521, 'dvt': 4582, 'switches': 13767, 'analog': 1239, 'throttle': 14147, 'diagnosing': 4141, 'investigation': 7471, 'mechanical': 8775, 'santhiya': 12311, 'brake': 2232, 'cylinder': 3704, 'reinforced': 11673, 'bled': 2090, 'fisher': 5573, 'suspension': 13727, 'tire': 14234, 'alfred': 1123, 'lastly': 8035, 'gaurding': 5976, 'exhaust': 5147, 'hood': 6750, 'aesthetics': 1023, 'ignition': 6945, 'digitial': 4205, 'inputs': 7259, 'clutch': 2900, 'rpi': 12169, 'relay': 11700, 'diagnose': 4140, 'svan': 13734, 'shannon': 12707, 'wacom': 15287, 'tablet': 13837, 'drivers': 4514, 'intuos': 7451, 'exhibit': 5151, 'monterey': 9156, 'mike': 8930, 'mrtsb3061': 9230, 'w8ste': 15286, 'youâ': 15839, 'mtv': 9247, 'skipped': 12943, 'crazy': 3539, 'smoooooth': 13011, 'cd': 2600, 'elon': 4734, 'zuck': 15914, 'fight': 5480, 'celebrity': 2615, 'deathmatch': 3830, 'ps2': 11141, 'freemcboot': 5818, 'puting': 11205, 'mx4sio': 9311, 'tonyhax': 14299, 'gameshark': 5949, 'ordering': 10013, 'wp': 15661, 'graphql': 6306, 'charme': 2690, 'register': 11652, 'lets': 8144, 'postssearch': 10782, 'peterschuhmannnetflow': 10462, 'meaning': 8760, 'conditionally': 3208, 'circumstances': 2792, 'breezy': 2256, 'tw': 14554, 'animation': 1278, 'wind': 15535, 'seasonal': 12479, 'why': 15501, 'animated': 1275, 'copying': 3449, '303': 384, 'recorded': 11550, 'bw': 2398, 'visualized': 15199, 'scenery': 12370, 'city': 2797, 'country': 3493, 'landscape': 8004, 'mountain': 9185, 'wallpaper': 15305, 'season': 12478, 'flying': 5667, 'leaves': 8103, 'wind_demo': 15536, 'mp4': 9206, 'windy': 15544, 'beaufort': 1925, 'land': 8002, 'conditions': 3213, 'kratos': 7944, 'inappwebview': 7075, 'completed': 3115, 'aswebauthenticationsession': 1607, 'identifier': 6919, 'google': 6244, 'redirected': 11580, 'ui_url': 14633, 'initiated': 7222, 'recovery': 11556, 'redirect': 11579, 'endpoint': 4838, 'preserving': 10901, 'jothomps': 7728, 'involving': 7487, 'ory': 10044, 'flows': 5650, 'redirects': 11582, 'csrf': 3613, 'hijacking': 6676, 'attacks': 1636, 'responds': 11914, 'selfservice': 12556, 'selfservice_flows_error_ui_url': 12557, 'variable': 15047, 'return_to': 11980, 'initializes': 7218, 'persist': 10437, 'carefully': 2524, 'hperl': 6802, 'tangentially': 13882, 'talked': 13872, 'caleb': 2441, 'querystring': 11307, 'serialize': 12619, 'var': 15044, 'persistence': 10439, 'sessions': 12640, 'utilization': 14964, 'componentcontext': 3136, 'effects': 4676, 'accomplish': 836, 'jeffchown': 7656, 'recommending': 11538, 'pagination': 10192, 'joshhanley': 7726, 'overcomplicating': 10111, 'datalist': 3766, 'via': 15137, 'wire': 15559, 'setstatus': 12665, 'renders': 11766, 'performing': 10418, 'myapp': 9318, 'selection': 12545, 'facilitate': 5316, 'recents': 11516, 'dropdown': 4523, 'pressed': 10906, 'ps': 11139, 'navigates': 9389, 'referer': 11610, 'congratulations': 3259, 'speending': 13214, 'tank': 13883, 'speend': 13213, 'ansewer': 1302, 'mathworks': 8703, 'jupyter': 7782, 'matlab': 8705, 'quarto': 11291, 'computations': 3163, 'python': 11238, 'notebook': 9594, 'apparent': 1367, 'upstream': 14888, 'daemon': 3717, 'cderv': 2604, 'gnu': 6215, 'shouldn': 12796, 'nbclient': 9394, 'advertised': 1008, 'folks': 5689, 'saw': 12333, 'while': 15480, 'contexts': 3355, 'believe': 1977, '1490': 132, 'progressive': 11042, 'graceful': 6279, 'degradation': 3927, 'actionform': 887, 'submits': 13577, 'validates': 15026, 'invalid': 7453, 'entered': 4892, 'extractor': 5280, 'serialized': 12620, 'deserialized': 4045, 'create_server_action': 3546, 'param': 10245, 'actionforms': 888, 'isomorphic': 7553, 'substituted': 13601, 'remix': 11747, 'leptos': 8136, 'progressively': 11043, 'enhanced': 4859, 'pim': 10541, '31': 394, 'consumes': 3332, 'closely': 2877, 'eg': 4685, 'atrocore': 1628, 'atropim': 1629, 'atom': 1623, 'occasionally': 9742, 'diffs': 4194, 'transparent': 14428, 'knee': 7917, 'relationship': 11694, 'broke': 2287, 'remembered': 11740, '08': 30, '01': 9, 'refactored': 11603, 'endpoints': 4839, 'anytime': 1333, 'internally': 7404, 'reasoning': 11490, 'modul': 9112, 'chime': 2739, 'contribute': 3377, 'changelogs': 2668, 'marcus': 8630, 'university': 14760, 'paris': 10264, 'saclay': 12259, 'pascal': 10299, 'sailhac': 12277, 'razorback': 11423, 'developed': 4103, 'especially': 5009, 'magnetic': 8525, 'shfte02': 12739, 'metronix': 8886, 'excuse': 5128, 'titouan': 14241, 'harrouet': 6524, 'universite': 14759, 'fr': 5793, 'geops': 6048, 'france': 5807, 'random': 11380, 'lively': 8295, 'patterns': 10336, 'length': 8128, '10mins': 67, '6mins': 627, '9â½mins': 709, 'starts': 13373, 'imho': 6997, 'deselrahc': 4043, 'commandline': 3045, 'thnx': 14116, 'rocksdanister': 12109, 'percentage': 10400, 'mark': 8638, 'usually': 14956, 'deselrach': 4042, 'seekwp': 12513, 'generation': 6014, 'omg': 9837, 'okay': 9821, 'grade': 6280, 'ever': 5070, 'circa': 2784, 'prolog': 11050, 'alone': 1162, 'heaps': 6582, 'appinfo': 1386, 'npx': 9624, 'fabric': 5308, 'metro': 8885, 'rct_new_arch_enabled': 11432, 'bundle': 2363, 'swift': 13756, 'appinfopackage': 1387, 'utils': 14969, 'modules': 9117, 'opt': 9973, 'use_modular_headers': 14915, 'globally': 6193, 'podfile': 10687, 'modular_headers': 9114, 'happening': 6495, 'objectivec': 9707, 'po': 10681, 'schriker': 12390, 'rn': 12081, 'modular': 9113, '72': 638, 'objc': 9701, 'facebook': 5311, '38121': 436, 'ad': 910, 'env': 4925, 'pnr': 10680, 'leafmap': 8089, 'slider': 12966, 'heatmap': 6592, 'distrubtion': 4346, 'marcel': 8626, 'timeslider': 14215, 'raster': 11405, 'layersz': 8065, 'codespaces': 2950, 'returning': 11982, 'maintainers': 8546, 'contributor': 3384, 'previewing': 10930, 'prebuild': 10825, 'organizations': 10026, 'pointing': 10697, 'monaco': 9129, 'sandpack': 12306, 'linting': 8257, 'requirements': 11851, 'variadic': 15050, 'classcallable': 2816, '__new__': 717, '__call__': 713, 'lambda': 7998, 'checker': 2715, 'signatures': 12842, 'machinery': 8508, 'dynamically': 4593, 'manipulating': 8595, 'metaclasses': 8861, 'statically': 13387, 'overloading': 10127, '__class_getitem__': 714, 'honor': 6749, 'complaint': 3111, 'boil': 2148, '__getitem__': 715, 'metaclass': 8860, 'tricking': 14463, 'generict': 6020, 'removes': 11754, 'squiggly': 13285, 'underlines': 14692, 'typetuple': 14594, 'iterable': 7580, 'presume': 10911, 'essentially': 5019, 'evaluation': 5055, 'annotations': 1286, 'tuple': 14536, 'mildly': 8935, 'iterator': 7589, 'typeshed': 14593, 'overload': 10125, 'iterables': 7581, 'roughly': 12146, 'typevartuple': 14595, 'mypy': 9327, 'mutating': 9295, 'mutations': 9297, 'macdriver': 8506, 'darwinkit': 3744, 'existence': 5155, 'expansion': 5173, 'bindings': 2051, 'unmaintained': 14777, '000': 1, 'partial': 10278, 'methods': 8880, 'constants': 3311, 'enums': 4924, 'strings': 13505, 'bools': 2169, 'byte': 2404, 'maps': 8620, 'callbacks': 2453, 'delegate': 3939, 'objective': 9706, 'idiomaticness': 6931, 'tvos': 14553, 'watchos': 15341, 'visionos': 15189, 'silicon': 12862, 'warnings': 15323, 'covering': 3504, 'structs': 13521, 'placeholder': 10594, 'mkrautz': 9047, 'gone': 6236, 'hsiafan': 6809, 'mgood': 8890, 'majorly': 8554, 'tmc': 14250, 'programmingkidx': 11037, 'engaging': 4850, 'motivating': 9178, 'exciting': 5120, 'cgo': 2652, 'purego': 11186, 'ebitengine': 4626, 'frameworks': 5805, 'equivalent': 4961, 'declaration': 3858, 'encounters': 4819, 'referred': 11612, 'ocprotocols': 9759, 'libffi': 8178, 'rad': 11351, 'exhausted': 5148, 'around': 1497, 'nathan': 9371, 'daft': 3719, 'foxess': 5787, 'modbus': 9077, 'fox': 5786, 'drill': 4510, 'graphic': 6301, 'values': 15041, 'cumulative': 3640, 'dashboards': 3749, 'hoping': 6759, 'colin': 2975, 'ulic75': 14640, 'canton7': 2490, 'flash': 5596, 'water': 15342, 'gas': 5965, 'editable': 4654, 'flixlix': 5636, 'plus': 10672, 'nathanmarlor': 9372, 'mute': 9298, 'compromise': 3157, 'embarrassment': 4746, 'inconvenience': 7105, 'calls': 2458, 'soundswitch': 13140, 'hassle': 6540, 'unwanted': 14847, 'leakage': 8092, 'unreliable': 14807, 'consistent': 3299, 'j2cl': 7605, 'jre': 7745, 'emulation': 4789, 'arrays': 1509, 'relies': 11717, 'resulting': 11944, 'browsers': 2299, 'wasi': 15330, 'maven': 8724, 'databinder': 3758, 'googleâ': 6245, 're4j': 11439, 'serialization': 12618, 'deserialization': 4044, 'gc': 5983, 'string_ref': 13503, 'isnâ': 7546, 'atm': 1622, 'itâ': 7597, 'math': 8697, 'standardized': 13349, 'cases': 2553, '2x': 376, 'computation': 3160, 'blazingly': 2087, 're2j': 11438, 'perspective': 10454, '35x': 420, 'jvm': 7792, 'guaranteed': 6382, 'efficiently': 4679, 'thevalue': 14091, 'welcoming': 15430, 'pepe': 10393, 'tata': 13910, 'akin': 1102, 'href': 6805, 'findandreplace': 5534, 'second': 12485, 'mentioning': 8825, 'human': 6844, 'preact': 10822, 'ariakit': 1475, 'ci': 2781, 'standalone': 13345, 'preactreact': 10824, 'compat': 3093, 'spa': 13156, 'reakit': 11465, '1x': 241, '44': 487, 'tooltip': 14311, 'hovercard': 6791, 'throw': 14151, 'uncaught': 14667, 'automated': 1718, 'useintersectioneffect': 14926, 'gives': 6166, 'noop': 9573, 'uselayouteffect': 14927, 'preferably': 10851, 'nightmare': 9512, 'convinced': 3414, 'useinsertioneffect': 14925, 'authors': 1694, 'useeffect': 14921, 'diegohaz': 4168, 'lowest': 8435, 'gkmbyl': 6173, 'gxbbpf': 6418, 'vite': 15206, 'alias': 1129, 'hide': 6658, 'wasnt': 15334, 'digging': 4202, 'pity': 10574, 'rog': 12112, 'ally': 1158, 'helper': 6615, 'tdp': 13925, 'autoswitching': 1729, 'docking': 4402, 'serge': 12616, 'xg': 15741, 'enough': 4875, 'remapping': 11732, 'buttons': 2391, 'remapped': 11731, 'disabling': 4247, 'asus': 1606, 'disables': 4246, 'overplay': 10132, 'remap': 11730, 'gamepad': 5944, 'sale': 12281, 'alanamaunz': 1106, 'xgm': 15745, 'bios': 2063, 'eco': 4638, 'mb': 8740, 'affect': 1030, 'vram': 15259, 'm4': 8493, 'backpedals': 1809, 'keycode': 7859, 'technically': 13937, 'stopping': 13447, 'listens': 8275, '25k': 337, 'estimations': 5026, '707': 634, 'probably': 10979, 'max': 8727, 'controller': 3388, 'fsr': 5864, 'fps': 5792, 'who': 15495, 'voluntarily': 15241, 'autotdp': 1730, 'backpedal': 1808, 'seerge': 12521, 'hacs': 6450, 'bearded': 1920, 'thinker': 14105, 'selectable': 12539, 'meantime': 8764, 'leaf': 8087, 'mayby': 8739, 'flet': 5618, 'studying': 13542, 'organize': 10027, 'wonder': 15598, 'onboard': 9853, 'openfga': 9916, 'gohave': 6228, 'routine': 12159, 'shivesh': 12760, 'jon': 7715, 'whit': 15487, 'auth0': 1677, 'fga': 5464, 'auth0fga': 1678, 'call': 2449, 'interline': 7397, 'transitland': 14417, 'helps': 6620, 'aaguiarz': 759, 'exceptional': 5109, 'diy': 4364, 'blind': 2095, 'happier': 6497, 'esp8266': 5004, 'nodemcus': 9552, 'dawdling': 3799, 'bullet': 2357, '8266s': 671, 'xiao': 15747, 'c3s': 2410, 'flashed': 5597, 'cc2530': 2597, 'sitting': 12919, 'zigbee2tasmota': 15883, 'delighted': 3955, 'vast': 15063, 'majority': 8553, 'bulb': 2354, 'homeassistant': 6737, 'zigbee': 15881, 'homekit': 6740, 'berry': 1998, 'ditch': 4349, 'altogether': 1193, 'mcu': 8753, 'leap': 8095, 'escalated': 4990, 'rpis': 12172, 'chip': 2741, 'shortage': 12780, 'boarding': 2137, 'philosophically': 10489, 'omit': 9841, 'use_mqtt_tls': 14916, 'use_tasmota_discovery': 14917, 'producing': 11009, 'lightweight': 8214, 'esp32x': 5003, 'snipeit': 13032, 'tracking': 14365, 'licenses': 8193, 'workarounds': 15616, 'customised': 3673, 'calculated': 2433, 'reports': 11814, 'realise': 11470, 'backing': 1803, 'crm': 3572, 'finance': 5527, 'csv': 3615, 'excel': 5103, 'viruspilot': 15183, 'balena': 1836, 'ads': 996, 'popular': 10727, 'orchestration': 10008, 'paraglider': 10235, 'ogn': 9809, 'environments': 4932, 'successful': 13614, 'delight': 3954, 'credit': 3560, 'ketilmo': 7845, 'apk': 1355, 'cordova': 3452, 'wrap': 15673, 'justification': 7787, 'tos': 14334, 'pwa': 11211, 'portable': 10738, 'fullscreen': 5880, 'pop': 10723, 'adjusting': 967, 'androidfullscreen': 1261, 'worst': 15649, 'captcha': 2509, 'expired': 5203, 'err_cache_miss': 4971, 'backbutton': 1796, 'cdvfile': 2611, 'skye': 12948, 'inlining': 7243, 'loading': 8327, 'appenduseragent': 1383, 'webview': 15409, 'uploading': 14877, 'exposing': 5238, 'vulnerability': 15277, 'iframes': 6944, 'third': 14108, 'conditional': 3207, 'complains': 3110, 'redacted': 11569, '1320': 113, 'perceive': 10397, 'exploit': 5217, 'analytics': 1242, 'whitelisted': 15491, 'paths': 10326, 'injecting': 7234, 'arise': 1482, 'unexpectedly': 14720, 'inappbrowser': 7073, 'communication': 3075, 'proxying': 11133, 'cutout': 3686, 'immersivemode': 7004, 'handlecustomsetfullscreen': 6482, 'customsetfullscreen': 3682, 'addeventlistener': 938, 'listening': 8274, 'postmessage': 10778, 'yah': 15784, 'speaking': 13185, 'untrusted': 14840, 'exploitable': 5218, 'trust': 14499, 'eliminates': 4729, 'messaging': 8854, 'webviews': 15410, 'familiar': 5353, 'devdependency': 4100, 'tsconfig': 14514, 'exclude': 5121, 'excluded': 5122, 'peek': 10378, 'implicitly': 7030, 'maturin': 8720, 'eventualy': 5069, 'placing': 10597, 'automate': 1717, 'cargo': 2526, 'toml': 14289, 'saver': 12329, 'twig': 14564, 'unusual': 14845, 'forever': 5730, 'abandoned': 762, 'barely': 1862, 'inevitably': 7163, 'wants': 15316, 'webpack': 15393, 'gulp': 6407, 'formatter': 5752, 'desperate': 4063, 'convenient': 3394, 'preferable': 10850, 'bonus': 2157, 'styled': 13554, 'folk': 5688, 'furnace': 5907, 'converter': 3408, 'stretch': 13493, 'printable': 10953, 'md': 8754, 'md2': 8755, 'tinkering': 14225, 'cmake': 2906, 'add_custom_target': 933, 'add_dependencies': 934, 'linking': 8249, 'multiplatform': 9267, 'hmmm': 6712, 'discordchatexporter': 4276, 'token': 14277, 'overview': 10145, 'authenticated': 1680, 'guild': 6400, 'iteratively': 7588, 'belonging': 1981, 'processing': 10998, 'resolving': 11895, 'mentions': 8826, 'exporter': 5232, 'sei': 12533, 'lithium': 8287, 'plating': 10622, 'spm': 13242, 'spme': 13243, 'pybamm': 11220, 'equation': 4957, 'okane2022': 9820, 'thermal': 14087, 'prove': 11115, 'dfn': 4134, 'ipxe': 7511, 'rocky': 12111, 'uefi': 14623, 'machines': 8509, 'initrd': 7228, 'cmdline': 2912, 'named': 9351, 'img': 6986, '1192e': 83, '2001': 246, 'centos': 2630, 'nikize': 9515, 'opportunity': 9961, 'booting': 2176, 'efi': 4684, 'undionly': 14712, 'kpxe': 7942, 'dnsmasq': 4387, 'cell': 2618, 'plots': 10661, 'row': 12161, 'plt': 10664, 'df': 4133, 'contained': 3341, 'backticks': 1814, 'width': 15512, 'inset': 7272, 'subcap': 13560, 'underneath': 14696, 'rows': 12162, 'fig': 5479, 'cap': 2495, 'charles': 2687, 'bins': 2056, 'tauri': 13912, 'treat': 14440, 'rid': 12052, 'packaging': 10181, 'binaries': 2044, 'nsi': 9633, 'shadow': 12699, 'realistic': 11472, 'cars': 2535, 'decoupled': 3877, 'decompose': 3871, 'ground': 6350, 'plane': 10606, 'appearances': 1374, 'regions': 11651, 'signals': 12840, 'reactivity': 11446, 'challenges': 2660, 'useselector': 14943, 'observer': 9724, 'hoc': 6719, 'reactive': 11445, 'grained': 6293, 'observables': 9719, 'renderable': 11763, 'elements': 4724, 'fragile': 5796, 'mucking': 9249, 'internals': 7405, 'optimized': 9985, 'considers': 3296, 'keyed': 7860, 'confusing': 3254, 'monocular': 9146, 'estimation': 5025, 'misleading': 9006, 'names': 9354, 'kitti': 7905, 'sparse': 13173, 'lidar': 8195, 'projection': 11047, 'completion_02': 3122, '03': 18, 'hah': 6454, 'estimated': 5024, 'ambiguity': 1210, 'supplementary': 13684, 'invariant': 7457, 'midas': 8917, 'monosdf': 9151, 'expressionengine': 5245, 'memberslist': 8807, '3036': 385, 'field_name': 5477, 'teachability': 13929, 'timeline': 14206, 'interval': 7426, 'zooms': 15904, 'timeinterval': 14204, 'pxpersec': 11213, 'zoom': 15901, 'interaction': 7371, 'wavesurfer': 15354, 'approached': 1414, 'destroying': 4070, 'directus': 4234, 'solutions': 13079, 'room': 12129, 'improvements': 7057, 'nocodb': 9536, 'engineering': 4854, 'arechitecture': 1463, 'sqlite': 13275, 'introspected': 7447, 'adopt': 982, 'directus_': 4235, 'drawbacks': 4501, 'win': 15529, 'unresolved': 14809, 'architectural': 1447, 'viable': 15139, 'reward': 12020, 'ease': 4615, 'justify': 7788, 'undertaking': 14706, 'splitting': 13240, 'enlighten': 4870, 'scaling': 12354, 'sake': 12280, 'inspires': 7290, 'configures': 3237, 'katas': 7815, 'ivy': 7602, 'russ': 12227, 'cox': 3509, 'solves': 13086, 'advent': 1005, '2021': 266, 'meetup': 8791, 'apl': 1356, 'languages': 8016, 'kata': 7814, 'fourier': 5784, 'retrieving': 11975, 'logistical': 8368, 'inserter': 7267, 'into': 7434, 'similarly': 12870, 'pipe': 10558, 'modifications': 9105, 'visualizer': 15200, 'belt': 1984, 'outputs': 10091, 'tedius': 13946, 'pipes': 10567, 'fluid': 5655, 'tanks': 13885, 'refineries': 11620, 'chemical': 2728, 'plants': 10615, 'assemblers': 1563, 'factorio': 5321, 'networks': 9453, 'logistic': 8367, 'roboport': 12096, 'roboports': 12097, 'relation': 11691, 'inform': 7182, 'extensive': 5265, 'genuine': 6033, 'demand': 3967, 'œwhat': 15962, 'extracting': 5278, 'assembling_machine': 1566, 'drum': 4531, 'filling': 5513, 'emptying': 4786, 'liquid': 8262, 'consumers': 3331, 'barrel': 1864, 'assembling_machines': 1567, 'assembling': 1565, 'blueprint': 2122, 'find_entities_filteredtype': 5531, 'get_output_entitiestarget': 6072, 'get_output_entitiestype': 6073, 'loaders': 8325, 'inserters': 7268, 'nicer': 9501, 'verbose': 15105, 'parent': 10259, 'output_entities': 10089, 'listfilterlambda': 8276, 'input_entities': 7256, 'necessary': 9406, 'disguised': 4298, 'neighbours': 9422, 'set_filterget_recipe_outputsassembling_machine': 12644, 'association': 1591, 'redundant': 11599, 'intensive': 7357, 'bloat': 2100, 'fluid_consumer': 5656, 'sulfur_production': 13648, 'assert': 1571, 'sulfur': 13647, 'pipe_location': 10559, 'fluid_inputs0': 5657, 'spatially': 13175, 'pipe_locations': 10560, 'get_fluid_input_locations': 6068, 'petroleum': 10465, 'locations': 8343, 'pipe_locations0': 10561, 'find_entity_at_positionpipe_location': 5533, 'connected_entities': 3270, 'get_connected_fluid_networkpipe': 6064, 'get_connected_fluid_network': 6063, 'connected_machines': 3272, 'discern': 4264, 'fluid_producers': 5661, 'connected_machine': 3271, 'located': 8341, 'output_pipes': 10090, 'fluid_output': 5658, 'fluid_outputs': 5659, 'find_entity_at_positionfluid_output': 5532, 'appendpipe': 1382, 'appendconnected_machine': 1379, 'outputting': 10092, 'fluid_producer': 5660, 'complimentary': 3133, 'get_connected_wire_network': 6066, 'get_connected_logistic_network': 6065, 'filtered': 5517, 'involve': 7483, 'consisting': 3301, 'influencing': 7177, 'dictionary': 4161, 'representing': 11827, 'coordinate': 3430, 'cells': 2620, 'corresponds': 3468, 'affecting': 1032, 'title_dict_base': 14238, 'collision': 2997, 'push_belt': 11200, 'pickup_inserter': 10524, 'electric': 4714, 'drop_inserter': 4521, 'drone': 4519, 'simplified': 12881, 'rechecks': 11517, 'get_grid_update_forblueprint': 6070, 'datai': 3765, 'cancer': 2483, 'ships': 12756, 'urls': 14903, 'caching': 2424, 'commerce': 3054, 'reminders': 11745, 'deployments': 4011, '15th': 149, '6th': 629, '76': 645, 'functioning': 5894, 'ejabberd': 4700, 'ecs': 4643, 'dockerhub': 4398, 'ports': 10750, 'dockerfile': 4396, 'accepting': 821, '127': 97, '7777': 650, 'mod_proxy65_stream': 9075, 'erlang': 4968, 'clustering': 2898, 'dependending': 3999, 'traefik': 14374, 'crowdsec': 3588, 'untill': 14836, 'trafik': 14376, 'enumeration': 4923, 'reccomend': 11506, 'whitelist': 15490, 'swag': 13741, 'fail2ban': 5331, 'times': 14211, '401': 461, 'unauthorized': 14654, 'errros': 4981, '3358': 409, 'banaction': 1842, 'banaction_allports': 1843, 'debugging': 3840, 'sudo': 13626, 'journal': 7730, 'virtuaenvs': 15176, 'natively': 9377, 'creation': 3552, 'swear': 13752, 'heard': 6584, 'podcast': 10686, 'respect': 11904, '20951': 281, 'strict': 13495, 'corporate': 3459, 'gpos': 6259, 'opinionated': 9957, 'our': 10068, 'brettcannon': 2260, 'dissuade': 4318, 'tyrannical': 14604, 'populate': 10729, 'versioned': 15118, 'interact': 7369, 'steam': 13405, 'workshop': 15633, 'gmod': 6209, 'nonetheless': 9566, 'exposure': 5239, 'yup': 15856, 'organise': 10022, 'solidified': 13072, 'semester': 12567, 'proud': 11114, 'classmate': 2824, 'daunting': 3792, 'intimidating': 7432, 'jobs': 7694, 'gained': 5936, 'freecodecamp': 5814, 'resort': 11897, 'enlightening': 4871, 'practicing': 10814, 'repeated': 11782, 'instructional': 7320, 'female': 5439, 'participation': 10287, 'humble': 6847, 'million': 8940, 'bucks': 2319, 'itls': 7591, '4265': 478, 'logo': 8373, 'palette': 10206, 'beefslayers': 1936, 'restaurant': 11928, 'food': 5704, 'truck': 14489, 'education': 4667, 'priceanalyzer': 10935, 'travel': 14434, 'whem': 15467, 'heater': 6590, 'heated': 6589, 'tweaking': 14557, 'radius': 11359, 'aprox': 1432, '2h': 372, 'tariffs': 13898, 'thougt': 14127, 'consumtion': 3336, 'predicted': 10845, 'tariff': 13897, 'spesified': 13221, 'jens': 7660, 'diesel_logger': 4171, 'diesel_ayncand': 4170, 'roadblock': 12086, 'asyncconnection': 1610, 'execute_returning_count': 5133, 'surprising': 13712, 'start_time': 13369, 'execute_returning_countsource': 5134, 'await': 1758, 'duration': 4577, 'elapsed': 4704, 'log_query': 8352, 'query_sql': 11301, 'boxed': 2215, 'conn': 3264, 'executefuture': 5136, 'boxfuture': 2218, 'queryresult': 11305, 'usize': 14952, 'constructed': 3315, 'rustc': 12229, 'bot': 2193, 'threshold': 14142, 'prediction': 10847, 'betting': 2007, 'bnb': 2131, 'wallet': 15304, '5x': 583, 'usd': 14912, 'liquidated': 8263, 'mitchbarks': 9027, 'little': 8289, 'def': 3894, 'ebb': 4625, 'wanes': 15310, 'lmusarella': 8318, 'experimented': 5195, 'slipped': 12977, 'trochonovitz': 14480, 'juujisai': 7790, 'martussky': 8664, 'smolenski': 13010, 'mikolaj': 8933, 'navbar': 9384, 'umd': 14646, 'syntaxerror': 13801, 'akifka': 1101, 'javascript': 7640, 'dist': 4319, 'cs': 3606, 'taiwindcss': 13862, 'initialization': 7213, 'beeing': 1937, 'es': 4983, 'integrations': 7341, 'initializing': 7219, 'datepicker': 3784, 'hamburger': 6470, 'dropmenu': 4527, 'initialized': 7216, 'timing': 14219, 'initing': 7225, 'hamzazr': 6474, 'daniel': 3733, 'taught': 13911, 'enthusiasm': 4899, 'training': 14381, 'datasets': 3773, 'longtongster': 8391, 'beginners': 1955, 'harder': 6507, 'minimizes': 8972, 'fundamentals': 5899, 'nlp': 9527, 'seen': 12519, 'gnome': 6213, 'customized': 3679, 'lang': 8008, 'zh_cn': 15879, 'utf': 14959, 'flameshot': 5594, 'qt': 11269, 'qlocale': 11261, 'lc_all': 8075, 'ether': 5035, 'veracioux': 15103, 'setdefault': 12653, 'libook': 8179, 'mmahmoudian': 9055, 'lc_': 8074, 'localization': 8337, 'arguments': 1473, 'watch': 15337, '3313': 407, 'aur': 1671, 'font': 5696, 'chinese': 2740, 'smooth': 13013, 'chn': 2746, 'yahei': 15785, 'segoe': 12530, 'idk': 6934, 'defaullt': 3895, 'fallback': 5347, 'cjk': 2799, 'dyphire': 4598, '6f1b3f7': 625, 'qbittorrent': 11252, 's3proxy': 12250, 'flexify': 5624, 'minio': 8976, 'direct_io': 4220, 'zenko': 15874, 'cloudserver': 2893, 'cors': 3470, 'preflight': 10863, 'listen': 8270, 'hollandthomas': 6730, 'h3': 6429, 'h4': 6430, 'h5': 6431, 'h6': 6438, 'keep': 7829, 'fpigeonjr': 5791, 'obsidian': 9726, '156': 144, 'entrepreneurial': 4914, 'becase': 1930, 'stern': 13418, 'erin': 4967, 'fiona': 5552, 'murray': 9282, 'bill': 2038, 'autlet': 1697, 'delta': 3965, 'uncertainty': 14669, 'categorized': 2572, 'customer': 3667, 'bayes': 1900, 'compass': 3092, 'slogan': 12980, '748': 642, 'gans3_entrepreneurialstrategy': 5953, 'brainchild': 2230, 'professor': 11019, 'song': 13115, 'behavioral': 1965, 'strategic': 13476, 'aom': 1344, 'lunch': 8468, 'supporters': 13692, 'bayesian': 1901, 'insight': 7275, 'trait': 14383, 'trending': 14456, 'biostatistics': 2064, 'quant': 11279, 'marketing': 8647, 'diverse': 4358, 'millions': 8941, 'each': 4605, 'contributes': 3379, '2017': 262, 'framing': 5806, 'entrepreneur': 4913, 'james': 7618, 'evans': 5057, 'supportive': 13694, 'bringing': 2275, 'probabilistic': 10977, 'joshua': 7727, 'tenenbaum': 13980, 'entrepreneurship': 4915, 'diversity': 4359, 'sustained': 13731, 'innovation': 7248, 'david': 3794, 'krackhardth': 7943, 'hierarchical': 6663, 'exploration': 5219, 'hierarchy': 6664, 'department': 3993, 'institution': 7314, 'jame': 7617, 'survivor': 13721, 'contextual': 3356, 'contingency': 3361, 'stan': 13342, 'modeler': 9088, 'accounted': 845, 'estimators': 5027, 'modeling': 9091, 'statistical': 13394, 'consensus': 3283, 'governance': 6254, 'tanstack': 13886, 'svelte': 13735, 'peer': 10382, '49': 503, 'stumbled': 13545, 'hurdle': 6859, '4996': 507, 'tan': 13880, 'wiki': 15517, 'links': 8250, 'norg': 9577, 'splunk': 13241, 'gf': 6114, 'hovered': 6792, 'contains': 3348, 'seemingly': 12515, 'tsinstall': 14516, 'lua': 8453, 'tsupdate': 14520, 'absence': 790, 'gtd': 6373, '19th': 219, 'aug': 1664, 'undone': 14714, 'children': 2736, 'vhyrro': 15135, 'pinged': 10545, 'apologize': 1360, '1031': 56, 'unimplemented': 14740, 'treesitter': 14450, 'injections': 7236, 'mawejs': 8726, 'stories': 13456, 'priorize': 10967, 'urgently': 14898, 'means': 8762, 'tend': 13977, 'phase': 10483, 'laborous': 7982, 'safer': 12268, 'mkoskim': 9046, 'views': 15167, 'speculation': 13205, 'unfinished': 14725, 'artifically': 1527, 'parts': 10294, 'most': 9171, 'toolbar': 14303, 'persistent': 10441, 'unusable': 14842, 'buresdv': 2372, 'spin': 13226, 'mrusse': 9231, 'meld': 8799, 'lying': 8482, 'ppi': 10802, 'pi4': 10515, '60': 585, 'bank': 1851, 'screws': 12428, 'rocker': 12103, 'jumper': 7775, 'cable': 2414, 'cherry': 2730, 'mx': 9310, 'bambu': 1839, 'p1s': 10164, 'esun': 5028, '150g': 137, 'guideline': 6396, 'clearance': 2839, 'novice': 9617, 'soldering': 13066, 'tweezer': 14560, 'convenience': 3393, 'glorious': 6195, 'pandas': 10213, 'tactile': 13847, 'browns': 2296, 'usb': 14911, 'stick': 13422, 'pi3': 10514, 'dremel': 4509, 'sawblade': 12334, 'army': 1495, 'knife': 7919, 'grind': 6341, 'likewise': 8219, 'angling': 1268, 'aligned': 1133, 'remove': 11752, 'wrestling': 15678, 'touchscreen': 14345, 'tight': 14182, 'deform': 3923, 'tightness': 14185, 'raspbian': 11402, 'kilmat': 7885, 'thocky': 14118, 'satisfying': 12322, 'soldered': 13065, 'malfunctioned': 8569, 'assembled': 1562, 'revision': 12018, 'rpi4': 12170, 'knows': 7926, 'f3d': 5304, 'tournaments': 14350, 'races': 11348, 'adopter': 984, 'puzzle': 11207, 'durock': 4578, 'screw': 12426, 'stabilizer': 13314, 'enjoyed': 4866, 'reasonable': 11489, 'floor': 5644, 'ceiling': 2613, 'newcomer': 9466, 'veteran': 15131, 'augment': 1665, 'stabilizing': 13315, 'banks': 1852, 'gpio': 6256, 'resin': 11884, 'sane': 12308, 'supplies': 13687, 'tweezers': 14561, 'maneuvering': 8588, 'heat': 6588, 'gun': 6408, 'shrinkwrap': 12815, 'stripper': 13510, 'anticipated': 1313, 'hand': 6476, 'rigid': 12061, 'arm': 1489, 'deadening': 3818, 'mat': 8681, 'heft': 6600, 'silence': 12857, 'hollow': 6731, 'plastic': 10618, 'noise': 9557, 'aluminum': 1198, 'keychron': 7858, 'q1': 11249, 'infill': 7170, 'dialectric': 4147, 'grease': 6319, 'scratchiness': 12415, 'contacting': 3339, 'wired': 15560, 'guinea': 6405, 'pig': 10535, 'whisky': 15484, 'gptk': 6266, 'wine': 15545, 'winecx22': 15546, 'wineskin': 15547, 'dxmetal': 4590, 'crossover': 3583, '693': 623, 'qgreenland': 11256, 'nsidc': 9634, 'synergy': 13797, 'adc': 929, 'twilamoon': 14565, 'science': 12395, 'mattf': 8713, 'encompass': 4813, 'arctic': 1456, 'dataone': 3768, 'gha': 6127, 'isolaterd': 7551, 'artifacts': 1526, 'nceas': 9395, 'metadig': 8864, 'jenkins': 7659, 'gradually': 6285, 'migrating': 8927, 'encompasses': 4814, 'providers': 11122, 'archive': 1453, 'scientist': 12397, 'fair': 5339, 'individualized': 7151, 'epsg': 4951, '3413': 412, 'performantly': 10416, 'qgis': 11255, 'layers': 8064, 'populating': 10732, 'structuring': 13527, 'groups': 6356, 'zipping': 15889, 'shebang': 12725, 'architected': 1446, 'surmountable': 13708, 'nfs': 9484, 'nod': 9539, 'ogdc': 9807, 'harmonization': 6518, 'broader': 2284, 'networked': 9450, 'withing': 15578, 'envisioning': 4935, 'hugely': 6833, 'sourced': 13144, 'harmonized': 6520, 'bandwidth': 1849, '5gb': 573, 'defineeventhandlerevent': 3913, 'defineeventhandlerasync': 3912, 'luc122c': 8455, 'nuxtr': 9683, 'introducing': 7445, 'aim': 1080, 'gripe': 6342, 'nuxt': 9681, 'watcher': 15339, 'snd': 13028, 'adhamfarrag': 959, 'acode': 870, 'vpn': 15255, 'cellular': 2622, 'government': 6255, 'beast': 1922, 'astro': 1605, 'legendsabbir': 8119, 'customizable': 3675, 'mouser': 9192, 'lp1oa1ab': 8439, '5mm': 577, 'pcb': 10359, '7mm': 659, 'circular': 2789, 'enlarged': 4869, 'hole': 6726, 'nuts': 9680, 'thicker': 14095, 'firmly': 5565, 'secured': 12499, 'dot': 4455, 'hotglue': 6780, 'mechanically': 8776, 'bouncy': 2204, 'pin': 10542, 'contacts': 3340, '5v': 581, 'resistor': 11885, 'rated': 11409, '20ma': 285, '100r': 51, 'brightness': 2272, 'bright': 2270, '1kr': 230, 'tie': 14178, '0v': 39, 'leds': 8108, 'expander': 5169, 'listed': 8269, 'bom': 2152, 'u8': 14612, 'p0': 10162, 'p2': 10165, 'accessory': 831, 'headache': 6566, 'switchable': 13764, 'acc': 806, 'u2': 14609, 'detectable': 4077, 'spaghetti': 13163, 'expanders': 5170, 'smt': 13019, 'ahh': 1074, 'solder': 13064, 'eol': 4939, '36': 421, 'scriptable': 12435, 'troubleshooting': 14485, 'wizard': 15584, 'sandboxing': 12305, 'sbiemsg': 12343, 'popup': 10734, 'restructured': 11941, 'updater': 14864, 'debugger': 3839, 'logapi': 8354, 'addons': 948, 'reworked': 12026, 'donations': 4444, 'sandboxie': 12304, '65': 611, 'unloads': 14772, '115': 77, '1901': 202, '203': 273, '64': 602, 'unsandboxed': 14812, 'isar': 7536, 'anticipation': 1314, 'discouraged': 4280, 'buildquery': 2349, 'whereclauses': 15474, 'indexwhereclause': 7141, 'equalto': 4956, 'indexname': 7140, 'indexedfield': 7136, 'mycollection': 9322, 'where': 15472, 'downloaded': 4470, '5500': 546, 'reinstalled': 11676, 'restarted': 11926, 'randomize': 11381, 'liveserver': 8298, 'explicitly': 5214, 'custombrowser': 3665, 'firewall': 5563, 'thankyou': 14054, 'concerned': 3184, 'nobrowser': 9535, 'localhost': 8336, 'theirrationalone': 14064, 'naah': 9340, 'wsl': 15701, 'wowww': 15660, 'hahahaha': 6457, 'realm': 11480, 'flatlists': 5607, 'magically': 8523, 'underlying': 14693, 'spontaneously': 13254, '5000': 518, 'flatlist': 5606, 'instantiated': 7308, 'mongodb': 9139, 'sdks': 12460, 'flashlist': 5600, 'undefined': 14685, 'stale': 13334, 'perl': 10425, 'neotest': 9428, 'ultest': 14642, 'interpret': 7416, 'quickfix': 11318, 'editors': 4660, 'besides': 2001, 'adequately': 957, 'comparable': 3085, 'scalability': 12347, 'effective': 4673, 'cycle': 3699, 'nihilus118': 9514, 'receives': 11511, 'dap': 3736, 'accepts': 822, 'stdin': 13403, 'stdout': 13404, 'bmeneg': 2129, 'afaict': 1025, 'bomb': 2153, 'tsc': 14513, 'writes': 15687, 'languageserver': 8017, 'aha': 1072, 'yep': 15802, 'debugadapter': 3838, 'findinguniqueid': 5537, 'stroke': 13514, 'genius': 6026, 'prowler': 11127, 'rascal999': 11399, 'shallow': 12704, 'newest': 9469, 'equality': 4954, 'zustand': 15921, '1282': 102, 'rephrased': 11789, 'thrilled': 14144, 'uxs': 14981, 'unlabelled': 14763, 'icons': 6900, 'activation': 893, 'navigable': 9385, 'discover': 4282, 'swapping': 13748, 'iconography': 6899, 'ux': 14980, 'designer': 4053, 'presentations': 10893, 'widescreen': 15508, 'precious': 10833, 'waste': 15335, 'portrait': 10749, 'granted': 6296, 'critique': 3571, 'considerable': 3290, 'placement': 10596, 'internalize': 7403, 'touched': 14342, 'hiding': 6662, 'slash': 12954, 'awkward': 1768, 'honest': 6743, 'aesthetic': 1022, 'h2': 6423, 'tagline': 13853, 'uncanny': 14666, 'deselect': 4041, 'sucks': 13622, 'emphasize': 4774, 'fellow': 5435, 'sentiment': 12592, 'satisfied': 12320, 'gather': 5971, 'condescending': 3204, 'belongs': 1982, 'distracting': 4329, 'social': 13044, 'forming': 5757, 'cumbersome': 3639, 'heavily': 6594, 'activites': 899, 'dissatisfaction': 4316, 'repeatedly': 11783, 'voiced': 15230, 'demonstrated': 3976, 'unsatisfactory': 14813, 'misinformed': 9003, 'yiu': 15817, 'confuse': 3251, 'openonclick': 9926, 'doubleclick': 4460, 'islet': 7543, 'inspired': 7289, 'intentionally': 7364, 'minimalist': 8966, 'thin': 14100, 'island': 7542, 'freedom': 5816, 'tied': 14179, 'interoperability': 7409, 'seamlessly': 12471, 'jsx': 7763, 'technology': 13941, 'bloated': 2101, 'straightforward': 13468, 'maintainability': 8542, 'learning': 8099, 'nature': 9381, 'suited': 13645, 'offers': 9794, 'neighbor': 9420, 'p5': 10170, 'p5py': 10171, 'shapes': 12711, 'interactivity': 7375, 'typography': 14600, 'curves': 3660, '2d': 367, 'transformations': 14402, 'pshape': 11147, 'trigonometry': 14472, 'primer': 10943, 'dimensional': 4209, 'casey': 2554, 'reas': 11487, 'ben': 1985, 'fry': 5861, 'introduction': 7446, 'shiffman': 12742, 'oriented': 10034, 'lists': 8278, 'dan': 3727, 'onscreen': 9881, 'eisenberg': 4696, 'rotate': 12140, 'opengl': 9919, 'anatomy': 1247, 'analyze': 1243, 'py5': 11216, 'arihantparsoya': 1481, 'arihant': 1480, 'parsoya': 10276, 'abhikpal': 775, 'abhik': 774, 'pal': 10204, 'specially': 13194, 'fog': 5680, 'openpcdet': 9927, 'integrating': 7339, 'minified': 8961, 'afternoon': 1046, 'ffmpegio': 5460, 'ffmpeg': 5459, 'disc': 4262, 'practical': 10810, 'stereo': 13416, 'mathematically': 8700, '3db': 446, 'spike': 13225, 'peaks': 10374, 'postprocessor': 10780, 'schittli': 12384, 'luckily': 8459, 'anull': 1324, 'ff': 5455, 'matplotlib': 8707, 'pyplot': 11236, 'evening': 5060, 'tikuma': 14188, 'lsuhsc': 8449, 'very': 15128, 'taskâ': 13906, 'transparently': 14429, 'kesh': 7844, 'members': 8805, 'assessment': 1574, 'jquery': 7743, 'weight': 15424, 'sped': 13206, 'differently': 4186, 'rubric': 12197, 'accomplished': 837, 'antlr4': 1322, 'antlr4wasm': 1323, 'webassembly': 15376, 'floating': 5643, 'lischke': 8267, 'lexing': 8163, 'laid': 7996, 'foundation': 5776, 'vocabulary': 15226, 'happily': 6498, 'details': 4076, 'eric': 4965, 'replied': 11804, 'webasm': 15375, 'antlr': 1321, 'exchanging': 5117, 'coordinating': 3432, 'tooling': 14308, 'tremendous': 14453, 'simplification': 12880, 'wasmer': 15332, 'gradual': 6284, 'assemblyscript': 1569, 'proved': 11116, 'serializing': 12621, 'deserializing': 4046, 'monstrous': 9154, 'fledged': 5616, 'bumped': 2360, 'evolving': 5088, 'slowly': 12988, 'rfcs': 12035, 'fundamental': 5897, 'gaps': 5955, 'struct': 13520, 'achievable': 860, 'targets': 13896, 'lexer': 8161, 'aspects': 1554, 'boundary': 2207, 'diagnostics': 4143, 'primitive': 10945, 'mitigated': 9030, 'conclusion': 3192, 'fear': 5406, 'converting': 3411, 'visitor': 15192, 'constructive': 3318, 'qualify': 11275, 'generative': 6016, 'walk': 15298, 'approachable': 1413, 'requiring': 11853, 'artificial': 1528, 'intelligence': 7345, 'intelligent': 7346, 'openai': 9903, 'powered': 10791, 'copilot': 3445, 'facilitates': 5317, 'prompts': 11066, 'hesitate': 6637, 'gateway': 5970, 'try_files': 14506, 'proxy_pass': 11132, 'amplicon': 1232, 'specific': 13195, 'ssu': 13307, '16s': 168, '338': 411, '533': 540, 'rescript': 11862, 'qiime2': 11258, 'cyanoseq': 3696, 'curated': 3642, 'seqs': 12610, 'silva': 12865, 'qza': 11341, 'fasta': 5380, 'taxon': 13915, 'tax': 13913, 'taxtree': 13917, 'taxmap': 13914, 'taxrank': 13916, 'ajax': 1091, 'browsershot': 2300, 'foreach': 5720, 'select': 12538, 'pathtoimage': 10327, 'laravel': 8025, 'concatenated': 3171, 'incrementally': 7122, 'stringstream': 13506, 'prepend': 10876, 'streamed': 13480, 'multiplayer': 9268, 'incremental': 7121, 'criticism': 3569, 'basing': 1882, 'nlohmann': 9525, 'throwing': 14153, 'exceptions': 5110, '2597': 336, 'couldn': 3482, 'jamessimone': 7619, 'apex': 1348, 'rollup': 12122, 'dlrs': 4379, 'rollups': 12124, 'recalculate': 11501, 'distinct': 4321, 'calculates': 2434, 'rollupfullbatchrecalculator': 12123, 'frequent': 5828, 'dailyasync': 3722, '85': 676, '67': 616, 'occurred': 9751, 'randybarton24': 11385, 'restarting': 11927, 'recalc': 11500, 'inserts': 7271, 'truncated': 14496, 'flame': 5593, 'occurring': 9753, 'sometimes': 13109, 'chunk': 2777, 'catch': 2567, 'sobject': 13040, 'retrieved': 11972, 'soql': 13126, 'querying': 11304, '07l3q00004t6czleaf': 29, '52k': 537, 'rolling': 12120, 'cascading': 2550, 'theory': 14082, 'supplied': 13685, 'medusa': 8787, 'premises': 10870, 'instore': 7315, 'cart': 2542, 'categories': 2571, 'stripe': 13509, 'payment': 10347, 'pos': 10751, 'agency': 1053, 'onsite': 9883, 'manu': 8604, 'ecommerce': 4639, 'retail': 11952, 'inseparable': 7264, 'collaborated': 2978, 'shipped': 12754, 'specifics': 13199, 'posted': 10771, 'trogntuan1103': 14481, 'shot': 12791, 'gsp': 6368, 'connector': 3277, 'club': 2894, 'ordinally': 10015, 'gspro': 6369, 'going': 6229, 'socket': 13046, 'expires': 5204, 'sending': 12575, 'throttling': 14149, 'es6': 4984, 'parquet': 10268, 'bundler': 2365, 'arrow2': 1516, 'except': 5107, 'fixable': 5580, 'ffi': 5458, 'instantiating': 7309, 'executor': 5141, 'hunt': 6856, 'mainly': 8538, 'soul': 13132, 'ruining': 12201, 'mmr': 9059, 'sepaerated': 12595, 'bounty': 2211, 'once': 9854, 'confuses': 3253, 'huntstatslogger': 6858, 'profiles': 11025, 'seperated': 12605, 'mate': 8691, 'unfortunatelly': 14728, 'alphabethical': 1168, 'sworn': 13773, 'edit2': 4653, 'profileid': 11023, 'blood_line_name': 2115, 'huntstats': 6857, 'replaces': 11794, '53': 538, 'wagtail': 15290, 'ernest': 4969, 'struggles': 13531, 'programatically': 11031, 'add_child': 932, 'covered': 3503, 'deferred': 3906, 'treebeard': 14445, 'parentalkey': 10261, 'complaining': 3109, 'adequate': 956, 'parent_object': 10260, 'nearest': 9400, 'save_revision': 12326, 'routablepageurl': 12153, 'mental': 8820, 'taste': 13909, 'itunes': 7596, 'deezer': 3893, 'curate': 3641, 'drastically': 4499, 'truthfully': 14503, 'sick': 12827, 'blank': 2085, 'witch': 15570, 'approximated': 1425, 'marking': 8649, 'album': 1111, 'favorites': 5396, 'portal': 10741, 'sorting': 13131, 'subsonic': 13598, 'favoriting': 5397, 'would': 15654, 'artist': 1530, 'dose': 4453, 'artists': 1532, 'albums': 1112, 'favorited': 5395, 'organization': 10024, 'vacanza': 15008, 'inherited': 7202, 'ryanss': 12239, '2018': 263, 'numerous': 9667, 'surely': 13703, 'mborsetti': 8741, 'casual': 2559, 'gratitude': 6313, 'last': 8031, 'occupation': 9745, 'collaborators': 2985, 'completeness': 3118, 'functionalities': 5887, 'arkid15r': 1488, 'kjhellico': 7908, 'maturity': 8721, 'curtains': 3658, 'recentish': 11514, 'holiday': 6728, 'italian': 7569, 'blessed': 2094, 'prodigy': 11003, 'transferring': 14397, 'maurizio': 8723, 'buone': 2369, 'vacanze': 15009, 'downgrade': 4467, '19327': 207, 'engines': 4856, 'triage': 14458, 'intertwined': 7425, 'funnel': 5904, 'awareness': 1763, 'known': 7925, 'œdiscussionsâ': 15942, 'seo': 12593, 'overlooked': 10128, 'gh': 6126, 'certainly': 2641, 'smarter': 13002, 'comfortable': 3027, 'migrations': 8929, '11798': 82, 'hover': 6790, 'conversations': 3401, 'headless': 6571, 'cms': 2916, 'strapi': 13475, '126': 96, '4gb': 510, 'baget': 1827, 'loic': 8380, 'sharma': 12719, 'sep': 12594, 'paying': 10343, 'nuget': 9650, 'determined': 4087, 'grow': 6358, 'cplusplus17': 3517, 'ondrejvalenta': 9864, 'discussing': 4293, 'nugetter': 9651, 'distinguish': 4325, 'burning': 2376, 'recover': 11554, 'hindered': 6683, 'expand': 5165, 'rights': 12059, 'archived': 1454, 'possibile': 10762, 'ive': 7600, 'cve': 3689, 'ivre': 7601, 'scan': 12356, 'scan2db': 12357, 'hopeful': 6757, 'cves': 3690, 'sharding': 12713, 'ckeditor': 2800, 'tableproperties': 13835, 'tablecellproperties': 13832, 'tablecolumnresize': 13833, 'tablecaption': 13830, 'craft': 3524, 'vertically': 15126, 'amounts': 1228, 'lengths': 8130, 'keynote': 7864, 'catalyst': 2565, 'customise': 3672, 'styling': 13558, 'appbar': 1369, 'overriding': 10136, 'variability': 15046, 'patches': 10321, 'ocluf': 9758, 'buckle': 2318, 'triggering': 14470, 'rant': 11391, 'reimplement': 11670, 'painful': 10197, 'lived': 8294, 'era': 4962, 'intentioned': 7365, 'misconception': 8997, 'detrimental': 4093, 'skeleton': 12933, 'horrible': 6768, 'assumes': 1597, 'misguided': 9000, 'inflates': 7174, 'stylesheet': 13557, 'adriangonz97': 995, 'terms': 13993, 'shake': 12701, 'revelation': 12000, 'adverse': 1007, 'ideological': 6925, 'developers': 4107, 'paradigm': 10232, 'convention': 3395, 'needle': 9412, 'torture': 14333, 'heart': 6586, 'involves': 7486, 'props': 11094, 'postcss': 10769, 'fashion': 5377, 'honestly': 6744, 'tougher': 14347, 'endigo9740': 4836, 'raising': 11369, 'themed': 14069, 'audacity': 1654, 'proof': 11069, 'catppuccin': 2582, 'dirty': 4238, 'frappe': 5810, 'visoart': 15193, 'license': 8191, 'recoloring': 11533, 'ain': 1083, 'comments': 3053, 'pyopensci': 11234, 'fighting': 5481, 'customizing': 3680, 'jekyll': 7657, 'sites': 12918, 'sass': 12315, 'lwasser': 8477, 'hugo': 6842, 'notebooks': 9595, '5830': 561, 'callout': 2457, 'blocks': 2110, 'pandoc': 10215, 'trace': 14359, 'customisation': 3671, 'revealjs': 11998, 'mccarthy': 8748, 'lcars': 8076, 'requesting': 11845, 'threadnetwork': 14133, 'thclient': 14058, '3801784': 435, 'retrieveallcredentials': 11971, 'tlv': 14248, 'openthread': 9940, 'tv': 14550, 'wall': 15302, 'csa': 3607, 'tsi': 14515, 'validated': 15025, 'retreivepreferredcredentials': 11967, 'bc': 1909, 'tenant': 13972, 'advise': 1014, 'nick': 9504, 'dynamics365': 4596, 'itpro': 7593, 'administration': 976, 'api_environments': 1350, 'xxx': 15772, 'variant': 15051, 'wrapping': 15677, '10835': 63, 'watching': 15340, 'misconfiguration': 8998, 'misuse': 9024, 'reproduces': 11835, 'titlebar': 14239, 'comp': 3079, 'showni': 12811, 'usedark': 14920, 'toggling': 14276, 'omission': 9840, 'transitionor': 14413, 'invalidi': 7455, '1000': 46, '11762': 81, 'futuristic': 5916, 'fusion': 5913, 'historically': 6693, 'been': 1938, 'recognisable': 11524, 'resonate': 11896, 'elttob': 4739, 'branding': 2240, 'broadly': 2285, 'reviewing': 12014, 'forth': 5762, 'roblox': 12094, 'oss': 10056, 'personality': 10448, 'eliminating': 4730, 'tendency': 13979, 'circle': 2785, 'overindulgent': 10117, 'associations': 1594, 'logos': 8374, 'rounded': 12150, 'layering': 8063, 'vortex': 15248, 'motion': 9174, 'evokes': 5083, 'orbitals': 10002, 'confined': 3239, 'plasma': 10617, 'reactor': 11448, 'wordmark': 15610, 'arc': 1442, 'cloth': 2882, 'helvetica': 6621, 'fest': 5444, 'magenta': 8520, 'spruced': 13268, 'unremarkable': 14808, 'monochrome': 9145, 'outs': 10097, 'retina': 11963, 'saturation': 12323, 'balanced': 1832, 'strain': 13470, 'transitioning': 14412, 'travelling': 14437, 'popping': 10726, 'atoms': 1626, 'expectations': 5176, 'outlined': 10083, 'favicon': 5391, 'considering': 3295, 'ensured': 4887, '24x': 326, '2px': 375, '16x': 169, '32x': 404, 'legibility': 8120, 'pixel': 10577, 'clarity': 2813, 'ultimately': 14644, 'inconsistent': 7104, 'between': 2008, 'favicons': 5392, 'dropdowns': 4524, 'with_loader_criteria': 15573, 'deleted_at': 3946, 'equal': 4953, 'xy': 15775, 'ys': 15847, 'secondary': 12487, 'orm': 10041, 'xys': 15776, 'zzzeek': 15923, 'associationproxy': 1593, 'ys_proxy': 15848, 'fetch': 5446, 'fetching': 5450, 'eager': 4606, 'selectin': 12542, 'xysoftdeleteable': 15777, 'outer': 10079, 'nullable': 9656, 'innerjoin': 7246, 'association_proxy': 1592, 'sqlalchemy': 13274, 'loading_relationships': 8328, 'joinedload': 7707, 'taht': 13857, 'some_x': 13092, 'queryx': 11308, 'optionsdefaultloadx': 9995, 'lazyloadxy': 8072, 'cancel': 2476, 'spell': 13216, 'sampled': 12293, 'temperature': 13961, 'deterministic': 4091, 'vllm': 15216, 'hf': 6648, 'transformers': 14406, 'generations': 6015, 'recreating': 11560, 'verbatim': 15104, 'greedy': 6328, 'repetition': 11785, 'sampling': 12297, '450': 490, 'sentence': 12588, 'presence': 10887, 'frequency': 5827, 'penalty': 10388, 'appeared': 1375, 'degridate': 3930, 'gptj': 6265, 'llama': 8304, 'neox': 9430, 'repetitive': 11787, 'bad_words_ids': 1823, 'tgi': 14045, 'sampler': 12294, 'documenting': 4415, 'mkdocs': 9043, 'macros': 8514, 'maintainable': 8543, 'docstrings': 4405, 'on_page_markdown': 9850, 'mkdocstrings': 9045, 'on_env': 9847, 'pawamoy': 10341, 'invalidate': 7454, 'jinja2': 7681, 'nh916': 9496, 'mkdocstings': 9044, 'jinja': 7680, 'fralau': 5798, 'on_files': 9848, 'injects': 7237, 'recall': 11504, 'clarification': 2808, 'fenced': 5440, '3251': 401, 'nucleus': 9647, '40': 457, 'snemmani': 13029, 'impose': 7045, 'matched': 8685, 'halt': 6466, 'valuable': 15035, 'raise': 11367, 'developments': 4111, '776': 648, 'regret': 11663, 'linq2db': 8253, 'principle': 10948, 'ef': 4671, 'discontinuation': 4274, 't4': 13824, 'notorious': 9612, 'breaker': 2249, 'l2db': 7967, 'linq': 8252, 'outranks': 10094, 'overhead': 10116, 'ssms': 13302, 'hell': 6608, 'comparatively': 3086, 'wished': 15565, 'plainly': 10599, '2000': 244, 'unformatted': 14726, 'someone': 13098, 'colleague': 2988, 'quitting': 11330, 'reproach': 11831, 'obligation': 9712, 'lacking': 7985, 'submitting': 13579, 'admit': 980, 'austerity': 1673, 'aforementioned': 1040, 'understandable': 14700, 'heck': 6597, '2200': 298, 'gazillion': 5980, 'cognition': 2962, 'insinuating': 7278, 'whatsoever': 15463, 'smoothen': 13014, 'passage': 10301, 'telling': 13958, 'deem': 3885, 'spoken': 13246, 'letting': 8147, 'debate': 3832, 'counted': 3487, 'voluntary': 15242, 'commitment': 3062, 'profession': 11017, 'leechers': 8111, 'grouching': 6349, 'pain': 10196, 'neck': 9408, 'apologizing': 1361, 'picky': 10525, 'willingness': 15527, 'carry': 2533, 'retired': 11965, 'obsoleted': 9728, 'chapter': 2676, 'audiobook': 1658, 'book': 2159, 'audiobookshelf': 1660, 'player': 10632, 'suck': 13621, 'looking': 8396, 'illegalargumentexception': 6966, 'round': 12148, 'nan': 9360, 'suprised': 13700, 'consumer': 3330, 'tremendously': 14454, 'semantic': 12563, 'recognizable': 11527, 'additions': 944, 'matures': 8719, 'iâ': 7604, 'preface': 10848, 'remarks': 11736, 'rethinking': 11961, 'vico': 15146, 'weâ': 15450, 'learnt': 8100, 'theyâ': 14094, 'libraryâ': 8186, 'impeded': 7015, 'unavoidable': 14657, 'chartvalues': 2697, 'markerlabelformatter': 8643, 'getlabel': 6094, 'jetpack': 7668, 'hereâ': 6628, 'excerpt': 5112, 'deprecation': 4015, 'impossibleâ': 7048, 'horizontalaxis': 6765, 'itemplacer': 7574, 'labeloffset': 7978, 'labelspacing': 7980, 'warn': 15320, 'bold': 2150, 'mildroid': 8936, 'hotfix': 6779, 'held': 6605, 'blindly': 2097, 'texts': 14026, 'grouping': 6354, 'androidx': 1262, 'incremented': 7123, 'œapi': 15937, 'changesâ': 2671, 'shifted': 12744, 'œadditionsâ': 15936, 'pragmatic': 10817, 'reserve': 11872, 'donâ': 4449, 'problematic': 10983, 'reported': 11811, 'reliable': 11710, 'fischer': 5571, 'helepful': 6606, 'widely': 15505, 'grown': 6360, 'increased': 7114, 'adapters': 923, 'sst': 13306, 'netlify': 9446, 'deno': 3985, 'hosts': 6775, 'expanded': 5167, 'hex': 6643, 'bolt': 2151, 'axle': 1775, 'diameter': 4154, 'm5': 8495, '30mm': 391, 'faceted': 5315, '6mm': 628, '0mm': 38, 'adjustable': 965, '05mm': 25, 'bike': 2036, 'nut': 9678, 'ic4': 6894, '1mm': 233, 'circles': 2787, 'tighter': 14183, 'softer': 13051, 'openscad': 9930, 'hexagonal': 6644, 'configurator': 3234, 'thingiverse': 14102, '5732525': 556, 'bannus': 1855, '480': 499, 'emadman': 4743, 'verify': 15110, 'fwiw': 5923, '4mm': 512, 'm5x0': 8499, 'peloton': 10385, 'zod': 15896, 'const': 3308, 'structuredoutputparser': 13525, 'fromzodschema': 5846, 'healthy': 6580, 'marathon': 8623, 'towards': 14353, 'mile': 8937, 'motivated': 9177, 'pushing': 11203, 'recognizing': 11531, 'injury': 7238, 'stronger': 13516, 'eat': 4622, 'nutrition': 9679, 'athlete': 1616, 'eating': 4623, 'diet': 4172, 'fuel': 5871, 'partner': 10293, 'inspiring': 7291, 'discipline': 4268, 'stringifyresponse': 13504, 'parseresponse': 10274, '480px': 500, '640px': 603, 'main_window': 8534, 'layer': 8062, 'boxes': 2217, 'spacing': 13161, 'defines': 3914, 'child': 2734, 'centering': 2628, 'entering': 4893, 'moot': 9162, 'flagging': 5591, 'extent': 5267, 'lands': 8003, 'triple': 14476, 'quote': 11336, 'perpendicular': 10434, 'flex': 5620, '1194': 84, 'gotta': 6251, 'som': 13088, 'deadly': 3822, 'tf': 14031, 'gke': 6172, '129': 105, '81': 665, 'podinfo': 10688, 'pipeline': 10564, 'evident': 5080, 'authenticate': 1679, 'individually': 7152, 'boost': 2171, 'pipelines': 10565, 'msal': 9235, 'shenanigan': 12735, 'unix': 14761, 'philosophy': 10490, 'modems': 9095, 'keyboards': 7857, 'printers': 10956, 'descriptor': 4040, 'oras': 9999, 'almost': 1160, 'eiaf': 4691, 'artefact': 1519, 'directories': 4231, 'registry': 11659, 's3fs': 12248, 'ohno': 9817, 'computing': 3169, 'wesselatwork': 15444, 'innovative': 7249, 'sys': 13805, '0m10': 37, '241s': 320, '64mib': 610, '2gib': 371, 'blobs': 2103, '32': 396, 'resulted': 11943, 'pulls': 11173, '1gib': 228, '512mib': 529, 'goofys': 6243, 'produced': 11006, 'zot': 15905, 'locks': 8347, 'polish': 10707, 'geospatial': 6052, 'ogc': 9806, 'geoparquet': 6047, 'beta1': 2005, 'footprints': 5713, 'planetary': 10608, 'apache': 1346, 'sedona': 12504, 'esri': 5015, 'geoanalytics': 6037, 'opengeospatial': 9918, 'partition': 10290, 'geometry': 6046, 'wkb': 15589, 'infinitely': 7172, 'dwilson1988': 4585, 'overture': 10143, 'scalable': 12348, 'wherobots': 15476, 'founded': 5778, 'creator': 3555, 'jiayuasu': 7676, 'spark': 13169, 'mix': 9033, 'lift': 8205, 'seerai': 12520, 'lend': 8127, 'spatial': 13174, '120gb': 88, 'jiayu': 7675, 'sedonas': 12505, 'd99f7767a499': 3710, 'scanning': 12359, 'codeql': 2944, 'josephpul': 7725, 'importance': 7036, 'valued': 15039, 'roy': 12165, 'shilkrot': 12746, 'multifaceted': 9261, 'hacker': 6444, 'deb': 3831, 'obs': 9714, 'tar': 13891, 'xz': 15780, 'heya': 6646, '10x64': 71, 'hub': 6826, 'exclusively': 5127, 'yourname': 15831, 'appdata': 1370, 'roaming': 12089, 'nriver': 9630, 'sage': 12273, 'poe': 10690, 'wheregone': 15475, 'userscript': 14940, 'approves': 1421, 'tahmid': 13856, 'inactive': 7068, 'halfmoon': 6460, 'underestimated': 14689, 'employed': 4778, 'bootstrap': 2178, 'satisfactory': 12318, 'shortcuts': 12784, 'wonky': 15605, 'jarring': 7632, 'animations': 1279, 'ecosystems': 4642, 'tech': 13934, 'ecosystem': 4641, 'every': 5072, 'presented': 10894, 'unveiled': 14846, 'conscious': 3281, 'gethalfmoon': 6090, 'rating': 11413, 'experte': 5199, 'voila': 15233, 'moreover': 9164, 'customization': 3676, 'explaining': 5207, 'retro': 11976, 'preferences': 10854, 'answering': 1307, 'intend': 7351, 'flesh': 5617, 'follower': 5692, 'tricks': 14464, 'codeigniter': 2941, 'flaviosuarez': 5610, 'halfmoonui': 6461, 'ide': 6907, 'superdev': 13669, 'supernova3339': 13675, 'jetbrains': 7666, 'sublimetext': 13572, 'tamid': 13876, 'toolkit': 14309, '16khz': 167, '8khz': 686, 'upsampled': 14882, 'telephony': 13956, 'asr': 1558, 'overwrites': 10150, 'extraction': 5279, 'needlessly': 9414, 'resample': 11859, 'marblenet': 8624, 'wer': 15440, 'overly': 10130, 'conjecture': 3261, 'specaugment': 13189, 'enrich': 4879, 'î¼agent': 15931, 'intriguing': 7440, 'interacts': 7376, 'managing': 8585, 'outlook': 10086, 'scheduling': 12377, 'triggers': 14471, 'reminder': 11744, 'deadlines': 3819, 'retrieve': 11970, 'inter': 7368, 'î¼agents': 15932, 'orchestrating': 10007, 'notify': 9609, 'advantages': 1004, 'personalised': 10447, 'scenes': 12371, 'streamlined': 13484, 'productivity': 11014, 'responsibilities': 11917, 'broadening': 2283, 'devkits': 4123, 'cam': 2465, 'pins': 10551, 'freenove': 5819, 'wrover': 15697, 'pricey': 10936, 'suwatchai': 13732, 'undersatnd': 14697, 'quit': 11328, 'reduction': 11596, 'automaically': 1716, 'libarary': 8173, 'eample': 4609, 'attachments': 1634, 'separetally': 12603, 'wich': 15503, 'imapct': 6985, 'silence_mode': 12858, 'imap': 6984, 'identification': 6917, 'traced': 14360, 'silent_mode': 12859, 'dudi': 4555, 'arduino': 1458, 'sketch': 12935, 'esp_mail_client': 5006, 'responsibility': 11918, 'tnx': 14258, 'enable_error_string': 4795, 'comilation': 3037, 'esp8266_ssl_client': 5005, 'cpp': 3519, '263': 342, '42': 475, 'esp_mail_error_client_str_8': 5007, 'declared': 3861, 'esp_mail_error_imap_str_18': 5008, 'wellcome': 15436, 'tomorrw': 14292, 'graylog': 6315, 'unraid': 14800, 'miodzicho': 8986, 'simheaven': 12867, 'sceneries': 12369, 'kubilus1': 7957, 'south': 13150, 'america': 1218, 'ortho': 10042, 'ao': 1340, 'carlos': 2529, 'scoped': 12403, 'foo': 5700, 'baz': 1902, 'questioned': 11312, 'permitted': 10432, 'statements': 13384, 'redefined': 11573, 'refiner': 11619, 'sdxl': 12464, 'checkpoints': 2723, 'diffusers': 4196, 'vae': 15014, 'jdc4429': 7650, 'sytan': 13819, 'promised': 11054, 'delay': 3932, 'prettified': 10919, 'choreci': 2759, '27070': 345, 'enforce': 4846, 'incoming': 7097, 'reviewer': 12012, 'troubleshoot': 14483, 'mdn': 8756, '3e2369d97e2d6fbfe33a3c496a8edd90e0b539e2': 447, 'l17': 7965, 'queengooborg': 11296, 'reacts': 11449, 'purposes': 11194, 'reviewdog': 12010, 'git_diff_content': 6155, 'yarn': 15792, 'uses': 14942, 'suggester': 13636, 'tool_name': 14302, 'pull_request': 11169, 'submmit': 13580, 'precommit': 10837, 'buggy': 2335, 'reverting': 12007, 'linters': 8256, 'lint': 8254, 'staged': 13326, 'stash': 13377, 'reapplied': 11485, 'preserve': 10900, 'linter': 8255, '28168': 352, 'onkarruikar': 9873, 'compliant': 3128, 'unintended': 14745, 'consequence': 3285, 'hamishwillee': 6471, 'reviewers': 12013, 'flagged': 5590, 'midnight': 8922, 'eslint': 4995, 'fragment': 5797, 'walking': 15299, 'runnable': 12213, 'intractable': 7435, 'fewer': 5454, 'burden': 2370, 'historycommits': 6696, 'burdened': 2371, 'determines': 4088, 'truncating': 14497, 'rightâ': 12060, 'blaming': 2084, 'limiting': 8229, 'desires': 4059, 'bsmth': 2309, 'pointed': 10695, 'feasibility': 5408, 'forks': 5741, 'forked': 5739, 'proportion': 11084, 'infer': 7167, 'statistic': 13393, 'translated': 14419, 'mozilla': 9204, 'latex': 8046, 'plotting': 10662, 'martinvacheron': 8662, 'ventures': 15099, 'queues': 11315, 'activities': 900, 'bus': 2379, 'netherite': 9444, 'eventhub': 5062, 'eventhubsconnection': 5064, 'storageprovider': 13450, 'cannot': 2488, 'relieable': 11715, 'azurastorage': 1781, 'orcvestration': 10009, 'hubname': 6827, 'func': 5883, 'accidentally': 834, 'craziness': 3538, 'durabletask': 4576, 'yourapp1': 15830, 'durable': 4574, 'hubs': 6828, 'differentiates': 4182, 'pending': 10390, 'appsettings': 1429, 'vars': 15060, 'states': 13385, 'taskhub': 13904, 'picked': 10520, 'dthe': 4547, 'well0549': 15435, 'delayed': 3934, 'multiple': 9269, 'sebastianburckhardt': 12482, 'appname': 1405, 'timeframe': 14203, 'utc': 14958, 'telemetry': 13955, '05t07': 26, '45z': 492, 'follows': 5694, 'claim': 2805, 'onramp': 9880, 'durableonramp': 4575, 'inspects': 7286, 'slip': 12976, 'eprocessing': 4950, 'itemsthe': 7578, 'onbly': 9852, '58z': 566, 'evenhubs': 5059, 'xls2csv': 15751, 'eventhubs': 5063, 'errrors': 4980, 'reopened': 11774, 'realted': 11481, '283': 353, 'manifested': 8592, 'roll': 12116, 'envision': 4933, 'segmentation': 12528, 'linear': 8236, 'decades': 3843, 'osm': 10054, 'shifting': 12745, 'downstream': 4479, 'algorithms': 1128, 'thatâ': 14057, 'appropriate': 1417, 'ingest': 7191, 'barrier': 1865, 'reduced': 11592, 'establish': 5020, 'familiarity': 5354, 'ride': 12053, 'incumbent': 7127, 'fitting': 5577, 'transportation': 14431, 'tackle': 13844, 'hypothetically': 6876, 'trim': 14474, 'restrictions': 11939, 'hov': 6789, 'lanes': 8006, 'belong': 1980, 'lean': 8093, 'deer': 3892, 'headlights': 6572, 'pager': 10189, 'lr': 8444, 'webinars': 15390, 'whatnot': 15459, 'pivot': 10575, 'dust': 4580, 'amplify': 1233, 'conventional': 3396, 'emphasis': 4773, 'perfecting': 10409, 'shelf': 12731, 'emily': 4759, 'engage': 4847, 'polyglot': 10714, 'pythonnet': 11246, 'vts': 15269, 'mismatch': 9007, 'dictionaries': 4160, 'pythonic': 11245, 'graduate': 6286, 'starter': 13371, 'mirror': 8990, 'wouldn': 15655, 'mccl': 8749, 'repos': 11815, 'barebones': 1861, 'smallsharp': 12997, 'mimic': 8944, 'utilize': 14965, 'optionally': 9993, 'desire': 4057, 'decoration': 3873, 'esrgan': 5013, 'pth': 11152, 'realesrgan_x4plus': 11469, 'lyrics': 8485, 'lyric': 8484, 'workout': 15631, 'relax': 11699, 'playlists': 10640, 'naturally': 9380, 'discovery': 4286, 'synced': 13786, 'merging': 8843, 'bro': 2278, 'theoritical': 14081, 'toasterofbread': 14261, 'playlist': 10638, 'arrange': 1500, 'their': 14063, 'reverts': 12008, '4the': 515, 'brother': 2292, 'reorder': 11775, 'reordering': 11776, 'reopen': 11773, 'appsevery': 1430, 'arises': 1483, 'sorted': 13130, 'catogory': 2581, 'overlapped': 10121, 'stoped': 13444, 'aren': 1464, 'circled': 2786, 'amoled': 1224, 'blackhole': 2080, 'liked': 8217, 'songs': 13116, '69': 621, 'strongly': 13519, 'kohya': 7931, 'colab': 2971, 'colabs': 2973, 'saviour': 12332, 'linaqruf': 8233, 'ipynb': 7513, 'lora': 8409, 'tier': 14180, 'a100': 745, 'collabs': 2986, 'firstly': 5569, 'volar': 15234, 'johnsoncodehk': 7704, 'apologise': 1359, 'frustrated': 5858, 'any': 1325, 'codebases': 2934, 'severity': 12680, 'vue': 15270, 'compound': 3148, 'reproductions': 11839, 'monorepos': 9150, 'littered': 8288, 'anys': 1331, 'shelved': 12734, 'antidotes': 1316, 'crawling': 3537, 'tail': 13858, 'legs': 8124, 'addressing': 952, 'cooked': 3418, 'summon': 13654, 'evan': 5056, 'yyx990803': 15859, 'intellisence': 7349, 'pinging': 10546, 'johnson': 7703, 'so1ve': 13039, 'exhaustion': 5149, 'rfc': 12032, 'stabilize': 13313, 'equally': 4955, 'helpless': 6619, 'codeactionsonsave': 2932, 'prof': 11016, 'ranting': 11392, 'serious': 12624, 'insist': 7279, 'reporter': 11812, 'goodwill': 6242, 'tired': 14235, 'rants': 11393, 'calm': 2461, 'wording': 15609, 'brutally': 2304, 'directed': 4221, 'whole': 15497, 'precarious': 10828, 'dx': 4587, 'vetur': 15133, 'formattingonsave': 5754, 'falter': 5351, 'impeccable': 7014, 'faltering': 5352, 'joking': 7713, 'knowledgeable': 7924, 'replication': 11803, 'initialise': 7211, 'survey': 13718, 'warmest': 15319, 'congratulation': 3258, 'joy': 7733, 'achieving': 865, 'anytype': 1334, 'longing': 8388, 'synology': 13799, 'siousu': 12911, 'invest': 7466, 'simplifying': 12885, 'develops': 4114, 'volunteer': 15243, 'filenode': 5497, 'coordinator': 3435, 'consolidated': 3307, 'filenodes': 5498, 'helm': 6611, 'monolithic': 9148, 'advocate': 1017, 'kvm': 7962, 'opensuse': 9938, 'tumbleweed': 14530, 'osi': 10052, 'packaged': 10176, 'redistributed': 11585, 'commercial': 3055, 'refrain': 11631, 'containerisation': 3343, 'waek': 15289, 'succeeded': 13609, 'sambouwer': 12287, 'accident': 832, 'reject': 11680, 'golang': 6230, 'iphone': 7504, 'installing': 7301, 'approximate': 1424, 'selfhosted': 12555, 'markusstephanides': 8654, 'clems4ever': 2845, 'rebuild': 11497, 'electron': 4716, 'readmes': 11459, 'doubting': 4463, 'configurability': 3230, 'clem4sever': 2843, 'monthly': 9158, 'july': 7772, 'fuksman': 5873, 'expectation': 5175, 'sept': 12608, 'september': 12609, 'picking': 10522, 'were': 15441, 'inline': 7241, 'expressive': 5247, 'realtime': 11482, 'submodules': 13582, 'puppetdoc': 11180, 'prod': 11002, 'timestamp': 14216, 'staging': 13329, 'stage1': 13325, 'vaultwarden': 15066, 'vaulwarden': 15067, 'was': 15328, 'admin_token': 974, 'emergency': 4758, 'unlock': 14773, 'enrolled': 4881, 'precaution': 10829, 'recreate': 11557, 'precautions': 10830, 'enrollment': 4883, 'translator': 14424, 'immersive': 7003, 'deepl': 3890, 'translates': 14420, '99': 703, 'ignorehitpause': 6949, 'precedent': 10832, 'chakra': 2658, 'panda': 10211, 'shadcn': 12694, 'ark': 1487, 'radix': 11360, 'largely': 8027, 'vague': 15017, 'tweet': 14559, 'segun': 12531, 'emotion': 4771, 'lee': 8110, 'robinson': 12093, 'i5xec9t': 6887, 'hzg': 6878, '27': 344, '55min': 549, 'severally': 12677, 'codebender828': 2935, '1650712270325026816': 159, 'segunadebayo': 12532, 'settle': 12670, 'shoe': 12767, 'articles': 1522, 'investment': 7472, 'camp': 2470, 'evolve': 5085, 'accomplishes': 838, 'linkedin': 8246, 'aggregate': 1057, 'answered': 1306, 'cschroeter': 3608, 'v4': 14991, 'op': 9894, 'intends': 7354, 'naively': 9348, 'pouring': 10786, 'agnostic': 1063, 'evaluating': 5054, 'monolith': 9147, 'anticipate': 1312, 'leveraging': 8159, 'notable': 9589, 'harmonize': 6519, 'employ': 4777, 'skeptical': 12934, 'intricacy': 7438, 'librariesâ': 8183, 'mantine': 8603, 'uiâ': 14636, 'onset': 9882, 'restrictive': 11940, 'rising': 12070, 'popularity': 10728, 'capitalize': 2505, 'contemporary': 3350, 'solutionâ': 13080, 'derived': 4028, 'tad': 13848, 'adaptability': 919, 'debt': 3836, 'evaluated': 5053, 'shad': 12693, 'hang': 6491, 'reckoned': 11522, 'urgent': 14897, 'horizon': 6762, 'albeit': 1109, 'weigh': 15422, 'aligns': 1135, 'streamer': 13481, 'disconnect': 4272, 'loos': 8405, 'hlsalwaysremux': 6709, 'disk': 4299, 'tracked': 14363, '1399': 123, 'mpeg': 9209, 'bluenviron': 2121, 'hls': 6708, 'm3u8': 8492, 'recordings': 11552, 'resuming': 11949, 'videojs': 15158, 'meross': 8846, 'winded': 15537, 'thank': 14048, '500': 517, 'reinstalling': 11677, 'auka84': 1670, 'blackdot': 2078, 'developement': 4104, 'softimage': 13053, 'xsi': 15766, 'wip': 15556, 'wit': 15569, 'protorype': 11109, 'prototype': 11110, 'vertex': 15123, 'polygon': 10715, 'raytracer': 11422, 'particapte': 10281, 'conding': 3205, 'speeding': 13209, '8x': 687, 'triton': 14477, 'kernels': 7841, 'torch': 14327, '09': 31, 'zitadel': 15890, 'sidenote': 12831, 'cleanup': 2836, 'couchdb': 3479, 'emacs': 4742, 'keybindings': 7853, 'meow': 8835, 'keybinding_qwerty': 7852, 'whitespace': 15493, 'virtually': 15181, 'helix': 6607, 'vi': 15136, '1873': 192, '1877': 194, 'capital': 2503, 'lowercase': 8432, 'beacon': 1916, 'beauty': 1929, 'magit': 8524, 'lsp': 8448, 'kakoune': 7805, 'modal': 9076, 'kak': 7804, 'sth': 13421, 'fn': 5671, 'eq': 4952, 'bool': 2166, 'jvd007': 7791, 'bacalhau': 1791, 'ipfs': 7503, 'reveals': 11999, 'opaque': 9896, 'swarm': 13750, 'smoother': 13015, 'afaics': 1024, 'nethier': 9445, 'bacalhau_ipfs_swarm_addresses': 1792, 'recognise': 11525, 'bacalhau_ipfs_swarm_keyfile': 1793, 'requester': 11844, 'whilst': 15482, 'conneciton': 3265, 'reinventing': 11678, 'wheel': 15466, 'invented': 7458, 'tldr': 14246, 'stands': 13357, 'publisher': 11164, 'unconstrained': 14679, 'envrionments': 4938, 'replicating': 11802, 'pluggable': 10667, 'shorter': 12786, 'influence': 7176, 'decisions': 3855, 'suboptimal': 13583, 'unfair': 14722, 'infra': 7186, 'swarms': 13751, 'checkbox': 2709, 'eartrumpet': 4614, 'audials': 1655, 'cluttered': 2902, 'ass': 1560, 'suit': 13642, 'announcing': 1291, 'sile': 12856, 'typesetter': 14591, 'aiming': 1082, 'djot': 4369, 'overhauling': 10115, 'lunamark': 8467, 'ast': 1602, 'typesetting': 14592, 'lag': 7990, 'readers': 11455, 'wild': 15521, 'inherent': 7198, 'symbols': 13777, 'dream': 4506, 'extensible': 5262, 'jgm': 7672, 'experiments': 5197, 'acknowledge': 867, 'deepen': 3887, 'indication': 7143, 'cautious': 2590, 'pyodide': 11233, '595': 568, 'airtable': 1090, 'typeerror': 14587, 'getrepository': 6103, 'gcod': 5985, 'valtech': 15034, 'functioncallinghelper': 5890, 'getfunctiondefinitionmethodinfo': 6087, 'methodinfo': 8877, 'functiondefinition': 5891, 'gptfunctiondescriptionattribute': 6264, 'gptparameterdescriptionattribute': 6267, 'getfunctiondefinitionsobject': 6088, 'functiondefinitions': 5892, 'callfunction': 2455, 'functioncall': 5889, 'invokes': 7481, 'utilities': 14962, 'ms': 9234, 'vbandi': 15068, 'xunit': 15770, 'puzzling': 11209, 'gpt3': 6262, 'regretted': 11664, 'furthermore': 5909, 'rather': 11412, 'reflections': 11628, 'shouldly': 12795, 'componentmodel': 3137, 'functiondescriptionattribute': 5893, 'parameterdescriptionattribute': 10248, 'unless': 14766, '2013': 258, 'transformation': 14401, 'dbt': 3806, 'dbeaver': 3804, 'interactively': 7374, 'duckdb': 4553, 'howdy': 6796, 'buena': 2324, 'vista': 15194, 'jwills': 7793, 'buenavista': 2325, 'threaded': 14131, 'wsl2': 15702, 'reconnect': 11544, 'comparability': 3084, 'jdbc': 7648, 'mr': 9226, 'luke': 8466, 'fury': 5911, 'warrior': 15325, 'wellpretty': 15438, 'overflowing': 10113, 'timothy': 14221, 'gse': 6366, '39': 438, 'through': 14150, 'combat': 3013, 'processes': 10997, 'recompiles': 11541, 'recreates': 11559, 'pulses': 11174, 'spot': 13257, 'happens': 6496, 'disease': 4297, 'pint': 10552, 'guinness': 6406, 'somethings': 13106, 'fro': 5843, 'dg': 4135, 'pdfs': 10368, 'gdrive': 5992, 'bxir': 2399, 'persoonlijk': 10453, 'levensloop': 8155, 'superhot': 13672, 'exllama': 5162, 'cpe': 3516, 'coherence': 2964, 'ppl': 10803, '16k': 166, 'scaled': 12352, 'perplexity': 10435, 'ntk': 9640, 'ntkv1': 9641, 'predict': 10843, 'calculating': 2435, 'sequences': 12612, '150': 135, 'empirically': 4776, 'freaking': 5811, 'dial': 4146, 'float': 5637, 'finetunes': 5541, 'consult': 3323, 'compress_pos_emb': 3153, 'pmtiles': 10676, 'maplibre': 8616, 'mbtiles': 8745, 'vaccum': 15012, 'opperation': 9959, 'israel': 7557, 'getzxy': 6113, 'transactional': 14389, 'clustered': 2897, 'tippecanoe': 14232, 'rsync': 12186, 'investigated': 7469, 'harelm': 6513, 'xdelta': 15734, 'unison': 14751, 'poc': 10682, '74': 640, 'diffing': 4193, 'succeed': 13608, 'slight': 12970, 'stm32': 13434, 'gaugewidgetsstm32': 5975, 'm5stack': 8498, 'video5330118765831010284': 15154, 'stm32f401': 13435, 'ili9486': 6962, 'stm32f411': 13437, 'st7789': 13311, 'microcontroller': 8903, 'tfte_spi': 14043, 'framebuffer': 5800, '84': 673, 'mhz': 8892, 'video5332342098601455914': 15155, 'setcolordepth1': 12649, 'setcolordepth8': 12650, '411': 471, 'reassign': 11492, 'coded': 2939, 'bodmer': 2143, 'adapted': 921, 'platforms': 10621, 'masking': 8670, 'teensy': 13948, 'rs': 12177, 'wr': 15669, 'rd': 11433, 'dma': 4380, 'intrigued': 7439, 'characteristic': 2679, 'sram': 13289, '128': 101, 'kb': 7821, 'respectively': 11910, '512': 526, '240': 318, '320': 397, 'sprite': 13267, 'tft_espi': 14041, '52384e4': 534, '_psram_enable': 734, 'didnâ': 4166, 'families': 5357, 'bought': 2202, 'stm32g431': 13438, '170': 172, 'mathematical': 8699, 'stm32f407': 13436, 'circuit': 2788, 'wroom': 15695, 'assigning': 1580, 'reassigning': 11493, 'makerfabs': 8561, 'tft': 14038, 'backlight': 1804, '38': 434, 'allocated': 1147, 'backlighting': 1805, 'mipi': 8987, 'rgb': 12038, 'comitting': 3039, 'nrf52840_dk': 9629, 'nrf52811': 9628, 'designs': 4055, 'nrf5211': 9627, '52810': 536, 'overclock': 10109, 'labs': 7983, 'acquires': 875, 'cloudmos': 2888, 'akash': 1096, 'supercloud': 13668, 'tyler': 14581, 'takeaways': 13864, 'ocl': 9757, 'acquisition': 877, 'mission': 9013, 'collaborative': 2982, 'agreement': 1068, 'massively': 8677, 'expands': 5172, 'cohesive': 2966, 'web3': 15371, 'akt': 1103, 'utilized': 14966, 'vest': 15129, 'demonstrates': 3977, 'attend': 1641, 'radically': 11356, 'emerged': 4757, 'standout': 13355, 'flagship': 5592, 'akashlytics': 1099, 'networkâ': 9454, 'forces': 5718, 'parity': 10265, 'accelerate': 809, 'worldâ': 15641, '300k': 381, 'sell': 12559, 'fluctuation': 5653, 'andrew': 1256, 'contract': 3371, 'continues': 3366, 'vested': 15130, 'liquidity': 8264, 'irritated': 7526, 'acquired': 874, 'fund': 5896, 'aquire': 1436, 'sustainable': 13730, 'rejecting': 11682, 'acquire': 873, 'legal': 8117, 'zjuuu': 15892, 'acquiring': 876, 'subsidy': 13597, 'compensating': 3097, 'oversee': 10139, 'cycles': 3701, 'greg': 6333, 'chain': 2654, 'allegedly': 1142, '58pct': 565, 'rejected': 11681, 'badly': 1826, '185': 188, 'holder': 6724, 'web2': 15370, 'corps': 3461, 'afford': 1037, 'startups': 13376, 'runway': 12225, 'staying': 13400, 'shipping': 12755, 'peep': 10381, 'vote': 15249, 'chains': 2656, 'highway': 6675, 'gov': 6253, 'agile': 1062, 'bod': 2142, 'systemic': 13815, 'cloudmost': 2889, 'bravo': 2242, 'roof': 12128, 'fee': 5420, 'comm': 3041, 'irritation': 7527, 'accrual': 849, 'monetizing': 9135, 'gate': 5967, 'refilled': 11616, 'companies': 3082, 'rejection': 11683, 'goods': 6240, 'offset': 9802, 'explorer': 5223, '211': 289, 'builders': 2344, 'marketer': 8646, 'wings': 15550, 'boys': 2220, 'irregularity': 7522, 'concerning': 3185, 'funded': 5900, 'agreeing': 1067, 'being': 1973, 'funds': 5902, 'sig': 12835, '207': 276, 'proposer': 11089, 'clarified': 2809, 'kamuelbob': 7806, 'validators': 15029, 'hat': 6542, 'nuance': 9645, 'passes': 10303, 'financial': 5528, 'indexer': 7137, 'thoughtful': 14125, 'œjson': 15954, 'mintscan': 8982, 'recipient': 11521, 'akash1v6c77xl46cfwcxcg30urygvpn8sv8rp6mwaluz': 1098, '200k': 251, 'mo': 9061, 'dollar': 4429, 'denominated': 3987, 'leftover': 8113, 'quarterly': 11289, 'proposals': 11086, 'surplus': 13709, 'deficit': 3908, 'subsequent': 13592, '216': 295, 'volatility': 15236, 'unspent': 14820, 'negatively': 9418, 'pride': 10939, 'plethora': 10652, 'transcribed': 14392, 'conducted': 3215, 'heyhewi': 6647, 'proposers': 11090, 'anyone': 1330, 'owner': 10156, 'voted': 15250, 'overvalues': 10144, 'undermines': 14695, 'proposition': 11092, 'markedly': 8641, 'superior': 13673, 'differentiating': 4183, 'inefficient': 7159, 'exorbitant': 5163, 'allocating': 1148, '300': 379, 'shouldering': 12793, 'vastly': 15064, 'compensation': 3098, 'six': 12923, 'compensate': 3096, 'overlapping': 10122, 'valuation': 15036, 'sizable': 12924, 'channeled': 2674, 'undeniable': 14686, 'questionable': 11311, 'granular': 6298, 'worthiness': 15651, 'expenditure': 5183, 'troublesome': 14486, 'approving': 1422, 'inadvertently': 7071, 'dangerous': 3732, 'incentivizing': 7083, 'encourage': 4820, 'lucrative': 8461, 'buyout': 2396, 'spirit': 13232, 'thrives': 14145, 'outset': 10098, 'paramount': 10252, 'norm': 9578, 'financially': 5529, 'incentivized': 7082, 'signaling': 12839, 'withholding': 15576, 'undermine': 14694, 'vibrant': 15143, 'withhold': 15575, 'staking': 13332, 'respct': 11903, 'rational': 11416, 'skimping': 12940, 'productive': 11013, 'composing': 3144, 'talent': 13870, 'steering': 13406, 'passion': 10305, 'skills': 12938, 'ofc': 9782, 'praetor': 10816, 'quasarch': 11294, 'vixello': 15210, 'imply': 7033, 'objection': 9704, 'budget': 2322, 'looong': 8401, 'btc': 2313, 'halving': 6468, 'bull': 2356, 'payout': 10348, 'cloudmosâ': 2890, 'brain': 2229, 'publicity': 11159, 'torpedo': 14331, 'outstanding': 10100, 'shameful': 12706, 'catsmanac': 2584, 'envoy_reader': 4937, 'jesserizzo': 7663, 'licensed': 8192, 'cla': 2804, 'hoffmann77': 6722, 'tracing': 14361, 'briancmpbll': 2263, 'danbeard': 3728, 'gtdiehl': 6374, 'enphase_envoy': 4877, 'cbr': 2593, 'enlarge': 4868, 'bookshelf': 2165, 'comics': 3035, 'organizational': 10025, 'dipped': 4215, 'toe': 14269, 'kavita': 7817, 'komga': 7932, 'comic': 3033, 'audiobooks': 1659, 'scrape': 12409, 'ebook': 4628, 'magazine': 8519, 'mylar': 9324, 'cbz': 2595, 'comicvine': 3036, 'defunct': 3926, 'comicrack': 3034, 'bookfusion': 2161, 'gigabyte': 6143, 'gig': 6141, 'superman': 13674, 'recode': 11523, 'ubooquity': 14618, 'opds': 9900, 'boo': 2158, 'fbreader': 5403, 'launched': 8055, 'jellyfin': 7658, 'emby': 4756, 'movies': 9202, 'shows': 12812, 'god': 6223, 'snake': 13024, 'payloads': 10346, 'openapi': 9905, 'conditioning': 3212, 'payload': 10344, 'camel': 2467, 'camroots': 2472, 'casing': 2555, 'zodschema': 15897, 'abcd': 771, '_quarto': 735, 'basics': 1881, 'yairmau': 15788, 'multiformat': 9262, 'mathjax': 8701, 'katex': 7816, 'discussions_q': 4296, 'nightdriverled': 9510, 'cote': 3478, 'concentrating': 3178, 'maybe': 8738, 'framerates': 5802, 'married': 8658, 'atop': 1627, 'abstraction': 798, 'pio': 10553, 'banging': 1850, 'ws': 15700, 'spi': 13224, 'rmt': 12080, 'bugreports': 2336, 'mesmerizer': 8850, 'harsh': 6525, 'measurement': 8769, 'strand': 13471, 'ish': 7540, 'achilles': 866, 'heel': 6599, '133': 117, 'overtake': 10142, 'caches': 2423, 'dunk': 4566, 'ghz': 6134, 'cores': 3454, 'viability': 15138, 'nerd': 9432, 'wars1': 15327, 'caveat': 2591, 'python3': 11239, 'alpaqa': 1166, 'epass': 4942, '2003': 248, 'dating': 3789, 'pkcs15init': 10588, 'pkcs15': 10587, 'onepin': 9866, 'mytoken': 9333, '123456': 93, 'puk': 11167, '12345678': 94, 'feitian': 5433, 'epass2003': 4943, '00': 0, 'transport': 14430, 'pkcs': 10585, 'meta': 8859, 'somwhere': 13111, 'opensc': 9929, 'textile': 14025, 'popovec': 10724, 'feitiansmartcardreader': 5434, '1234': 92, 'deletes': 3949, 'mf': 8887, 'refinery': 11621, 'bricks': 2265, 'conjunction': 3263, 'kern': 7839, 'brick': 2264, 'fastapi': 5381, 'oas3': 9693, 'integrator': 7342, 'dialogue': 4151, '88': 678, 'analect': 1238, 'labeling': 7976, 'heuristic': 6640, 'differentiation': 4184, 'leo': 8132, 'leonardpuettmannkern': 8134, 'channels': 2675, 'failover': 5334, 'm3u': 8491, 'abc': 769, 'alt2': 1178, '71': 635, 'lmk': 8315, 'shed': 12726, '104': 57, 'bother': 2195, 'firefox': 5562, 'chatbot': 2702, 'svelve': 13738, 'realeated': 11467, 'couldnt': 3483, 'nurse': 9673, 'useswr': 14945, 'fetcher': 5449, 'nursedata': 9674, 'nurseprofile': 9675, 'nurses': 9676, '_id': 727, 'breakout': 2251, 'openscapes': 9931, 'hdf': 6560, 'matt': 8710, 'rocklin': 12108, 'matthewrocklin': 8715, '02': 15, '06': 27, 'earthaccess': 4613, 'fsspec': 5865, 'filesh5py': 5504, 'pyhdf': 11230, 'latency': 8040, 'h5py': 6436, 'slownot': 12989, 'sequential': 12613, 'deadlock': 3820, 'kerchunk': 7837, 'gridded': 6339, 'netcdf': 9440, 'icesat': 6895, 'atl03': 1617, 'nasa': 9368, 'h5coro': 6433, 'opendap': 9910, 'hackweek': 6448, '2hackweek': 373, 'h5cloud': 6432, '1hsq1w_x_kbl80tdk8xsozqn1omcxuv7w8aczz2n1ro0': 229, 'g267a8d198f4_1_6': 5930, 'preliminary': 10864, '1f34411': 226, 'observations': 9721, 'h5repack': 6437, 'hdf5': 6561, 'chunks': 2779, 'rechunking': 11518, 'xarray': 15730, 'unsupported': 14826, 'caveats': 2592, 'structures': 13526, 'generalizing': 6007, 'abarciauskas': 766, 'bgse': 2018, 'benchmarking': 1988, 'zarr': 15864, 'copc': 3439, 'gedi_subsetter': 5996, 'h5dataframe': 6434, 'subclassed': 13561, 'dataframe': 3763, 'chuckwondo': 2775, 'extracted': 5277, 'gedi': 5995, 'netcdf4': 9441, 'backends': 1799, 'h5netcdf': 6435, 'jpswinski': 7742, 'rwegener2': 12233, 'hidefix': 6661, 'gauteh': 5978, 'pydata': 11224, '7446': 641, 'martindurant': 8661, 'parallelism': 10241, 'dask': 3750, 'gil': 6145, 'rfsspec': 12036, 'parallelizing': 10243, 'arrive': 1511, 'winner': 15553, 'open_reference_dsfile': 9902, 'multizarr': 9279, 'consolidate': 3306, 'alex': 1118, 'gardner': 5958, 'dug': 4558, 'multithreading': 9276, 'cryocloud': 3600, 'jupyterhub': 7784, '40gb': 469, 'traverse': 14438, 'parallell': 10244, 'parallelising': 10240, 'numcodecs': 9664, 'testers': 14012, 'tester': 14011, 'ssw': 13308, 'uat': 14616, 'acceptance': 818, 'criteria': 3566, 'delightful': 3956, 'reluctant': 11722, 'unwilling': 14848, 'bicep': 2029, 'testable': 14006, 'lay': 8061, 'acceptence': 820, 'refinement': 11618, 'gerkin': 6056, 'explicit': 5212, 'standing': 13354, 'behind': 1970, 'overboard': 10106, 'digestible': 4201, 'kidding': 7881, 'fakexrmeasy': 5345, 'dynamics': 4595, 'faked': 5343, 'against': 1049, 'exhaustive': 5150, 'spends': 13219, 'exploratory': 5220, 'acs': 880, 'loops': 8404, 'waterfall': 15343, 'shock': 12764, 'teams': 13933, 'simplistic': 12886, 'firebootcamp': 5558, 'welll': 15437, 'originating': 10040, 'reside': 11878, 'scrum': 12449, 'sprint': 13265, 'peasy': 10375, 'misunderstandings': 9022, 'accepetance': 815, 'eaiser': 4608, 'focuing': 5675, 'volatile': 15235, 'gigantic': 6144, 'monster': 9152, 'unify': 14739, 'phenomenon': 10486, 'squabbling': 13280, 'fulfil': 5874, 'faced': 5312, 'tailoring': 13859, 'film': 5515, 'director': 4230, 'owners': 10157, 'haves': 6552, 'ensuring': 4889, 'videos': 15159, 'accecptance': 807, 'writting': 15691, 'meme': 8808, 'specflow': 13190, 'harmonise': 6517, 'weak': 15364, 'leadership': 8085, 'refine': 11617, 'pbis': 10354, 'proving': 11124, 'structured': 13524, 'nasty': 9370, 'preprod': 10881, 'perf': 10407, 'hacky': 6449, 'getinitialprops': 6091, 'getserversideprops': 6106, 'inlined': 7242, '51212': 527, '49260': 506, 'instructed': 7318, 'tricker': 14461, 'icyjoseph': 6902, 'rending': 11767, 'irsa': 7528, 'tomcollins': 14288, 'writeup': 15688, 'prettierignore': 10918, 'subfolder': 13565, 'gitignore': 6160, 'ignorepath': 6950, 'congratulate': 3257, 'enu': 4921, 'neu': 9455, 'ngl': 9492, 'langchain': 8011, 'qa': 11251, 'iterating': 7584, 'sharepoint': 12716, 'seeking': 12512, 'aspx': 1557, 'cognitive': 2963, 'services': 12635, 'intranet': 7437, 'olmv1': 9833, 'sub': 13559, 'outreach': 10095, 'adopters': 985, 'discoverable': 4283, 'involvement': 7485, 'operators': 9955, 'prevalent': 10923, 'participating': 10286, 'mentorship': 8828, 'cncf': 2920, 'summer': 13653, 'labeled': 7975, 'targeted': 13894, 'hacktoberfest': 6446, 'enjoyable': 4865, 'ambassadors': 1207, 'opportunities': 9960, 'mentoring': 8827, 'comer': 3024, 'olm': 9832, 'minutes': 8985, 'occupy': 9747, 'willing': 15526, 'casio': 2556, 'paired': 10202, 'hands': 6488, 'curation': 3643, 'turning': 14546, 'ununifi': 14841, 'nftdata': 9488, 'nft': 9487, 'registration': 11657, 'dreamer': 4507, 'zq': 15908, 'registering': 11655, 'codec': 2936, 'registerimplementations': 11654, 'facundomedica': 5325, 'agenda': 1054, 'retrospective': 11977, 'backlog': 1806, 'grooming': 6345, 'gathering': 5973, 'ess': 5016, 'europython': 5050, 'whiteboard': 15489, 'copier': 3443, 'tof': 14271, 'school': 12388, 'sunyoung': 13663, 'interviews': 7430, 'interview': 7429, 'screening': 12419, 'exercise': 5146, 'beamlime': 1917, 'reviews': 12015, 'cleanly': 2833, 'hypothetical': 6875, 'confliuence': 3247, 'jira': 7682, 'gitlab': 6161, 'scattered': 12364, 'confluence': 3248, 'coffee': 2959, 'kanban': 7808, 'represent': 11823, 'scipp': 12399, 'scippneutron': 12400, 'superficial': 13671, 'skimming': 12939, 'walkthroughs': 15301, 'walkthrough': 15300, 'scitacean': 12401, 'pair': 10201, 'falling': 5348, 'semainars': 12562, 'arjan': 1486, 'refresher': 11635, 'nightly': 9511, 'ecdc': 4631, 'nexus': 9481, 'logical': 8363, 'detectors': 4084, 'inefficiently': 7160, 'cooperation': 3428, 'dtu': 4548, 'mitigation': 9031, 'twins': 14567, 'loki': 8381, 'odin': 9772, 'scicat': 12394, 'plopp': 10657, 'mocking': 9070, 'wfm': 15452, 'neumorphism': 9456, 'schbenedikt': 12372, 'queries': 11298, 'aborted': 783, 'destroyed': 4069, 'abortcontroler': 782, 'terminates': 13990, 'abort': 781, 'cancellation': 2480, 'kill': 7882, 'leaflet': 8088, 'plotly': 10660, 'threejs': 14141, 'incorporate': 7107, 'ipywidgets': 7514, 'they': 14093, 'ipyleaf': 7512, 'fx': 5924, 'printx': 10961, '2445': 322, 'oberservable': 9697, 'mislead': 9005, 'readthedocs': 11463, 'ssl': 13301, 'certpathvalidatorexception': 2645, 'certification': 2644, 'fingerprint': 5544, 'pinning': 10549, 'cn': 2919, 'san': 12301, 'hostname': 6774, 'loosing': 8408, 'cas': 2545, 'overkill': 10118, 'verification': 15108, 'certificates': 2643, 'pinned': 10548, 'trusted': 14500, 'unlikeness': 14768, 'securing': 12501, 'theft': 14062, 'horribly': 6769, 'flaw': 5612, 'topi': 14317, 'someday': 13095, 'appreciation': 1408, 'susliko': 13723, '277': 348, 'transitions': 14414, 'fade': 5326, 'viewtransitions': 15168, 'fading': 5328, 'grouproot': 6355, 'uploaded': 14876, 'knowsâ': 7927, 'stationâ': 13392, 'radio': 11357, 'ql': 11260, 'azuracast': 1779, 'quod': 11334, 'libet': 8177, 'nite': 9519, 'unneeded': 14786, 'pl': 10591, 'copyfiles': 3448, 'stamp': 13340, 'againâ': 1050, 'subfolders': 13566, 'filezilla': 5506, 'avise': 1750, 'copiedâ': 3442, 'enormous': 4873, 'failuresâ': 5337, 'foundâ': 5782, 'upvote': 14891, 'blueish': 2120, 'emoji': 4769, 'wonâ': 15607, 'warm': 15318, 'feelingâ': 5429, 'symlinks': 13779, 'gist': 6151, 'copies': 3444, 'destination': 4066, 'mouth': 9194, 'watery': 15350, 'specified': 13200, 'globbing': 6194, 'quoting': 11339, 'spaces': 13160, 'dash': 3745, 'extm3u': 5272, 'backslashes': 1811, 'ascii': 1542, 'iconv': 6901, 'ignored': 6948, 'silently': 12860, 'favourite': 5399, 'syncthing': 13795, 'dj': 4366, 'disclaimer': 4269, 'mileage': 8938, '131k': 112, 'keystone': 7866, 'alive': 1138, 'december': 3846, 'keystonejs': 7868, 'keystoneblogbealive': 7867, 'minskleo': 8979, 'tinkmill': 14226, 'stagnant': 13330, 'reaction': 11444, 'zprint': 15907, 'sci': 12393, 'eval': 5051, 'clojure': 2868, 'sandboxed': 12303, 'babushka': 1790, 'bb': 1905, 'clojurescipt': 2869, 'conditionals': 3209, 'impacting': 7011, 'clojurescript': 2870, 'babashka': 1788, 'ctx': 3620, 'impl': 7019, 'implicit': 7029, 'protects': 11102, 'clj': 2864, 'snapshot': 13027, 'fed': 5418, 'operate': 9947, 'azd': 1777, 'devcontainer': 4097, 'ghcr': 6128, 'rajeshkamal5050': 11370, 'rpothin': 12174, 'zedy': 15867, 'wj': 15588, 'prioritized': 10965, 'volview': 15246, 'slice': 12961, 'vtkcutter': 15268, 'slicedgeometryrepresentationproxy': 12962, 'slices': 12964, 'twodview': 14571, 'ed': 4644, 'curioius': 3645, 'shapemeans': 12709, 'basel': 1875, 'switzerland': 13770, 'utilizing': 14968, 'visualizing': 15201, 'discourse': 4281, 'vtk': 15267, 'mvtlayer': 9306, 'residing': 11880, 'ternary': 13994, 'decides': 3851, 'onfillcolor': 9868, 'updatetriggers': 14867, 'pinpoint': 10550, 'downhill': 4468, 'updatetrigger': 14866, 'geojsonlayer': 6042, 'onhover': 9871, 'autohighlight': 1713, 'sinadd': 12897, 'sinebar': 12903, 'sine': 12902, 'obviously': 9737, 'palfx': 10207, 'emulate': 4787, 'keyword': 7872, 'variation': 15053, 'halfsine': 6462, 'lifebars': 8200, 'hpos': 6803, 'activated': 891, 'deactivate': 3815, 'christopher': 2768, 'citation': 2794, 'formula': 5759, 'shorttitle1': 12790, 'quotation': 11335, 'remained': 11727, 'relate': 11686, '394': 440, 'entirety': 4903, 'screwed': 12427, 'bbt': 1908, 'fuck': 5870, 'expend': 5181, 'behave': 1959, 'phrased': 10508, 'politely': 10710, 'misunderstanding': 9021, 'avoided': 1754, 'misjudgment': 9004, 'offended': 9786, 'intending': 7353, 'explicitely': 5213, 'blame': 2083, 'rider': 12054, 'resemble': 11867, 'smartphone': 13003, 'bummer': 2358, 'previewer': 10929, 'onlg': 9874, 'usercontrol': 14935, 'previewed': 10928, 'tfms': 14036, 'launcher': 8056, 'launchers': 8057, 'webhook': 15387, 'configmaps': 3227, 'omitted': 9842, 'secretrulesname': 12491, 'subdirectory': 13562, 'webhooks': 15388, 'rocket': 12104, 'bash': 1878, 'ytt': 15850, 'substitute': 13600, '600': 586, 'permissions': 10430, 'redefining': 11574, 'elastalert': 4705, 'rocketchat': 12105, 'extraconfigoptions': 5275, 'bard': 1858, 'ya': 15783, 'unofficial': 14788, 'dsdanielpark': 4538, 'reliably': 11711, 'elsayed07': 4735, 'waited': 15293, 'palm': 10209, 'altair': 1179, 'actioncable': 886, 'graphiql': 6304, 'utilizes': 14967, 'devise': 4122, 'authenticating': 1681, 'cdn': 2607, 'rack': 11349, 'pardon': 10257, 'electribe2': 4713, 'hacktribe': 6447, 'synths': 13804, 'oscillator': 10047, 'korg': 7937, 'samples': 12296, 'oe2ssle': 9777, 'thsi': 14155, 'pcm': 10361, 'synth': 13802, 'mido': 8923, 'rtmidi': 12191, 'dump': 4563, 'sax': 12335, 'drums': 4532, 'electribe': 4712, 'e2ssample': 4604, 'multisampled': 9273, 'decompressed': 3872, 'dump_extracted_pcm': 4565, 'sysex': 13806, 'wav': 15351, 'multilayer': 9263, 'mold': 9123, 'maskray': 8671, 'lld': 8306, 'concurrence': 3196, 'licence': 8190, 'sold': 13063, 'moneytize': 9137, 'linker': 8247, 'criticizing': 3570, 'shine': 12750, 'despair': 4062, 'refrained': 11632, 'adopting': 986, 'proprietary': 11093, 'foresee': 5726, 'la': 7972, 'romain': 12126, 'lawyer': 8060, 'linkers': 8248, 'compilers': 3105, 'insomnia': 7281, 'collections': 2992, 'withouth': 15580, 'insomia': 7280, 'feltz916': 5437, 'tdarr': 13924, 'abdeladim': 773, 'transcoding': 14391, 'compress': 3152, 'subtitle': 13605, 'srt': 13293, 'subsai': 13588, 'spawning': 13178, 'troubleshooted': 14484, 'robin': 12092, 'allocation': 1149, 'allocate': 1146, '1mb': 232, 'cheer': 2725, 'grabbed': 6278, 'impressions': 7052, '40155bd': 462, '07': 28, '29': 356, 'canâ': 2494, '1920x1080': 205, 'contrasting': 3375, 'colors': 3006, 'playful': 10634, 'colorized': 3004, 'candy': 2486, 'coloured': 3008, 'unicorn': 14734, 'stations': 13391, 'tooltips': 14312, 'invisible': 7473, 'havenâ': 6551, 'thirds': 14111, 'harshâ': 6526, 'outâ': 10102, 'stageâ': 13328, 'disturb': 4347, 'humongous': 6851, 'impairment': 7013, 'density': 3989, 'worthwhile': 15652, 'tradeoff': 14371, 'grey': 6336, 'green': 6329, 'darkened': 3741, 'differentiator': 4185, 'colored': 3002, 'moonbase59': 9160, 'ff0000': 5456, 'disability': 4241, 'hurt': 6860, 'bare': 1859, 'estate': 5022, 'screenâ': 12425, 'nowadays': 9619, 'ctrl': 3619, 'mousewheel': 9193, 'eyesight': 5298, '120': 86, 'bars': 1866, 'irâ': 7530, 'screenshotâ': 12423, 'websites': 15401, 'colorblind': 3000, 'various': 15059, 'colorblindness': 3001, 'deficiencies': 3907, 'laterâ': 8044, 'admirable': 979, 'reducing': 11595, 'sight': 12836, 'incorporating': 7110, 'explode': 5215, 'rockin': 12107, 'beg': 1948, 'pleed': 10650, 'checkboxes': 2713, 'slows': 12990, 'reads': 11462, 'bounce': 2203, 'yall': 15789, 'stickbear2015': 13423, 'permit': 10431, 'datatable': 3779, 'denied': 3983, 'vaalynâ': 15007, '0a46ef2': 35, '55': 545, '5â': 584, '2â': 377, 'gb': 5981, '3â': 456, 'htop': 6817, '200mb': 252, 'proc': 10987, 'meminfo': 8810, 'memtotal': 8818, '8272692': 672, 'memfree': 8809, '224276': 305, 'memavailable': 8803, '5773256': 557, 'buffers': 2330, '235680': 312, '5455920': 543, 'swapcached': 13745, '3280': 402, '5189612': 532, '2207228': 300, 'activeanon': 895, '1518632': 142, 'inactiveanon': 7069, '257400': 334, 'activefile': 897, '3670980': 428, 'inactivefile': 7070, '1949828': 208, 'unevictable': 14718, '18600': 189, 'mlocked': 9052, 'swaptotal': 13749, '4030460': 464, 'swapfree': 13746, '3991804': 441, '3816': 437, 'writeback': 15683, 'anonpages': 1296, '1722656': 176, '432024': 484, 'shmem': 12761, '69032': 622, 'kreclaimable': 7945, '242856': 321, 'slab': 12951, '418480': 473, 'sreclaimable': 13291, 'sunreclaim': 13661, '175624': 181, 'kernelstack': 7842, '16448': 156, 'pagetables': 10191, '22068': 299, 'nfs_unstable': 9485, 'writebacktmp': 15684, 'commitlimit': 3061, '8166804': 667, 'committed_as': 3065, '11369128': 76, 'vmalloctotal': 15219, '34359738367': 414, 'vmallocused': 15220, '39180': 439, 'vmallocchunk': 15218, 'percpu': 10406, '7488': 643, 'hardwarecorrupted': 6510, 'anonhugepages': 1295, '6144': 594, 'shmemhugepages': 12762, 'shmempmdmapped': 12763, 'filehugepages': 5492, 'filepmdmapped': 5501, 'cmatotal': 2908, 'cmafree': 2905, 'hugepages_total': 6837, 'hugepages_free': 6834, 'hugepages_rsvd': 6835, 'hugepages_surp': 6836, 'hugepagesize': 6838, 'hugetlb': 6839, 'directmap4k': 4228, '438120': 486, 'directmap2m': 4227, '7950336': 655, 'directmap1g': 4226, '1024': 54, 'kib': 7877, 'gib': 6136, 'mib': 8894, 'fromâ': 5847, 'seems': 12518, '165': 158, '59': 567, '6412': 604, 'vaalyn': 15006, 'consciously': 3282, 'busterneece': 2383, 'shoulders': 12794, 'leftovers': 8114, 'decisionâ': 3856, 'bumpiness': 2361, '157k': 146, 'clementine': 2844, 'strawberry': 13478, 'nameâ': 9358, 'azuracasts': 1780, 'furtherâ': 5910, 'swagger': 13742, '149': 131, 'gotten': 6252, 'loook': 8400, 'sees': 12522, 'interfacing': 7389, 'liquidsoap': 8265, 'courseâ': 3500, 'whenever': 15470, 'hacked': 6443, 'togetherâ': 14273, 'automagically': 1715, 'multipart': 9265, 'playlist_file': 10639, 'vectorbt': 15082, 'favour': 5398, 'approve': 1419, 'bazarr': 1903, 'arr': 1499, 'jsm': 7752, 'persuading': 10457, 'could': 3481, 'thosrtanner': 14122, 'lgtm_index_filetypes': 8167, '68': 619, 'fatal': 5386, 'reran': 11856, 'liligo': 8221, 'lcd': 8077, 'qspi': 11268, 'tha': 14047, 'needless': 9413, '288': 354, 'arrayinput': 1508, 'addressinput': 953, 'bytesinput': 2408, 'paramtype': 10255, 'surrounding': 13716, 'bracket': 2223, 'ens': 4884, 'avatar': 1742, 'blockie': 2107, 'multiply': 9270, 'instacalc': 7292, 'xor': 15757, 'bitwise': 2074, 'overloaded': 10126, 'exponentiation': 5227, 'weren': 15442, 'consistency': 3298, 'retoucher': 11966, '64gb': 609, '1tb': 239, 'collab': 2976, 'runstable': 12220, '4480x5600': 488, '35': 418, '1568x1959': 145, 'img2img': 6990, '672x840': 617, '41': 470, 'upscaler': 14883, 'photoshop': 10500, 'relibirate': 11714, 'delberate': 3938, 'esrgan_4x': 5014, 'makarova_galina': 8555, 'allooao': 1151, 'ijkl': 6959, 'sshift': 13299, 'lsft': 8445, 'actrl': 904, 'lctl': 8079, 'sc': 12345, 'defcfg': 3900, 'defsrc': 3925, 'unmapped': 14779, 'altgr': 1188, 'kbd': 7822, 'unmapping': 14780, 'ralt': 11371, 'ghosting': 6132, 'key_rollover': 7849, 'key_jamming_and_ghosting': 7848, 'voodoo': 15247, 'logitech': 8369, 'leaning': 8094, 'weã': 15451, 'donã': 4450, 'chooser': 2753, 'restrict': 11936, 'filing': 5508, 'checklists': 2718, 'poking': 10701, 'manuscript': 8611, 'tagging': 13852, 'manuskript': 8612, 'talltechtales': 13875, 'uploads': 14878, '2016': 261, 'manuskript2': 8613, 'theologeek': 14077, 'ch': 2653, 'outliner': 10084, 'pov': 10788, 'writer': 15686, 'operates': 9949, 'scrivener': 12440, 'spacebar': 13158, 'viewpoint': 15164, 'attach': 1630, 'albert': 1110, 'bertta': 2000, 'folding': 5686, 'choosing': 2755, 'fold': 5681, 'practise': 10815, 'truenas': 14492, 'flawlessly': 5614, 'eth0': 5033, 'ifconfig': 6941, 'lo': 8320, 'slirp4netns': 12978, '46': 493, '237701': 314, '00sudo': 8, 'uid': 14634, 'usr': 14954, 'nosuid': 9587, 'privileges': 10972, 'rootless': 12133, 'contianers': 3357, 'meaningful': 8761, 'electricity': 4715, 'savings': 12331, 'brackets': 2224, 'textfield': 14023, 'witness': 15582, 'easiness': 4620, 'concatenating': 3172, 'sounding': 13137, 'translations': 14423, 'richtextlabel': 12048, 'bbcode': 1907, 'sqitch': 13271, 'conf': 3217, 'makefile': 8559, 'libpq': 8181, 'iow': 7496, 'skitch': 12946, 'embeddings': 4752, 'upscaling': 14885, 'webuiapi': 15408, 'mix1009': 9035, 'xkean': 15749, 'a1111': 747, 'upscalers': 14884, 'buttom': 2387, 'strength': 13491, 'incl': 7088, 'attendize': 1643, 'qr': 11267, 'amend': 1217, 'amazingly': 1205, 'saas': 12253, 'diffetn': 4189, 'numbers': 9663, 'ao3': 1341, 'downloader': 4471, 'nonetype': 9567, 'exclusion': 5124, 'coder': 2945, 'fics': 5469, 'ao3downloader': 1342, 'nianeyna': 9497, 'gmail': 6206, 'jsonl': 7759, 'intercept': 7377, 'baseline': 1876, 'slope': 12981, 'interpretation': 7417, 'bambi': 1838, 'alphabetically': 1170, 'constructing': 3316, 'allow': 1152, 'hssm': 6811, 'lvl': 8475, 'cond_b': 3201, 'cond_a': 3200, 'hssmdata': 6812, 'ddm': 3811, 'cdrug': 2609, 'levels': 8154, 'keyerror': 7861, 'modelf': 9089, 'rt': 12187, 'formulae': 5760, 'eduard': 4664, 'bmb': 2128, 'extra_namespace': 5274, 'scsi2sd': 12452, 'akai': 1094, 'zuluscsi': 15918, 'succesfully': 13612, 'vailixi': 15019, 'drives': 4515, 'termination': 13991, 'menue': 8831, 'blinking': 2099, 'configs': 3229, 'scsi': 12450, 'ids': 6935, 'initpredelay': 7227, 'mpc3000': 9208, 'dipswitch': 4217, 'fb': 5401, 'zulu': 15915, 'dipsw2': 4216, 'selectiondelay': 12546, '255': 331, 'millisecond': 8942, 'dir': 4218, 'activedrives': 896, 'quirks': 11327, 'omti': 9844, 'xebec': 15736, 'vms': 15222, 'enableunitattention': 4801, 'unit_attention': 14753, 'hotplug': 6782, 'enablescsi2': 4799, 'scsi2': 12451, 'enablesellatch': 4800, 'philips': 10487, 'p2000c': 10166, 'sel': 12535, 'bsy': 2310, 'initpostdelay': 7226, 'glammer58': 6178, 'dip': 4213, 'detects': 4085, 'zululog': 15917, 'rp2040': 12167, 'cheat': 2707, 'samplerzone': 12295, 'hybrid': 6864, 'behavier': 1962, 'logfile': 8355, 'garth': 5962, 'helpfull': 6617, 'floppypower': 5646, 'adater': 925, 'reversed': 12004, 'hardwareissue': 6511, 'fuse': 5912, 'markus': 8653, 'blown': 2118, 'powering': 10793, 'floppy': 5645, 'sole': 13068, '600ms': 589, 'preset': 10902, '700': 632, 'garthâ': 5963, 'workes': 15623, 'delaytimes': 3937, 'inserted': 7266, 'delaytime': 3936, '4000': 459, 'junk': 7780, 'exacerbated': 5092, 'rf': 12031, 'settled': 12671, 'choking': 2749, 'zuluerr': 15916, 'spitting': 13235, 'reinsert': 11674, 'predelay': 10840, 'postdelay': 10770, '0xff': 43, 'andreaskoepf': 1253, 'somerandomguyontheweb': 13100, 'pourmand1376': 10787, 'slighly': 12969, 'tune': 14531, 'belarusian': 1975, 'instruct': 7317, 'delimited': 3957, 'responses': 11916, 'persian': 10436, 'sft': 12682, 'robot': 12098, 'manipulated': 8594, 'obliged': 9713, 'proto': 11104, '6266': 598, 'snap': 13025, '6200': 596, 'able': 780, 'themself': 14073, 'slot': 12983, 'juggler': 7768, 'ulog': 14641, 'pitch': 10571, 'containing': 3347, 'datastreams': 3777, 'dissapear': 4315, 'datasource': 3775, 'stayed': 13399, 'specifies': 13201, 'overlooking': 10129, 'asciinema': 1543, 'cursory': 3656, 'vt': 15265, 'guessed': 6389, 'wars': 15326, 'confirming': 3242, 'comforting': 3029, 'testcontainers': 14007, 'logger': 8357, 'consolelogger': 3303, 'debugloglevelenabled': 3841, 'testcontainerssettings': 14008, 'portainer': 10740, 'definitive': 3921, 'stacks': 13322, 'grafana': 6288, 'edition': 4657, 'iter': 7579, 'memo': 8812, 'memoized': 8813, 'identities_resource': 6923, 'somet': 13102, 'vec': 15079, 'transactions': 14390, 'errorboundary': 4976, 'unwrap': 14849, 'err_': 4970, 'as_ref': 1537, 'rdkit': 11436, 'molecule': 9124, 'unpkg': 14795, 'initrdkitmodule': 7229, 'must': 9289, 'michelml': 8900, 'ptosco': 11153, 'sgoodrow': 12688, 'zymergen': 15922, '362': 424, '75': 644, 'build_runner': 2342, 'flutter_rust_bridge_codegen': 5664, 'flutter_ffi': 5663, 'dart': 3743, 'generated_bridge': 6011, 'bridge_generated': 2267, 'kareadita': 7811, 'dumb': 4560, 'dlbpointon': 4372, 'kavita_discord_bot': 7818, 'kavitareader': 7819, '1285': 103, 'mikrotik': 8934, 'iot': 7494, 'accelerometer': 812, 'indoor': 7154, '10â': 72, 'tg': 14044, 'bt5': 2312, 'outdoor': 10078, '18â': 200, '35mm': 419, 'ibeacon': 6891, 'eddystone': 4646, 'advertisement': 1009, 'espresense': 5011, 'industrial': 7156, 'installers': 7300, 'distributor': 4341, 'cater': 2579, 'baltic': 1837, 'trash': 14433, 'microtik': 8915, 'advertisements': 1010, 'ladle': 7988, 'planing': 10609, 'storylite': 13462, 'cloned': 2872, 'bundlers': 2366, 'pkgroll': 10590, 'bundles': 2367, 'esbuild': 4987, 'unbuild': 14662, 'tsup': 14519, 'ptsup': 11154, 'hooks': 6753, 'jrson83': 7746, 'itsjavi': 7595, 'devdependencies': 4099, 'storyliteplugin': 13463, 'infos': 7185, 'separating': 12599, 'divider': 4361, 'storyname': 13464, 'merges': 8842, 'decouple': 3876, 'anyhow': 1328, 'archieve': 1445, 'pugin': 11166, 'overwriting': 10151, 'bg': 2014, 'allready': 1155, 'abaqus': 763, 'linearly': 8239, 'abqpy': 787, 'hinting': 6689, 'parttype': 10296, 'celltype': 2621, 'assemblytype': 1570, 'inspect': 7282, '1077': 60, 'inspected': 7283, 'xxxtype': 15773, 'euqal': 5045, 'abqus': 788, '__init__': 716, 'modeltype': 9094, 'haiiliin': 6458, 'abaqus_modules_abq2017': 764, 'abaqus_modules_abq2018': 765, 'cristobaltapia': 3565, 'huangdijia': 6825, 'hyperf': 6867, 'webapps': 15374, 'logout': 8375, 'gates': 5969, 'affirmation': 1036, '96qbhy': 700, 'ext': 5251, 'jwt': 7795, 'donjan': 4446, 'deng': 3982, 'casbin': 2548, 'casdoor': 2551, 'hyperfï¼ÿ': 6868, 'chaining': 2655, 'codepen': 2943, 'metalsadman': 8865, 'pen': 10387, 'lynzree': 8483, '1010': 52, 'quasar': 11293, 'tc': 13921, 'java17': 7635, 'transfofmationsmt': 14399, 'confluent': 3249, 'packed': 10182, 'obstacle': 9729, 'overcame': 10108, 'eddumelendez': 4645, 'jdk': 7651, 'readiness': 11456, 'anatol': 1246, 'lutski': 8472, 'pom': 10716, 'datahub': 3764, 'smts': 13021, 'connect_plugin_path': 3268, 'reproducer': 11834, 'gradle': 6283, 'kts': 7953, 'mistakenly': 9017, 'saxobank': 12336, 'dk': 4370, 'iitech': 6958, 'kafkatestcontainerutils': 7802, 'artifactory': 1524, 'unavailable': 14656, 'shrinked_java8_17_setup_only_java': 12814, 'openjdk': 9923, 'lts': 8452, 'cp': 3511, 'minds': 8954, 'announce': 1287, 'webinar': 15389, 'webrtc': 15396, '28th': 355, 'pm': 10673, 'oguz': 9812, 'mermerkaya': 8845, 'mp3': 9205, 'pygame': 11228, 'portcollection': 10742, 'mochi': 9066, 'transferred': 14396, 'origin': 10035, 'telemetric': 13954, 'embeddable': 4748, 'embarked': 4745, 'stride': 13498, 'jumped': 7774, 'headfirst': 6569, 'prototypes': 11111, 'began': 1949, 'mqttv3': 9224, 'endeavours': 4831, 'perfectionism': 10411, 'ambition': 1212, 'evolved': 5086, 'mature': 8718, 'passionate': 10306, 'unlocked': 14774, 'codes': 2947, 'opentelemetry': 9939, 'prometheus': 11051, 'formal': 5744, 'discovering': 4285, 'presently': 10899, 'approval': 1418, 'democratisation': 3973, 'safeguarding': 12265, 'paho': 10194, 'mqttv5': 9225, 'maturation': 8717, 'encouraged': 4821, 'pink': 10547, 'salmon': 12282, 'haha': 6455, 'expandable': 5166, 'customkey': 3681, 'partials': 10280, 'journals': 7731, '_title': 739, 'queryset': 11306, 'with_db_schemaschema_name': 15572, 'seemless': 12516, 'codewise': 2952, '__table_args__': 719, 'edgy': 4651, 'saffier': 12272, 'deciding': 3852, 'usem': 14930, 'registrydatabase': 11661, 'my_schema': 9317, 'registry_public': 11660, 'alembic': 1114, 'wou': 15653, 'rorik302': 12137, 'script_location': 12434, 'autogenerate': 1711, 'elaborating': 4703, 'crutches': 3597, 'sqla': 13273, 'using_with_db': 14950, 'new_database': 9463, 'using_with_dbdatabase': 14951, 'esmerald': 4997, 'tenants': 13976, 'tarsild': 13900, '50000': 519, 'contrib': 3376, 'section1': 12494, 'section2': 12495, 'sugesting': 13633, 'proves': 11118, 'tenancy': 13971, 'create_all': 3542, 'asyncpg': 1614, 'dbo': 3805, 'mixin': 9037, 'multi_tenancy': 9256, 'tenantmixin': 13973, 'tenantregistry': 13975, 'tenantmodel': 13974, 'inherit': 7200, 'specifiy': 13202, 'is_tenant': 7533, 'ar': 1437, 'availablity': 1738, 'set_tenant': 12645, 'middleware': 8919, 'get_tenant_usersself': 6077, 'listuser': 8280, 'filtertenant': 5520, 'fk': 5588, 'foreignkeytenant': 5724, 'on_delete': 9846, 'cascade': 2549, 'related_name': 11688, 'filterusers__tenant': 5521, 'wont': 15606, '573': 555, 'hermes': 6630, 'rnv8': 12084, 'rndebugger': 12083, 'jsi': 7751, 'flipper': 5632, 'devtools': 4129, 'v8': 14998, 'repl': 11790, 'expo': 5226, 'redux': 11600, 'remotedev': 11749, 'apollo': 1357, 'webworker': 15411, 'libs': 8188, 'mmkv': 9058, 'listeners': 8273, 'workday': 15618, 'gusgard': 6411, 'devsettings': 4128, 'jsengine': 7749, 'jsc': 7748, 'usher': 14948, 'neccessary': 9404, 'simulator': 12894, 'rnd': 12082, 'typebox': 14584, 'valibot': 15022, 'mascot': 8667, 'lined': 8240, 'sinclairzx81': 12900, 'workbench': 15617, 'codegen': 2940, 'prototyping': 11112, 'swisstransfer': 13762, 'taper': 13888, 'crowd': 3586, 'jam': 7616, 'band': 1848, 'pyload': 11231, 'decode': 3867, 'n00b': 9336, 'differs': 4188, 'pixeldrain': 10580, 'predicting': 10846, 'filenames': 5496, 'lldb': 8307, 'vcredist': 15072, '2015': 260, 'shorts': 12789, 'locate': 8340, 'codelldb': 2942, 'wasn': 15333, 'hyper': 6866, 'msvc': 9244, 'refused': 11640, 'exiting': 5161, 'launching': 8058, 'googling': 6246, 'checkpoint': 2721, 'winget': 15549, 'x86': 15725, 'celso': 2624, 'optimizes': 9987, 'monitorcontrol': 9142, 'retains': 11955, 'cdrom': 2608, 'petteriaimonen': 10466, 'ufkel': 14624, 'cd4': 2601, 'img0': 6987, 'img9': 6991, 'img1': 6988, 'img2': 6989, 'mini': 8960, 'macintosh': 8510, 'rom': 12125, 'modesense': 9100, '0x30': 40, 'harddrive': 6506, 'lc': 8073, 'iii': 6955, 'glitch': 6184, 'plugging': 10669, 'aperezbios': 1347, 'several': 12676, 'sg_inq': 12685, 'sr0': 13288, 'sg_modes': 12686, 'avh': 1748, 'vh': 15134, 'matshita': 8709, '8004a': 663, '1998': 217, 'applecd': 1391, 'branded': 2239, '5830174911': 562, 'cares': 2525, '20230811': 271, 'fwb': 5920, 'mounter': 9189, 'zuluscsicdrom': 15919, 'uncover': 14680, 'multiselect': 9275, 'harmoniously': 6516, 'concise': 3189, 'adheres': 961, 'promoting': 11058, 'proceeding': 10992, 'collectively': 2993, 'devicescript': 4121, 'ledstrip': 8109, 'newing': 9470, 'rotating': 12142, 'pxt': 11214, 'jacdac': 7606, 'kilobyte': 7886, 'ring': 12063, 'sendrgb': 12576, 'microcontrollers': 8904, 'fastled': 5385, 'neopixel': 9427, 'encoder': 4809, 'makecode': 8558, '557': 547, 'zacharyrogers1': 15862, '580': 559, 'painting': 10200, 'hinge': 6686, 'pixelbuffer': 10579, 'dmaed': 4381, 'barebone': 1860, 'gamma': 5951, 'correction': 3464, 'devcontainers': 4098, 'mounts': 9190, 'ohmyzsh': 9816, 'eternal': 5032, 'inside': 7273, 'attempted': 1638, 'hosthome': 6772, 'rc': 11428, 'apt': 1433, 'custom_feature': 3663, 'initializecommand': 7215, 'convoluted': 3415, 'gilesknap': 6147, 'visualstudio': 15204, '_personalizing': 731, 'dotfile': 4456, 'dotfiles': 4457, 'jpillor': 7738, 'macquarie': 8512, 'galh': 5938, 'eu': 5040, 'rmit': 12078, 'atlas': 1619, '957': 696, 'sgilligan': 12687, 'snappy': 13026, 'honeycomb': 6745, 'population': 10733, 'carstonhernke': 2541, 'openid': 9920, 's3lph': 12249, 'wok': 15596, 'phishkapsch': 10491, 'rbac': 11427, 'nfsprodriver': 9486, 'fugfixes': 5872, 'notifications': 9606, 'dandanx': 3730, 'hr': 6804, 'em': 4741, 'ansible': 1303, 'semaphore': 12566, '91': 692, 'agrogan1': 1070, 'bookdemo': 2160, 'cornder': 3456, 'obscured': 9715, 'nb': 9393, 'jane': 7623, 'doe': 4418, 'chapters': 2677, 'qmd': 11264, 'intro': 7441, 'bibliography': 2027, 'bib': 2024, 'cosmo': 3473, 'documentclass': 4412, 'scrreprt': 12445, 'seeing': 12510, 'arrgghhh': 1510, 'mckaywrigley': 8752, 'presets': 10903, 'gg': 6120, 'nxdfrht9df': 9690, 'textarea': 14020, 'anthropic': 1311, 'diving': 4362, 'indexing': 7139, 'retrieval': 11969, 'occasions': 9743, 'slidesperview': 12968, 'tightly': 14184, 'coupled': 3496, 'sklearn': 12947, 'deliberate': 3952, 'pros': 11097, 'cons': 3280, 'amlb': 1222, 'externalizing': 5270, 'autogluon': 1712, 'contributions': 3383, 'abstractmodel': 799, 'risky': 12072, 'boon': 2170, 'weighing': 15423, '279': 350, 'joint': 7710, 'profound': 11028, 'struggled': 13530, 'pgs_calc': 10479, 'wgs': 15455, 'conditioned': 3210, 'genomes': 6029, 'attribution': 1652, 'demographic': 3974, 'diminish': 4212, 'likely': 8218, 'induce': 7155, 'min_overap': 8948, 'mismatches': 9008, 'gvcf': 6416, 'compactly': 3081, 'genome': 6027, 'singular': 12909, 'pgs': 10477, 'lifted': 8206, 'grch38': 6318, 't2t': 13823, 'chm13': 2745, 'rsid': 12182, 'œnrâ': 15957, 'genome_build': 6028, 'pgs003753_hmpos_grch38': 10478, 'rs147937400': 12178, 'grch37': 6317, 'chr6': 2762, '29068745': 357, 'catalogâ': 2563, 'ucsc': 14622, '29100968': 359, 'identifiable': 6916, 'nucleotides': 9646, 'liftover': 8208, 'annotated': 1284, 'nr': 9625, 'rsids': 12183, 'originate': 10038, 'splendid': 13238, 'bgulko': 2019, 'finalising': 5524, 'imminent': 7008, 'worries': 15644, 'brad': 2225, 'validator': 15028, '16348': 154, 'ajv': 1092, 'createajvvalidator': 3547, 'jsoneditor': 7756, 'treeshake': 14448, 'util': 14960, 'treeshaking': 14449, 'jsoneditorreact': 7758, 'jsoncontent': 7755, 'textcontent': 14021, 'onchangestatus': 9857, 'jsoneditorpropsoptional': 7757, 'dunno': 4567, 'indicative': 7144, 'esm': 4996, 'payloadcms': 10345, 'exemplifies': 5144, 'siblingdata': 12825, 'showimage': 12807, 'beforechange': 1945, 'removevaluesoncondition': 11755, 'tylandavis': 14580, 'unset': 14816, 'satisfy': 12321, 'namely': 9353, 'unmet': 14781, 'plattform': 10623, 'azdelivery': 1778, 'wlan': 15590, 'flickering': 5626, 'fhem': 5468, 'homebridge': 6739, 'siri': 12914, 'interessted': 7381, 'tech_tobi': 13935, '1676693224872632321': 162, 'pictures': 10530, '1883': 196, 'mqtt2_fhem_server': 9222, 'mqtt2_server': 9223, 'autocreate': 1707, 'layz': 8068, 'esp3266': 5001, 'designation': 4051, 'visualapproach': 15196, 'llc': 8305, 'cables': 2415, 'cabling': 2416, 'pump': 11177, 'nodemcu': 9551, 'repower': 11821, 'techtobi83': 13943, 'lolin': 8383, 'h1a': 6422, 'h2a': 6426, 'pcbs': 10360, 'techtobiatplanetdracodotde': 13944, 'nacked': 9342, 'advertising': 1011, 'selfcreated': 12554, 'encoubters': 4815, 'bartbakels': 1868, 'ziggo': 15884, 'nl': 9523, 'ogrs': 9810, 'gunslinger': 6410, 'stalker': 13335, 'nailed': 9344, 'objectively': 9708, 'crosshair': 3581, 'weapon': 15365, 'holstered': 6734, 'ogsr': 9811, 'nostalgia': 9586, 'hud': 6829, 'vibe': 15141, 'minimises': 8970, 'minimap': 8969, 'initiate': 7221, 'sprinting': 13266, 'crouched': 3584, 'controls': 3391, 'binoculars': 2055, 'enemy': 4842, 'outlining': 10085, 'zombies': 15899, 'unreasonable': 14804, 'normalise': 9580, 'sponginess': 13247, 'tactic': 13845, 'limb': 8222, 'pitched': 10572, 'ringing': 12064, 'grenade': 6334, 'damage': 3723, 'headphone': 6573, 'decibel': 3848, 'laud': 8051, 'immersion': 7002, 'edits': 4661, 'inventory': 7461, 'killing': 7884, 'knock': 7920, 'identifying': 6922, 'prioritise': 10963, 'facelift': 5313, 'cancelling': 2482, 'toggled': 14275, 'crouching': 3585, 'slightest': 12971, 'gu': 6379, 'tapping': 13890, 'keybinds': 7854, 'players': 10633, 'flashlight': 5599, 'ammo': 1223, 'zombie': 15898, 'rim': 12062, 'modders': 9079, 'mymodname': 9326, 'defs': 3924, 'pandora': 10216, 'modloader': 9110, 'autoload': 1714, 'data_directory': 3754, 'entitypropertyfromfile': 4911, 'property_name': 11081, 'property_value': 11083, 'property_type': 11082, 'category_id': 2575, 'categoryfromfile': 2577, 'category_name': 2576, 'entityfromfile': 4910, 'entity_name': 4907, 'entitydatafromfile': 4909, 'arrayentityfromfile': 1506, 'arraycategoryfromfile': 1504, 'arrayentitypropertyfromfile': 1507, '_enter_tree': 724, 'void': 15232, 'entity_data': 4906, 'load_all_from_directorydata_directory': 8322, 'arrayentitydatafromfile': 1505, 'category_data': 2574, 'create_categorycategory_data': 3543, 'property_data': 11080, 'get_categoryentity_data': 6062, 'create_propertycategory': 3545, 'set_default_valueproperty_data': 12643, 'create_entityentity_data': 3544, 'item_name': 7572, 'persisting': 10442, 'incrementing': 7124, 'uuid': 14974, 'eth0net': 5034, 'nanoid': 9362, 'namespaces': 9357, 'prefixes': 10861, 'weldcome': 15432, 'mod_name': 9074, 'mvp': 9305, 'dlc': 4373, 'dlc_name': 4374, 'dlcs': 4375, 'ðÿš': 15934, 'refining': 11622, 'typechat': 14585, 'unstructured': 14823, 'pertinent': 10459, 'fetched': 5448, 'visionary': 15188, 'definitelay': 3917, 'augmenting': 1668, 'pierre': 10534, 'emmanuel': 4767, 'jxnl': 7796, 'openai_function_call': 9904, 'validate': 15024, 'leveraged': 8158, 'thereâ': 14086, 'grantslatton': 6297, 'maiqingqiang': 8551, 'conceivably': 3174, 'yousefed': 15834, 'jsonschema': 7762, 'bcherny': 1911, 'importerror': 7042, 'liberty': 8176, 'downs': 4475, 'rotary': 12139, '150â': 139, '163â': 155, 'countdown': 3486, 'clicks': 2852, 'marc': 8625, 'andre': 1251, 'itemprogress': 7575, 'steplength': 13411, 'int': 7331, 'nest': 9435, 'coincidence': 2969, 'chipset': 2743, 'schematics': 12382, 'kristiankielhofner': 7947, 'idf': 6927, 'tbd': 13918, 'costs': 3477, 'estimate': 5023, 'ebay': 4624, 'walmart': 15307, 'discounts': 4279, 'schematic': 12381, 'janky': 7625, 'enclosure': 4805, 'i2s': 6884, 'pressure': 10908, 'sr': 13287, 'computational': 3161, 'chemistry': 2729, 'bonding': 2155, 'bond': 2154, 'orders': 10014, 'accuracy': 853, 'funky': 5903, 'stereochemistry': 13417, 'topology': 14324, 'allchem': 1141, 'assignbondordersfromtemplate': 1578, 'coordinates': 3431, 'underdetermined': 14688, 'yield': 15811, 'undesired': 14710, 'oliver': 9831, 'hs': 6807, 'qm': 11262, 'calculations': 2437, 'rddeterminebonds': 11435, 'organics': 10020, 'exotic': 5164, 'conversely': 3402, 'obabel': 9694, 'mol': 9122, 'molfrommolfile': 9125, 'dative': 3790, 'bonds': 2156, 'conjugation': 3262, 'radical': 11355, 'planar': 10604, 'avenue': 1744, 'selenocysteine': 12552, 'nitrogen': 9521, 'planarity': 10605, 'balancing': 1834, 'xyz2mol': 15779, 'ancient': 1249, 'babel': 1789, 'txt2img': 14575, 'model_id': 9084, 'get_schedulers': 6075, 'ckpt': 2801, 'sentensor': 12591, 'unsorted': 14819, 'diffuser': 4195, 'scheduler': 12375, 'shark': 12718, 'precision': 10836, 'fp16': 5788, 'fp32': 5789, 'vulkan': 15274, 'prompting': 11064, 'prompt_s_': 11061, 'batch_size': 1888, 'tokenize': 14279, 'negative_prompt_s_': 9417, 'unhelpfully': 14732, 'ckpt_loc': 2802, 'hf_model_id': 6650, '512x512': 530, 'use_lora': 14914, 'custom_vae': 3664, 'sd2': 12456, '768': 646, 'pretend': 10913, 'catastrophic': 2566, 'miscompilation': 8996, '200mhz': 253, 'stutter': 13552, 'lycoris': 8481, 'few': 5453, 'recompiling': 11542, '3gb': 449, 'flatbuffers': 5603, 'slowed': 12985, '7900xtx': 653, 'downclocks': 4466, 'sharply': 12722, 'hop': 6754, 'batch_count': 1887, 'ondemand': 9862, '6gb': 626, 'vmfb': 15221, 'zip64': 15886, 'compressed': 3154, 'superfetch': 13670, 'reloaded': 11719, 'mmap': 9056, 'uncacheable': 14663, 'treated': 14441, 'incur': 7128, '512gb': 528, 'uncompressed': 14678, 'llvm': 8313, 'iree': 7519, 'device_allocator': 4119, 'expects': 5180, 'terminated': 13989, 'langauges': 8010, 'vulkan_large_heap_block_size': 15275, '3221225472': 399, '4294967296': 482, '2gb': 370, 'unet512': 14717, 'max_length': 8729, '77': 647, 'di': 4137, 'feels': 5430, 'annotation': 1285, 'messed': 8855, 'purekrome': 11187, 'amazon': 1206, 'downvote': 4480, '866ce385a84cdb53c394': 677, 'terser': 14002, 'retries': 11968, 'exceeded': 5101, '1999': 218, 'windowsphoneinfo': 15542, '677173': 618, 'petition': 10464, 'patcher': 10320, '2014': 259, 'loathed': 8330, 'ribbon': 12044, 'explorerframe': 5224, 'system32': 13810, 'syswow64': 13817, 'resourcer': 11901, 'ie5': 6938, 'ie11': 6937, 'xp': 15759, 'playdate': 10630, 'powkiddy': 10800, 'v90': 15000, 'recompiled': 11540, 'panicinc': 10222, 'miyoocfw': 9040, 'crank': 3527, 'matebolomics': 8692, 'mzmine3': 9334, 'normalization': 9581, 'untargeted': 14831, 'equilibrate': 4958, 'peak': 10373, 'thirdly': 14110, 'variations': 15054, 'doi': 4427, '1007': 49, 's11306': 12243, '016': 12, '0972': 32, 'pmratul': 10674, 'khan': 7874, 'requirment': 11854, 'pmstratofax': 10675, 'roles': 12115, 'âœcare': 15927, 'concernsã': 3187, 'commission': 3059, '26': 339, 'subscriber': 13590, '56': 551, '58': 558, 'elementor': 4723, 'metform': 8873, 'prebuilt': 10826, '05': 23, 'wordpress': 15611, 'imporant': 7034, 'trello': 14452, 'bugzilla': 2338, 'simpliest': 12879, 'peppermint': 10394, 'doesnt': 4423, 'subdomain': 13563, 'cadent': 2428, 'managemen': 8580, 'amp': 1230, 'desk': 4060, 'freshdesk': 5832, 'freshde': 5831, 'gform': 6116, '28': 351, 'ticketing': 14175, 'andrii': 1258, 'crowdin': 3587, 'i18n': 6881, 'delivered': 3960, 'âœâ': 15928, 'showcase': 12804, 'netbox': 9439, 'wearing': 15367, 'ldap_config': 8081, 'minefield': 8958, 'contrary': 3373, 'harm': 6514, 'whatever_sample': 15458, 'easilly': 4618, 'nuke': 9654, 'unduly': 14716, 'unmodified': 14782, '1049': 58, 'ghosts': 6133, 'underway': 14708, 'malicious': 8570, 'enhancing': 4862, 'cmu': 2918, 'virtualizing': 15180, 'oses': 10049, 'grew': 6335, 'envisioned': 4934, 'œnontraditionalâ': 15956, 'œformalâ': 15950, 'classes1': 2818, 'college': 2994, 'quantum': 11285, 'physic': 10509, 'memorizing': 8816, 'sushi': 13722, 'customersâ': 3669, 'devoted': 4125, 'piano': 10516, 'sonata': 13114, 'violin': 15174, 'concertos': 3188, 'cultivating': 3636, 'relations': 11693, 'childhood': 2735, 'lego': 8123, 'submarine': 13573, 'temp': 13960, 'barista': 1863, 'severely': 12679, 'understaffed': 14698, 'dig': 4200, 'myself2': 9329, 'frantically': 5809, 'codecademy': 2937, 'handful': 6478, 'ragrets': 11362, 'sic': 12826, 'bootcamp': 2173, 'œneed': 15955, 'experienceâ': 5189, 'bootcamps': 2174, 'trap': 14432, 'intangible': 7333, 'developer3': 4106, 'momentum': 9127, 'enrolling': 4882, 'œit': 15953, 'schooling': 12389, 'uncovering': 14682, 'classroom': 2826, 'solo': 13076, 'chasing': 2700, 'technology4': 13942, 'roads': 12088, 'stem': 13407, 'adjacent': 963, 'resembles': 11868, 'vehemently': 15089, 'stress': 13492, 'vice': 15145, 'versa': 15114, 'door': 4451, 'transferable': 14395, 'demonstrating': 3978, 'narrative': 9365, 'irreplaceable': 7525, 'wedge': 15414, 'vouch': 15251, 'ambitions': 1213, 'œunqualified': 15959, 'imposter': 7049, 'syndrome': 13796, 'someoneâ': 13099, 'ourselves': 10070, 'footnotes': 5711, 'signify': 12847, 'hindsight': 6685, 'xanga': 15728, 'œdeveloperâ': 15941, 'œengineerâ': 15946, 'interchangeably': 7379, 'fanciest': 5360, 'youmightnotneed': 15826, 'jamieshark': 7620, 'nashville': 9369, 'teaching': 13931, 'toonsquid': 14313, 'animate': 1274, 'distorce': 4326, 'octopus': 9765, 'lozzd': 8438, 'rates': 11411, 'sequentially': 12614, 'quo': 11333, 'junit': 7779, 'selective': 12547, 'parallelization': 10242, 'surefire': 13702, 'migrated': 8926, 'mikemybytes': 8932, 'thursday': 14162, 'rough': 12145, '1795': 183, 'forkcount': 5738, 'viam': 15140, 'wednesday': 15415, 'jupiter': 7781, 'same_thread': 12289, 'sunday': 13657, 'satellite': 12316, 'satellites': 12317, 'meters': 8872, 'kds112': 7826, 'osmand': 10055, 'locus': 8348, 'altitude': 1190, 'sea': 12468, 'elevation': 4726, 'routable': 12152, 'comfortably': 3028, 'interpreted': 7418, '110': 74, 'inconvenient': 7106, 'antistressstore': 1318, 'manjaro': 8597, 'x86_64': 15726, 'ru_ru': 12194, '51': 523, 'nts': 9643, 'zend': 15873, 'copyright': 3450, 'opcache': 9897, 'xdebug': 15733, '2002': 247, 'derick': 4026, 'rethans': 11959, 'opcodesio': 9898, 'gidhublan': 6138, 'strip_extracted_context': 13508, 'paypal': 10349, 'aida': 1079, 'embracing': 4755, 'ethics': 5038, 'chevrotain': 2732, 'determining': 4089, 'alts': 1195, 'ilookaheadstrategy': 6971, 'buildlookaheadforalternation': 2347, 'buildlookaheadforoptional': 2348, 'matthew': 8714, 'dean': 3827, 'llk': 8308, 'lookahead': 8393, 'arbitrarily': 1440, 'langium': 8012, 'allstar': 1156, 'whitespac': 15492, 'whereas': 15473, 'parseable': 10270, 'consumet': 3333, 'comma': 3042, 'option2': 9990, 'consume2t': 3327, 'subrule': 13586, 'somerepeatingrule': 13101, 'option3': 9991, 'consume3t': 3328, 'repeating': 11784, 'lookaheadstrategys': 8394, 'subrules': 13587, 'repetitions': 11786, 'recursion': 11565, 'ramification': 11373, 'thesis': 14089, 'msujew': 9243, 'recursive': 11566, 'constructs': 3321, 'programmatic': 11032, 'dsl': 4541, 'ebnf': 4627, 'consume1': 3326, 'grok': 6343, 'academic': 804, 'bd82': 1914, 'skipping': 12944, 'tokenizing': 14282, 'eventual': 5067, 'ambiguous': 1211, 'eliminated': 4728, 'nosep': 9585, 'ident': 6914, 'gated': 5968, 'errors_public': 4979, 'overridden': 10133, 'superset': 13677, 'curriculum': 3652, 'slides': 12967, 'deck': 3857, 'presenting': 10898, 'serf': 12615, 'rabbit': 11344, 'handing': 6479, 'callsite': 2459, 'demoapp': 3972, 'windowgroup': 15540, 'contentview': 3353, 'canimportappkit': 2487, 'presenterscene': 10897, 'presenternotes': 10896, 'endif': 4835, 'presentationcontentviewdeck': 10891, 'openwindow': 9944, 'openwindowvalue': 9945, 'hashable': 6530, 'codable': 2929, 'switui': 13769, 'conform': 3250, 'cadable': 2426, 'presentationcontentview': 10890, 'thisâ': 14115, 'presentationcontentviewdocument': 10892, 'swiftui': 13757, 'appfroschdemo': 1384, 'dialer': 4148, 'requesttobethedefaultdialerapp': 11847, 'gliting29': 6185, 'defaultdialerrequest': 3898, 'kt': 7951, 'telecommanager': 13951, 'packagename': 10177, 'oems': 9779, 'rolemanager': 12114, 'owned': 10155, '295': 362, 'todays': 14266, 'vehicle': 15090, 'rsmp': 12184, 'sxl': 13775, 'sensors': 12585, 'alarms': 1108, 'humidity': 6850, 'cabinet': 2413, 'relying': 11724, 'supervisor': 13683, 'nordic': 9576, 'rsmp_sxl_vms': 12185, 'raspberrypi': 11401, 'javacscript': 7637, 'mall': 8571, 'hmtl': 6715, 'chtml': 2774, 'computerhope': 3166, 'jargon': 7631, 'htm': 6813, 'obcure': 9695, 'japan': 7627, 'xhtml': 15746, 'diplays': 4214, 'cyclist': 3702, '4323': 485, 'interpolation': 7414, 'cyclists': 3703, 'detector_logicdl001_camera_daily_counter': 4083, 'detector_logic': 4082, 'dl001_camera_daily_counter': 4371, 'nighty': 9513, 'keyboardavoidingview': 7856, 'canva': 2491, 'kindle': 7890, 'scribe': 12430, 'worlds': 15639, 'handwrite': 6489, 'subpages': 13584, 'wdyt': 15362, 'dialogs': 4150, 'std': 13401, 'isolate': 7549, 'sqlite3': 13276, 'openinmemory': 9922, 'sqlitedatabase': 13278, 'sqlite_async': 13277, 'revalidating': 11993, 'revalidate': 11992, 'literal': 8284, '123': 91, 'untouched': 14838, 'leak': 8091, 'seed': 12507, 'unhappy': 14731, 'playwright': 10643, 'mocked': 9069, 'frotnend': 5853, 'fixture': 5585, 'permanently': 10427, 'playrwright': 10641, 'mutually': 9302, 'exclusive': 5126, 'e2e': 4603, 'smoke': 13009, 'stub': 13533, 'implementations': 7023, 'extenral': 5260, 'candidate': 2485, 'mirage': 8989, 'stubbing': 13534, 'sinon': 12910, 'testdouble': 14009, 'inversion': 7463, 'singleton': 12908, 'setcontext': 12652, 'getcontext': 6083, 'organizing': 10029, 'unmaintainable': 14776, 'magic': 8521, 'instances': 7305, 'paoloricciuti': 10227, 'guiding': 6399, 'harris': 6523, 'pipeless': 10563, 'multimedia': 9264, 'concentrate': 3176, 'cats': 2583, 'ml': 9050, 'storm': 13458, 'technique': 13938, 'bgr': 2015, 'arrives': 1513, 'codecs': 2938, 'demux': 3980, 'subtitles': 13606, '264': 343, 'frames': 5803, 'bounding': 2208, 'encode': 4806, 'mux': 9303, 'timestamps': 14217, 'syncing': 13794, 'opencv': 9909, 'garden': 5957, 'virtue': 15182, 'elseâ': 4738, 'grunt': 6365, 'communicated': 3072, 'nanomsg': 9363, 'nng': 9531, 'userâ': 14941, 'framerate': 5801, 'distribute': 4335, 'œheavyâ': 15951, 'gstreamer': 6370, 'starring': 13365, 'friends': 5841, 'pipless': 10568, 'decoder': 3869, 'avsc': 1757, 'muti': 9299, 'avro': 1756, 'nrwiersma': 9631, 'limitations': 8226, 'encoders': 4810, '292': 360, 'pijuice': 10537, 'lapse': 8020, 'photography': 10497, 'led1': 8106, 'behaved': 1960, 'disconnected': 4273, 'faint': 5338, 'dockerized': 4400, 'casaos': 2547, 'eminent': 4761, 'elementary': 4722, 'mitch': 9026, 'passwords': 10312, 'xx': 15771, 'webgui': 15385, 'ymlâ': 15821, 'greatful': 6324, 'hypergraph': 6869, 'hanconv': 6475, 'employing': 4781, 'shortest': 12787, 'nxn': 9691, '1s': 237, 'nodei': 9548, 'nodej': 9549, 'a1': 743, 'a2': 748, 'a3': 749, 'a5': 754, 'rusty1s': 12230, 'absent': 791, 'heterogeneous': 6639, 'homogeneous': 6742, 'gnn': 6211, 'applicable': 1395, 'mutag': 9293, 'oxygen': 10160, 'hydrogen': 6865, 'n_i': 9338, 'metapaths': 8867, 'whether': 15477, 'tupleliststr': 14537, 'listtuplestr': 8279, 'str': 13465, 'refers': 11614, 'heterodata': 6638, 'node_types': 9546, 'untested': 14833, 'counts': 3494, 'aid': 1078, 'selectcount': 12540, 'variable_category': 15048, 'ordercolumn': 10011, 'desc': 4030, 'eshoponweb': 4994, 'az': 1776, '400': 458, 'microsoftlearning': 8913, 'configuring': 3238, 'insights': 7277, 'refreshes': 11636, 'partsunlimited': 10295, 'devops': 4124, 'capitalizations': 2504, 'petender': 10460, 'fimdim': 5522, 'hiya': 6702, 'webauthn': 15377, 'fido': 5473, 'authenticators': 1684, 'rps': 12176, 'cryptographic': 3603, 'proofs': 11072, 'protected': 11100, 'authenticator': 1683, 'attestation': 1646, 'unphishable': 14794, 'passkeys': 10309, 'w3c': 15284, 'passkey': 10308, 'stricter': 13496, 'greater': 6322, 'constructively': 3319, 'timcappalli': 14196, 'fido2': 5474, 'credentials': 3558, 'resident': 11879, '2fa': 369, 'ctap1': 3616, 'u2f': 14610, 'ctap2': 3617, 'mainstream': 8540, 'janet': 7624, 'interpreter': 7419, 'proposes': 11091, 'importation': 7039, 'prepended': 10877, 'jpm': 7741, 'despite': 4065, 'sha': 12691, 'subsequently': 13593, 'overwrite': 10149, 'kargs': 7812, 'symlink': 13778, 'objections': 9705, 'argue': 1470, 'coupling': 3497, 'appending': 1381, 'clobbering': 2866, 'distributing': 4338, 'transitive': 14415, 'spork': 13255, 'semver': 12569, 'shortcoming': 12782, 'allays': 1140, 'installations': 7297, 'architectures': 1450, 'confess': 3220, 'characteristics': 2680, 'coexist': 2958, 'occupying': 9748, 'lonely': 8384, 'managers': 8583, 'asks': 1549, 'theoretical': 14079, 'inefficiency': 7158, 'tarray': 13899, 'conservative': 3288, 'footgun': 5709, 'intents': 7367, 'afaiu': 1027, 'breakage': 2247, 'distro': 4343, 'trainwreck': 14382, 'dso': 4544, 'ensues': 4885, 'epitome': 4948, 'unsolved': 14818, 'assure': 1600, 'attempts': 1640, 'commonplace': 3070, 'dnf4': 4385, 'portage': 10739, 'developmental': 4110, 'paradoxically': 10234, 'gentoo': 6032, 'tradeoffs': 14372, 'simultaneous': 12895, 'nix': 9522, 'ala': 1105, 'pnpm': 10678, 'distributable': 4333, 'pioneered': 10555, 'disadvantage': 4248, 'counting': 3490, 'dsos': 4545, 'distributables': 4334, 'offerings': 9793, 'vocal': 15227, 'irl': 7520, 'distrodev': 4344, 'disagree': 4250, 'inflicted': 7175, 'subtree': 13607, 'redoing': 11587, 'mindset': 8955, 'psx': 11149, 'ps5': 11142, 'xbox': 15731, 'consoles': 3305, 'homebrew': 6738, 'bless': 2093, 'asmongold': 1551, 'mad': 8516, 'mushroom': 9285, 'ofiicial': 9803, 'mappings': 8619, 'answear': 1304, 'gplv3': 6258, 'gpl': 6257, 'webgl2': 15383, 'roundabout': 12149, 'psp': 11148, 'joystick': 7734, 'controllers': 3389, 'wz': 15710, 'supports': 13695, 'bsd': 2307, 'kubevpn': 7956, 'fancy': 5361, 'iv': 7598, 'local_path_to_file': 8332, 'vdialog': 15075, 'show_dialog': 12802, 'vuetify': 15273, 'vcard': 15070, 'vbtn': 15069, 'trame': 14385, 'dialogv_model': 4152, 'logi': 8361, 'mrbbot': 9227, 'workerd': 15621, 'miniflare': 8962, 'persisted': 10438, 'kv': 7961, 'dispatchfetch': 4302, 'trade': 14369, 'premature': 10867, 'disparage': 4301, '1000000x': 47, 'thoroughly': 14120, 'emotional': 4772, 'roller': 12119, 'coaster': 2926, 'disappointed': 4258, 'icky': 6896, 'supremetechnopriest': 13699, 'himself': 6681, 'vitest': 15208, 'relied': 11716, 'danifoldi': 3734, 'proxys': 11134, 'forwarded': 5770, 'seeding': 12508, 'schedules': 12376, 'getbindings': 6079, 'getkvnamespace': 6093, 'getr2bucket': 6101, 'getcaches': 6081, 'getdurableobjectnamespace': 6085, 'getglobalscope': 6089, 'getmoduleexports': 6097, 'soundly': 13138, 'fortune': 5766, 'nail': 9343, 'biter': 2069, 'wrangler': 15670, 'minflare': 8959, 'sockets': 13047, 'yolo': 15824, 'undici': 14711, 'outbound': 10074, 'mockagent': 9068, 'intercepting': 7378, 'devprod': 4126, 'reiterate': 11679, 'admah': 970, 'hopping': 6761, 'disappointment': 4260, 'sveltejs': 13736, 'kit': 7900, '2966': 364, 'pairing': 10203, 'cloudflareâ': 2885, 'forseeable': 5761, 'outage': 10072, '612': 593, 'fetchmock': 5451, '632': 600, 'outboundservice': 10075, 'customising': 3674, '629': 599, '3684': 429, '3703': 431, 'âœ': 15926, '639': 601, 'dispatching': 4303, '961': 698, '710': 636, 'getminiflarefetchmock': 6096, 'scriptpath': 12437, 'emitting': 4766, 'wrangler2': 15671, 'miniflare2': 8963, 'wrangler3': 15672, 'rage': 11361, 'limbo': 8223, 'philosopher': 10488, 'swimmer': 13758, 'intead': 7334, 'ggswim': 6124, 'subject_id': 13568, 'infusion': 7188, 'crs': 3589, 'death': 3829, 'toci': 14263, 'comprises': 3156, 'lane': 8005, 'pivoting': 10576, 'cart_infusion': 2543, 'crs_grade_1': 3590, 'crs_grade_2': 3591, 'toci_infusion': 14264, 'last_follow_up': 8032, 'na': 9339, 'disadvantages': 4249, 'dealbreaker': 3825, 'sk': 12931, 'ggplot2': 6123, 'id_column': 6905, 'time_column': 14198, 'events_column': 5066, 'markers_list': 8644, 'lanes_list': 8007, 'geom_': 6043, 'ggplot': 6122, 'geom_swim_laneaesy': 6044, 'subjid': 13571, 'xstart': 15767, 'xend': 15738, 'trtgrp': 14488, 'geom_swim_markeraesx': 6045, 'predicate': 10841, 'emojis': 4770, 'attractive': 1647, 'detract': 4092, 'segmented': 12529, 'disagreement': 4251, 'aes': 1020, 'ggswimid': 6125, 'mrn': 9229, 'time_last_followup': 14199, 'trt': 14487, 'add_marker': 935, 'time_to_death': 14201, 'u1234': 14608, 'time_to_ae': 14200, 'u9876': 14614, 'followup': 5695, 'data_long': 3755, 'end_time': 4828, 'on_or_off_treatment': 9849, 'inferred': 7169, 'add_markerdata': 936, 'rationale': 11417, 'scale_x_continuous': 12351, 'talks': 13874, 'killer': 7883, 'tortoise': 14332, 'shocker': 12765, 'showman': 12809, 'matz': 8722, 'nervous': 9433, 'brag': 2227, 'rolled': 12118, 'hare': 6512, 'graffiti': 6289, 'fidelity': 5472, 'reveal': 11996, 'revealed': 11997, 'positional': 10754, 'punchline': 11179, 'dimensionality': 4210, 'engagement': 4849, 'smallest': 12996, 'hung': 6854, 'wysiwyg': 15707, 'bottomless': 2201, 'pit': 10570, 'tempted': 13969, 'programmed': 11034, 'distinction': 4322, 'unbreakable': 14661, 'charty': 2698, 'iterative': 7587, 'promote': 11057, 'caught': 2585, 'grows': 6361, 'obsessing': 9725, 'kerning': 7843, 'holes': 6727, 'under': 14687, 'emphasizing': 4775, 'kingdon': 7895, 'kingdonb': 7896, 's2e2': 12246, 'kou': 7940, 'tracker': 14364, 'holy': 6735, 'sldie': 12957, 'dash2': 3746, 'shortened': 12785, 'mydomain': 9323, 'confirms': 3243, 'websockets': 15404, 'durability': 4573, 'fletd': 5619, 'gunicorn': 6409, 'uvicorn': 14977, 'starlette': 13364, 'lives': 8297, 'dozen': 4481, 'fwd': 5921, 'slint': 12975, 'surprise': 13710, 'exemple': 5142, 'verry': 15112, 'anyclue': 1327, 'fr_fr': 5794, 'setlocale': 12656, 'definitions': 3920, 'init_translations': 7206, 'current_exe': 3650, 'gmod_3d_packager': 6210, 'concat': 3170, 'cargo_manifest_dir': 2527, 'gettext': 6107, 'trickier': 14462, '3307': 406, 'loving': 8428, 'fastest': 5384, 'supercharged': 13667, 'solidity': 13073, 'genevaroc': 6025, 'notion': 9610, 'revise': 12016, 'rewatch': 12024, 'overwhelming': 10148, 'buddy': 2321, 'privategpt': 10970, 'i7': 6888, '10th': 69, 'geforce': 5998, 'rtx': 12193, '2070': 277, '16gb': 165, 'ingesting': 7193, 'cvs': 3691, 'ggmal': 6121, 'gpt4all': 6263, 'groovy': 6348, 'sentences': 12589, 'spoiled': 13244, 'ingested': 7192, 'church': 2780, 'constitution': 3312, 'worship': 15648, 'westminster': 15446, 'confession': 3221, 'faith': 5341, 'esv': 5029, 'bible': 2026, 'son': 13112, 'jacob': 7608, 'got': 6248, 'fourteen': 5785, 'mistranscription': 9019, 'genesis': 6024, 'mother': 9173, 'servant': 12626, 'bilhah': 2037, 'father': 5387, 'stranger': 13474, 'twelve': 14562, 'sons': 13119, 'arduous': 1459, 'jyor0385': 7798, 'localgpt': 8335, 'h2ogpt': 6428, 'h2oai': 6427, 'vicuna': 15151, 'wizardlm': 15585, 'uncensored': 14668, 'montalvomiguelo': 9155, 'kenji': 7834, 'twp': 14572, 'locales': 8334, 'reloading': 11720, 'ðÿž': 15935, 'livereload': 8296, 'heap': 6581, 'shopify': 12774, 'ddc': 3809, 'osd': 10048, 'notches': 9592, 'marnovo': 8657, 'separatly': 12601, 'adjustments': 969, 'ret': 11951, 'mame': 8574, 'organ': 10018, 'bootleg': 2177, 'breakpoints': 2253, 'jean': 7652, 'christophe': 2767, 'delaunay': 3931, 'synacktiv': 13782, 'ressources': 11923, 'bieresecu1_ret': 2032, 'sync_en': 13785, 'emulating': 4788, 'gdb': 5989, 'gdbstub': 5990, 'rb6502': 11426, 'yahoo': 15786, 'exemplified': 5143, 'yfinance': 15808, 'get_last_caching_state': 6071, 'ticker': 14169, 'bypass': 2401, 'unnecessarily': 14784, 'kschmid': 7950, 'tickers': 14173, 'ohlcv': 9815, 'rickturner2001': 12051, 'ranaroussi': 11378, 'uncached': 14664, 'miserably': 8999, '1647': 157, 'valueraider': 15040, 'smart_scraping': 13000, 'misguiding': 9001, 'bypassing': 2403, 'inspection': 7285, 'intraday': 7436, 'rick': 12049, 'yahoo_cache': 15787, 'pulled': 11170, 'printhistory': 10957, 'slim': 12973, 'edgelogistics': 4650, '_content': 720, 'gibberish': 6137, 'weekday': 15418, 'is_cached': 7532, 'get_expiration_from_interval': 6067, 'tickerbase': 14170, '_data': 722, 'tickerdata': 14171, 'tickerdataself': 14172, 'get_fn': 6069, 'params': 10253, 'getself': 6105, 'user_agent_headers': 14933, '_get_proxyproxy': 725, '_session': 738, 'proxies': 11128, 'cachedlimitersession': 2420, 'falsy': 5350, 'truthy': 14504, 'yfinance_cache': 15809, 'yf': 15807, 'populated': 10730, 'mal': 8566, 'modfied': 9101, 'get_ticker_historysession': 6078, 'aapl': 760, 'rerun': 11857, 'prints': 10959, 'four': 5783, 'conclusions': 3193, 'cachelimitersession': 2421, 'url_pattern': 14902, 'indirection': 7149, 'hooking': 6752, 'javascripts': 7642, 'patterned': 10335, 'bksteckler': 2076, 'klokke': 7912, 'finalization': 5525, 'ada': 912, 'conduct': 3214, 'footers': 5708, 'cite': 2795, 'steve': 13419, 'choices': 2748, 'linuxserver': 8260, 'beet': 1941, '4859': 502, 'erratic': 4973, 'replaygain': 11798, 'beets': 1942, 'arising': 1484, 'volunteering': 15244, 'ruling': 12209, 'desirable': 4056, 'lmscommunity': 8317, 'logitechmediaserver': 8370, 'transient': 14410, 'lots': 8420, 'lms': 8316, 'minimally': 8968, 'containerised': 3344, 'scroll': 12441, 'diary': 4157, 'odroid': 9774, 'hc4': 6557, 'armbian': 1491, '1993': 216, 'arm64': 1490, 'dockerfiles': 4397, 'linuxconfig': 8259, 'footprint': 5712, '_nicolas_louis_': 730, 'hik': 6677, 'boxy': 2219, 'suffer': 13627, 'musicbrainz': 9287, 'ddev': 3810, 'proviso': 11126, 'crossing': 3582, 'boundaries': 2206, 'dismiss': 4300, 'hamstrung': 6473, 'marginally': 8634, 'upgrades': 14871, 'diun': 4354, 'crazymax': 3540, 'dockerised': 4399, 'bleeding': 2091, 'tvc': 14552, 'bno055': 2132, 'nano': 9361, 'adafruit': 913, 'ino': 7250, 'acceleration': 811, 'angles': 1267, 'euler_streaming': 5043, 'surface': 13704, 'angular': 1270, 'orientation': 10032, 'measurements': 8770, 'familiarized': 5356, 'portions': 10748, 'surgery': 13706, 'mpu6050': 9214, 'i2cdev': 6883, 'interrupt': 7421, 'mpusetup': 9215, 'bnosetup': 2133, 'readmpu': 11461, 'readbno': 11453, 'verticalacceleration': 15125, 'ypr': 15841, 'yaw': 15794, 'yprx': 15844, 'ypr0': 15842, 'ypr1': 15843, 'minus': 8983, 'appended': 1380, 'builtin_sdcard': 2353, 'microsd': 8910, 'motor': 9181, 'servo': 12637, 'gimbal': 6149, 'pid': 10532, 'mechanics': 8777, 'approximation': 1427, 'degrees': 3929, 'stretching': 13494, 'optimising': 9980, 'turboderp': 14541, 'optimise': 9978, 'profiling': 11026, 'optimisation': 9977, 'cuda': 3625, 'nsight': 9635, 'bottlenecked': 2198, 'magnitude': 8528, 'jit': 7683, 'asynchronously': 1612, 'matmuls': 8706, 'relatively': 11697, 'instantaneous': 7307, 'thumb': 14156, 'coalesceing': 2924, 'gmem': 6208, 'accesses': 826, 'smem': 13005, 'l1': 7963, 'arithmetic': 1485, 'lie': 8197, 'tensor': 13981, 'maxtensor_a': 8736, 'tensor_b': 13982, 'tolerance': 14285, 'worrying': 15646, 'determinism': 4090, 'quantized': 11283, 'pycharm': 11222, 'gtxaspec': 6378, 'wyze': 15709, 'factory_t31_zmc6tiidqn': 5324, 'sshing': 13300, 'rcs': 11431, 'yout': 15835, 'masterclass': 8679, 'minting': 8981, 'dapp': 3738, 'liarco': 8170, 'metamask': 8866, 'mint': 8980, 'clydemaster': 2903, 'crew': 3562, 'hashlips': 6535, 'nfts': 9489, 'odc': 9769, 'opendevs': 9911, 'encountering': 4818, 'difficulties': 4191, 'wpgive': 15668, 'donation': 4440, 'doagency': 4390, 'glaubersilva': 6181, 'backoffice': 1807, 'error_log': 4975, 'crontrol': 3575, 'wp_debug_log': 15664, 'wp_debug': 15662, 'wp_debug_display': 15663, 'ini_set': 7204, 'display_errors': 4305, 'script_debug': 12433, 'givewp_webhooks_requests': 6168, 'trigers': 14467, 'givewp': 6167, 'deactivated': 3816, 'donation_updated': 4442, 'firstname': 5570, 'lastname': 8036, 'feeamountrecovered': 5421, 'three': 14140, 'donation_created': 4441, 'uncovered': 14681, 'webhokos': 15386, 'donationcreated': 4443, 'donor': 4447, 'sdl': 12461, 'antimicrox': 1317, 'fixedhaven': 5582, 'libsdl': 8189, '7940': 654, 'koga': 7930, 'ninja': 9518, 'appimage': 1385, 'classical': 2820, 'my_priv_key': 9316, 'codespace': 2949, 'authorized_key': 1693, 'g1a10fd5a': 5929, 'lah': 7994, 'kkkj': 7909, 'haserrors': 6528, 'tamoreton': 13878, 'allerrors': 1143, 'concatform': 3173, 'belinda': 1978, 'rocked': 12102, 'generously': 6023, 'kevin': 7846, 'justice': 7786, 'alejandro': 1113, 'wowed': 15659, 'voiceover': 15231, 'witty': 15583, 'jokes': 7712, 'infectious': 7166, 'excitement': 5119, 'nurture': 9677, 'camaraderie': 2466, 'sizzler': 12929, 'crud': 3594, 'authwithpasswordemail': 1695, 'prone': 11067, 'pocketbased': 10684, 'admin_email': 972, 'admin_pass': 973, '2908': 358, 'comminicate': 3058, 'nodeexpress': 9547, 'pursue': 11195, 'scratching': 12416, 'prost': 11098, 'scrips': 12431, '166': 160, 'rebase': 11494, 'massage': 8675, 'cry': 3599, 'respository': 11922, 'respoitory': 11911, 'inlang': 7240, '54321': 542, 'ides': 6926, 'ivanhofer': 7599, 'suspected': 13725, 'appeal': 1371, 'lisa': 8266, 'cloning': 2874, 'nailing': 9346, 'interim': 7392, 'sd1': 12455, 'composite': 3145, 'latents': 8042, 'purely': 11188, 'vaedecode': 15015, 'vaeencode': 15016, 'city96': 2798, 'interposer': 7415, 'jertel': 7661, '337': 410, 'opsgenie': 9965, 'flatline': 5605, 'elastalert_status': 4707, 'query_key': 11300, 'rule_name': 12203, 'query_string': 11302, 'rule_name_here': 12204, 'forget_keys': 5733, 'opsgenie_addr': 9966, 'identifiertype': 6920, 'opsgenie_key': 9969, 'opsgenie_api_key': 9968, 'varied': 15056, 'aggregated': 1058, 'differentiated': 4181, 'metricbeat': 8883, 'num_events': 9657, 'metric_aggregation': 8882, 'replicas': 11800, 'realert': 11468, 'opsgenie_subject': 9971, 'elastic': 4708, 'observability': 9716, 'pods': 10689, 'opsgenie_subject_args': 9972, 'opsgenie_priority': 9970, 'p1': 10163, 'opsgenie_alias': 9967, 'kubernetesdeploymentname': 7955, 'match_body': 8683, 'strangely': 13473, 'fired': 5559, 'num_matches': 9658, 'match_bodykubernetesdeploymentname': 8684, 'queryable': 11303, '_mapping': 728, '527': 535, 'elastalert2': 4706, 'ruletypes': 12208, 'procedures': 10990, 'apikey': 1352, 'executes': 5137, 'curl': 3648, 'subpatches': 13585, 'unleash': 14764, 'instanced': 7304, 'meetups': 8792, 'lightbox': 8210, 'prefetching': 10858, 'replying': 11807, 'mainimageurl': 8536, 'secondimageurl': 12488, 'thirdimageurl': 14109, 'cloudinary': 2886, 'usestate': 14944, 'displayedfullimageurl': 4307, 'setdisplayedfullimageurl': 12655, 'differnet': 4187, 'lightboximageurl': 8211, 'opens': 9928, 'buttonnext': 2389, 'buttonprev': 2390, 'onclick': 9858, 'arranging': 1502, 'setdisplayedfullimage': 12654, 'sungrow': 13659, 'sg10rt': 12684, '5kw': 576, 'gary': 5964, 'washing': 15329, 'wg': 15454, 'ngoduykhanh': 9494, 'wireguard': 15561, 'glenn': 6183, 'bathymetry': 1891, 'earth': 4612, 'mountains': 9187, 'osgearth': 10051, 'cull': 3633, 'reduces': 11594, 'terrainenginenode': 13996, 'addmodifytileboundingboxcallback': 946, 'culling': 3634, 'verts': 15127, 'shader': 12695, 'osg': 10050, 'roque': 12136, 'waters': 15349, 'severe': 12678, 'ssreflections': 13305, 'semi': 12568, 'shaders': 12697, 'obtainable': 9732, 'pillar': 10539, 'unreals': 14803, 'voxelgi': 15253, 'artifact': 1523, 'noticeable': 9602, 'standpoint': 13356, 'dithered': 4352, 'resolutions': 11891, 'taa': 13826, 'sharp': 12720, 'sdfgi': 12458, 'dither': 4351, 'jittering': 7684, 'dithering': 4353, 'reflectionprobe': 11626, 'parented': 10262, 'ambient': 1209, 'extents': 5268, 'roughness': 12147, 'calinou': 2448, 'nevertheless': 9461, 'materialwise': 8696, 'reflectionprobes': 11627, 'extremly': 5288, 'reflective': 11629, 'oversaw': 10138, 'propagating': 11074, 'issuccess': 7559, 'ducktyping': 4554, 'convertable': 3406, 'comprehension': 3150, 'monad': 9130, 'discriminated': 4289, 'unions': 14748, 'cusp': 3661, 'dus': 4579, 'wishing': 15567, 'sugar': 13632, 'desugar': 4072, 'tryreadallbytespath': 14510, 'duck': 4552, 'expr': 5240, 'indicating': 7142, 'synchronous': 13792, 'coroutines': 3458, 'interoperate': 7410, 'lowered': 8433, 'tying': 14578, 'gitter': 6163, 'cast': 2558, 'setback': 12647, 'tvalue': 14551, 'trygetvaluetkey': 14508, 'innerdictionary': 7244, 'trygetvaluekey': 14507, 'duly': 4559, 'mustcatchparams': 9290, 'guard': 6384, 'actor': 902, 'mutable': 9292, 'davidkpiano': 3796, 'reserved': 11873, 'stitch': 13432, 'upto': 14890, 'spawned': 13177, 'actors': 903, 'xstate': 15768, 'mixed': 9036, 'seldom': 12537, 'impure': 7061, 'memoizing': 8814, 'guards': 6387, 'boolean': 2167, 'satisfiability': 12319, 'infeasible': 7165, 'guarded': 6386, 'updatename': 14862, 'validname': 15031, 'taken': 13865, 'predictable': 10844, 'opinions': 9958, 'zigbee2mqtt': 15882, 'rev': 11991, 'manages': 8584, 'vibration': 15144, 'systemctl': 13812, 'rm': 12075, 'dhcp': 4136, 'calamares': 2431, 'installer': 7299, 'networkmanager': 9452, 'mocaccino': 9065, 'kits': 7904, 'funtoo': 5906, 'segfaulted': 12525, 'unnatended': 14783, 'luet': 8462, 'pls': 10663, 'openscd': 9932, 'guard1': 6385, 'mwc': 9309, 'implemented3': 7025, 'bottlenecks': 2199, 'lit': 8281, 'scd': 12365, 'element': 4720, 'capsulation': 2508, 'captured': 2513, 'vuejs': 15272, 'manageable': 8578, 'registries': 11658, '_customelementsdefine': 721, 'customelements': 3666, 'cl': 2803, 'getname': 6099, 'callwindow': 2460, 'canary': 2475, 'wicg': 15502, 'webcomponents': 15378, '716': 637, 'issuecomment': 7561, '1535263394': 143, 'jakobvogelsang': 7615, 'wish': 15564, 'keen': 7828, 'reservation': 11871, 'jakob': 7614, 'kerfuffle': 7838, 'widespread': 15509, 'propagation': 11075, 'pleasing': 10648, 'wizards': 15586, 'polyfill': 10712, 'coordination': 3433, 'elm': 4732, 'blazor': 2088, 'prescribe': 10886, 'namespaced': 9356, 'stance': 13343, 'forgotten': 5736, '2010': 255, 'unreleased': 14806, 'maintains': 8548, 'hustle': 6861, 'polyfills': 10713, 'went': 15439, 'pitfall': 10573, 'prereleases': 10882, 'distributors': 4342, 'wrobson': 15693, 'lllow': 8309, 'candid': 2484, 'zubricks': 15913, 'workspaces': 15635, 'nw': 9689, 'x11': 15720, 'wayland': 15356, '11599': 78, 'isp': 7555, 'ppoe': 10805, 'hotpost': 6783, 'phpnuxbill': 10505, 'dav4jvm': 3793, 'webdav': 15380, 'caldav': 2440, 'carddav': 2519, 'requiroment': 11855, 'kotlin': 7939, 'multiplatfomt': 9266, 'pullrequest': 11172, 'kmm': 7915, 'dateteme': 3787, 'befor': 1943, 'okhttpclient': 9823, 'ktor': 7952, 'pultiplatform': 11175, 'siarhei': 12823, 'rfc2822': 12033, 'somebody': 13093, 'braking': 2233, 'mutliplatform': 9300, 'okhttp': 9822, 's100101': 12242, 'doen': 4420, 'whirlpool': 15483, 'miami': 8893, '60001': 588, 'differen': 4177, '559': 548, 'hast': 6541, 'lowpass': 8437, 'greate': 6321, 'nonlinear': 9568, 'solvers': 13085, 'nlopt': 9526, 'rdapp': 11434, 'motivate': 9176, 'orthogonal': 10043, 'cudastreamnonblocking': 3628, 'issuying': 7565, 'cudamemcpy': 3627, 'synchronize': 13789, 'cudastreamsynchronize': 3629, 'reproducing': 11837, 'bouvier': 2213, 'wrappers': 15676, 'spans': 13166, 'hints': 6690, 'obviousâ': 9738, 'vetting': 15132, 'incapacitated': 7079, 'bored': 2184, 'autoprefixer': 1726, 'œbuild': 15939, 'stepâ': 13415, 'shaking': 12702, 'wins': 15554, 'uihttps': 14635, 'documentationhttps': 4411, 'minimizing': 8973, 'fontawesome': 5697, 'echarts': 4633, 'fs': 5862, 'crypto': 3602, 'shave': 12723, '3mb': 452, 'decreased': 3880, '3s': 455, 'analyzerhttps': 1245, 'plop': 10656, 'largest': 8029, 'brocktho': 2286, 'catalogs': 2562, 'egg': 4686, '4900': 504, 'date_upd': 3782, 'additionnal': 943, 'prestashop': 10910, 'bucle': 2320, 'cleanpositions': 2835, 'getinstance': 6092, '_db_prefix_': 723, 'addsqlassociation': 954, 'product_shop': 11011, 'id_product': 6906, 'approx': 1423, 'deletecategories': 3942, 'prestaquality': 10909, 'ps1': 11140, 'khouloudbelguith': 7875, 'cipher': 2783, 'kpodemski': 7941, 'deletion': 3951, 'eolia': 4940, 'deadlocks': 3821, 'matks': 8704, 'ps_category_shop': 11143, 'bo': 2134, 'pscsx': 11144, '6664': 614, 'updateposition': 14863, 'l741': 7969, 'l756': 7970, 'sounfortunately': 13141, 'upd': 14855, 'merchant': 8836, 'expressed': 5242, '_ps_product_timestamp_greedy_update_': 732, 'costing': 3476, 'executet': 5138, 'upadeposition': 14853, 'cleanposition': 2834, 'deletecategory': 3943, 'deleteproductfromcategory': 3948, 'deletecategoryassociation': 3944, 'idem': 6913, 'deleteproductfromallcategories': 3947, 'deleteallcategoriesassociations': 3941, 'doekia': 4419, 'groussac': 6357, 'irc': 7518, 'attributegroup': 1650, 'carrier': 2532, 'cmscategory': 2917, 'unusefull': 14844, '1mn': 234, 'opdate': 9899, '19605': 212, 'davidglezz': 3795, 'hibatallahaouadni': 6653, 'hiring': 6692, 'specialist': 13192, 'coherent': 2965, 'jolelievre': 7714, 'nelua': 9424, 'firm': 5564, 'frontpage': 5851, 'admitted': 981, 'immature': 6998, 'lessons': 8142, 'sumtypes': 13655, 'records': 11553, 'hashmaps': 6536, 'pcall': 10358, 'allocator': 1150, 'polished': 10708, 'crashes': 3532, 'cleanups': 2837, 'edubart': 4666, 'evolves': 5087, 'handbook': 6477, 'sheer': 12728, 'revisit': 12019, 'optimizations': 9982, '6x': 630, 'suspicion': 13728, 'tbfh': 13919, 'bu': 2316, 'indead': 7129, 'gpytorch': 6275, 'fitted': 5576, 'standardization': 13347, 'obstacles': 9730, 'float32': 5639, 'float64': 5641, 'numerical': 9665, 'reshapes': 11876, 'tensors': 13985, 'cholesky_ex': 2751, '_psd_safe_cholesky': 733, 'cholesky': 2750, 'algebra': 1124, 'impetus': 7017, 'corwinjoy': 3471, 'reshaping': 11877, 'manipulation': 8596, 'diag': 4139, 'quire': 11325, 'korean': 7936, 'lunr': 8469, 'altering': 1183, 'mpopke': 9212, 'gitgilleszeimet': 6156, 'lizneely': 8302, 'publications': 11158, 'mosaik': 9170, 'marmor': 8656, 'musen': 9284, 'josephine': 7724, 'halvorson': 6469, 'searchable': 12475, 'spanish': 13165, 'gilles': 6148, 'superslicer': 13678, 'orcaslicer': 10004, 'theophile': 14078, 'superslicer_to_orca_scripts': 13680, 'saint': 12279, 'mavproxyuser': 8725, 'print_profiles': 10951, 'superslicer_to_orca': 13679, 'prusaslicer': 11137, 'percent': 10399, 'percents': 10402, 'cpan': 3512, 'rend': 11761, 'escalate': 4989, 'bootstrapping': 2180, 'getopt': 6100, 'basename': 1877, 'glob': 6187, 'busted': 2382, 'sanity': 12310, 'mass': 8674, 'inland': 7239, 'refuse': 11639, 'start_filament_gcode': 13368, 'sam': 12285, 'iron': 7521, 'air887': 1085, 'resolver': 11894, 'cpanel': 3513, 'namecheap': 9350, 'reccomeneded': 11507, 'rephrase': 11788, 'disrupted': 4313, 'f12': 5300, 'clearing': 2842, 'githubstatus': 6158, 'restoring': 11934, 'jakllp': 7613, 'bossbarapi': 2192, 'mariokart': 8637, 'xd': 15732, 'grtz': 6364, 'jk': 7686, 'ucars': 14620, 'bossbar': 2191, '_html': 726, 'documentelement': 4414, 'outerhtml': 10080, 'sessionstorage': 12641, 'domdocument': 4435, 'tomselect': 14293, 'updatecurrentpagehtmlinhistorystateforlaterbackbuttonclicks': 14859, 'turbo': 14540, 'predecessor': 10838, 'heads': 6574, 'navigating': 9390, 'mutate': 9294, 'cg': 2651, 'animator': 1280, 'stumble': 13544, 'quicktime': 11322, 'rv': 12231, 'mrv2': 9232, 'opentimelineio': 9941, 'xstudio': 15769, 'mrviewer': 9233, 'sourceforge': 13145, 'edl': 4662, 'rmb': 12077, 'concretely': 3195, 'retime': 11962, 'expendables': 5182, 'inbetween': 7076, 'playblast': 10629, 'laggy': 7992, 'daedalos': 3716, 'clientside': 2858, 'websd': 15397, 'webllm': 15391, 'boxedwineshould': 2216, 'mainnet': 8539, 'zksync': 15895, 'emited': 4765, 'transaction': 14388, 'getlogs': 6095, 'rpc': 12168, 'accessable': 824, 'laderlappen': 7987, 'graphqlclient': 6307, 'simulated': 12889, 'conditioner': 3211, 'timed': 14202, 'cancelled': 2481, 'cancellable': 2479, 'simulating': 12890, 'mutation': 9296, 'invested': 7467, 'figuring': 5486, 'loom': 8399, 'invaluable': 7456, 'premise': 10869, 'mitmproxy': 9032, 'thesocialnetwork': 14090, 'feedquery': 5426, 'postmutation': 10779, 'vimeo': 15170, '845186874': 674, '845187256': 675, 'cancelable': 2477, 'takuo3': 13869, 'add_cancel_buttons': 931, 'stephanjoubert': 13409, 'solarman': 13061, 'deye': 4131, 'm80g3': 8500, 'q0': 11248, 'successor': 13616, '800': 662, '39xx': 442, 'fw': 5919, 'mw3_16u_5406_1': 9307, 'jet': 7665, 'deye_2mppt': 4132, 'acf': 859, 'wxr': 15704, 'mysql': 9331, 'mimick': 8945, 'mentally': 8821, 'definewpconfigconsts': 3915, 'familiarize': 5355, 'blueprints': 2123, 'calebsmithdev': 2442, 'tokenized': 14280, 'youtu': 15837, 'ypvxa7wi_ma': 15845, 'mid': 8916, 'astonishing': 1604, 'sd_prompt_debug': 12457, 'commandline_args': 3046, 'aditional': 962, 'extraltodeus': 5282, 'test_my_prompt': 14005, 'commas': 3049, 'dominikdoom': 4436, 'tagcomplete': 13850, 'physton': 10511, 'some9000': 13090, 'stylepile': 13555, 'toriato': 14328, 'daam': 3712, 'renovate': 11771, 'mend': 8819, 'oldest': 9828, 'cpanfile': 3514, '014': 11, '140': 126, 'metacpan': 8862, 'numbered': 9660, 'specifications': 13198, 'conclude': 3190, 'ehuelsmann': 4690, 'cucumber': 3624, 'automergepatch': 1725, 'automergeminor': 1724, 'semantically': 12564, 'ledgersmb': 8107, 'offered': 9791, 'bugfixes': 2334, 'compliance': 3127, 'ikesyo': 6960, 'skipreason': 12945, 'unskip': 14817, 'foreseeable': 5727, 'versus': 15121, 'mpkorstanje': 9210, 'packagerules': 10179, 'matchmanagers': 8689, 'matchpackagenames': 8690, 'unstable': 14821, 'disableperlupdates': 4245, '23900': 315, 'whatsup': 15464, 'caltuntas': 2463, 'sharpen': 12721, 'lady': 7989, 'gentleman': 6031, 'definately': 3909, 'diffusionbee': 4198, 'debating': 3833, '24gb': 325, 'i5': 6886, 'creativity': 3554, 'difussion': 4199, 'sparkle': 13170, 'launchd': 8054, 'plist': 10655, 'keepalive': 7830, 'relaunch': 11698, 'launchctl': 8053, 'ins': 7261, 'pkg': 10589, 'bundling': 2368, 'smappservice': 12998, 'smjobbless': 13007, 'daemons': 3718, 'smjobsubmit': 13008, 'idiot': 6932, 'greatest': 6323, 'seasoned': 12480, 'brained': 2231, 'hadent': 6452, 'pissed': 10569, 'netrw': 9448, 'quickstart': 11320, 'nvchad': 9684, 'prerequisite': 10883, 'nvimtree': 9688, 'striving': 13511, 'nmea': 9528, 'yamaha': 15790, 'outboard': 10073, '129025': 106, '129026': 107, 'pgn': 10476, '127488': 99, '127489': 100, 'datetime': 3788, 'surmised': 13707, 'uselessness': 14929, 'pgx': 10480, 'sheep': 12727, 'feet': 5431, 'rowtostructbypossheep': 12164, 'destinations': 4067, 'rowtostructbyname': 12163, '2f6fcf8': 368, 'hahaha': 6456, 'epic': 4945, 'wonderfully': 15601, '565': 553, 's2': 12244, 'lcds': 8078, 'leozide': 8135, 'leocad': 8133, 'qtcreator': 11271, 'distribuable': 4332, 'qmake': 11263, 'georg': 6049, 'windeployqt': 15538, 'dlls': 4378, 'displayiung': 4309, 'insufficient': 7327, 'asynchtmlloader': 1613, 'bs4htmlparser': 2306, 'beautifulsoup4': 1928, 'hitting': 6700, 'fake': 5342, 'detection': 4080, 'heavyweight': 6596, 'interference': 7391, 'esc': 4988, 'grasp': 6311, 'unpleasantly': 14797, 'backslash': 1810, 'misalignment': 8995, 'supposedly': 13698, 'agda': 1051, 'scoping': 12404, 'unheplful': 14733, 'outright': 10096, 'reloads': 11721, 'youï¼œalso': 15840, 'angry': 1269, 'obtrusive': 9735, 'distraction': 4330, 'tampermonkey': 13879, 'resent': 11870, 'preferring': 10857, 'pane': 10217, 'ublock': 14617, 'upward1': 14892, 'manaskarekar': 8586, 'dms117': 4383, 'scrolled': 12442, 'thankfully': 14051, 'unticking': 14835, 'whiteydude': 15494, 'realizing': 11477, 'arose': 1496, 'unpleasant': 14796, 'zoomed': 15902, 'unselects': 14815, 'phantom': 10482, 'ppv': 10808, 'statamic': 13379, 'blade': 2082, 'antlers': 1320, 'slug': 12992, 'webshop': 15399, 'banner': 1854, 'promotions': 11059, 'segment_2': 12527, 'nse': 9632, 'dependnecies': 4002, 'appear': 1372, 'vers': 15113, 'libpaths': 8180, 'edged': 4649, 'unloadable': 14770, 'conceptual': 3181, 'unification': 14735, 'hturner': 6824, 'devel': 4101, 'mailing': 8532, 'seriously': 12625, 'libraryc': 8185, 'masked': 8669, 'inverse': 7462, 'pants': 10224, 'python_awslambda': 11242, 'python_google_cloud_function': 11244, 'pex': 10467, 'initialisation': 7210, 'lambdex': 7999, 'python_aws_lambda_layer': 11241, 'python_aws_lambda_function': 11240, 'unambiguous': 14652, 'cpython': 3521, 'pant': 10223, 'cf': 2647, '18756': 193, 'complete_platforms': 3114, '18195': 187, 'awswrangler': 1771, 'pex_binary': 10468, 'transitively': 14416, 'pantsbuild': 10226, 'some_package': 13091, 'dep': 3992, '12733': 98, '2097': 282, '19256': 206, 'exclusions': 5125, 'cponfick': 3518, 'bhs': 2020, 'dev6': 4095, '19550': 210, '19562': 211, 'pants_source': 10225, 'dev7': 4096, 'docker_image': 4395, 'python_distribution': 11243, '0a0': 34, 'undo': 14713, 'redo': 11586, 'ondidchangetextdocument': 9863, 'differentiate': 4180, 'textdocumentchangereason': 14022, 'gt7': 6371, 'race': 11346, 'lap': 8018, 'garry': 5961, 'laps': 8019, 'pickles': 10523, 'gt7dashboard': 6372, 'assisted': 1587, 'kitchenowl': 7902, 'haproxy': 6501, 'usgwi': 14947, 'hmmmmm': 6713, 'kitchenowlback': 7903, 'tld': 14245, 'backurl': 1819, 'unfortunetly': 14730, 'encrypt': 4824, '187': 191, 'securitycontext': 12503, 'defaultcontext': 3897, 'dockle': 4403, 'rlaiola': 12074, 'erzz': 4982, 'followed': 5691, 'boca': 2141, 'graphqlcoderegistry': 6308, 'runtimewiring': 12224, 'coderegistry': 2946, 'sustainability': 13729, 'stalled': 13336, 'corporation': 3460, 'carbon': 2517, 'ouch': 10067, 'demanding': 3968, 'remarkably': 11735, 'enterprises': 4895, 'gcp': 5987, 'altruistic': 1194, 'planet': 10607, 'climate': 2860, 'crisis': 3563, 'livable': 8290, 'stakeholder': 13331, 'avanade': 1740, 'esg': 4993, 'regulatory': 11669, 'consilium': 3297, 'europa': 5048, 'council': 3484, 'adopts': 988, 'diligence': 4206, 'zero': 15876, 'environmental': 4930, 'loads': 8329, 'meetings': 8790, 'conferencing': 3219, 'emissions': 4763, 'heating': 6591, 'ventilation': 15097, 'hvac': 6862, 'practices': 10813, 'metric': 8881, 'emission': 4762, 'effiency': 4680, 'renewable': 11769, 'measured': 8768, 'encourages': 4822, 'measuring': 8772, 'temperatures': 13962, 'intensity': 7356, 'disasters': 4261, 'economic': 4640, 'consequences': 3286, 'biodiversity': 2060, 'depletion': 4005, 'agricultural': 1069, 'healthcare': 6579, 'exacerbate': 5091, 'inequalities': 7161, 'marginalized': 8633, 'vulnerable': 15278, 'bearing': 1921, 'brunt': 2303, 'impacts': 7012, 'inhabitants': 7197, 'tmcclell': 14252, 'circulate': 2790, 'engineers': 4855, 'lever': 8156, 'behavioural': 1967, 'tammy': 13877, 'gsf': 6367, 'drafted': 4488, 'wized': 15587, 'nâº': 9692, 'premade': 10866, 'domcontentloaded': 4434, 'improves': 7058, 'tweaks': 14558, 'repurposing': 11840, 'classify': 2823, 'downsides': 4478, 'curve': 3659, 'nocode': 9537, 'zapier': 15863, 'webflow': 15381, 'subside': 13596, 'utilise': 14961, 'shy': 12821, 'territory': 14001, 'lowcode': 8430, 'nocoder': 9538, '10x': 70, 'alleviating': 1144, 'scaffold': 12346, 'suffice': 13628, 'fills': 5514, 'lexical': 8162, 'educational': 4668, 'disposal': 4311, 'minded': 8950, 'xano': 15729, 'widening': 15506, 'hem': 6622, 'engaged': 4848, 'utmost': 14971, 'intermediates': 7401, 'perspectives': 10455, 'endeavor': 4829, 'lite': 8282, 'abilities': 777, 'catering': 2580, 'theflowagency': 14061, 'wadecreative': 15288, 'ferdiboxman': 5441, 'factorize': 5322, 'abcd_': 772, 'paramaters': 10246, 'manki32': 8598, 'alexiglesias93': 1121, 'cars_car1': 2537, 'cars_car2': 2538, 'cars_car3': 2539, 'cars_car4': 2540, 'startswith': 13374, 'cars_': 2536, 'labor': 7981, 'datastore': 3776, 'your_form_name': 15829, 'checkbox_1': 2710, 'checkbox_2': 2711, 'checkbox_3': 2712, 'input_1': 7255, 'unifies': 14737, 'dreaming': 4508, 'artigraph': 1529, 'engineered': 4853, 'checkpointing': 2722, 'partitioning': 10291, 'validation': 15027, 'pipelining': 10566, 'formalizes': 5746, 'producers': 11008, 'verifying': 15111, 'biology': 2062, 'urban': 14896, 'mobility': 9063, 'replica': 11799, 'dyno': 4597, 'therapeutics': 14083, 'influential': 7178, 'supabase': 13664, 'postgresql': 10776, 'kiwicopple': 7907, 'grail': 6291, 'safeql': 12267, 'pg': 10472, 'karlhorky': 7813, 'postgres_lsp': 10775, 'brew': 2262, '7860': 651, 'sdxlbase': 12466, 'deliveratev2': 3959, 'reliberate': 11713, 'v15prined': 14984, 'safetenders': 12269, 'video_id': 15156, 'cloudits': 2887, 'airflow': 1088, 'dag': 3720, 'tiktok': 14186, 'tk_api': 14242, 'tiktokapi': 14187, 'v_video': 15003, 'videoid': 15157, 'v_id': 15001, 'v_info': 15002, 'v_vido': 15004, 'rank': 11389, 'stumbling': 13546, 'communicates': 3073, 'i2c': 6882, 'feather': 5411, 'm0': 8487, 'featherwing': 5412, '128x64': 104, 'oled': 9829, 'altserialgraphiclcd': 1197, 'u8g2': 14613, 'gfx': 6118, 'expectedly': 5178, 'adafruit_sh1107': 914, 'adafruit_sh110764': 915, 'gem_adafruit_gfx': 6000, 'menudisplay': 8830, 'gem_pointer_row': 6002, 'gem_items_count_auto': 6001, 'according': 841, 'setrotation1': 12662, 'sketches': 12936, '01_basic': 13, 'communicating': 3074, 'tft_cs': 14039, 'tft_rst': 14042, 'tft_dc': 14040, 'initrinitr_blacktab': 7230, 'begin0x3c': 1952, 'drawmenu': 4504, 'registerkeypressmykeydetector': 11656, 'yesss': 15804, 'posterity': 10773, 'mater': 8693, 'altserial': 1196, 'doh': 4426, 'equiped': 4959, 'setsplashdelay0': 12664, 'brighter': 2271, 'intialized': 7431, 'splashscreen': 13237, 'delay1000': 3933, 'butt': 2386, 'platformio': 10620, 'emulatorjs': 4791, 'lsio': 8447, 'trailer': 14377, 'featured': 5414, 'playable': 10627, '95': 695, 'seg': 12524, 'simpleavr': 12874, 'vega': 15084, 'geo': 6036, 'vegafusion': 15085, 'transforms': 14408, 'ibis': 6892, 'unaggregated': 14651, 'aggregating': 1059, 'vegafusionwidget': 15086, 'timeseries': 14213, 'downsampling': 4476, 'binning': 2054, 'accelerated': 810, 'webgpu': 15384, 'altair_tiles': 1180, 'binste': 2058, 'mattijn': 8716, 'joelostblom': 7697, '2789': 349, 'heatmaps': 6593, '6043': 592, 'holoviews': 6733, 'vl': 15212, '3442': 416, '8067': 664, 'gold': 6233, 'distributions': 4340, 'jonmmease': 7719, 'predicates': 10842, 'compositing': 3146, 'brucala': 2302, 'deneb': 3981, 'jl': 7688, 'formalize': 5745, 'to_': 14260, 'soccer': 13043, 'expressions': 5246, 'vegalite': 15087, 'spec1': 13187, 'spec2': 13188, 'precedence': 10831, 'base_chart': 1873, 'methodproperty': 8879, 'new_value': 9464, 'chart1': 2693, 'chart2': 2694, 'single_view_chart': 12906, 'multi_view_chart': 9257, 'composes': 3143, 'single_view': 12905, 'composition': 3147, 'picturing': 10531, 'rgba': 12040, 'rect': 11563, 'marks': 8650, 'observablehq': 9718, 'amitkaps': 1221, 'imshow': 7062, 'hypothesis': 6874, 'tabular': 13841, 'jupyterchart': 7783, 'aggregation': 1060, 'transforming': 14407, 'quantitative': 11281, 'responsiveness': 11921, '500x500': 521, '250k': 329, 'datashader': 3774, '1752': 179, 'qualcoder': 11273, 'begun': 1957, 'cog': 2961, 'code_text': 2931, 'squeezelite': 13284, 'muse': 9283, 'luxe': 8473, 'slimproto': 12974, 'connect_cli_socket': 3267, '188': 195, '192': 203, '168': 163, '9090': 690, '1306': 110, 'acknowledgment': 868, 'glpi': 6199, 'restoration': 11929, 'kluaneit': 7913, 'obfuscate': 9698, 'nurl': 9672, 'evidence': 5079, '406': 466, 'configration': 3228, 'latext': 8047, 'strongest': 13517, 'honkai': 6747, 'bailu': 1828, 'healer': 6577, 'toughest': 14348, 'battles': 1898, 'heal': 6576, 'hp': 6800, 'bronya': 2291, 'versatile': 15116, 'buff': 2326, 'survivability': 13719, 'clara': 2807, 'dps': 4484, 'elemental': 4721, 'bay': 1899, 'jing': 7679, 'yuan': 15852, 'ultimate': 14643, 'enemies': 4841, 'seele': 12514, 'buffs': 2331, 'tingyun': 14224, 'gepard': 6054, 'absorb': 795, 'defensive': 3903, 'sampo': 12298, 'shields': 12741, 'luocha': 8470, 'wikigyan': 15518, 'honkaistarrail': 6748, 'intense': 7355, 'gix': 6170, 'worktree': 15636, 'checkouts': 2720, 'substitution': 13602, 'complicate': 3129, 'smudge': 13022, 'filepath': 5500, 'lfs': 8164, 'gitoxide': 6162, 'tended': 13978, 'invocation': 7477, 'invention': 7459, 'worktrees': 15637, 'clones': 2873, 'gix_filter': 6171, 'mut': 9291, 'imposing': 7046, 'tanked': 13884, 'write_allbuf': 15680, '1970': 213, 'u64': 14611, 'rewarding': 12022, 'alteration': 1181, 'epoch': 4949, 'archives': 1455, 'decoupling': 3878, 'corpus': 3462, '68k': 620, 'eagle': 4607, 'eyed': 5297, 'packager': 10178, 'initialising': 7212, 'hobby': 6717, 'remedied': 11738, 'git2': 6154, 'binstall': 2057, 'speedups': 13211, '9min': 708, '17swithgitoxide': 185, 'installable': 7295, 'ahold': 1076, 'fruitful': 5857, 'thile': 14099, 'crated': 3535, 'fetch_head': 5447, 'delays': 3935, 'negotiation': 9419, 'frewsxcv': 5833, 'submodule': 13581, 'sebastian': 12481, 'timesheets': 14214, 'handlers': 6486, 'csp': 3609, 'unsafe': 14811, 'petite': 10463, 'crafting': 3526, 'inclusive': 7096, 'resumã': 11950, 'revamped': 11995, 'assistive': 1589, 'recruiters': 11561, 'œusersâ': 15960, 'uncomfortable': 14675, 'arenâ': 1465, 'columns': 3011, 'dates': 3786, 'trump': 14493, 'brevity': 2261, 'illusion': 6967, 'squished': 13286, 'breathing': 2254, 'walls': 15306, 'adhd': 960, 'disabilities': 4240, 'discerning': 4265, 'h1': 6421, 'annie': 1283, 'streater': 13486, 'senior': 12580, 'june': 7777, 'uk': 14637, 'october': 9763, 'sector': 12497, 'resume': 11947, 'citizen': 2796, 'abbreviation': 768, 'abbreviate': 767, 'œetcâ': 15948, 'œeg': 15944, 'straddle': 13466, 'notation': 9591, 'œe': 15943, 'œeggâ': 15945, 'periods': 10424, 'œapps': 15938, 'websitesâ': 15402, 'latin': 8048, 'œetc': 15947, 'literacy': 8283, 'foreign': 5723, 'deaf': 3823, 'dyslexia': 4599, 'neurodiverse': 9457, 'autistic': 1696, 'depression': 4017, 'recovering': 11555, 'œfor': 15949, 'exampleâ': 5099, 'awkwardly': 1769, 'succinctly': 13618, 'studies': 13539, 'highlighter': 6671, 'portfolio': 10744, 'blogpost': 2113, 'hyperlinked': 6871, 'œclick': 15940, 'portfolioâ': 10745, 'œhereâ': 15952, 'wouldnâ': 15657, 'isolation': 7552, 'œview': 15961, 'applicant': 1396, 'magnification': 8526, 'rearrange': 11486, 'docx': 4417, 'œopen': 15958, 'formatâ': 5755, 'odt': 9776, 'accomplishments': 839, 'streats': 13487, 'resumake': 11946, 'resumefodder': 11948, 'affiliated': 1035, 'cpauvert': 3515, 'jsons': 7761, 'opendocument': 9912, 'recruitment': 11562, 'unsurprising': 14828, 'openness': 9925, 'perceivable': 10396, 'operable': 9946, 'cultural': 3637, 'percolate': 10405, 'plantuml': 10616, 'uml': 14647, 'iplantuml': 7507, '819': 668, 'plotcars': 10659, 'mcanouil': 8747, 'zh': 15878, 'toc': 14262, 'lof': 8350, 'tex': 14016, 'pptx': 10807, '300px': 382, '1200px': 87, 'gutter': 6413, '5rem': 578, 'shim': 12747, 'mpv': 9216, 'htpc': 6818, 'finicky': 5545, 'rife': 12056, 'smartcopypaste': 13001, 'dragged': 4492, 'artf': 1520, '2595': 335, 'selects': 12551, 'dragdata': 4490, 'chooses': 2754, 'protozoo': 11113, '9frjm6hc': 706, 'q3bedst5': 11250, 'dropping': 4530, 'oncomponentadded': 9859, 'oncomponentaddedinfo': 9860, 'tagname': 13854, 'selectinfo': 12543, 'discard': 4263, 'placeholders': 10595, 'choosses': 2756, 'replacewith': 11795, 'plh': 10654, 'cmp': 2915, 'polishing': 10709, 'housing': 6788, 'gridoptions': 6340, 'booleans': 2168, 'aggrid': 1061, 'from_pandasdataframe': 5845, 'isexternalfilterpresent': 7539, 'pyantony': 11217, 'getrowstyle': 6104, 'javascriptfunctionparams': 7641, 'somethingelse': 13105, 'nicegui': 9499, 'delph': 3964, 'participants': 10283, 'european': 5049, 'subsets': 13595, 'when2meet': 15469, '20499737': 275, 'hjlvw': 6703, 'mondays': 9133, 'thursdays': 14163, 'acl': 869, 'danflick': 3731, 'arademaker': 1439, 'fcbond': 5405, 'fgv': 5467, 'ibm': 6893, 'mon': 9128, 'wed': 15413, 'fri': 5834, 'realistically': 11473, 'olga': 9830, 'emilymbender': 4760, 'among': 1225, 'timezones': 14218, 'purchased': 11182, '21114': 291, 'initiating': 7223, 'hbbs': 6556, 'hbbr': 6555, 'speedy': 13212, 'solis': 13074, 'modes': 9099, 'selfuse': 12558, 'offgrid': 9795, 'meilisearch': 8795, 'decryption': 3881, 'hacking': 6445, 'meili': 8794, 'justuzz': 7789, 'addresses': 951, 'whoever': 15496, 'lmdb': 8314, 'heed': 6598, '134': 118, 'sometime': 13108, 'lovely': 8425, 'scraper': 12411, 'quiz': 11331, 'exam': 5095, 'hyperlink': 6870, 'mohamed': 9119, 'sayedalahl': 12338, 'singlefile': 12907, 'scrap': 12408, 'hyperlinks': 6872, 'anilabhadatta': 1271, 'educative': 4669, 'solvable': 13081, 'across': 878, 'fullfilled': 5879, 'bs4': 2305, '4664': 494, 'grokking': 6344, 'xoxmjx77jgp': 15758, 'puzzles': 11208, '7dyprrn5og8': 657, 'quizzes': 11332, 'r1xbqbmxxmw': 11342, 'qvvv9bmne52': 11340, 'flashing': 5598, 'discomfort': 4271, 'screencast': 12418, 'wfskz101kzpkh': 15453, 'oeeg9yzwr131v': 9778, 'expense': 5184, 'redesigning': 11577, 'beneath': 1990, 'gildas': 6146, 'lormeau': 8411, '1164': 79, 'altered': 1182, 'illustration': 6969, 'corrupt': 3469, 'blacked': 2079, 'distortion': 4327, 'svg_element': 13740, 'backgroundcolor': 1802, 'rgb0': 12039, '15151e': 141, 'glowing': 6198, 'virtualization': 15179, '7aomg87qdg1': 656, '160': 152, 'upsetting': 14886, 'eductive': 4670, 'f22caaf': 5302, 'bypassed': 2402, 'jplj96zgaoo': 7740, 'pale': 10205, 'faded': 5327, 'inserting': 7269, 'visit': 15190, 'demark': 3970, 'html2canvas': 6815, 'gkz48qd8y8z': 6174, 'og': 9805, 'exited': 5160, 'xo0zrvabl3q': 15755, 'assesment': 1572, 'yqxmldkqpoa': 15846, 'foremost': 5725, 'isactive': 7535, 'sibiraj': 12824, 'anywho': 1338, 'flutterfire': 5665, 'firebasecorei': 5556, 'cor000005': 3451, 'expandedstate': 5168, 'cyril': 3707, 'klipper': 7911, 'cfg': 2649, 'tmc2209': 14251, 'wile': 15524, '2226': 303, 'v400': 14992, 'noob': 9572, 'hank': 6492, 'gabriel': 5934, 'flsun': 5651, 'mks': 9049, '2209': 301, 'presumed': 10912, 'flsun3d': 5652, 'deepin': 3889, 'gtk3': 6376, 'libadwaita': 8172, 'gtk4': 6377, 'v23': 14988, 'kde': 7824, '1410706': 128, 'gtk': 6375, 'stopthemingmy': 13448, 'preferred': 10856, 'mt': 9245, 'lev': 8149, 'leraning': 8138, 'sdsl': 12463, 'documentaion': 4409, 'typs': 14603, 'blur': 2126, 'texcoord': 14017, 'anoubody': 1301, 'ykafia': 15818, 'unrealmotion': 14802, 'velocitytile': 15095, 'stride3d': 13499, 'gaussian': 5977, 'amout': 1229, 'bj': 2075, 'vvvv': 15279, 'standardlibs': 13350, 'quesations': 11309, 'disturbing': 4348, 'modifed': 9103, 'exporer': 5228, 'incrorrecly': 7126, 'float2': 5638, 'posteffect': 10772, 'motionblur': 9175, 'imageeffectshader': 6977, 'proble': 10981, 'float41': 5640, 'throwed': 14152, 'stone': 13441, 'e1202': 4601, 'shadereffects': 12696, 'horizontalblur': 6766, 'mix0': 9034, 'sdpkg': 12462, 'afer': 1029, 'deta': 4073, 'aqara': 1434, 'cube': 3622, 'mfkzq01lm': 8889, '1005003938149585': 48, 'zha': 15880, 'z2m': 15861, 'monai': 9131, 'randcropbyposneglabeld': 11379, 'image1': 6974, 'image2': 6975, 'resampletomatchd': 11860, 'loadimage': 8326, 'sabrent': 12257, 'nt': 9638, 's25g': 12245, 'plugable': 10666, 'žusbc': 15965, 'e2500': 4602, 'iperf3': 7502, 'ds920': 4537, 'g15': 5928, 'gbps': 5982, 'sodola': 13048, 'dsm': 4543, '64570': 605, 'rtl8152': 12189, '8153': 666, 'deny': 3990, 'popups': 10735, 'opensnitch': 9934, 'cinnamon': 2782, 'grpcio': 6363, '647': 606, 'protobuf': 11105, 'ui_1': 14632, '1_all': 220, 'pyasn': 11219, 'ekneee': 4701, 'pytho3': 11237, 'precisely': 10835, 'livebook': 8292, 'dsjrya1ifng': 4540, 'kino': 7897, 'listen5000': 8271, 'reportbuilder': 11810, 'build_reportopts': 2341, 'uniquely': 14750, 'lekker': 8125, 'hitbox': 6698, 'actuation': 908, 'arcade': 1443, 'primis': 10944, 'bertopic': 1999, 'doubts': 4464, 'embedding_model': 4751, 'oob': 9888, 'wan': 15308, 'dataset_training': 3772, 'topic_model': 14319, 'fit_transform': 5575, 'reduce_outliers': 11591, 'redistribuition': 11584, 'outlier': 10081, 'maarten': 8503, 'considerations': 3293, 'topics_test': 14322, 'probs_test': 10986, 'topic_model_oob': 14320, 'transformdataset_test': 14404, 'sentencetransformer': 12590, 'keybertinspired': 7851, 'coords': 3438, 'worldtoscreencoordinates': 15640, 'screentoworld': 12424, 'transformcomponent': 14403, 'coord': 3429, 'coordplane': 3437, 'collider': 2996, 'poisition': 10699, 'collisiontype': 2998, 'pseudocode': 11146, 'someclass': 13094, 'updateengine': 14861, 'getworldbounds': 6112, 'bounds': 2210, 'vel': 15092, 'manticore': 8602, 'hayk': 6554, 'hovhannisyan': 6794, 'founder': 5779, 'alienart': 1131, 'rockstar': 12110, 'rac': 11345, 'modicum': 9102, 'advancement': 1001, 'lip': 8261, 'rubix': 12196, 'intermediary': 7398, 'zen': 15872, 'mainline': 8537, 'lastest': 8034, 'gamers': 5947, 'patchset': 10323, 'rc3': 11429, 'soldier': 13067, 'heftig': 6601, 'sponsored': 13249, 'librephotos': 8187, 'photostack': 10501, 'shoot': 12770, 'sony': 13121, 'a6500': 756, 'jpeg': 7736, 'abc001': 770, 'arw': 1534, 'lightroom': 8213, '2156': 294, 'multple': 9280, 'exif': 5152, 'burst': 2377, 'phones': 10493, 'mergable': 8837, 'ascending': 1539, 'hundrets': 6853, 'dslr': 4542, 'mirrorless': 8992, 'cameras': 2469, 'caution': 2589, 'usefulness': 14924, 'disruption': 4314, 'xmp': 15754, 'pp3': 10801, 'fotos': 5774, 'accordion': 843, 'drawings': 4503, 'tysm': 14607, 'perceptual': 10404, 'peeking': 10379, 'iphones': 7505, 'uuids': 14975, 'stacking': 13320, 'hello_1': 6610, 'mov': 9195, 'photosync': 10502, 'nikon': 9517, '10ms': 68, 'hashed': 6531, '1885': 197, 'summarize': 13650, 'unsung': 14825, 'hero': 6633, 'remind': 11743, 'utterly': 14973, 'blowing': 2117, 'guilty': 6404, 'translators': 14425, 'deserved': 4048, 'sunshine': 13662, 'newish': 9471, 'aspiring': 1556, 'begging': 1950, 'dutch': 4581, 'ukranian': 14639, 'graduation': 6287, 'ukrainian': 14638, 'proofread': 11070, 'proofreading': 11071, 'untranslated': 14839, 'newsletter': 9476, 'editions': 4658, 'starf': 13362, 'starfetch': 13363, 'bret76': 2258, 'joostdecock': 7720, 'morgan': 9165, 'frost': 5852, 'kaermorhan': 7800, 'sara': 12313, 'latorre': 8050, 'tyrannogina': 14605, 'humbly': 6848, 'noble': 9534, 'lagged': 7991, 'prevented': 10925, 'seams': 12472, 'proactive': 10975, 'subdomains': 13564, 'freesewing': 5821, 'remediate': 11737, 'coordinators': 3436, 'lesser': 8140, 'linguistic': 8242, 'communities': 3077, 'langsplit': 8014, 'onyl': 9887, 'fs_lang': 5863, 'varible': 15055, '18m': 199, '9m': 707, '55s': 550, '3m': 451, '59s': 569, '13m': 124, '7m': 658, '3355': 408, '586': 563, 'overal': 10104, 'adempiere': 955, '2006': 249, 'victor': 15148, 'steven': 13420, 'sackett': 12258, 'resigns': 11883, 'adaxa': 926, 'adaxa_suite': 927, 'drupal': 4533, 'asterisk': 1603, 'resigned': 11881, 'inability': 7065, 'directors': 4232, 'eur330': 5047, 'trademark': 14370, 'renewal': 11770, 'assisting': 1588, 'zk8': 15894, 'reorganisation': 11777, 'attest': 1645, 'respectful': 11906, 'resigning': 11882, 'implication': 7028, 'intuit': 7448, 'consulting': 3324, 'nugget': 9652, '4131': 472, 'focussed': 5679, 'ampere': 1231, 'recollection': 11532, 'ofb': 9781, 'eur': 5046, 'monetary': 9134, 'increasingly': 7117, 'personnel': 10451, 'manhours': 8590, 'ramiro': 11374, 'presicion': 10904, '2009': 250, 'ltda': 8450, 'chile': 2738, 'vergara': 15107, 'ceo': 2637, 'nickel': 9505, 'inc': 7078, 'usa': 14907, 'aviles': 1749, 'history_of_adempiere': 6695, 'accredited': 848, 'founding': 5780, 'representative': 11825, 'cow': 3506, 'hovering': 6793, 'unselected': 14814, 'cows': 3508, 'enrichment': 4880, 'moveable': 9197, 'everywhere': 5077, 'decorative': 3875, 'happiness': 6499, 'hopped': 6760, 'hug': 6831, 'herd': 6626, 'fertilizer': 5443, 'scarecrows': 12360, 'cycled': 3700, 'tacked': 13843, 'distinctive': 4324, 'modeedit': 9082, 'unexplored': 14721, 'chase': 2699, 'setcellstyle': 12648, 'setconditionalformatting': 12651, 'a10': 744, 'decimal': 3853, 'excelize': 5104, 'golangs': 6231, 'dad': 3715, 'bretmac': 2259, 'synapse': 13783, 'purview': 11198, 'pyapacheatlas': 11218, 'brokers': 2290, 'principals': 10947, 'openlineage': 9924, 'stderr': 13402, 'elevated': 4725, 'proces': 10993, 'customtransport': 3684, 'atlasentity': 1620, 'atlasprocess': 1621, 'ol': 9825, 'priviliges': 10973, 'plaksnor': 10600, 'mobuchowski': 9064, 'sparklin': 13171, 'prefered': 10852, 'te': 13926, 'havendv': 6550, 'jeastham1993': 7653, 'oorosh': 9893, 'cooperating': 3427, 'indirect': 7148, 'pursuing': 11196, 'scrollrestoration': 12444, 'backto': 1815, 'restorescroll': 11933, 'vein': 15091, 'routers': 12157, 'prashant': 10819, 'vaidyanathan': 15018, 'georgie': 6051, 'hau': 6547, 'sorensen': 13127, 'gonzalo': 6238, 'vidal': 15152, 'lukas': 8463, 'buecherl': 2323, 'tom': 14287, 'mitchell': 9028, 'tim': 14195, 'chris': 2763, 'jake': 7612, 'sbol': 12344, 'nona': 9563, 'biodesign': 2059, 'seps': 12607, 'propsal': 11095, 'iwbda': 7603, 'dos': 4452, 'lukasbuecherl': 8464, 'collected': 2990, 'waha': 15291, 'sensational': 12581, 'myserver': 9330, 'err_connection_refused': 4972, 'ngnix': 9493, 'bosque': 2190, 'enthusiast': 4900, 'notably': 9590, 'undoubtedly': 14715, 'subscribed': 13589, 'alerted': 1116, 'floriansylvain': 5647, 'micahzoltu': 8896, 'msr': 9242, 'kentucky': 7835, 'january': 7626, 'dogfood': 4425, 'onward': 9886, 'revising': 12017, 'directions': 4223, 'prorogued': 11096, 'paradigms': 10233, 'insightful': 7276, 'african': 1042, 'countries': 3492, 'pronunciation': 11068, 'creators': 3556, 'axelboc': 1773, 'getvoice': 6111, 'phonetic': 10494, 'accent': 813, 'geography': 6040, '603': 591, 'accents': 814, 'ug': 14626, 'comes': 3025, 'danoli3': 3735, 'itching': 7570, 'openframeworks': 9917, 'apothecary': 1364, '231': 311, '32bit': 403, 'whichever': 15479, 'dependancy': 3995, 'armv7': 1494, 'ndk': 9397, 'vs2019': 15261, 'glm': 6186, 'ndoejs': 9398, 'webpackconfig': 15394, 'runstat': 12221, 'logstat': 8378, 'howerver': 6797, 'childrentime': 2737, 'genarate': 6004, 'release64': 11703, 'vulkandriver': 15276, 'gpurt': 6270, 'gpurtdevice': 6271, 'g_internal_shaders': 5932, 'directx': 4236, 'glslang': 6200, '293': 361, 'repply': 11822, 'dis': 4239, 'amdvlk': 1216, 'gpurtgenerateshaders': 6272, 'amvlk': 1236, 'xgl': 15744, 'compilertshaders': 3106, 'insider': 7274, 'bufferedimage': 2328, 'timers': 14210, 'paintcomponent': 10199, 'bufferedimages': 2329, 'type_int_argb': 14583, 'setpixelformatav_pix_fmt_rgba': 12660, 'intermediaten': 7400, 'h264_nvenc': 6425, 'setpixelformat': 12658, 'cyan': 3695, 'tint': 14227, 'av_pix_fmt_yuv420p': 1734, 'flipchannels': 5631, 'java2dframeconverter': 7636, 'bytedeco': 2406, 'javacv': 7638, 'getframeimage': 6086, 'quantization': 11282, 'convertimage': 3409, 'incompatibility': 7099, 'hevc_nvenc': 6642, 'argb': 1467, 'setpixelformatav_pix_fmt_bgra': 12659, 'recordconverter': 11549, 'av_pix_fmt_bgra': 1733, 'surprisingly': 13713, 'convertimagetoframe': 3410, 'bgra': 2017, 'shortcode': 12781, 'promot': 11056, 'txt2mask': 14576, 'shirt': 12757, 'brown': 2295, 'inpaint': 7251, 'subtab': 13604, 'depreciated': 4016, 'unprompted': 14798, 'mime': 8943, 'inpainting': 7252, 'contiguous': 3360, 'behaving': 1963, 'diagnostic': 4142, 'parg': 10263, 'affordable': 1038, 'banned': 1853, 'coercion': 2957, 'intimidation': 7433, 'rmm': 12079, 'msp': 9240, 'pcs': 10364, 'racks': 11350, 'unmanageable': 14778, 'telnet': 13959, 'cybersecurity': 3697, 'billing': 2040, 'amanda': 1201, 'antivirus': 1319, 'malwarebytes': 8573, 'av': 1732, 'malware': 8572, 'veeam': 15083, 'urbackup': 14895, 'tacticalrmm': 13846, 'contributing_community_scripts': 3381, 'wishlist': 15568, 'goto': 6250, 'mixture': 9039, 'hue': 6830, 'sonoff': 13117, 'zbdongle': 15865, '3rths24bz': 454, 'humid': 6849, 'batteries': 1893, 'tuya': 14549, 'ts0202_2': 14512, 'hall': 6463, 'bathroom': 1890, 'drainers': 4496, 'cr2023': 3523, 'coin': 2968, 'depot': 4012, 'drained': 4495, 'inch': 7085, 'reconnected': 11545, 'cc2652p': 2598, '20221226': 269, 'coordinatior': 3434, 'survives': 13720, 'routed': 12155, 'lqi': 8443, 'outwards': 10101, 'rep': 11779, '3600': 422, 'batterypercentageremaining': 1895, 'batteryvoltage': 1896, 'drain': 4494, 'operated': 9948, 'awake': 1761, 'rebuilt': 11499, 'commandstatuschangenotification': 3048, 'relating': 11690, 'fliox': 5629, 'relational': 11692, 'jogai': 7700, 'entitycontainer': 4908, 'disallow': 4252, 'scalar': 12349, 'json_data': 7754, 'touching': 14343, 'objectinfo': 9703, 'prefixed': 10860, 'mariadb': 8635, 'ad9ae30': 911, 'branching': 2237, 'prefixing': 10862, 'mysqldatabasedb': 9332, 'tabletype': 13838, 'ss': 13294, '47': 495, 'ft': 5866, '5b': 571, 'nchat': 9396, 'whatsapp': 15461, 'armv6': 1493, 'beepy': 1940, 'sqfmi': 13270, '15x50': 150, 'compiles': 3107, 'sockbot': 13045, 'backtrace': 1816, '61x32': 595, 'scanned': 12358, 'whatsmeow': 15462, 'tulir': 14529, '419': 474, 'blockers': 2106, 'distros': 4345, 'overhaul': 10114, 'groundwork': 6351, 'panes': 10220, 'relationships': 11695, 'dubbed': 4551, 'toolbars': 14304, 'deliberately': 3953, 'prominent': 11052, 'sticky': 13426, 'compact': 3080, 'overwhelmed': 10147, 'jammed': 7621, 'figma': 5482, '3061': 387, 'localized': 8338, 'selling': 12561, 'stubborn': 13535, 'midway': 8924, 'translating': 14421, 'chrisgv04': 2764, 'jacobsfletch': 7610, 'oooh': 9891, 'spaced': 13159, 'collapse': 2987, 'drmint': 4517, 'blogs': 2114, 'isaackoz': 7534, 'hñ': 6880, 'toes': 14270, 'breadcrumb': 2244, 'mockups': 9072, 'visuals': 15203, 'thinner': 14107, 'blurb': 2127, 'smooshed': 13012, 'breadcrumbs': 2245, '1st': 238, 'burger': 2373, 'condensed': 3203, 'mockup': 9071, 'comitup': 3040, 'wlan0': 15591, 'ap': 1345, 'interruption': 7423, 'rpi4b': 12171, 'rtl8812bu': 12190, 'morrownr': 9169, '88x2bu': 680, '20210702': 267, 'wpa_supplicant': 15665, 'kicked': 7879, 'wlan1': 15592, 'letâ': 8148, 'interrupted': 7422, 'badges': 1825, 'badge': 1824, 'cufinufft': 3631, 'nufft': 9649, 'ntransf': 9642, 'synchronously': 13793, 'cudadevicesynchronize': 3626, 'chaithya': 2657, 'robert': 12090, 'blackwer': 2081, 'joakim': 7690, 'janden': 7622, 'melody': 8800, 'melodyshih': 8801, 'diamondinoia': 4155, 'johannes': 7702, 'jblaschke': 7647, 'cufft': 3630, 'finufft': 5551, 'occupancy': 9744, 'flatironinstitute': 5604, '5c620c2a9068bdc20a3ad4b0b9cf27fea9c390c6': 572, 'cufinufft3d': 3632, 'cu': 3621, 'l90': 7971, 'l101': 7964, 'pedantic': 10376, 'nanosecond': 9364, 'straightforwardly': 13469, 'transfers': 14398, 'fraction': 5795, 'underutilization': 14707, 'comparision': 3090, 'gpunufft': 6269, 'outperforms': 10087, 'interp': 7411, 'attachment': 1633, 'resend': 11869, 'nsys': 9637, 'synthetic': 13803, 'ours': 10069, 'batching': 1889, 'maxbatchsize': 8731, 'marginal': 8632, 'davx5': 3797, 's7': 12251, 'calendarsync': 2445, 'davxâ': 3798, 'hintâ': 6691, 'calender': 2446, 'adb': 928, 'calendars': 2444, 'ricki': 12050, 'truecharts': 14491, 'incorporates': 7109, 'sanitizing': 12309, 'sws': 13774, 'wrk': 15692, 'fastcgi': 5382, 'averse': 1747, 'caddy': 2427, 'php_fastcgi': 10504, 'setups': 12673, 'incentivize': 7081, 'retire': 11964, 'lamp': 8000, 'treucharts': 14457, '254': 330, 'envoy': 4936, 'injected': 7233, 'balancers': 1833, 'istio': 7567, 'proxy_extensions': 11131, 'konghq': 7935, 'kong': 7934, 'ingres': 7195, 'httproute': 6822, 'persuaded': 10456, 'pan': 10210, 'gep': 6053, 'portability': 10737, 'bee': 1935, 'ga': 5933, 'prudent': 11136, 'sgtm': 12689, 'intervene': 7427, 'phases': 10484, 'ingress': 7196, 'implied': 7031, 'intuition': 7449, 'artifactref': 1525, 'vnd': 15225, 'policyattachment': 10706, 'dp': 4482, 'ext_proc': 5252, 'apisix': 1354, 'soor': 13125, 'dynamical': 4592, 'hardcode': 6503, 'marshaled': 8659, 'regexp': 11648, '__artist_allsomeregexp__': 712, 'combinatorial': 3016, 'xpacks': 15761, 'eclipse': 4635, 'trampas': 14387, 'cdt': 2610, 'qemu': 11254, 'xpack': 15760, 'jonah': 7716, 'xpm': 15762, 'nebari': 9403, 'pycon': 11223, 'hiccup': 6655, 'revenue': 12001, 'mekongdelta': 8796, 'oversight': 10141, 'quansight': 11278, 'loveâ': 8427, 'codespacesâ': 2951, 'importer': 7041, 'empowers': 4783, 'beat': 1923, 'sparkling': 13172, 'stood': 13442, 'champions': 2663, 'thunderous': 14161, 'shoutouts': 12799, 'applause': 1388, 'superstar': 13681, 'jge162': 7671, 'workflow_dispatch': 15625, 'zedzipdev': 15868, 'vansh2552': 15043, 'dsdmark': 4539, 'unblocking': 14660, 'sheridan': 12737, 'dumitrux': 4561, 'showcasing': 12805, 'tough': 14346, 'answerâ': 1309, 'sail': 12275, 'node16': 9542, 'node12': 9541, 'âž': 15930, 'owning': 10159, 'incident': 7086, 'faqâ': 5369, 'grappling': 6310, 'occasional': 9741, 'collaboratively': 2983, 'faqs': 5368, 'evergreen': 5071, 'sailing': 12278, 'endeavors': 4830, 'akash1134': 1097, 'enters': 4896, 'orgs': 10030, '53217': 539, 'node18': 9543, 'node20': 9544, 'timely': 14207, 'cypress': 3706, '968': 699, 'mikemcc399': 8931, '2619': 341, '308': 388, 'junior': 7778, 'foundations': 5777, 'andrej': 1254, 'micrograd': 8905, 'george': 6050, 'tinygrad': 14229, 'whisper': 15485, 'quartz': 11292, 'legitimate': 8122, '00am': 7, 'croner': 3574, 'shepteck': 12736, 'bb6bda4f4a1692b5cc4a49715a41c776': 1906, 'nth': 9639, 'vixie': 15211, 'legacymode': 8116, 'wildcards': 15523, 'substitutions': 13603, '198': 214, '121': 89, 'pdt': 10369, 'omi': 9838, 'angellxr': 1264, 'metaverse': 8870, 'permitting': 10433, 'fireflies': 5560, 'burner': 2374, 'campfire': 2471, 'multiverse': 9278, 'colaboration': 2972, 'festival': 5445, 'clash': 2814, 'xr': 15763, 'm3': 8490, 'jin': 7678, 'anybody': 1326, 'gltf': 6201, 'msf': 9237, 'nomination': 9560, 'election': 4710, 'indiebio': 7147, 'aob': 1343, 'upstreet': 14889, 'burners': 2375, 'evo': 5082, 'edtech': 4663, 'avatarjoy': 1743, 'opensim': 9933, 'malburns': 8568, 'webxr': 15412, 'possibilities': 10763, 'metatraversal': 8869, 'keyframe': 7862, 'collaborations': 2981, 'metatr': 8868, 'versal': 15115, 'ucbrnedbmkvanvn8rtfnzapw': 14621, 'elections': 4711, 'omigroup': 9839, 'lyuma': 8486, 'clarifies': 2810, 'ifire': 6942, 'november': 9616, 'silo': 12864, 'wrt': 15699, 'wearable': 15366, 'actionable': 885, 'wiifm': 15516, 'organised': 10023, 'anonymous': 1297, 'standardize': 13348, 'om': 9834, 'invited': 7476, 'itmf': 7592, 'ridiculous': 12055, 'omf': 9836, 'itf': 7590, 'united': 14754, 'nations': 9375, 'khronos': 7876, 'alsovery': 1176, 'champion': 2662, 'hivemq': 6701, 'maintopic': 8550, 'watermeterdiers2': 15348, 'iobrokerdiers': 7490, 'succes': 13610, 'yo': 15823, 'bielefeld': 2031, 'sourcegraph': 13146, 'borny444': 2188, 'marketplace': 8648, 'patchwork': 10324, 'minecraft': 8957, '2011': 256, 'saddening': 12261, 'yii2': 15814, 'yii': 15813, 'openboard': 9906, 'structural': 13522, 'autocad': 1699, 'hehe': 6602, 'preactically': 10823, 'multicursors': 9260, 'uninstalling': 14744, 'vimscript': 15171, 'cursors': 3655, 'juice': 7769, 'gifs': 6139, 'proxmox': 11129, 'pleasantly': 10645, 'nas': 9367, 'bookmarked': 2163, 'lxc': 8479, 'sponsoring': 13250, 'soooo': 13124, 'shitty': 12759, 'tts': 14525, 'brilliant': 2273, 'frustrating': 5859, 'foundry': 5781, 'thanked': 14049, 'ripper': 12068, 'gamekn1ght': 5943, 'herosystem': 6635, 'zephyrus': 15875, 'bewildering': 2010, 'strobing': 13513, 'sleeping': 12960, 'unticked': 14834, 'gu604vi': 6380, 'johan': 7701, 'overbye': 10107, 'weirdly': 15427, 'strobbing': 13512, 'donate': 4438, 'wxt': 15705, 'swiper': 13760, 'living': 8300, 'unopinionated': 14789, 'carpenter': 2530, 'masochist': 8673, 'innerhtml': 7245, 'pnpx': 10679, '89': 681, 'entrypoints': 4920, 'div': 4355, 'logtemplate': 8379, 'alextran1502': 1122, 'krunner': 7949, 'dared': 3739, 'upside': 14887, 'bird': 2065, 'terrastation': 13997, 'linkstation': 8251, 'acp_commander': 872, 'gdpr': 5991, 'trend': 14455, 'jour': 7729, 'spez': 13222, 'tin': 14223, 'vain': 15021, 'respectfully': 11907, 'fiverr': 5578, 'understandably': 14701, 'expressly': 5248, 'desperately': 4064, 'motive': 9180, 'appreciating': 1407, 'verified': 15109, 'calmtake': 2462, 'darrenpingram': 3742, 'apprehensive': 1410, 'terminology': 13992, 'andrewbanchich': 1257, 'her': 6625, 'shreddit': 12813, 'client_id': 2854, 'client_secret': 2856, 'link_to_the_file_directory': 8244, 'dry': 4534, 'zealand': 15866, 'typesafe': 14589, 'bending': 1989, 'browsing': 2301, 'declutter': 3866, 'mathoudebine': 8702, 'turing': 14542, 'amazed': 1203, 'geekm0nkey': 5997, 'manufactures': 8610, 'haft': 6453, 'redownload': 11588, 'celsius': 2623, 'fahrenheit': 5329, 'euplatesc': 5044, 'mzvarik': 9335, 'benefited': 1993, 'mahmoud': 8529, 'whisperx': 15486, 'waveshare': 15353, 'rs485': 12179, 'powerline': 10794, 'extender': 5257, 'chronic': 2772, 'audiocraft': 1661, 'musicgen': 9288, 'alluring': 1157, 'disregard': 4312, 'untapped': 14830, 'vcf': 15071, 'catchwriter': 2569, 'exceptionwriter': 5111, 'powervcf': 10798, 'powervalidatedsolutions': 10797, 'aaron': 761, 'logmessage': 8372, 'cmdlets': 2911, 'ryan': 12236, 'sowjuec': 13152, 'mergebursts': 8839, 'topsapp': 14325, 'teacher': 13930, 'pioneer': 10554, 'diamante': 4153, 'wyt': 15708, 'gauge': 5974, 'swell': 13755, 'zemismart': 15871, 'increments': 7125, 'rounding': 12151, 'curtain': 3657, 'inbrowser': 7077, 'josefkuchar': 7722, 'ocr': 9760, 'cacheapi': 2418, 'infinity': 7173, 'gambling': 5940, 'procrastinating': 11001, 'toss': 14335, 'numbering': 9661, 'assed': 1561, 'monstrosity': 9153, 'spades': 13162, 'scholar': 12386, 'starcraft': 13359, 'positivity': 10760, 'htmx': 6816, 'crispy_forms': 3564, 'chefs': 2727, 'kiss': 7898, 'trivy': 14479, 'lshqqytiger': 8446, 'directml': 4229, 'rx580': 12235, '512x912': 531, 'cdc803b': 2602, '0a52c44': 36, 'runtimeerror': 12223, '1703411712': 173, 'bytes': 2407, 'a7f5e75': 757, 'docile': 4392, 'alligator': 1145, 'absurd': 800, 'shoutout': 12798, 'tirelessly': 14236, 'immense': 7000, 'sabarno': 12254, '15102002': 140, 'hassantanveer': 6538, 'nikko': 9516, 'pacleb': 10185, 'inventorxtreme': 7460, 'thriving': 14146, 'heights': 6604, 'foster': 5773, 'enhancements': 4861, 'invitation': 7474, 'marcin': 8628, 'ufniarz': 14625, 'ascendynamics': 1540, 'nfp': 9483, 'pfoirocp9va': 10470, 'codon': 2954, 'omp_num_threads': 9843, 'boggling': 2146, 'chunking': 2778, 'billion': 2041, 'depleting': 4004, 'zju': 15891, 'academics': 805, 'folio': 5687, 'swaggo': 13743, 'extandablereforspec': 5253, 'lv4': 8474, 'lgtm': 8166, 'cody': 2955, 'expressing': 5243, 'remembering': 11741, 'confidently': 3224, 'spine': 13227, 'spines': 13228, 'rotated': 12141, 'nope': 9574, 'joao': 7691, 'noronhac': 9584, 'painlessly': 10198, '1_novathesis': 221, 'ipl': 7506, 'isel': 7538, 'meb': 8773, '2cm': 366, 'joaomlourenco': 7692, 'overleaf': 10124, 'pedro': 10377, 'arial': 1476, 'writefull': 15685, 'ttf': 14522, 'arialbold': 1477, 'arialitalic': 1479, 'arialbolditalic': 1478, 'novathesisfiles': 9614, 'fontstyles': 5699, 'uncomment': 14676, 'ntsetup': 9644, 'sswitch': 13309, 'lualatex': 8454, 'xelatex': 15737, 'pdflatex': 10367, 'concluded': 3191, 'terrific': 14000, 'imagination': 6981, 'artistic': 1531, 'surroundings': 13717, 'lwc': 8478, 'aura': 1672, 'threatening': 14138, 'evga': 5078, 'x1': 15719, 'msi': 9238, 'afterburner': 1044, 'crashing': 3533, 'lengthening': 8129, 'lifespan': 8202, 'lieu': 8198, 'rem0o': 11725, 'ditched': 4350, 'asrock': 1559, 'silentâ': 12861, 'moderateâ': 9096, 'combinator': 3015, 'combinators': 3017, 'nom': 9559, 'chumsky': 2776, 'tfpk': 14037, 'nominomicon': 9561, 'epage': 4941, 'commercialize': 3057, 'acebase': 858, 'sponsorships': 13253, 'gnollio': 6212, '17et2rwadlhpq84t': 184, '7zmljh9ye2izybgz': 660, 'usp': 14953, 'ideation': 6912, 'youtrack': 15836, 'cassandra': 2557, 'thatnk': 14056, 'extraodinary': 5283, 'bennysway': 1995, 'xodus': 15756, 'freedback': 5815, '5th': 580, 'vicotria': 15147, 'instrucations': 7316, 'touchpad': 14344, 'energydrain': 4844, 'sf5': 12681, '20minutes': 286, 'constuction': 3322, 'repairing': 11780, 'manufacture': 8608, 'surfaces': 13705, 'featuring': 5416, 'arpeggiation': 1498, 'octave': 9762, 'lpk25': 8441, 'lpd8': 8440, 'cardinal': 2520, 'vcv': 15074, 'un': 14648, 'wpd': 15666, 'tiles': 14192, 'ico': 6897, 'respecting': 11908, 'shft': 12738, 'genus': 6035, 'annoyance': 1292, 'deluge': 3966, 'dabbler': 3713, 'chop': 2757, 'jesseduffield': 7662, 'lazygit': 8071, 'belated': 1976, 'buyer': 2393, 'invoice': 7478, 'seller': 12560, 'sp': 13154, 'buyeremail': 2394, 'specialized': 13193, 'violate': 15173, 'backfire': 1800, 'vmwarehardenedloader': 15224, 'hzqst': 6879, 'vmware': 15223, 'dwm': 4586, 'appalled': 1366, 'coolest': 3424, 'fricking': 5835, 'aquarium': 1435, 'radarr': 11353, 'distraught': 4331, 'swoon': 13771, 'authentik': 1685, 'securely': 12500, 'lasted': 8033, 'eglot': 4688, 'enervated': 4845, 'fã': 5927, 'lix': 8301, 'canada': 2474, 'animal': 1273, 'rescue': 11863, 'vibes': 15142, 'breeze': 2255, 'charhub': 2686, 'venus': 15100, 'mud': 9250, 'pygbooru': 11229, 'rooting': 12132, 'liangping': 8169, 'ian': 6889, 'flipside': 5635, 'premier': 10868, 'chief': 2733, 'officer': 9797, 'ashtom': 1544, 'hashtag': 6537, 'githubuniverse': 6159, 'locking': 8346, 'acorn': 871, 'unlink': 14769, 'solarpunked': 13062, 'pegahvaezi': 10384, 'incidentally': 7087, 'connor': 3279, 'rhasspy': 12043, 'implemenation': 7020, 'razzo04': 11424, 'foreground': 5722, 'methodchannel': 8876, 'âœœ': 15929, 'optical': 9975, 'nailik': 9345, 'joeviocoe': 7698, 'applyed': 1403, 'firebird': 5557, 'unsucessful': 14824, 'brazil': 2243, 'yitsushi': 15816, 'totp': 14340, 'foo_company': 5701, 'foo_service': 5703, 'otp': 10065, 'illegal': 6965, 'base32': 1870, '123789': 95, 'digit': 4203, 'glossary': 6196, 'lastpass': 8037, 'regenerated': 11646, 'bitwarden': 2073, 'windterm': 15543, 'm417z': 8494, 'bootstrap5': 2179, 'broadcasting': 2281, 'transmitted': 14426, 'sses': 13297, 'incomming': 7098, 'shove': 12800, 'rockets': 12106, 'robertwayne': 12091, 'voxel': 15252, 'simnibs': 12871, 'tms': 14255, 'apoorva': 1363, 'samson': 12299, 'arrows': 1517, 'expresso': 5249, 'launchyqt': 8059, 'typora': 14601, 'associate': 1590, 'tsv': 14521, 'jsonpath': 7760, 'escaping': 4992, 'tableconvert': 13834, 'hongchaodeng': 6746, 'he3app': 6564, 'y18d': 15781, 'pixi': 10584, 'print_r': 10952, 'discordphp': 4278, 'affects': 1033, 'phpstorm': 10506, 'guilds': 6403, 'retry': 11978, 'guild_members': 6401, 'guild_messages': 6402, 'getdefaultintents': 6084, 'intent1': 7359, 'intent2': 7360, 'intent3': 7361, '09t18': 33, '301z': 383, '403': 463, '303z': 386, 'declined': 3864, 'contacted': 3338, 'declining': 3865, 'ten': 13970, 'decline': 3863, 'itemname': 7573, 'plugged': 10668, 'analogs': 1240, 'sticks': 13425, 'tyring': 14606, 'includelanguages': 7092, 'karchung0930': 7810, 'bradlc': 2226, 'dracula': 4486, 'intelephense': 7344, 'quicksuggestions': 11321, 'jwlibrary': 7794, 'nexusmods': 9482, 'skyrimspecialedition': 12950, '70161': 633, 'slavicpotato': 12956, 'skee64': 12932, 'memleak': 8811, 'racemenu': 11347, 'ignorance': 6946, 'proficient': 11020, 'esphome': 5010, 'ebusd': 4630, 'vaillant': 15020, 'aerotherm': 1019, 'hassio': 6539, 'ebus': 4629, 'flask': 5601, 'palletsprojects': 10208, 'secrets': 12492, 'printsecrets': 10960, 'token_hex': 14278, 'win11': 15532, 'tachometer': 13842, 'tray': 14439, 'vocaloid': 15228, 'utau': 14957, 'openutau': 9942, 'realllyyyy': 11478, 'stakira': 13333, 'rightmost': 12058, 'separator': 12602, 'algin': 1126, 'mkrbm': 9048, 'tabufline': 13840, 'fillchars': 5510, 'vert': 15122, 'rouault': 12144, 'foss4g': 5772, 'sozip': 13153, 'solarized': 13060, 'corlor': 3455, 'paramters': 10254, 'cfcy': 2648, 'inspecttree': 7287, 'hlgroup': 6707, 'hl_add': 6705, 'siduck': 12833, 'navigated': 9388, 'inpsect': 7253, 'field_identifier': 5476, 'highlights': 6673, 'fg': 5462, 'nozzle': 9620, 'sleek': 12958, 'ransome1': 11390, 'deserves': 4049, 'sponsors': 13251, 'robomaster': 12095, 'workhorse': 15627, 'wee': 15416, 'compuscience': 3159, 'prog': 11029, 'exps': 5250, 'joseph': 7723, 'richardson': 12047, 'ttk': 14523, 'treeview': 14451, 'insane': 7262, 'cyberyelper': 3698, 'customtkinter': 3683, 'tkinter': 14243, 'akascape': 1095, 'sabineschaller': 12256, 'noisy': 9558, 'transcription': 14393, 'noticable': 9600, 'hollowaykeanho': 6732, 'modeled': 9087, 'gut': 6412, 'databse': 3759, 'quantonganh': 11284, 'zellij': 15870, 'wezterm': 15449, 'wholehearthedly': 15498, 'somethingslike': 13107, 'inadyn': 7072, 'enigma2': 4863, 'infomaniak': 7181, 'remarkable': 11734, 'proteomics': 11103, 'dia': 4138, 'nn': 9529, 'msqrob': 9241, 'maxquant': 8735, 'ot': 10060, 'min_': 8947, 'mathbb': 8698, 'langle': 8013, 'rangle': 11388, 'varepsilon': 15045, 'leq': 8137, 'coefficient': 2956, 'pot': 10783, 'bregman': 2257, 'minigames': 8964, 'pastebin': 10315, 'uqatng9r': 14894, 'ripgrep': 12067, 'textfile': 14024, 'piped': 10562, 'rg': 12037, 'kaxseekhead': 7820, '_rip': 736, 'aeschylus': 1021, 'tee': 13947, 'win10pro': 15531, 'win11pro': 15533, 'stipulates': 13431, 'rewarded': 12021, 'succinct': 13617, 'win10': 15530, 'rglinux': 12042, 'reaon': 11483, 'disallowed': 4253, 'availablility': 1737, 'qualifying': 11276, '30th': 393, 'quarters': 11290, 'visiting': 15191, 'innovate': 7247, 'andress': 1255, 'dropped': 4529, 'advised': 1015, 'uninformative': 14741, 'comprehend': 3149, 'downloaders': 4472, 'vt100': 15266, 'synchronized': 13790, 'enlightenment': 4872, 'dcs': 3808, 'stun': 13548, 'disapear': 4254, 'behavoir': 1969, 'christian': 2765, 'standee': 13352, 'stunned': 13549, 'retaliate': 11956, 'standees': 13353, 'rails_inbound_email_service': 11365, 'mailgun': 8531, 'isin': 7541, 'de000a0dmx99': 3814, 'coud': 3480, 'xfra': 15740, 'xetr': 15739, 'bf4py': 2012, 'instrument_informationisin': 7323, 'logseq': 8377, 'w01': 15280, 'w52': 15285, 'yearly': 15799, 'abundance': 801, 'yielding': 15812, 'um': 14645, 'complexly': 3126, 'project1': 11045, 'goal1': 6218, 'w23': 15281, 'goal2': 6219, 'w24': 15282, 'project2': 11046, 'goal7': 6220, 'goal8': 6221, 'w26': 15283, 'plan1': 10602, 'plan2': 10603, 'golas': 6232, 'yu000jp': 15851, 'rekognition': 11685, 'fuzionetwork': 5918, 'dex': 4130, 'fuzio': 5917, 'dizz02': 4365, 'eit_dynamic_greit': 4698, 'reconstruction': 11547, 'fem': 5438, 'protocol_obj': 11107, 'redudant': 11597, 'eidors': 4692, 'no_redudant': 9533, 'parser_meas': 10273, 'meas_step': 8766, 'droping': 4525, 'pyeit': 11225, 'eit': 4697, 'a3b631c': 752, 'diff_keep': 4174, 'logical_and': 8364, 'reducem': 11593, 'jacobian': 7609, 'caip': 2430, 'cosmos': 3474, 'solana': 13058, 'sourcespy': 13148, 'springprojectsspringbatch': 13264, 'cryptomator': 3604, 'winfsp': 15548, 'ho': 6716, '22339': 304, 'draggable': 4491, 'dragging': 4493, 'droppable': 4528, 'quarkiverse': 11286, 'cxf': 3693, 'cxfclient': 3694, 'jax': 7646, 'bean': 1918, 'producer': 11007, 'jakarta': 7611, 'createurl': 3550, 'qname': 11265, 'argoal': 1468, 'caffeine': 2429, 'cachename': 2422, 'nameless': 9352, 'advising': 1016, 'jpa': 7735, 'persistenceunit': 10440, 'hibernate': 6654, 'calculatorservice': 2439, 'mycalculator': 9321, 'cdi': 2605, 'qualifier': 11274, 'loses': 8413, 'probability': 10978, 'increases': 7115, 'amoscatelli': 1226, 'rollback': 12117, 'thelastben': 14065, 'runpod': 12218, 'crop': 3576, 'ratios': 11419, '3090': 389, 'dim': 4207, 'updatable': 14856, 'getchannel': 6082, 'categoryid': 2578, 'getupdatableattributes': 6110, 'probleme': 10984, '6_test': 624, 'aliliche': 1137, 'blocky_error_total': 2111, 'v9': 14999, 'twinmaker': 14566, 'hiercharchy': 6665, 'sandraeliz': 12307, '_sass': 737, 'scss': 12453, 'td': 13923, 'prep': 10871, 'odsmexico': 9775, 'multivariate': 9277, 'sokol11': 13057, 'squeeze': 13283, 'xgboost': 15742, 'vdoms': 15077, 'vdom': 15076, 'fgtrestmethod': 5466, 'cmdb': 2910, 'fortios': 5764, 'accprofile': 847, 'http_method': 6820, 'matched_count': 8686, 'next_idx': 9479, 'a60866ff72deb9d030baa27e39b2f3da': 755, 'http_status': 6821, 'fg5h0e5819900050': 5463, '523': 533, 'f7d4ac47884dbfd1d17d829ddfbaee07': 5306, 'fortigate': 5763, 'secfabgrp': 12484, 'ftviewgrp': 5869, 'authgrp': 1686, 'sysgrp': 13807, 'netgrp': 9443, 'loggrp': 8360, 'fwgrp': 5922, 'vpngrp': 15256, 'utmgrp': 14970, 'enc': 4803, 'xxxxxxxxxxxxxxxxxxxx': 15774, 'trusthost': 14501, 'ipv4': 7510, '500e': 520, 'build0523': 2340, '230606': 310, 'fgtconnection': 5465, 'super_admin': 13666, 'scriptrunner': 12438, 'mnt': 9060, 'releaselayout': 11705, 'simpleconstruction': 12875, 'nssc': 9636, 'freetubeapp': 5822, 'manh': 8589, 'perfection': 10410, 'mastodon': 8680, 'pixelfed': 10581, 'julieã': 7771, 'usernames': 14938, 'backups': 1818, '581': 560, 'finishes': 5548, 'docker_db_recipes_1': 4394, 'pg_dumpall': 10473, 'djangouser': 4368, 'pgdump': 10475, '136': 120, 'tandoor': 13881, 'ratings': 11414, 'recipes': 11520, 'mediafiles': 8783, 'dump_date': 4564, 'm_': 8501, 'prodrigestivill': 11004, 'joffrey': 7699, 'cleverestx': 2847, 'unzip': 14850, 'unpacked': 14791, 'unzipped': 14851, 'attending': 1642, 'gods': 6225, 'periodically': 10423, 'serveraliveno': 12631, 'announcements': 1290, '4795': 497, 'f2': 5301, 'commander': 3044, 'backstage': 1812, 'grafik': 6290, 'gopro': 6247, 'hero10': 6634, 'mwake': 9308, 'jxqqk': 7797, 'patching': 10322, 'mhujuq6o60b9q4n2': 8891, 'flawless': 5613, 'onlyno': 9877, 'reput': 11841, 'unattended': 14653, 'rtl': 12188, 'onchain': 9855, 'btcpayserver': 2314, 'derive': 4027, 'adresses': 993, 'lightning': 8212, 'thelightningnetwork': 14066, 'ugx0ep': 14629, 'clightning_installed_but_wheres_the_wallet': 2859, 'txs': 14573, 'hsm': 6810, 'multicolumnlistview': 9258, 'javafx': 7639, 'jest': 7664, 'explodinghairypotatocat': 5216, 'marine': 8636, 'tp': 14356, 'spectrum': 13204, 'forecasted': 5721, '0000': 2, 'hdl': 6562, 'jonkman': 7718, 'šdefinition': 15963, 'oc3ã': 9740, 'damping': 3726, 'stiffness': 13427, 'mooring': 9161, 'sjihf12': 12930, 'oc3': 9739, 'hywind': 6877, 'spar': 13167, 'radiation': 11354, 'viscous': 15184, 'morison': 9166, 'decay': 3844, 'floater': 5642, 'elimination': 4731, 'multisegmented': 9274, 'jjonkman': 7685, 'šinfluence': 15964, 'turbineã': 14539, 'ptfmpitch': 11151, 'alike': 1136, 'socalled': 13042, 'b_': 1785, 'melancho7ee': 8798, 'nrel': 9626, 'fy08osti': 5925, '42589': 477, 'b_radiation': 1786, 'b_viscous': 1787, 'obtained': 9733, 'linearization': 8237, 'openfast': 9915, 'inaccurate': 7067, 'stochastic': 13439, 'borgman': 2186, 'computes': 3168, 'linearized': 8238, 'pathway': 10328, 'ss_fitting': 13295, 'flavor': 5611, 'shoelace': 12768, 'idiomatic': 6930, 'imperative': 7016, 'bouton': 2212, 'kodi': 7928, 'radios': 11358, 'rb': 11425, 'tilemaker': 14191, 'pbf': 10351, 'parking': 10267, 'areas': 1462, 'playgrounds': 10636, 'disappeared': 4256, 'widths': 15513, 'systemed': 13814, 'vector_tiles': 15081, 'denoising': 3986, 'outputã': 10093, 'â¼âÿ': 15924, 'tflitehttps': 14035, '1712': 175, '05877': 24, 'glow': 6197, 'a07fbed5da37e6f9bf8b459d15b445067efa3173': 742, 'l184c28': 7966, '146416': 130, 'datatypes': 3780, 'int32': 7332, 'nncf': 9530, 'calculator': 2438, 'brahimhm': 2228, 'sytamdoan': 13818, 'fff0': 5457, 'roman': 12127, 'doctype': 4406, 'readmo': 11460, '57': 554, 'repositroy': 11820, 'tff': 14034, 'times_new_roman': 14212, '900px': 689, '20px': 287, 'akhilrex': 1100, 'boerniee': 2145, 'solluh': 13075, 'hammond': 6472, 'shonchassel': 12769, 'skylin008': 12949, 'rosys': 12138, 'pararell': 10256, 'alexei': 1120, 'fakestoreapi': 5344, 'ngrx': 9495, 'gff': 6115, 'contigs': 3359, 'contig': 3358, 'get_seqid2size': 6076, 'farm': 5373, 'floris': 5648, 'maximization': 8732, 'tiago': 14167, 'frutuoso': 5860, 'literature': 8286, 'ccblade': 2599, 'sciencedirect': 12396, 'pii': 10536, 's0360544217300518': 12240, 'ecn': 4636, 'tno': 14257, 'farmflow': 5374, 'aero': 1018, 'turbine': 14538, 'computationally': 3162, 'lookup': 8398, 'interpolated': 7413, 'wes': 15443, 'copernicus': 3440, '549': 544, 'surrogate': 13714, 'kelsey': 7832, 'shaler': 12703, 'iopscience': 7492, 'iop': 7491, '1088': 64, '1742': 177, '6596': 612, '2265': 308, '032095': 19, 'academia': 803, 'reliability': 11709, 'averaged': 1746, 'bart': 1867, 'env_fx_trading': 4926, 'rewards': 12023, 'neo_finrl': 9425, 'ppo_test': 10804, 'pray': 10820, 'usergroup': 14936, 'jgrowl': 7673, 'write_query': 15681, 'rationalise': 11418, 'tyl_tnumtyls': 14579, 'lairdshaw': 7997, 'mybbgroup': 9320, 'communications': 3076, 'parallel1': 10239, 'lpt1': 8442, 'paralle1': 10237, 'd1': 3709, 'pricier': 10937, 'img_0036': 6992, 'img_0037': 6993, 'img_0039': 6994, 'img_0043': 6995, 'fooocus': 5705, 'sdxl_styles': 12465, 'prob': 10976, '429': 480, 'captura': 2511, 'samfreeman98': 12290, 'fixðÿ': 5587, 'kepler': 7836, 'clouds': 2891, 'symptom': 13781, 'multiquery': 9271, 'retriever': 11973, 'data_connection': 3753, 'retrievers': 11974, 'multiqueryretriever': 9272, 'attributeerror': 1649, 'mutliquery': 9301, 'azurecognitivesearchretriever': 1783, 'get_relevant_documents': 6074, 'randzoom': 11386, 'interpolate': 7412, 'randomness': 11383, 'omar': 9835, '3d_image_transforms': 445, 'wyli': 15706, 'enquiry': 4878, 'augmented': 1667, 'randrotate90d': 11384, 'dataloader': 3767, 'horizonal': 6763, 'nova': 9613, 'mainheader': 8535, 'laracasts': 8024, 'overrided': 10135, 'composer': 3141, 'muetze42': 9252, 'nitro': 9520, 'cryptic': 3601, 'mjs': 9041, '56453': 552, '__nitro': 718, 'oskilla69': 10053, 'misread': 9009, 'chipper': 2742, 'snickerdoodle': 13030, '13271f': 114, 'pi0': 10513, 'a9e45546e76563b744d7de95b330fa9ae7d82db7': 758, 'dosstx': 4454, 'calyx': 2464, 'ropes': 12135, 'privilege': 10971, 'king': 7894, 'roop': 12130, 'unleashed': 14765, 'persons': 10452, 'mukhram': 9254, 'shubhamjagtap2000': 12816, 'seeds': 12509, 'halloween': 6465, 'pumpkin': 11178, 'isoalted': 7548, '365146514': 425, 'lllyasviel': 8310, 'burton': 2378, 'snowflake': 13037, 'odbc64bit': 9768, '64bit': 608, 'cos': 3472, 'odbc': 9766, 'msdasql': 9236, 'bim': 2042, 'within': 15577, 'te3': 13927, '1500': 136, 'recreated': 11558, 'stumped': 13547, 'pwd': 11212, 'odbc64': 9767, 'connectivity': 3276, 'descript': 4036, 'reprocess': 11832, 'switchbot': 13765, 'manufacturer': 8609, 'purchasing': 11184, 'salute': 12284, 'firebase': 5555, 'signinwithemailandpassword': 12849, 'credentialsprovider': 3559, 'getredirectresult': 6102, 'signinwithredirect': 12851, 'signinwithpopup': 12850, 'jef': 7654, 'buzz': 2397, 'streetmerchant': 13490, '4090': 468, 'grayed': 6314, 'shops': 12776, 'newegg': 9467, 'curry': 3653, '4080': 467, '145115': 129, 'rmarkdown': 12076, 'formatsys': 5749, 'discordia': 4277, 'rawimagestring': 11421, 'doubling': 4461, 'bots': 2196, 'lovers': 8426, 'file_name': 5489, 'binary_data': 2048, 'img_bin': 6996, 'encoded_bin': 4808, 'base64img_bin': 1872, 'toying': 14355, 'refrence': 11633, 'acrossed': 879, 'decoded': 3868, 'encodng': 4812, 'tossed': 14336, 'convient': 3413, '4cat': 508, '4plebs': 513, '4chan': 509, 'coil': 2967, 'bfieldtools': 2013, 'optimize_streamfunction': 9984, 'minimum_ohmic_power': 8975, 'goodwe': 6241, 'invertor': 7465, 'livecodes': 8293, 'embeds': 4753, 'pyg': 11227, 'classification': 2821, 'gat': 5966, 'bce': 1910, 'edge_label': 4648, 'rgcnconv': 12041, '7873': 652, '15s': 148, 'ssd': 13296, 'bitstream': 2072, 'yuv420': 15858, 'y_with_stride': 15782, 'len': 8126, '2142720': 293, 'u_with_stride': 14615, '535680': 541, 'v_with_stride': 15005, '1920': 204, '1080': 61, '3110400': 395, '3214080': 398, 'write_rgb': 15682, 'bgr3': 2016, 'misunderstand': 9020, 'strides_yuv': 13500, '1984': 215, '992': 704, 'short_name': 12779, '1016': 53, 'rse': 12181, '004': 5, 'leafr': 8090, 'lai': 7995, 'normalized': 9582, 'lad': 7986, 'voxels': 15254, 'my_metrics': 9315, 'pixel_metrics': 10578, '_metrics': 729, 'zs': 15909, 'lasfile': 8030, 'serie': 12622, 'wang': 15311, 'fang': 5362, 'mdpi': 8757, '2072': 278, '4292': 481, '3457': 417, 'als': 1174, 'almeida': 1159, '1m': 231, 'ponderosa': 10717, 'pine': 10543, 'forests': 5729, 'pixelslai': 10583, 'grid_metricslas': 6338, 'numericsumladz': 9666, 'dz': 4600, 'z0': 15860, 'zeros': 15877, 'bi0m3trics': 2022, 'grain': 6292, '10m': 66, '30m': 390, 'scales': 12353, 'canopylazr': 2489, 'timelapse': 14205, '30s': 392, 'preroll': 10885, 'shutter': 12820, 'blockly': 2109, 'lte': 8451, 'sim': 12866, 'preferrably': 10855, '5s': 579, 'becuase': 1933, 'valuebale': 15038, 'rescale': 11861, 'heritage': 6629, 'fart': 5375, 'stare': 13361, 'softfever': 13052, 'orcaslicer_v': 10005, '_win64': 740, 'bambulab': 1840, '132fmi0': 115, 'orcaslicer_v162_released': 10006, 'ji5fi5v': 7674, 'jkcr0er': 7687, 'cerebralvision': 2639, '1218': 90, '3670': 427, 'sudirectory': 13625, 'ipaddress': 7499, 'grblhal': 6316, 'safety_door_enable': 12271, 'my_machine': 9314, 'undeclared': 14684, 'spiport': 13230, 'spispi_ports': 13233, 'generic_map': 6019, 'cmakelists': 2907, 'committing': 3067, 'distorts': 4328, 'individuals': 7153, 'stating': 13389, 'ou': 10066, 'achievement': 863, 'unlocks': 14775, 'wholly': 15500, 'lure': 8471, 'global_indicators': 6189, 'global_targets': 6190, 'site_config': 12917, 'indicators': 7146, 'ghidra': 6129, 'deobfuscate': 3991, 'pcode': 10362, 'starcrossportal': 13360, 'ghidracraft': 6130, 'fixup': 5586, 'cbranch': 2594, 'nationalsecurityagency': 9374, 'processors': 11000, 'gcc': 5984, 'cspec': 3610, 'l365': 7968, 'programname': 11038, 'ohhh': 9814, 'pcodeinjectlibrary': 10363, 'laying': 8066, 'circumvent': 2793, '__aeabi_uldivmod': 711, 'foldee': 5682, 'anomalib': 1294, 'greatvalley': 6327, 'conda': 3202, 'town': 14354, 'capecodaa': 2502, 'bass': 1884, 'river': 12073, 'joe': 7695, 'joebryan7873': 7696, 'west': 15445, 'dennis': 3984, '02670': 17, 'function_exists': 5885, 'tsml_custom_addresses': 14517, 'tsml_custom_addressesarray': 14518, 'formatted_address': 5751, '6647071': 613, '1705627': 174, 'hidebackground': 6660, 'showbackground': 12803, 'melynt3': 8802, 'capawesome': 2501, 'mlkit': 9051, 'barcode': 1857, 'hotel': 6777, 'hotels': 6778, 'position_file': 10753, 'crystallographic': 3605, 'orientation_data': 10033, 'cell_grains_id': 2619, 'neper': 9431, '2460': 323, 'cube253': 3623, '189': 198, 'morphooptiini': 9168, 'coo': 3416, 'fileposition_file': 5502, 'ori': 10031, 'fileorientation_data': 5499, 'des': 4029, 'quaternion': 11295, 'filecell_grains_id': 5490, 'reg': 11641, 'tess': 14003, 'datacellcol': 3760, 'simulation_agg2': 12892, 'fille': 5511, 'mergecell': 8840, 'remy': 11757, 'misspelled': 9014, 'geographical': 6039, '510': 524, 'cropping': 3578, 'watermark': 15344, 'audiowmark': 1662, 'watermarking': 15346, 'amplitude': 1234, 'fft': 5461, 'bits': 2071, 'watermarked': 15345, 'malaysia_prn6_2023_election_results': 8567, 'ph': 10481, 'pengkalan': 10391, 'kota': 7938, 'wong': 15603, 'yuee': 15853, 'harng': 6522, 'labelled': 7977, 'masangys': 8666, 'superseded': 13676, 'jawi': 7645, 'tqsm': 14357, 'tonight': 14297, '14th': 133, 'xlsx': 15752, 'somethin': 13103, 'ambf': 1208, 'lin': 8232, 'i386': 6885, 'win32': 15534, 'cloudscape': 2892, 'scrapped': 12413, 'nicolas': 9506, 'ruben': 12195, 'cei': 2612, 't01': 13820, 't02': 13821, 'x01': 15713, 'x02': 15714, 'enotices2': 4874, 'gãƒâ¼nter': 6420, 'stronghold': 13518, 'spinning': 13229, 'ends': 4840, 'firefly': 5561, 'iota': 7495, 'errorlog': 4977, 'sprache': 13261, 'wã': 15711, 'hrung': 6806, 'auswahl': 1675, 'manuell': 8607, 'plattformversion': 10624, '22621': 306, 'architektur': 1451, 'anzahl': 1339, 'gesamtspeicher': 6059, '32488': 400, 'freier': 5825, 'speicher': 13215, '16655': 161, 'shimmer': 12748, 'profil': 11021, 'experts': 5201, 'represented': 11826, 'navigationcmdletprovider': 9392, 'itemseparator': 7577, 'rejetto': 11684, 'hfs': 6651, 'filemenu': 5494, 'federated': 5419, 'nvflare': 9685, 'annabeer': 1282, 'user_guide': 14934, 'dashboard_ui': 3748, 'flare': 5595, 'tensorflow': 13983, 'kagkarlsson': 7803, 'suspend': 13726, 'percentages': 10401, 'task_data': 13902, '1nf': 235, 'soulseek': 13134, 'nicotine': 9508, 'originated': 10039, 'slsknet': 12991, 'poked': 10700, 'p2p': 10167, 'modernizing': 9098, 'seeschloss': 12523, 'soulfind': 13133, 'disappears': 4257, 'automations': 1723, 'yungtyyler': 15855, 'interactions': 7372, 'jeff': 7655, 'cerb': 2638, 'datapoints': 3769, 'atlantis': 1618, 'unaffected': 14650, 'mishra': 9002, 'hashicorp': 6533, 'employees': 4780, 'tfc': 14033, 'solutiongeek': 13078, 'hashi': 6532, 'mpl': 9211, 'bsl': 2308, 'busl': 2381, 'humanly': 6845, 'ianal': 6890, 'hashicorpâ': 6534, 'contradictory': 3372, 'parties': 10289, 'distributes': 4337, 'ostensibly': 10057, 'wink': 15551, 'mirrors': 8993, 'dissimilar': 4317, 'integrates': 7338, 'vcs': 15073, 'commercialising': 3056, 'sincerely': 12899, 'louis': 8423, 'garman': 5959, 'avoidance': 1752, 'saturday': 12324, 'liberally': 8175, 'distinctions': 4323, 'secondarily': 12486, 'crux': 3598, 'subjected': 13569, 'purposefully': 11193, 'liberal': 8174, 'declaring': 3862, 'msl': 9239, 'circumstance': 2791, 'toot': 14314, 'toots': 14315, 'relays': 11701, 'interleaved': 7394, 'max_number_of_conflicts': 8730, 'max_deterministic_time': 8728, 'absolute_gap_limit': 793, 'nondeterministic': 9564, 'ozan': 10161, '222410': 302, 'bevy': 2009, 'sindy': 12901, 'x0': 15712, 'biological': 2061, 'nonlinearities': 9569, 'michaelis': 8897, 'menten': 8822, 'x0x0_t': 15715, '195': 209, '247': 324, '045': 22, 'x0x1': 15716, '001': 4, 'x1x1': 15722, '035': 20, 'x1x0_t': 15721, '013': 10, 'x0x1x0_t': 15717, 'x0x1x1_t': 15718, '218': 296, 'x1x1x0_t': 15723, 'odeint': 9771, '1d': 224, 'diffeqpy': 4175, 'fipy': 5553, 'coarse': 2925, 'discretization': 4288, 'luca': 8456, 'mickael': 8901, 'zk': 15893, 'stored_fields': 13454, 'atomically': 1625, 'beforeinsert': 1947, 'afterinsert': 1045, 'mongo': 9138, 'insertion': 7270, 'fintech': 5550, 'rport': 12173, 'chatbox': 2703, '3601': 423, '1cae784': 223, 'movie': 9201, 'tmdbid': 14253, 'centred': 2634, 'laracasadei': 8023, '1589': 147, 'freeplane': 5820, 'autoscaled': 1727, 'oracle': 9997, 'dmgs': 4382, 'zipped': 15888, '2560x1600': 332, 'monitor_size_inches': 9141, 'universalviewer': 14757, 'workings': 15629, 'patrickshas': 10333, 'iiif': 6956, 'sidepanel': 12832, 'bookmark': 2162, 'webstore': 15405, 'jdbnofccmhefkmjbkkdkfiicjkgofkdh': 7649, 'f1': 5299, 'shimmy': 12749, 'friendsofshopware': 5842, 'shopware': 12777, 'national': 9373, 'jetson': 7669, 'peter': 10461, 'michalãƒâ': 8899, 'mudblazor': 9251, 'hd': 6558, 'spatie': 13176, 'arabic': 1438, 'japanese': 7628, 'chisese': 2744, 'hindi': 6684, 'marathi': 8622, 'appriciated': 1411, 'beating': 1924, 'comfyui': 3032, 'a111': 746, 'galaxy': 5937, 'forums': 5768, 'become': 1932, 'embrace': 4754, 'env_var': 4927, 'jordanqui': 7721, 'nuxt_env_': 9682, 'peach': 10372, 'speach': 13180, 'ttlig': 14524, 'tig': 14181, 'adminapp': 975, 'session_maker': 12639, 'lidar_centerpoint': 8196, 'pandar64': 10212, 'pandaset': 10214, 'autoware': 1731, 'mmdetection3d': 9057, 'mechanopixel': 8780, 'multicore': 9259, 'fpgas': 5790, 'tensorrt': 13984, 'centerpoint': 2629, 'netron': 9447, 'modulenotfounderror': 9116, 'mako': 8565, 'osxphotos': 10059, 'tmac31': 14249, '150mb': 138, 'queried': 11297, 'utter': 14972, 'ingestion': 7194, '241': 319, 'implenting': 7027, 'interresting': 7420, 'architecturally': 1448, 'nuisance': 9653, 'ness': 9434, 'personnaly': 10450, 'sen': 12570, 'worn': 15642, 'dac': 3714, 'raspi': 11403, 'jack': 7607, 'vegetation': 15088, 'occupied': 9746, 'quantified': 11280, 'vacation': 15010, 'gmbh': 6207, 'kimai': 7887, 'klaus': 7910, 'jettkant': 7670, 'animates': 1277, 'opacity': 9895, 'whileinview': 15481, 'animatepresence': 1276, 'thenewlink': 14076, 'targetattached': 13893, 'ilinkable': 6963, '342': 413}\n"
          ]
        }
      ],
      "source": [
        "print(v.vocabulary_)\n"
      ]
    },
    {
      "cell_type": "code",
      "execution_count": null,
      "metadata": {
        "id": "S8mMz2-009MG",
        "colab": {
          "base_uri": "https://localhost:8080/"
        },
        "outputId": "0d520ad9-9109-4787-bc8e-ca082f4b9d0c"
      },
      "outputs": [
        {
          "output_type": "execute_result",
          "data": {
            "text/plain": [
              "['__annotations__',\n",
              " '__class__',\n",
              " '__delattr__',\n",
              " '__dict__',\n",
              " '__dir__',\n",
              " '__doc__',\n",
              " '__eq__',\n",
              " '__format__',\n",
              " '__ge__',\n",
              " '__getattribute__',\n",
              " '__getstate__',\n",
              " '__gt__',\n",
              " '__hash__',\n",
              " '__init__',\n",
              " '__init_subclass__',\n",
              " '__le__',\n",
              " '__lt__',\n",
              " '__module__',\n",
              " '__ne__',\n",
              " '__new__',\n",
              " '__reduce__',\n",
              " '__reduce_ex__',\n",
              " '__repr__',\n",
              " '__setattr__',\n",
              " '__setstate__',\n",
              " '__sizeof__',\n",
              " '__str__',\n",
              " '__subclasshook__',\n",
              " '__weakref__',\n",
              " '_char_ngrams',\n",
              " '_char_wb_ngrams',\n",
              " '_check_feature_names',\n",
              " '_check_n_features',\n",
              " '_check_params',\n",
              " '_check_stop_words_consistency',\n",
              " '_check_vocabulary',\n",
              " '_count_vocab',\n",
              " '_get_param_names',\n",
              " '_get_tags',\n",
              " '_limit_features',\n",
              " '_more_tags',\n",
              " '_parameter_constraints',\n",
              " '_repr_html_',\n",
              " '_repr_html_inner',\n",
              " '_repr_mimebundle_',\n",
              " '_sort_features',\n",
              " '_stop_words_id',\n",
              " '_tfidf',\n",
              " '_validate_data',\n",
              " '_validate_ngram_range',\n",
              " '_validate_params',\n",
              " '_validate_vocabulary',\n",
              " '_warn_for_unused_params',\n",
              " '_white_spaces',\n",
              " '_word_ngrams',\n",
              " 'analyzer',\n",
              " 'binary',\n",
              " 'build_analyzer',\n",
              " 'build_preprocessor',\n",
              " 'build_tokenizer',\n",
              " 'decode',\n",
              " 'decode_error',\n",
              " 'dtype',\n",
              " 'encoding',\n",
              " 'fit',\n",
              " 'fit_transform',\n",
              " 'fixed_vocabulary_',\n",
              " 'get_feature_names_out',\n",
              " 'get_params',\n",
              " 'get_stop_words',\n",
              " 'idf_',\n",
              " 'input',\n",
              " 'inverse_transform',\n",
              " 'lowercase',\n",
              " 'max_df',\n",
              " 'max_features',\n",
              " 'min_df',\n",
              " 'ngram_range',\n",
              " 'norm',\n",
              " 'preprocessor',\n",
              " 'set_params',\n",
              " 'smooth_idf',\n",
              " 'stop_words',\n",
              " 'stop_words_',\n",
              " 'strip_accents',\n",
              " 'sublinear_tf',\n",
              " 'token_pattern',\n",
              " 'tokenizer',\n",
              " 'transform',\n",
              " 'use_idf',\n",
              " 'vocabulary',\n",
              " 'vocabulary_']"
            ]
          },
          "metadata": {},
          "execution_count": 15
        }
      ],
      "source": [
        "dir(v)"
      ]
    },
    {
      "cell_type": "code",
      "execution_count": null,
      "metadata": {
        "id": "f8xQNFpI1g2n"
      },
      "outputs": [],
      "source": [
        "#let's print the idf of each word:\n",
        "\n",
        "all_feature_names = v.get_feature_names_out()\n",
        "\n",
        "for word in all_feature_names:\n",
        "\n",
        "    #let's get the index in the vocabulary\n",
        "    indx = v.vocabulary_.get(word)\n",
        "\n",
        "    #get the score\n",
        "    idf_score = v.idf_[indx]\n",
        "\n",
        "idf_scores = v.idf_\n",
        "\n",
        "# Create a DataFrame with words and their TF-IDF scores\n",
        "word_importance_df = pd.DataFrame(list(zip(all_feature_names, idf_scores)), columns=['Word', 'TF-IDF'])\n",
        "\n",
        "# Sort the DataFrame by TF-IDF score in descending order\n",
        "word_importance_df = word_importance_df.sort_values(by='TF-IDF', ascending=False)\n",
        "\n",
        "# Specify the file path where you want to save the CSV file\n",
        "csv_file_path = \"plan_word_importance.csv\"\n",
        "\n",
        "# Save the DataFrame to a CSV file\n",
        "word_importance_df.to_csv(csv_file_path, index=False)"
      ]
    },
    {
      "cell_type": "code",
      "execution_count": null,
      "metadata": {
        "colab": {
          "base_uri": "https://localhost:8080/"
        },
        "id": "DSHYEJMd1kfn",
        "outputId": "b6dbb0dd-7077-4284-c877-f5bb14fb1dc6"
      },
      "outputs": [
        {
          "output_type": "stream",
          "name": "stdout",
          "text": [
            "[[0. 0. 0. ... 0. 0. 0.]\n",
            " [0. 0. 0. ... 0. 0. 0.]]\n"
          ]
        }
      ],
      "source": [
        "#let's print the transformed output from tf-idf\n",
        "print(transform_output.toarray()[:2])"
      ]
    },
    {
      "cell_type": "code",
      "execution_count": null,
      "metadata": {
        "colab": {
          "base_uri": "https://localhost:8080/"
        },
        "id": "ny4BLZGv8DV0",
        "outputId": "bf7bed99-47d2-43fa-9605-1d9d0e49f582"
      },
      "outputs": [
        {
          "output_type": "stream",
          "name": "stdout",
          "text": [
            "[[0. 0. 0. ... 0. 0. 0.]\n",
            " [0. 0. 0. ... 0. 0. 0.]\n",
            " [0. 0. 0. ... 0. 0. 0.]\n",
            " ...\n",
            " [0. 0. 0. ... 0. 0. 0.]\n",
            " [0. 0. 0. ... 0. 0. 0.]\n",
            " [0. 0. 0. ... 0. 0. 0.]]\n"
          ]
        }
      ],
      "source": [
        "#let's print the transformed output from tf-idf\n",
        "print(transform_output.toarray())"
      ]
    },
    {
      "cell_type": "code",
      "execution_count": null,
      "metadata": {
        "colab": {
          "base_uri": "https://localhost:8080/",
          "height": 174
        },
        "id": "EOe4Pc5p_O6o",
        "outputId": "2c79a89c-b9e5-4ec4-d144-5ce1d3eeec7e"
      },
      "outputs": [
        {
          "output_type": "stream",
          "name": "stderr",
          "text": [
            "<ipython-input-36-c61d56faf1bb>:16: FutureWarning: The error_bad_lines argument has been deprecated and will be removed in a future version. Use on_bad_lines in the future.\n",
            "\n",
            "\n",
            "  df1 = pd.read_csv(\"/content/drive/MyDrive/MSc_study/Fall_2023/4final_plan_dataset.csv\",error_bad_lines=False, engine=\"python\")\n",
            "<ipython-input-36-c61d56faf1bb>:17: FutureWarning: The error_bad_lines argument has been deprecated and will be removed in a future version. Use on_bad_lines in the future.\n",
            "\n",
            "\n",
            "  df2 = pd.read_csv(\"/content/drive/MyDrive/MSc_study/Summer_2024/rastkar_bugs_400.csv\",error_bad_lines=False, engine=\"python\")\n"
          ]
        },
        {
          "output_type": "execute_result",
          "data": {
            "text/plain": [
              "'\\nX_train, X_test, y_train, y_test = train_test_split(\\n    df.Body,\\n    df.PLAN,\\n    test_size=0.2, # 20% samples will go to test dataset\\n    random_state=2022\\n)\\n'"
            ],
            "application/vnd.google.colaboratory.intrinsic+json": {
              "type": "string"
            }
          },
          "metadata": {},
          "execution_count": 36
        }
      ],
      "source": [
        "#START FROM HERE - FOR THESIS\n",
        "import gensim\n",
        "from gensim.models import word2vec\n",
        "from gensim.models.word2vec import Word2Vec\n",
        "import numpy as np\n",
        "import matplotlib.pyplot as plt\n",
        "import pandas as pd\n",
        "import spacy\n",
        "import string\n",
        "\n",
        "from sklearn.model_selection import train_test_split\n",
        "\n",
        "#df  = pd.read_csv(\"/content/small_plan_dataset.csv\",error_bad_lines=False, engine=\"python\")\n",
        "#df  = pd.read_csv(\"/content/bugreport_labeled.csv\",error_bad_lines=False, engine=\"python\")\n",
        "#df1 = pd.read_csv(\"/content/drive/MyDrive/MSc_study/Summer_2024/man_try1_sec.csv\",error_bad_lines=False, engine=\"python\")\n",
        "df1 = pd.read_csv(\"/content/drive/MyDrive/MSc_study/Fall_2023/4final_plan_dataset.csv\",error_bad_lines=False, engine=\"python\")\n",
        "df2 = pd.read_csv(\"/content/drive/MyDrive/MSc_study/Summer_2024/rastkar_bugs_400.csv\",error_bad_lines=False, engine=\"python\")\n",
        "#print(df['COMMENTS'])\n",
        "'''\n",
        "X_train = df1['Body']\n",
        "X_test = df2['Body']\n",
        "y_train = df1['raf_PLAN']\n",
        "y_test = df2['PLAN']\n",
        "'''\n",
        "X_train = df1['Body']\n",
        "X_test = df2['Body']\n",
        "y_train = df1['OT']\n",
        "y_test = df2['sh_OT']\n",
        "'''\n",
        "X_train, X_test, y_train, y_test = train_test_split(\n",
        "    df.Body,\n",
        "    df.PLAN,\n",
        "    test_size=0.2, # 20% samples will go to test dataset\n",
        "    random_state=2022\n",
        ")\n",
        "'''"
      ]
    },
    {
      "cell_type": "code",
      "execution_count": null,
      "metadata": {
        "colab": {
          "base_uri": "https://localhost:8080/",
          "height": 497
        },
        "id": "MJvcq-SazteU",
        "outputId": "529bb51e-f578-4cbb-fc27-7ba34891b76b"
      },
      "outputs": [
        {
          "output_type": "stream",
          "name": "stderr",
          "text": [
            "<ipython-input-15-acdf7cdd8c5a>:1: FutureWarning: The error_bad_lines argument has been deprecated and will be removed in a future version. Use on_bad_lines in the future.\n",
            "\n",
            "\n",
            "  df1 = pd.read_csv(\"/content/predict_ot.csv\",error_bad_lines=False, engine=\"python\")\n"
          ]
        },
        {
          "output_type": "error",
          "ename": "FileNotFoundError",
          "evalue": "[Errno 2] No such file or directory: '/content/predict_ot.csv'",
          "traceback": [
            "\u001b[0;31m---------------------------------------------------------------------------\u001b[0m",
            "\u001b[0;31mFileNotFoundError\u001b[0m                         Traceback (most recent call last)",
            "\u001b[0;32m<ipython-input-15-acdf7cdd8c5a>\u001b[0m in \u001b[0;36m<cell line: 1>\u001b[0;34m()\u001b[0m\n\u001b[0;32m----> 1\u001b[0;31m \u001b[0mdf1\u001b[0m \u001b[0;34m=\u001b[0m \u001b[0mpd\u001b[0m\u001b[0;34m.\u001b[0m\u001b[0mread_csv\u001b[0m\u001b[0;34m(\u001b[0m\u001b[0;34m\"/content/predict_ot.csv\"\u001b[0m\u001b[0;34m,\u001b[0m\u001b[0merror_bad_lines\u001b[0m\u001b[0;34m=\u001b[0m\u001b[0;32mFalse\u001b[0m\u001b[0;34m,\u001b[0m \u001b[0mengine\u001b[0m\u001b[0;34m=\u001b[0m\u001b[0;34m\"python\"\u001b[0m\u001b[0;34m)\u001b[0m\u001b[0;34m\u001b[0m\u001b[0;34m\u001b[0m\u001b[0m\n\u001b[0m\u001b[1;32m      2\u001b[0m \u001b[0;34m\u001b[0m\u001b[0m\n\u001b[1;32m      3\u001b[0m \u001b[0;31m#print(df1)\u001b[0m\u001b[0;34m\u001b[0m\u001b[0;34m\u001b[0m\u001b[0m\n\u001b[1;32m      4\u001b[0m \u001b[0;31m#for i in range(2360):\u001b[0m\u001b[0;34m\u001b[0m\u001b[0;34m\u001b[0m\u001b[0m\n\u001b[1;32m      5\u001b[0m \u001b[0;32mfor\u001b[0m \u001b[0mnumber\u001b[0m \u001b[0;32min\u001b[0m \u001b[0mdf1\u001b[0m\u001b[0;34m:\u001b[0m\u001b[0;34m\u001b[0m\u001b[0;34m\u001b[0m\u001b[0m\n",
            "\u001b[0;32m/usr/local/lib/python3.10/dist-packages/pandas/util/_decorators.py\u001b[0m in \u001b[0;36mwrapper\u001b[0;34m(*args, **kwargs)\u001b[0m\n\u001b[1;32m    209\u001b[0m                 \u001b[0;32melse\u001b[0m\u001b[0;34m:\u001b[0m\u001b[0;34m\u001b[0m\u001b[0;34m\u001b[0m\u001b[0m\n\u001b[1;32m    210\u001b[0m                     \u001b[0mkwargs\u001b[0m\u001b[0;34m[\u001b[0m\u001b[0mnew_arg_name\u001b[0m\u001b[0;34m]\u001b[0m \u001b[0;34m=\u001b[0m \u001b[0mnew_arg_value\u001b[0m\u001b[0;34m\u001b[0m\u001b[0;34m\u001b[0m\u001b[0m\n\u001b[0;32m--> 211\u001b[0;31m             \u001b[0;32mreturn\u001b[0m \u001b[0mfunc\u001b[0m\u001b[0;34m(\u001b[0m\u001b[0;34m*\u001b[0m\u001b[0margs\u001b[0m\u001b[0;34m,\u001b[0m \u001b[0;34m**\u001b[0m\u001b[0mkwargs\u001b[0m\u001b[0;34m)\u001b[0m\u001b[0;34m\u001b[0m\u001b[0;34m\u001b[0m\u001b[0m\n\u001b[0m\u001b[1;32m    212\u001b[0m \u001b[0;34m\u001b[0m\u001b[0m\n\u001b[1;32m    213\u001b[0m         \u001b[0;32mreturn\u001b[0m \u001b[0mcast\u001b[0m\u001b[0;34m(\u001b[0m\u001b[0mF\u001b[0m\u001b[0;34m,\u001b[0m \u001b[0mwrapper\u001b[0m\u001b[0;34m)\u001b[0m\u001b[0;34m\u001b[0m\u001b[0;34m\u001b[0m\u001b[0m\n",
            "\u001b[0;32m/usr/local/lib/python3.10/dist-packages/pandas/util/_decorators.py\u001b[0m in \u001b[0;36mwrapper\u001b[0;34m(*args, **kwargs)\u001b[0m\n\u001b[1;32m    329\u001b[0m                     \u001b[0mstacklevel\u001b[0m\u001b[0;34m=\u001b[0m\u001b[0mfind_stack_level\u001b[0m\u001b[0;34m(\u001b[0m\u001b[0;34m)\u001b[0m\u001b[0;34m,\u001b[0m\u001b[0;34m\u001b[0m\u001b[0;34m\u001b[0m\u001b[0m\n\u001b[1;32m    330\u001b[0m                 )\n\u001b[0;32m--> 331\u001b[0;31m             \u001b[0;32mreturn\u001b[0m \u001b[0mfunc\u001b[0m\u001b[0;34m(\u001b[0m\u001b[0;34m*\u001b[0m\u001b[0margs\u001b[0m\u001b[0;34m,\u001b[0m \u001b[0;34m**\u001b[0m\u001b[0mkwargs\u001b[0m\u001b[0;34m)\u001b[0m\u001b[0;34m\u001b[0m\u001b[0;34m\u001b[0m\u001b[0m\n\u001b[0m\u001b[1;32m    332\u001b[0m \u001b[0;34m\u001b[0m\u001b[0m\n\u001b[1;32m    333\u001b[0m         \u001b[0;31m# error: \"Callable[[VarArg(Any), KwArg(Any)], Any]\" has no\u001b[0m\u001b[0;34m\u001b[0m\u001b[0;34m\u001b[0m\u001b[0m\n",
            "\u001b[0;32m/usr/local/lib/python3.10/dist-packages/pandas/io/parsers/readers.py\u001b[0m in \u001b[0;36mread_csv\u001b[0;34m(filepath_or_buffer, sep, delimiter, header, names, index_col, usecols, squeeze, prefix, mangle_dupe_cols, dtype, engine, converters, true_values, false_values, skipinitialspace, skiprows, skipfooter, nrows, na_values, keep_default_na, na_filter, verbose, skip_blank_lines, parse_dates, infer_datetime_format, keep_date_col, date_parser, dayfirst, cache_dates, iterator, chunksize, compression, thousands, decimal, lineterminator, quotechar, quoting, doublequote, escapechar, comment, encoding, encoding_errors, dialect, error_bad_lines, warn_bad_lines, on_bad_lines, delim_whitespace, low_memory, memory_map, float_precision, storage_options)\u001b[0m\n\u001b[1;32m    948\u001b[0m     \u001b[0mkwds\u001b[0m\u001b[0;34m.\u001b[0m\u001b[0mupdate\u001b[0m\u001b[0;34m(\u001b[0m\u001b[0mkwds_defaults\u001b[0m\u001b[0;34m)\u001b[0m\u001b[0;34m\u001b[0m\u001b[0;34m\u001b[0m\u001b[0m\n\u001b[1;32m    949\u001b[0m \u001b[0;34m\u001b[0m\u001b[0m\n\u001b[0;32m--> 950\u001b[0;31m     \u001b[0;32mreturn\u001b[0m \u001b[0m_read\u001b[0m\u001b[0;34m(\u001b[0m\u001b[0mfilepath_or_buffer\u001b[0m\u001b[0;34m,\u001b[0m \u001b[0mkwds\u001b[0m\u001b[0;34m)\u001b[0m\u001b[0;34m\u001b[0m\u001b[0;34m\u001b[0m\u001b[0m\n\u001b[0m\u001b[1;32m    951\u001b[0m \u001b[0;34m\u001b[0m\u001b[0m\n\u001b[1;32m    952\u001b[0m \u001b[0;34m\u001b[0m\u001b[0m\n",
            "\u001b[0;32m/usr/local/lib/python3.10/dist-packages/pandas/io/parsers/readers.py\u001b[0m in \u001b[0;36m_read\u001b[0;34m(filepath_or_buffer, kwds)\u001b[0m\n\u001b[1;32m    603\u001b[0m \u001b[0;34m\u001b[0m\u001b[0m\n\u001b[1;32m    604\u001b[0m     \u001b[0;31m# Create the parser.\u001b[0m\u001b[0;34m\u001b[0m\u001b[0;34m\u001b[0m\u001b[0m\n\u001b[0;32m--> 605\u001b[0;31m     \u001b[0mparser\u001b[0m \u001b[0;34m=\u001b[0m \u001b[0mTextFileReader\u001b[0m\u001b[0;34m(\u001b[0m\u001b[0mfilepath_or_buffer\u001b[0m\u001b[0;34m,\u001b[0m \u001b[0;34m**\u001b[0m\u001b[0mkwds\u001b[0m\u001b[0;34m)\u001b[0m\u001b[0;34m\u001b[0m\u001b[0;34m\u001b[0m\u001b[0m\n\u001b[0m\u001b[1;32m    606\u001b[0m \u001b[0;34m\u001b[0m\u001b[0m\n\u001b[1;32m    607\u001b[0m     \u001b[0;32mif\u001b[0m \u001b[0mchunksize\u001b[0m \u001b[0;32mor\u001b[0m \u001b[0miterator\u001b[0m\u001b[0;34m:\u001b[0m\u001b[0;34m\u001b[0m\u001b[0;34m\u001b[0m\u001b[0m\n",
            "\u001b[0;32m/usr/local/lib/python3.10/dist-packages/pandas/io/parsers/readers.py\u001b[0m in \u001b[0;36m__init__\u001b[0;34m(self, f, engine, **kwds)\u001b[0m\n\u001b[1;32m   1440\u001b[0m \u001b[0;34m\u001b[0m\u001b[0m\n\u001b[1;32m   1441\u001b[0m         \u001b[0mself\u001b[0m\u001b[0;34m.\u001b[0m\u001b[0mhandles\u001b[0m\u001b[0;34m:\u001b[0m \u001b[0mIOHandles\u001b[0m \u001b[0;34m|\u001b[0m \u001b[0;32mNone\u001b[0m \u001b[0;34m=\u001b[0m \u001b[0;32mNone\u001b[0m\u001b[0;34m\u001b[0m\u001b[0;34m\u001b[0m\u001b[0m\n\u001b[0;32m-> 1442\u001b[0;31m         \u001b[0mself\u001b[0m\u001b[0;34m.\u001b[0m\u001b[0m_engine\u001b[0m \u001b[0;34m=\u001b[0m \u001b[0mself\u001b[0m\u001b[0;34m.\u001b[0m\u001b[0m_make_engine\u001b[0m\u001b[0;34m(\u001b[0m\u001b[0mf\u001b[0m\u001b[0;34m,\u001b[0m \u001b[0mself\u001b[0m\u001b[0;34m.\u001b[0m\u001b[0mengine\u001b[0m\u001b[0;34m)\u001b[0m\u001b[0;34m\u001b[0m\u001b[0;34m\u001b[0m\u001b[0m\n\u001b[0m\u001b[1;32m   1443\u001b[0m \u001b[0;34m\u001b[0m\u001b[0m\n\u001b[1;32m   1444\u001b[0m     \u001b[0;32mdef\u001b[0m \u001b[0mclose\u001b[0m\u001b[0;34m(\u001b[0m\u001b[0mself\u001b[0m\u001b[0;34m)\u001b[0m \u001b[0;34m->\u001b[0m \u001b[0;32mNone\u001b[0m\u001b[0;34m:\u001b[0m\u001b[0;34m\u001b[0m\u001b[0;34m\u001b[0m\u001b[0m\n",
            "\u001b[0;32m/usr/local/lib/python3.10/dist-packages/pandas/io/parsers/readers.py\u001b[0m in \u001b[0;36m_make_engine\u001b[0;34m(self, f, engine)\u001b[0m\n\u001b[1;32m   1733\u001b[0m                 \u001b[0;32mif\u001b[0m \u001b[0;34m\"b\"\u001b[0m \u001b[0;32mnot\u001b[0m \u001b[0;32min\u001b[0m \u001b[0mmode\u001b[0m\u001b[0;34m:\u001b[0m\u001b[0;34m\u001b[0m\u001b[0;34m\u001b[0m\u001b[0m\n\u001b[1;32m   1734\u001b[0m                     \u001b[0mmode\u001b[0m \u001b[0;34m+=\u001b[0m \u001b[0;34m\"b\"\u001b[0m\u001b[0;34m\u001b[0m\u001b[0;34m\u001b[0m\u001b[0m\n\u001b[0;32m-> 1735\u001b[0;31m             self.handles = get_handle(\n\u001b[0m\u001b[1;32m   1736\u001b[0m                 \u001b[0mf\u001b[0m\u001b[0;34m,\u001b[0m\u001b[0;34m\u001b[0m\u001b[0;34m\u001b[0m\u001b[0m\n\u001b[1;32m   1737\u001b[0m                 \u001b[0mmode\u001b[0m\u001b[0;34m,\u001b[0m\u001b[0;34m\u001b[0m\u001b[0;34m\u001b[0m\u001b[0m\n",
            "\u001b[0;32m/usr/local/lib/python3.10/dist-packages/pandas/io/common.py\u001b[0m in \u001b[0;36mget_handle\u001b[0;34m(path_or_buf, mode, encoding, compression, memory_map, is_text, errors, storage_options)\u001b[0m\n\u001b[1;32m    854\u001b[0m         \u001b[0;32mif\u001b[0m \u001b[0mioargs\u001b[0m\u001b[0;34m.\u001b[0m\u001b[0mencoding\u001b[0m \u001b[0;32mand\u001b[0m \u001b[0;34m\"b\"\u001b[0m \u001b[0;32mnot\u001b[0m \u001b[0;32min\u001b[0m \u001b[0mioargs\u001b[0m\u001b[0;34m.\u001b[0m\u001b[0mmode\u001b[0m\u001b[0;34m:\u001b[0m\u001b[0;34m\u001b[0m\u001b[0;34m\u001b[0m\u001b[0m\n\u001b[1;32m    855\u001b[0m             \u001b[0;31m# Encoding\u001b[0m\u001b[0;34m\u001b[0m\u001b[0;34m\u001b[0m\u001b[0m\n\u001b[0;32m--> 856\u001b[0;31m             handle = open(\n\u001b[0m\u001b[1;32m    857\u001b[0m                 \u001b[0mhandle\u001b[0m\u001b[0;34m,\u001b[0m\u001b[0;34m\u001b[0m\u001b[0;34m\u001b[0m\u001b[0m\n\u001b[1;32m    858\u001b[0m                 \u001b[0mioargs\u001b[0m\u001b[0;34m.\u001b[0m\u001b[0mmode\u001b[0m\u001b[0;34m,\u001b[0m\u001b[0;34m\u001b[0m\u001b[0;34m\u001b[0m\u001b[0m\n",
            "\u001b[0;31mFileNotFoundError\u001b[0m: [Errno 2] No such file or directory: '/content/predict_ot.csv'"
          ]
        }
      ],
      "source": [
        "df1 = pd.read_csv(\"/content/predict_ot.csv\",error_bad_lines=False, engine=\"python\")\n",
        "\n",
        "#print(df1)\n",
        "#for i in range(2360):\n",
        "for number in df1:\n",
        "    print(number)\n"
      ]
    },
    {
      "cell_type": "code",
      "execution_count": null,
      "metadata": {
        "colab": {
          "base_uri": "https://localhost:8080/"
        },
        "id": "Wbzs-sa-JEOc",
        "outputId": "405d98b3-1b42-436b-e100-0da940088b8d"
      },
      "outputs": [
        {
          "output_type": "stream",
          "name": "stdout",
          "text": [
            "Shape of X_train:  (3638,)\n",
            "Shape of X_test:  (2360,)\n"
          ]
        }
      ],
      "source": [
        "print(\"Shape of X_train: \", X_train.shape)\n",
        "print(\"Shape of X_test: \", X_test.shape)"
      ]
    },
    {
      "cell_type": "code",
      "execution_count": null,
      "metadata": {
        "colab": {
          "base_uri": "https://localhost:8080/"
        },
        "id": "tAtczJZ1JQLo",
        "outputId": "26b11db1-d271-4431-c373-143d446f112b"
      },
      "outputs": [
        {
          "output_type": "execute_result",
          "data": {
            "text/plain": [
              "0    3158\n",
              "1     480\n",
              "Name: OT, dtype: int64"
            ]
          },
          "metadata": {},
          "execution_count": 22
        }
      ],
      "source": [
        "y_train.value_counts()"
      ]
    },
    {
      "cell_type": "code",
      "execution_count": null,
      "metadata": {
        "colab": {
          "base_uri": "https://localhost:8080/"
        },
        "id": "AH61BNYfJVRw",
        "outputId": "c0833015-8c29-4788-b7b4-c6d24cb86d60"
      },
      "outputs": [
        {
          "output_type": "execute_result",
          "data": {
            "text/plain": [
              "0    2272\n",
              "1      88\n",
              "Name: sh_OT, dtype: int64"
            ]
          },
          "metadata": {},
          "execution_count": 23
        }
      ],
      "source": [
        "y_test.value_counts()"
      ]
    },
    {
      "cell_type": "code",
      "execution_count": null,
      "metadata": {
        "colab": {
          "base_uri": "https://localhost:8080/"
        },
        "id": "XzZ5JeCDJkGd",
        "outputId": "f0ba818f-8f65-4a30-e6b1-ba2215c26ddc"
      },
      "outputs": [
        {
          "output_type": "stream",
          "name": "stdout",
          "text": [
            "              precision    recall  f1-score   support\n",
            "\n",
            "           0       0.98      0.91      0.95      2272\n",
            "           1       0.19      0.52      0.28        88\n",
            "\n",
            "    accuracy                           0.90      2360\n",
            "   macro avg       0.59      0.72      0.61      2360\n",
            "weighted avg       0.95      0.90      0.92      2360\n",
            "\n"
          ]
        }
      ],
      "source": [
        "from sklearn.neighbors import KNeighborsClassifier\n",
        "from sklearn.pipeline import Pipeline\n",
        "from sklearn.metrics import classification_report\n",
        "\n",
        "#1. create a pipeline object\n",
        "clf = Pipeline([\n",
        "     ('vectorizer_tfidf',TfidfVectorizer()),\n",
        "     ('KNN', KNeighborsClassifier())\n",
        "])\n",
        "\n",
        "#2. fit with X_train and y_train\n",
        "clf.fit(X_train, y_train)\n",
        "\n",
        "\n",
        "#3. get the predictions for X_test and store it in y_pred\n",
        "y_pred = clf.predict(X_test)\n",
        "\n",
        "\n",
        "#4. print the classfication report\n",
        "print(classification_report(y_test, y_pred))"
      ]
    },
    {
      "cell_type": "code",
      "execution_count": null,
      "metadata": {
        "colab": {
          "base_uri": "https://localhost:8080/"
        },
        "id": "ltb_wkKkJ_1G",
        "outputId": "b03d9113-da8d-4481-9d7b-4a6831c5e083"
      },
      "outputs": [
        {
          "data": {
            "text/plain": [
              "960     The window class for this object has been reas...\n",
              "1566                    The one in text land is bug 88293\n",
              "2876                            I forgot I could tag here\n",
              "9              2) form history finds 1 entry (\\\"\"blah\\\"\")\n",
              "1863                                  Thats good to know.\n",
              "Name: COMMENTS, dtype: object"
            ]
          },
          "execution_count": 24,
          "metadata": {},
          "output_type": "execute_result"
        }
      ],
      "source": [
        "X_test[:5]"
      ]
    },
    {
      "cell_type": "code",
      "execution_count": null,
      "metadata": {
        "colab": {
          "base_uri": "https://localhost:8080/"
        },
        "id": "_FiJmAEhKCxD",
        "outputId": "e50d98da-53f3-4c07-ef54-6673316f9d0e"
      },
      "outputs": [
        {
          "data": {
            "text/plain": [
              "960     0\n",
              "1566    0\n",
              "2876    0\n",
              "9       0\n",
              "1863    0\n",
              "Name: PLAN, dtype: int64"
            ]
          },
          "execution_count": 25,
          "metadata": {},
          "output_type": "execute_result"
        }
      ],
      "source": [
        "y_test[:5]"
      ]
    },
    {
      "cell_type": "code",
      "execution_count": null,
      "metadata": {
        "colab": {
          "base_uri": "https://localhost:8080/"
        },
        "id": "StOYqAd0KFXD",
        "outputId": "8bd49e78-b1aa-4c54-d119-a031f03da91d"
      },
      "outputs": [
        {
          "data": {
            "text/plain": [
              "array([0, 0, 0, 0, 0])"
            ]
          },
          "execution_count": 26,
          "metadata": {},
          "output_type": "execute_result"
        }
      ],
      "source": [
        "y_pred[:5]"
      ]
    },
    {
      "cell_type": "code",
      "execution_count": null,
      "metadata": {
        "colab": {
          "base_uri": "https://localhost:8080/"
        },
        "id": "oTXLgWfVOBSY",
        "outputId": "ba3f9078-e04d-456b-ac7b-f33d89ff7fa3"
      },
      "outputs": [
        {
          "output_type": "stream",
          "name": "stdout",
          "text": [
            "              precision    recall  f1-score   support\n",
            "\n",
            "           0       0.00      0.00      0.00      1360\n",
            "           1       0.42      1.00      0.60      1000\n",
            "\n",
            "    accuracy                           0.42      2360\n",
            "   macro avg       0.21      0.50      0.30      2360\n",
            "weighted avg       0.18      0.42      0.25      2360\n",
            "\n"
          ]
        },
        {
          "output_type": "stream",
          "name": "stderr",
          "text": [
            "/usr/local/lib/python3.10/dist-packages/sklearn/metrics/_classification.py:1344: UndefinedMetricWarning: Precision and F-score are ill-defined and being set to 0.0 in labels with no predicted samples. Use `zero_division` parameter to control this behavior.\n",
            "  _warn_prf(average, modifier, msg_start, len(result))\n",
            "/usr/local/lib/python3.10/dist-packages/sklearn/metrics/_classification.py:1344: UndefinedMetricWarning: Precision and F-score are ill-defined and being set to 0.0 in labels with no predicted samples. Use `zero_division` parameter to control this behavior.\n",
            "  _warn_prf(average, modifier, msg_start, len(result))\n",
            "/usr/local/lib/python3.10/dist-packages/sklearn/metrics/_classification.py:1344: UndefinedMetricWarning: Precision and F-score are ill-defined and being set to 0.0 in labels with no predicted samples. Use `zero_division` parameter to control this behavior.\n",
            "  _warn_prf(average, modifier, msg_start, len(result))\n"
          ]
        }
      ],
      "source": [
        "from sklearn.naive_bayes import MultinomialNB\n",
        "\n",
        "\n",
        "#1. create a pipeline object\n",
        "clf = Pipeline([\n",
        "     ('vectorizer_tfidf',TfidfVectorizer()),\n",
        "     ('Multi NB', MultinomialNB())\n",
        "])\n",
        "\n",
        "#2. fit with X_train and y_train\n",
        "clf.fit(X_train, y_train)\n",
        "\n",
        "\n",
        "#3. get the predictions for X_test and store it in y_pred\n",
        "y_pred = clf.predict(X_test)\n",
        "\n",
        "\n",
        "#4. print the classfication report\n",
        "print(classification_report(y_test, y_pred))"
      ]
    },
    {
      "cell_type": "code",
      "execution_count": null,
      "metadata": {
        "colab": {
          "base_uri": "https://localhost:8080/"
        },
        "id": "0qWVig55a04t",
        "outputId": "b034a733-4011-40d5-cadf-17d9b76daaaf"
      },
      "outputs": [
        {
          "output_type": "stream",
          "name": "stdout",
          "text": [
            "              precision    recall  f1-score   support\n",
            "\n",
            "           0       0.97      1.00      0.98      2272\n",
            "           1       0.78      0.28      0.42        88\n",
            "\n",
            "    accuracy                           0.97      2360\n",
            "   macro avg       0.88      0.64      0.70      2360\n",
            "weighted avg       0.97      0.97      0.96      2360\n",
            "\n"
          ]
        }
      ],
      "source": [
        "from sklearn import svm\n",
        "\n",
        "\n",
        "#1. create a pipeline object\n",
        "clf = Pipeline([\n",
        "     ('vectorizer_tfidf',TfidfVectorizer()),\n",
        "     ('Multi NB', svm.SVC())\n",
        "])\n",
        "\n",
        "#2. fit with X_train and y_train\n",
        "clf.fit(X_train, y_train)\n",
        "\n",
        "\n",
        "#3. get the predictions for X_test and store it in y_pred\n",
        "y_pred = clf.predict(X_test)\n",
        "\n",
        "\n",
        "#4. print the classfication report\n",
        "print(classification_report(y_test, y_pred))"
      ]
    },
    {
      "cell_type": "code",
      "execution_count": null,
      "metadata": {
        "colab": {
          "base_uri": "https://localhost:8080/"
        },
        "id": "DLtV3bXWPBV2",
        "outputId": "65b66a7f-c511-4fa9-b8ca-3d49a712494f"
      },
      "outputs": [
        {
          "output_type": "stream",
          "name": "stdout",
          "text": [
            "              precision    recall  f1-score   support\n",
            "\n",
            "           0       0.98      0.95      0.97      2272\n",
            "           1       0.28      0.48      0.35        88\n",
            "\n",
            "    accuracy                           0.94      2360\n",
            "   macro avg       0.63      0.72      0.66      2360\n",
            "weighted avg       0.95      0.94      0.94      2360\n",
            "\n"
          ]
        }
      ],
      "source": [
        "from sklearn.ensemble import RandomForestClassifier\n",
        "import pandas as pd\n",
        "\n",
        "#1. create a pipeline object\n",
        "clf = Pipeline([\n",
        "     ('vectorizer_tfidf',TfidfVectorizer()),        #using the ngram_range parameter\n",
        "     ('Random Forest', RandomForestClassifier())\n",
        "])\n",
        "\n",
        "#2. fit with X_train and y_train\n",
        "clf.fit(X_train, y_train)\n",
        "\n",
        "'''\n",
        "#3. get the predictions for X_test and store it in y_pred\n",
        "y_pred = clf.predict(X_test)\n",
        "print(y_pred)\n",
        "#my = pd.DataFrame.from_records(y_pred)\n",
        "my = y_pred.tolist()\n",
        "for i in range(2360):\n",
        "  #file1.writelines(my[i])\n",
        "  print(my[i])\n",
        "  with open(\"myfile.txt\", \"w\") as file1:\n",
        "    file1.writelines(my[0])\n",
        "'''\n",
        "'''\n",
        "with open(\"myfile.txt\", \"w\") as file1:\n",
        "    # Writing data to a file\n",
        "    for i in range(2360):\n",
        "      file1.writelines(my[i])\n",
        "\n",
        "with open('predict_ot.csv', 'w', newline='') as file:\n",
        "    writer = csv.writer(file)\n",
        "    field = [\"SH_LABEL\"]\n",
        "    for i in range(0, 2360):\n",
        "      me = my[i]\n",
        "      writer.writerow(me)\n",
        "'''\n",
        "\n",
        "# Specify the file path where you want to save the CSV file\n",
        "csv_file_path2 = \"plan_predict.csv\"\n",
        "df = pd.DataFrame(y_pred)\n",
        "# Save the DataFrame to a CSV file\n",
        "df.to_csv(csv_file_path2, index=False)\n",
        "\n",
        "'''\n",
        "# Import Joblib\n",
        "import joblib\n",
        "\n",
        "# Save the model to a file\n",
        "joblib.dump(clf, 'sh_model_3_8.joblib')\n",
        "\n",
        "# Load the model using Joblib\n",
        "loaded_model_joblib = joblib.load('sh_model_3_8.joblib')\n",
        "'''\n",
        "\n",
        "import pickle\n",
        "\n",
        "# Save the model to a file\n",
        "with open('my_model.pkl', 'wb') as file:\n",
        "    pickle.dump(clf, file)\n",
        "\n",
        "with open('my_model.pkl', 'rb') as file:\n",
        "    loaded_model_pickle = pickle.load(file)\n",
        "\n",
        "#3. get the predictions for X_test and store it in y_pred\n",
        "#y_pred = clf.predict(X_test)\n",
        "\n",
        "\n",
        "\n",
        "y_pred = loaded_model_pickle.predict(X_test)\n",
        "\n",
        "#4. print the classfication report\n",
        "print(classification_report(y_test, y_pred))"
      ]
    },
    {
      "cell_type": "code",
      "source": [],
      "metadata": {
        "id": "_7Or2daYDUsI"
      },
      "execution_count": null,
      "outputs": []
    },
    {
      "cell_type": "code",
      "source": [
        "#Pema grg\n",
        "from sklearn.feature_extraction.text import TfidfVectorizer\n",
        "import pandas as pd\n",
        "from sklearn import svm\n",
        "from sklearn.model_selection import train_test_split\n",
        "from sklearn.metrics import accuracy_score\n",
        "import pickle\n",
        "from sklearn import linear_model\n",
        "#Project_path = \"<path to the project folder>\"\n",
        "from sklearn.ensemble import RandomForestClassifier\n",
        "\n",
        "\n",
        "\n",
        "#2. fit with X_train and y_train\n",
        "clf.fit(X_train, y_train)\n",
        "\n",
        "data = pd.read_csv('/content/drive/MyDrive/MSc_study/Fall_2023/4final_plan_dataset.csv',error_bad_lines=False, engine=\"python\")\n",
        "#print (data.category.unique())\n",
        "vectorizer = TfidfVectorizer(sublinear_tf=True, encoding='utf-8',\n",
        "                             decode_error='ignore')\n",
        "\n",
        "\n",
        "def train_bpsd(df, vectorizer):\n",
        "    tfidf = vectorizer.fit(df[\"Body\"].values.astype('U'))\n",
        "\n",
        "    X = vectorizer.fit_transform(df[\"Body\"].values.astype('U'))\n",
        "    y = df['OT']\n",
        "    #train_test(X, y)\n",
        "    model = svm.LinearSVC()\n",
        "\n",
        "    print(\"==fitting the model===\")\n",
        "    model.fit(X.A, y)\n",
        "\n",
        "    print(\"==fit done\\=\")\n",
        "    return model, tfidf\n",
        "\n",
        "\n",
        "Project_path = \"/content/drive/MyDrive/MSc_study\"\n",
        "\n",
        "model_path = Project_path + \"/sh_models/sh.pickle\"\n",
        "vectorizer_path = Project_path + \"/sh_models/sh_vectorizer.pickle\"\n",
        "model, vectorizer_model = train_bpsd(data, vectorizer)\n",
        "pickle.dump(model, open(model_path, 'wb'))\n",
        "pickle.dump(vectorizer_model, open(vectorizer_path, \"wb\"))\n"
      ],
      "metadata": {
        "colab": {
          "base_uri": "https://localhost:8080/",
          "height": 297
        },
        "id": "zjltdEwNRusA",
        "outputId": "1c0edfe6-4771-48b0-8e0e-605c56d6d276"
      },
      "execution_count": null,
      "outputs": [
        {
          "output_type": "stream",
          "name": "stderr",
          "text": [
            "<ipython-input-22-8112232215ba>:17: FutureWarning: The error_bad_lines argument has been deprecated and will be removed in a future version. Use on_bad_lines in the future.\n",
            "\n",
            "\n",
            "  data = pd.read_csv('/content/drive/MyDrive/MSc_study/Fall_2023/4final_plan_dataset.csv',error_bad_lines=False, engine=\"python\")\n"
          ]
        },
        {
          "output_type": "stream",
          "name": "stdout",
          "text": [
            "==fitting the model===\n",
            "==fit done\\=\n"
          ]
        },
        {
          "output_type": "error",
          "ename": "FileNotFoundError",
          "evalue": "[Errno 2] No such file or directory: '/content/drive/MyDrive/MSc_study/sh_models/sh.pickle'",
          "traceback": [
            "\u001b[0;31m---------------------------------------------------------------------------\u001b[0m",
            "\u001b[0;31mFileNotFoundError\u001b[0m                         Traceback (most recent call last)",
            "\u001b[0;32m<ipython-input-22-8112232215ba>\u001b[0m in \u001b[0;36m<cell line: 43>\u001b[0;34m()\u001b[0m\n\u001b[1;32m     41\u001b[0m \u001b[0mvectorizer_path\u001b[0m \u001b[0;34m=\u001b[0m \u001b[0mProject_path\u001b[0m \u001b[0;34m+\u001b[0m \u001b[0;34m\"/sh_models/sh_vectorizer.pickle\"\u001b[0m\u001b[0;34m\u001b[0m\u001b[0;34m\u001b[0m\u001b[0m\n\u001b[1;32m     42\u001b[0m \u001b[0mmodel\u001b[0m\u001b[0;34m,\u001b[0m \u001b[0mvectorizer_model\u001b[0m \u001b[0;34m=\u001b[0m \u001b[0mtrain_bpsd\u001b[0m\u001b[0;34m(\u001b[0m\u001b[0mdata\u001b[0m\u001b[0;34m,\u001b[0m \u001b[0mvectorizer\u001b[0m\u001b[0;34m)\u001b[0m\u001b[0;34m\u001b[0m\u001b[0;34m\u001b[0m\u001b[0m\n\u001b[0;32m---> 43\u001b[0;31m \u001b[0mpickle\u001b[0m\u001b[0;34m.\u001b[0m\u001b[0mdump\u001b[0m\u001b[0;34m(\u001b[0m\u001b[0mmodel\u001b[0m\u001b[0;34m,\u001b[0m \u001b[0mopen\u001b[0m\u001b[0;34m(\u001b[0m\u001b[0mmodel_path\u001b[0m\u001b[0;34m,\u001b[0m \u001b[0;34m'wb'\u001b[0m\u001b[0;34m)\u001b[0m\u001b[0;34m)\u001b[0m\u001b[0;34m\u001b[0m\u001b[0;34m\u001b[0m\u001b[0m\n\u001b[0m\u001b[1;32m     44\u001b[0m \u001b[0mpickle\u001b[0m\u001b[0;34m.\u001b[0m\u001b[0mdump\u001b[0m\u001b[0;34m(\u001b[0m\u001b[0mvectorizer_model\u001b[0m\u001b[0;34m,\u001b[0m \u001b[0mopen\u001b[0m\u001b[0;34m(\u001b[0m\u001b[0mvectorizer_path\u001b[0m\u001b[0;34m,\u001b[0m \u001b[0;34m\"wb\"\u001b[0m\u001b[0;34m)\u001b[0m\u001b[0;34m)\u001b[0m\u001b[0;34m\u001b[0m\u001b[0;34m\u001b[0m\u001b[0m\n",
            "\u001b[0;31mFileNotFoundError\u001b[0m: [Errno 2] No such file or directory: '/content/drive/MyDrive/MSc_study/sh_models/sh.pickle'"
          ]
        }
      ]
    },
    {
      "cell_type": "code",
      "source": [],
      "metadata": {
        "id": "5T2bJyaVRwv9"
      },
      "execution_count": null,
      "outputs": []
    },
    {
      "cell_type": "code",
      "source": [],
      "metadata": {
        "id": "4s2vhccnRwxz"
      },
      "execution_count": null,
      "outputs": []
    },
    {
      "cell_type": "code",
      "execution_count": null,
      "metadata": {
        "colab": {
          "base_uri": "https://localhost:8080/"
        },
        "id": "x9aUaolcWHJ0",
        "outputId": "2c02d055-c14a-4fd9-e1bc-c6e504449991"
      },
      "outputs": [
        {
          "output_type": "stream",
          "name": "stdout",
          "text": [
            "              precision    recall  f1-score   support\n",
            "\n",
            "           0       0.97      0.93      0.95      2272\n",
            "           1       0.16      0.33      0.21        88\n",
            "\n",
            "    accuracy                           0.91      2360\n",
            "   macro avg       0.57      0.63      0.58      2360\n",
            "weighted avg       0.94      0.91      0.92      2360\n",
            "\n"
          ]
        }
      ],
      "source": [
        "from sklearn import tree\n",
        "\n",
        "#1. create a pipeline object\n",
        "clf = Pipeline([\n",
        "     ('vectorizer_tfidf',TfidfVectorizer()),\n",
        "     ('Multi NB', tree.DecisionTreeClassifier())\n",
        "])\n",
        "\n",
        "#2. fit with X_train and y_train\n",
        "clf.fit(X_train, y_train)\n",
        "\n",
        "\n",
        "#3. get the predictions for X_test and store it in y_pred\n",
        "y_pred = clf.predict(X_test)\n",
        "\n",
        "\n",
        "#4. print the classfication report\n",
        "print(classification_report(y_test, y_pred))"
      ]
    },
    {
      "cell_type": "code",
      "execution_count": null,
      "metadata": {
        "colab": {
          "base_uri": "https://localhost:8080/"
        },
        "id": "ASjqjQxD-kdW",
        "outputId": "0c78af6a-79b9-4235-ce92-983752a0e583"
      },
      "outputs": [
        {
          "name": "stdout",
          "output_type": "stream",
          "text": [
            "Elapsed time to compute the importances: 0.011 seconds\n"
          ]
        },
        {
          "data": {
            "text/plain": [
              "[-0.48628731  2.43254818 -2.81984222 -0.16765617  1.1524328  -0.20515407\\n  1.67435428  0.92336623 -0.5970967  -0.78257457]    0.317872\n",
              "[ 0.24983722  2.07999753 -2.41574285  1.55250219 -0.02025345  1.52308665\\n  1.50875967 -0.44983528 -0.04794935 -0.36425081]    0.209443\n",
              "[ 0.13037419  1.37164964 -1.48661612  0.28419927 -0.27937185  0.48323822\\n -1.70331195 -1.31814927 -1.18427125  0.9759933 ]    0.195190\n",
              "[-0.15204948  1.90934407 -2.7491062  -0.07976561 -0.81365327 -0.14478753\\n -0.40902935  0.55462549 -1.08926689 -1.96281359]    0.042573\n",
              "[-1.59611679  2.13533402 -2.44406814  0.47294311  0.13873703 -1.18721985\\n -1.29116116  0.15843627 -0.54466637  0.30312958]    0.041581\n",
              "[ 0.03665774  0.96342311 -1.6891696  -1.65494387  1.08040923 -0.73978191\\n -0.2680128  -0.62612224  1.00035313  1.6443156 ]    0.040393\n",
              "[ 0.06197247  1.80809251 -1.55423753 -0.3123385  -0.73702997  1.90030652\\n  0.15354636  1.28187305 -0.00282095 -0.30701463]    0.040255\n",
              "[ 0.38317678  1.0920481  -0.76797611 -1.20240135  1.80564101 -0.46788142\\n  0.7560166   1.87531422 -0.09747202 -1.91683391]    0.040018\n",
              "[ 1.56402374  1.10505348 -0.72742672 -0.16041893 -1.0084325   0.99674704\\n -1.44200591  0.37850032 -0.8213494  -1.74987461]    0.038609\n",
              "[ 1.5857341   0.16702301 -0.13383424 -0.28114492 -0.74741052  0.59259239\\n -0.02407507  1.13935135 -1.01846879  0.04419178]    0.034066\n",
              "dtype: float64"
            ]
          },
          "execution_count": 31,
          "metadata": {},
          "output_type": "execute_result"
        }
      ],
      "source": [
        "import matplotlib.pyplot as plt\n",
        "\n",
        "from sklearn.datasets import make_classification\n",
        "from sklearn.model_selection import train_test_split\n",
        "\n",
        "X, y = make_classification(\n",
        "    n_samples=1000,\n",
        "    n_features=10,\n",
        "    n_informative=3,\n",
        "    n_redundant=0,\n",
        "    n_repeated=0,\n",
        "    n_classes=2,\n",
        "    random_state=0,\n",
        "    shuffle=False,\n",
        ")\n",
        "X_train, X_test, y_train, y_test = train_test_split(X, y, stratify=y, random_state=42)\n",
        "\n",
        "from sklearn.ensemble import RandomForestClassifier\n",
        "\n",
        "feature_names = [f\"{X[i]}\" for i in range(X.shape[1])]\n",
        "forest = RandomForestClassifier(random_state=0)\n",
        "forest.fit(X_train, y_train)\n",
        "\n",
        "import time\n",
        "\n",
        "import numpy as np\n",
        "\n",
        "start_time = time.time()\n",
        "importances = forest.feature_importances_\n",
        "std = np.std([tree.feature_importances_ for tree in forest.estimators_], axis=0)\n",
        "elapsed_time = time.time() - start_time\n",
        "\n",
        "print(f\"Elapsed time to compute the importances: {elapsed_time:.3f} seconds\")\n",
        "\n",
        "import pandas as pd\n",
        "\n",
        "forest_importances = pd.Series(importances, index=feature_names)\n",
        "\n",
        "feature_scores = pd.Series(forest.feature_importances_, index=feature_names).sort_values(ascending=False)\n",
        "\n",
        "feature_scores\n",
        "\n"
      ]
    },
    {
      "cell_type": "code",
      "execution_count": null,
      "metadata": {
        "id": "HthrEcCf9VUs"
      },
      "outputs": [],
      "source": [
        "from google.colab import drive\n",
        "drive.mount('/content/drive')"
      ]
    },
    {
      "cell_type": "code",
      "execution_count": null,
      "metadata": {
        "id": "r8rS_VUplXXC"
      },
      "outputs": [],
      "source": [
        "\n"
      ]
    },
    {
      "cell_type": "code",
      "execution_count": null,
      "metadata": {
        "colab": {
          "base_uri": "https://localhost:8080/",
          "height": 227
        },
        "id": "BMimq6ztohwg",
        "outputId": "4023b2a1-2874-4c56-bd55-09bc78e58614"
      },
      "outputs": [
        {
          "ename": "AttributeError",
          "evalue": "ignored",
          "output_type": "error",
          "traceback": [
            "\u001b[0;31m---------------------------------------------------------------------------\u001b[0m",
            "\u001b[0;31mAttributeError\u001b[0m                            Traceback (most recent call last)",
            "\u001b[0;32m<ipython-input-32-7d5281c5590a>\u001b[0m in \u001b[0;36m<cell line: 1>\u001b[0;34m()\u001b[0m\n\u001b[0;32m----> 1\u001b[0;31m \u001b[0mfeat_importances\u001b[0m \u001b[0;34m=\u001b[0m \u001b[0mpd\u001b[0m\u001b[0;34m.\u001b[0m\u001b[0mSeries\u001b[0m\u001b[0;34m(\u001b[0m\u001b[0mclf\u001b[0m\u001b[0;34m.\u001b[0m\u001b[0mfeature_importances_\u001b[0m\u001b[0;34m,\u001b[0m \u001b[0mindex\u001b[0m\u001b[0;34m=\u001b[0m\u001b[0mX_train\u001b[0m\u001b[0;34m.\u001b[0m\u001b[0mcolumns\u001b[0m\u001b[0;34m)\u001b[0m\u001b[0;34m\u001b[0m\u001b[0;34m\u001b[0m\u001b[0m\n\u001b[0m\u001b[1;32m      2\u001b[0m \u001b[0mfeat_importances\u001b[0m\u001b[0;34m.\u001b[0m\u001b[0mnlargest\u001b[0m\u001b[0;34m(\u001b[0m\u001b[0;36m20\u001b[0m\u001b[0;34m)\u001b[0m\u001b[0;34m.\u001b[0m\u001b[0mplot\u001b[0m\u001b[0;34m(\u001b[0m\u001b[0mkind\u001b[0m\u001b[0;34m=\u001b[0m\u001b[0;34m'bar'\u001b[0m\u001b[0;34m,\u001b[0m\u001b[0mfigsize\u001b[0m\u001b[0;34m=\u001b[0m\u001b[0;34m(\u001b[0m\u001b[0;36m10\u001b[0m\u001b[0;34m,\u001b[0m\u001b[0;36m10\u001b[0m\u001b[0;34m)\u001b[0m\u001b[0;34m)\u001b[0m\u001b[0;34m\u001b[0m\u001b[0;34m\u001b[0m\u001b[0m\n\u001b[1;32m      3\u001b[0m \u001b[0mplt\u001b[0m\u001b[0;34m.\u001b[0m\u001b[0mtitle\u001b[0m\u001b[0;34m(\u001b[0m\u001b[0;34m\"Top 20 important features\"\u001b[0m\u001b[0;34m)\u001b[0m\u001b[0;34m\u001b[0m\u001b[0;34m\u001b[0m\u001b[0m\n\u001b[1;32m      4\u001b[0m \u001b[0mplt\u001b[0m\u001b[0;34m.\u001b[0m\u001b[0mshow\u001b[0m\u001b[0;34m(\u001b[0m\u001b[0;34m)\u001b[0m\u001b[0;34m\u001b[0m\u001b[0;34m\u001b[0m\u001b[0m\n",
            "\u001b[0;31mAttributeError\u001b[0m: 'Pipeline' object has no attribute 'feature_importances_'"
          ]
        }
      ],
      "source": []
    },
    {
      "cell_type": "code",
      "execution_count": null,
      "metadata": {
        "colab": {
          "base_uri": "https://localhost:8080/"
        },
        "id": "aR_5QnuBPKpM",
        "outputId": "cc663b04-1f89-493f-8e39-0cd511f31b00"
      },
      "outputs": [
        {
          "name": "stdout",
          "output_type": "stream",
          "text": [
            "              precision    recall  f1-score   support\n",
            "\n",
            "           0       0.97      0.98      0.98      2272\n",
            "           1       0.34      0.24      0.28        88\n",
            "\n",
            "    accuracy                           0.95      2360\n",
            "   macro avg       0.66      0.61      0.63      2360\n",
            "weighted avg       0.95      0.95      0.95      2360\n",
            "\n"
          ]
        }
      ],
      "source": [
        "from sklearn import svm\n",
        "import csv\n",
        "\n",
        "#1. create a pipeline object\n",
        "clf = Pipeline([\n",
        "     ('vectorizer_tfidf',TfidfVectorizer()),        #using the ngram_range parameter\n",
        "     ('svm', svm.SVC())\n",
        "])\n",
        "\n",
        "#2. fit with X_train and y_train\n",
        "clf.fit(X_train, y_train)\n",
        "\n",
        "\n",
        "#3. get the predictions for X_test and store it in y_pred\n",
        "y_pred = clf.predict(X_test)\n",
        "#df = pd.DataFrame.from_records(y_pred)\n",
        "'''\n",
        "with open('predict_ot.csv', 'w', newline='') as file:\n",
        "    writer = csv.writer(file)\n",
        "    field = [\"SH_LABEL\"]\n",
        "    writer.writerow(field)\n",
        "    for i in range(2360):\n",
        "      writer.writerow(df[i])\n",
        "'''\n",
        "#4. print the classfication report\n",
        "print(classification_report(y_test, y_pred))"
      ]
    },
    {
      "cell_type": "code",
      "execution_count": null,
      "metadata": {
        "id": "AxPGu2gNuLIv"
      },
      "outputs": [],
      "source": [
        "x_train = df1['Body']\n",
        "x_test = df2['Body']\n",
        "y_train = df1['OT']\n",
        "y_test = df2['sh_OT']"
      ]
    }
  ],
  "metadata": {
    "colab": {
      "provenance": []
    },
    "kernelspec": {
      "display_name": "Python 3",
      "name": "python3"
    },
    "language_info": {
      "name": "python"
    }
  },
  "nbformat": 4,
  "nbformat_minor": 0
}